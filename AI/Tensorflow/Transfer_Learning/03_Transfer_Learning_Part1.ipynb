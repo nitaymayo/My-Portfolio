{
  "nbformat": 4,
  "nbformat_minor": 0,
  "metadata": {
    "colab": {
      "provenance": [],
      "authorship_tag": "ABX9TyN3onpdSQsoRWxP91MrsBmA",
      "include_colab_link": true
    },
    "kernelspec": {
      "name": "python3",
      "display_name": "Python 3"
    },
    "language_info": {
      "name": "python"
    },
    "accelerator": "GPU",
    "gpuClass": "standard"
  },
  "cells": [
    {
      "cell_type": "markdown",
      "metadata": {
        "id": "view-in-github",
        "colab_type": "text"
      },
      "source": [
        "<a href=\"https://colab.research.google.com/github/nitaymayo/My_Portfolio/blob/main/AI/Tensorflow/Transfer_Learning_Part1.ipynb\" target=\"_parent\"><img src=\"https://colab.research.google.com/assets/colab-badge.svg\" alt=\"Open In Colab\"/></a>"
      ]
    },
    {
      "cell_type": "markdown",
      "source": [
        "# Transfer Learning From Tensorflow-hub"
      ],
      "metadata": {
        "id": "G63gpkNI9aY_"
      }
    },
    {
      "cell_type": "code",
      "execution_count": null,
      "metadata": {
        "id": "4sN98Br5wece"
      },
      "outputs": [],
      "source": [
        "import tensorflow as tf\n",
        "import pandas as pd\n",
        "import numpy as np\n",
        "import matplotlib.pyplot as plt\n",
        "import random"
      ]
    },
    {
      "cell_type": "code",
      "source": [
        "! nvidia-smi"
      ],
      "metadata": {
        "colab": {
          "base_uri": "https://localhost:8080/"
        },
        "id": "C6dnceV7wvKJ",
        "outputId": "874bd3c4-98a0-4fc8-9685-d2ff713c36d1"
      },
      "execution_count": null,
      "outputs": [
        {
          "output_type": "stream",
          "name": "stdout",
          "text": [
            "Thu Dec  8 12:21:51 2022       \n",
            "+-----------------------------------------------------------------------------+\n",
            "| NVIDIA-SMI 460.32.03    Driver Version: 460.32.03    CUDA Version: 11.2     |\n",
            "|-------------------------------+----------------------+----------------------+\n",
            "| GPU  Name        Persistence-M| Bus-Id        Disp.A | Volatile Uncorr. ECC |\n",
            "| Fan  Temp  Perf  Pwr:Usage/Cap|         Memory-Usage | GPU-Util  Compute M. |\n",
            "|                               |                      |               MIG M. |\n",
            "|===============================+======================+======================|\n",
            "|   0  Tesla T4            Off  | 00000000:00:04.0 Off |                    0 |\n",
            "| N/A   42C    P0    25W /  70W |      0MiB / 15109MiB |      0%      Default |\n",
            "|                               |                      |                  N/A |\n",
            "+-------------------------------+----------------------+----------------------+\n",
            "                                                                               \n",
            "+-----------------------------------------------------------------------------+\n",
            "| Processes:                                                                  |\n",
            "|  GPU   GI   CI        PID   Type   Process name                  GPU Memory |\n",
            "|        ID   ID                                                   Usage      |\n",
            "|=============================================================================|\n",
            "|  No running processes found                                                 |\n",
            "+-----------------------------------------------------------------------------+\n"
          ]
        }
      ]
    },
    {
      "cell_type": "code",
      "source": [
        "# Importing the data\n",
        "import zipfile \n",
        "\n",
        "!wget https://storage.googleapis.com/ztm_tf_course/food_vision/10_food_classes_10_percent.zip\n",
        "\n",
        "zip_ref = zipfile.ZipFile(\"10_food_classes_10_percent.zip\")\n",
        "zip_ref.extractall()\n",
        "zip_ref.close()"
      ],
      "metadata": {
        "colab": {
          "base_uri": "https://localhost:8080/"
        },
        "id": "PES4WBhmzOVG",
        "outputId": "03c97af2-c6b0-4855-b8d2-3052a8fc04bd"
      },
      "execution_count": null,
      "outputs": [
        {
          "output_type": "stream",
          "name": "stdout",
          "text": [
            "--2022-12-08 12:21:51--  https://storage.googleapis.com/ztm_tf_course/food_vision/10_food_classes_10_percent.zip\n",
            "Resolving storage.googleapis.com (storage.googleapis.com)... 142.251.10.128, 142.251.12.128, 74.125.200.128, ...\n",
            "Connecting to storage.googleapis.com (storage.googleapis.com)|142.251.10.128|:443... connected.\n",
            "HTTP request sent, awaiting response... 200 OK\n",
            "Length: 168546183 (161M) [application/zip]\n",
            "Saving to: ‘10_food_classes_10_percent.zip’\n",
            "\n",
            "10_food_classes_10_ 100%[===================>] 160.74M  23.9MB/s    in 7.8s    \n",
            "\n",
            "2022-12-08 12:21:59 (20.6 MB/s) - ‘10_food_classes_10_percent.zip’ saved [168546183/168546183]\n",
            "\n"
          ]
        }
      ]
    },
    {
      "cell_type": "code",
      "source": [
        "# Inspecting the data\n",
        "import os\n",
        "\n",
        "for dirpath, dirnames, filenames in os.walk(\"10_food_classes_10_percent\"):\n",
        "  print(f\"dir: {len(dirnames)}, images: {len(filenames)}, in {dirpath}\")"
      ],
      "metadata": {
        "colab": {
          "base_uri": "https://localhost:8080/"
        },
        "id": "ROqM51eTzoNc",
        "outputId": "5ac6f198-609b-4a60-9046-19c7fb641d72"
      },
      "execution_count": null,
      "outputs": [
        {
          "output_type": "stream",
          "name": "stdout",
          "text": [
            "dir: 2, images: 0, in 10_food_classes_10_percent\n",
            "dir: 10, images: 0, in 10_food_classes_10_percent/train\n",
            "dir: 0, images: 75, in 10_food_classes_10_percent/train/grilled_salmon\n",
            "dir: 0, images: 75, in 10_food_classes_10_percent/train/ice_cream\n",
            "dir: 0, images: 75, in 10_food_classes_10_percent/train/sushi\n",
            "dir: 0, images: 75, in 10_food_classes_10_percent/train/pizza\n",
            "dir: 0, images: 75, in 10_food_classes_10_percent/train/steak\n",
            "dir: 0, images: 75, in 10_food_classes_10_percent/train/chicken_wings\n",
            "dir: 0, images: 75, in 10_food_classes_10_percent/train/chicken_curry\n",
            "dir: 0, images: 75, in 10_food_classes_10_percent/train/fried_rice\n",
            "dir: 0, images: 75, in 10_food_classes_10_percent/train/hamburger\n",
            "dir: 0, images: 75, in 10_food_classes_10_percent/train/ramen\n",
            "dir: 10, images: 0, in 10_food_classes_10_percent/test\n",
            "dir: 0, images: 250, in 10_food_classes_10_percent/test/grilled_salmon\n",
            "dir: 0, images: 250, in 10_food_classes_10_percent/test/ice_cream\n",
            "dir: 0, images: 250, in 10_food_classes_10_percent/test/sushi\n",
            "dir: 0, images: 250, in 10_food_classes_10_percent/test/pizza\n",
            "dir: 0, images: 250, in 10_food_classes_10_percent/test/steak\n",
            "dir: 0, images: 250, in 10_food_classes_10_percent/test/chicken_wings\n",
            "dir: 0, images: 250, in 10_food_classes_10_percent/test/chicken_curry\n",
            "dir: 0, images: 250, in 10_food_classes_10_percent/test/fried_rice\n",
            "dir: 0, images: 250, in 10_food_classes_10_percent/test/hamburger\n",
            "dir: 0, images: 250, in 10_food_classes_10_percent/test/ramen\n"
          ]
        }
      ]
    },
    {
      "cell_type": "markdown",
      "source": [
        "##Data loaders"
      ],
      "metadata": {
        "id": "Efs2zD-C0ExY"
      }
    },
    {
      "cell_type": "code",
      "source": [
        "from tensorflow.keras.preprocessing.image import ImageDataGenerator"
      ],
      "metadata": {
        "id": "0qnb02ey1c9x"
      },
      "execution_count": null,
      "outputs": []
    },
    {
      "cell_type": "code",
      "source": [
        "# Generating datasets\n",
        "\n",
        "IMAGE_SHAPE = (224, 224)\n",
        "BATCH_SIZE = 32\n",
        "\n",
        "train_dir = \"10_food_classes_10_percent/train/\"\n",
        "test_dir = \"10_food_classes_10_percent/test/\"\n",
        "\n",
        "data_gen = ImageDataGenerator(rescale=1/255.)\n",
        "\n",
        "train_data = data_gen.flow_from_directory(train_dir,\n",
        "                                          batch_size=BATCH_SIZE,\n",
        "                                          target_size=IMAGE_SHAPE,\n",
        "                                          class_mode=\"categorical\"\n",
        "                                          )\n",
        "\n",
        "test_data = data_gen.flow_from_directory(test_dir,\n",
        "                                          batch_size=BATCH_SIZE,\n",
        "                                          target_size=IMAGE_SHAPE,\n",
        "                                          class_mode=\"categorical\"\n",
        "                                          )"
      ],
      "metadata": {
        "colab": {
          "base_uri": "https://localhost:8080/"
        },
        "id": "F-07vpiK0r0r",
        "outputId": "565f96bd-ceaa-4d42-a5af-52e975e707b1"
      },
      "execution_count": null,
      "outputs": [
        {
          "output_type": "stream",
          "name": "stdout",
          "text": [
            "Found 750 images belonging to 10 classes.\n",
            "Found 2500 images belonging to 10 classes.\n"
          ]
        }
      ]
    },
    {
      "cell_type": "markdown",
      "source": [
        "## Callbacks"
      ],
      "metadata": {
        "id": "omlDSMzH2Hcl"
      }
    },
    {
      "cell_type": "markdown",
      "source": [
        "### tensorboard callback"
      ],
      "metadata": {
        "id": "ZEJihX9h2Zuh"
      }
    },
    {
      "cell_type": "code",
      "source": [
        "from datetime import datetime\n",
        "\n",
        "def create_tensorboard_callback(dir_name, experiment_name):\n",
        "  log_dir = dir_name + \"/\" + experiment_name + \"/\" + datetime.now().strftime(\"%Y%m%d%H%m%S\")\n",
        "  tensorboard_callback = tf.keras.callbacks.TensorBoard(log_dir=log_dir)\n",
        "  print(f\"saving tensorboard callback to {log_dir}\")\n",
        "  return tensorboard_callback"
      ],
      "metadata": {
        "id": "pyXPPZAC3QbA"
      },
      "execution_count": null,
      "outputs": []
    },
    {
      "cell_type": "markdown",
      "source": [
        "## tensorflow hub"
      ],
      "metadata": {
        "id": "QX4dqXyJ4Mhr"
      }
    },
    {
      "cell_type": "code",
      "source": [
        "resnet_url = \"https://tfhub.dev/google/imagenet/resnet_v2_50/feature_vector/5\"\n",
        "\n",
        "efficientnet_url = \"https://tfhub.dev/tensorflow/efficientnet/b0/feature-vector/1\""
      ],
      "metadata": {
        "id": "uKCp1Ufy4Uys"
      },
      "execution_count": null,
      "outputs": []
    },
    {
      "cell_type": "code",
      "source": [
        "import tensorflow_hub as hub\n",
        "from tensorflow.keras import layers"
      ],
      "metadata": {
        "id": "m5tpdZ6-HFdT"
      },
      "execution_count": null,
      "outputs": []
    },
    {
      "cell_type": "code",
      "source": [
        "def create_model(model_url, num_classes=10, image_shape=IMAGE_SHAPE):\n",
        "  \"\"\"\n",
        "  takes tensorflow hub url and creates a keras Sequential model with it.\n",
        "\n",
        "  Args:\n",
        "    model_url (str): tensorflow hub URL\n",
        "    num_classes (int): number of units in the output layer\n",
        "\n",
        "  Returns:\n",
        "    an un compiled keras Sequential model\n",
        "  \"\"\"\n",
        "\n",
        "  feature_extraction_layer = hub.KerasLayer(model_url,\n",
        "                                            trainable=False,\n",
        "                                            name=\"feature_extractrion_layer\",\n",
        "                                            input_shape=image_shape+(3,))\n",
        "  model = tf.keras.Sequential([\n",
        "      feature_extraction_layer,\n",
        "      layers.Dense(num_classes, activation=\"softmax\", name=\"output_layer\")\n",
        "  ])\n",
        "\n",
        "  return model"
      ],
      "metadata": {
        "id": "MW9KyolsHMZ-"
      },
      "execution_count": null,
      "outputs": []
    },
    {
      "cell_type": "code",
      "source": [
        "resnet_model = create_model(resnet_url)\n",
        "\n",
        "resnet_model.summary()"
      ],
      "metadata": {
        "colab": {
          "base_uri": "https://localhost:8080/"
        },
        "id": "D9QTP_YsInWF",
        "outputId": "bf03ac23-5476-41e0-9d1f-3b83ecb8a1ba"
      },
      "execution_count": null,
      "outputs": [
        {
          "output_type": "stream",
          "name": "stdout",
          "text": [
            "Model: \"sequential\"\n",
            "_________________________________________________________________\n",
            " Layer (type)                Output Shape              Param #   \n",
            "=================================================================\n",
            " feature_extractrion_layer (  (None, 2048)             23564800  \n",
            " KerasLayer)                                                     \n",
            "                                                                 \n",
            " output_layer (Dense)        (None, 10)                20490     \n",
            "                                                                 \n",
            "=================================================================\n",
            "Total params: 23,585,290\n",
            "Trainable params: 20,490\n",
            "Non-trainable params: 23,564,800\n",
            "_________________________________________________________________\n"
          ]
        }
      ]
    },
    {
      "cell_type": "code",
      "source": [
        "# Compile the model\n",
        "resnet_model.compile(loss=\"categorical_crossentropy\",\n",
        "                     optimizer=tf.keras.optimizers.Adam(),\n",
        "                     metrics=[\"accuracy\"])"
      ],
      "metadata": {
        "id": "VMh4atTqJH0F"
      },
      "execution_count": null,
      "outputs": []
    },
    {
      "cell_type": "code",
      "source": [
        "# Train the model\n",
        "resnet_history = resnet_model.fit(train_data,\n",
        "                 epochs=5,\n",
        "                 validation_data=test_data,\n",
        "                 callbacks=[create_tensorboard_callback(\"tensorflow_hub\", \"resnet50v2\")])"
      ],
      "metadata": {
        "colab": {
          "base_uri": "https://localhost:8080/"
        },
        "id": "_oG9aqWtI37w",
        "outputId": "3f399f41-840b-4edd-f31e-b68266bd30ae"
      },
      "execution_count": null,
      "outputs": [
        {
          "output_type": "stream",
          "name": "stdout",
          "text": [
            "saving tensorboard callback to tensorflow_hub/resnet50v2/20221208121214\n",
            "Epoch 1/5\n",
            "24/24 [==============================] - 29s 756ms/step - loss: 1.9593 - accuracy: 0.3360 - val_loss: 1.2007 - val_accuracy: 0.6208\n",
            "Epoch 2/5\n",
            "24/24 [==============================] - 16s 691ms/step - loss: 0.8912 - accuracy: 0.7453 - val_loss: 0.8261 - val_accuracy: 0.7416\n",
            "Epoch 3/5\n",
            "24/24 [==============================] - 17s 712ms/step - loss: 0.6044 - accuracy: 0.8387 - val_loss: 0.7380 - val_accuracy: 0.7588\n",
            "Epoch 4/5\n",
            "24/24 [==============================] - 16s 681ms/step - loss: 0.4700 - accuracy: 0.8787 - val_loss: 0.7026 - val_accuracy: 0.7720\n",
            "Epoch 5/5\n",
            "24/24 [==============================] - 16s 690ms/step - loss: 0.3755 - accuracy: 0.9173 - val_loss: 0.6672 - val_accuracy: 0.7824\n"
          ]
        }
      ]
    },
    {
      "cell_type": "code",
      "source": [
        "# Visualize the training\n",
        "import pandas as pd\n",
        "import matplotlib.pyplot as plt\n",
        "\n",
        "def plot_loss_curves(history):\n",
        "  DF = pd.DataFrame(history.history)\n",
        "  plt.subplot(1,2,1)\n",
        "  plt.title(\"acc\")\n",
        "  plt.xlabel(\"epochs\")\n",
        "  plt.ylabel(\"acc\")\n",
        "  plt.plot(DF[\"accuracy\"], label=\"acc\")\n",
        "  plt.plot(DF[\"val_accuracy\"], label=\"val acc\")\n",
        "  plt.legend()\n",
        "\n",
        "  plt.subplot(1,2,2)\n",
        "  plt.title(\"loss\")\n",
        "  plt.xlabel(\"epochs\")\n",
        "  plt.ylabel(\"loss\")\n",
        "  plt.plot(DF[\"loss\"], label=\"loss\")\n",
        "  plt.plot(DF[\"val_loss\"], label=\"val loss\")\n",
        "  plt.legend()"
      ],
      "metadata": {
        "id": "OUnmd19iKzih"
      },
      "execution_count": null,
      "outputs": []
    },
    {
      "cell_type": "code",
      "source": [
        "plot_loss_curves(resnet_history)"
      ],
      "metadata": {
        "colab": {
          "base_uri": "https://localhost:8080/",
          "height": 295
        },
        "id": "nepuCHhsPAEY",
        "outputId": "acd6e035-f412-4d7e-c45a-4cb4c576f267"
      },
      "execution_count": null,
      "outputs": [
        {
          "output_type": "display_data",
          "data": {
            "text/plain": [
              "<Figure size 432x288 with 2 Axes>"
            ],
            "image/png": "[encoded data removed]"
          },
          "metadata": {
            "needs_background": "light"
          }
        }
      ]
    },
    {
      "cell_type": "markdown",
      "source": [
        "###building efficientnet model"
      ],
      "metadata": {
        "id": "r6KQFjtpPDbo"
      }
    },
    {
      "cell_type": "code",
      "source": [
        "# Build, Compile and Train a model based on Efficientnet architecture\n",
        "efficientnet_model = create_model(efficientnet_url)\n",
        "\n",
        "efficientnet_model.compile(loss=\"categorical_crossentropy\",\n",
        "                           optimizer=tf.keras.optimizers.Adam(),\n",
        "                           metrics=[\"accuracy\"])\n",
        "efficientnet_history = efficientnet_model.fit(train_data,\n",
        "                                               epochs=5,\n",
        "                                               validation_data=test_data,\n",
        "                                               callbacks=[create_tensorboard_callback(\"tensorflow_hub\", \"efficientnet_b0\")])"
      ],
      "metadata": {
        "colab": {
          "base_uri": "https://localhost:8080/"
        },
        "id": "N6XqtzC7SJKp",
        "outputId": "56b1d371-60af-4fbf-df19-8f462e6c4b65"
      },
      "execution_count": null,
      "outputs": [
        {
          "output_type": "stream",
          "name": "stdout",
          "text": [
            "saving tensorboard callback to tensorflow_hub/efficientnet_b0/20221208121202\n",
            "Epoch 1/5\n",
            "24/24 [==============================] - 25s 723ms/step - loss: 1.7991 - accuracy: 0.4773 - val_loss: 1.2902 - val_accuracy: 0.7364\n",
            "Epoch 2/5\n",
            "24/24 [==============================] - 15s 657ms/step - loss: 1.0389 - accuracy: 0.7893 - val_loss: 0.8612 - val_accuracy: 0.8156\n",
            "Epoch 3/5\n",
            "24/24 [==============================] - 24s 1s/step - loss: 0.7420 - accuracy: 0.8387 - val_loss: 0.6961 - val_accuracy: 0.8404\n",
            "Epoch 4/5\n",
            "24/24 [==============================] - 15s 654ms/step - loss: 0.5988 - accuracy: 0.8573 - val_loss: 0.6061 - val_accuracy: 0.8568\n",
            "Epoch 5/5\n",
            "24/24 [==============================] - 16s 683ms/step - loss: 0.5075 - accuracy: 0.8933 - val_loss: 0.5527 - val_accuracy: 0.8580\n"
          ]
        }
      ]
    },
    {
      "cell_type": "code",
      "source": [
        "plot_loss_curves(efficientnet_history)"
      ],
      "metadata": {
        "colab": {
          "base_uri": "https://localhost:8080/",
          "height": 295
        },
        "id": "KkhlIqsBS9IU",
        "outputId": "4054f8b8-e28d-42b8-b4c3-080b3aa2cae9"
      },
      "execution_count": null,
      "outputs": [
        {
          "output_type": "display_data",
          "data": {
            "text/plain": [
              "<Figure size 432x288 with 2 Axes>"
            ],
            "image/png": "[encoded data removed]"
          },
          "metadata": {
            "needs_background": "light"
          }
        }
      ]
    },
    {
      "cell_type": "markdown",
      "source": [
        "## Uploding data to tensorboard"
      ],
      "metadata": {
        "id": "7Uq-BzrfWS8I"
      }
    },
    {
      "cell_type": "code",
      "source": [
        "! tensorboard dev upload --logdir ./tensorflow_hub/ \\\n",
        "  --name \"EfficientnetB0 VS ResNet50V2\" \\\n",
        "  --description \"comparing two diffrent transfer learning architectures\" \\\n",
        "  --one_shot"
      ],
      "metadata": {
        "colab": {
          "base_uri": "https://localhost:8080/"
        },
        "id": "_38dlg_YWcQg",
        "outputId": "a7a4b9dd-558d-45a9-96d6-aeb3280b6aa5"
      },
      "execution_count": null,
      "outputs": [
        {
          "output_type": "stream",
          "name": "stdout",
          "text": [
            "\n",
            "***** TensorBoard Uploader *****\n",
            "\n",
            "This will upload your TensorBoard logs to https://tensorboard.dev/ from\n",
            "the following directory:\n",
            "\n",
            "./tensorflow_hub/\n",
            "\n",
            "This TensorBoard will be visible to everyone. Do not upload sensitive\n",
            "data.\n",
            "\n",
            "Your use of this service is subject to Google's Terms of Service\n",
            "<https://policies.google.com/terms> and Privacy Policy\n",
            "<https://policies.google.com/privacy>, and TensorBoard.dev's Terms of Service\n",
            "<https://tensorboard.dev/policy/terms/>.\n",
            "\n",
            "This notice will not be shown again while you are logged into the uploader.\n",
            "To log out, run `tensorboard dev auth revoke`.\n",
            "\n",
            "Continue? (yes/NO) NO\n"
          ]
        }
      ]
    }
  ]
}
