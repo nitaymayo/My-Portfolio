{
  "nbformat": 4,
  "nbformat_minor": 0,
  "metadata": {
    "colab": {
      "provenance": [],
      "mount_file_id": "1ShG2ViwliCJRlwllsg74Bx2rEpdOlHXI",
      "authorship_tag": "ABX9TyOBHGcKdX/EjkjEGvdpihPz",
      "include_colab_link": true
    },
    "kernelspec": {
      "name": "python3",
      "display_name": "Python 3"
    },
    "language_info": {
      "name": "python"
    },
    "accelerator": "GPU",
    "gpuClass": "standard"
  },
  "cells": [
    {
      "cell_type": "markdown",
      "metadata": {
        "id": "view-in-github",
        "colab_type": "text"
      },
      "source": [
        "<a href=\"https://colab.research.google.com/github/nitaymayo/My_Portfolio/blob/main/AI/Tensorflow/Project_Number_2_SkimLit.ipynb\" target=\"_parent\"><img src=\"https://colab.research.google.com/assets/colab-badge.svg\" alt=\"Open In Colab\"/></a>"
      ]
    },
    {
      "cell_type": "markdown",
      "source": [
        "# SKIMLIT Project\n",
        "\n",
        "A model that gets an abstract medical text as an input and outputs each sentences main idea<br>\n",
        "makes it easier to read through the abstracts :)\n",
        "\n",
        "The main purpose of this code is to build an NLP model that can help reaserchers read medical documents"
      ],
      "metadata": {
        "id": "VfpEwHRMUO_j"
      }
    },
    {
      "cell_type": "code",
      "source": [
        "import tensorflow as tf\n",
        "import pandas as pd\n",
        "import matplotlib.pyplot as plt\n",
        "import numpy as np"
      ],
      "metadata": {
        "id": "B-kc1GBiN_M7"
      },
      "execution_count": null,
      "outputs": []
    },
    {
      "cell_type": "code",
      "source": [
        "! wget https://raw.githubusercontent.com/nitaymayo/my_repo/main/helper_functions.py\n",
        "\n",
        "from helper_functions import *"
      ],
      "metadata": {
        "colab": {
          "base_uri": "https://localhost:8080/"
        },
        "id": "kFUHmG4a5hxu",
        "outputId": "bb4b0c4f-3acb-451e-c92b-554e34161e19"
      },
      "execution_count": null,
      "outputs": [
        {
          "output_type": "stream",
          "name": "stdout",
          "text": [
            "--2023-01-25 16:47:15--  https://raw.githubusercontent.com/nitaymayo/my_repo/main/helper_functions.py\n",
            "Resolving raw.githubusercontent.com (raw.githubusercontent.com)... 185.199.111.133, 185.199.109.133, 185.199.108.133, ...\n",
            "Connecting to raw.githubusercontent.com (raw.githubusercontent.com)|185.199.111.133|:443... connected.\n",
            "HTTP request sent, awaiting response... 200 OK\n",
            "Length: 10804 (11K) [text/plain]\n",
            "Saving to: ‘helper_functions.py’\n",
            "\n",
            "helper_functions.py 100%[===================>]  10.55K  --.-KB/s    in 0s      \n",
            "\n",
            "2023-01-25 16:47:15 (88.7 MB/s) - ‘helper_functions.py’ saved [10804/10804]\n",
            "\n"
          ]
        }
      ]
    },
    {
      "cell_type": "markdown",
      "source": [
        "## Confirm access to a GPU"
      ],
      "metadata": {
        "id": "ClYvM7EEibwy"
      }
    },
    {
      "cell_type": "code",
      "source": [
        "!nvidia-smi"
      ],
      "metadata": {
        "colab": {
          "base_uri": "https://localhost:8080/"
        },
        "id": "d_mYZo9ximvf",
        "outputId": "d443dc8e-70e5-4603-e87c-69bf84431644"
      },
      "execution_count": null,
      "outputs": [
        {
          "output_type": "stream",
          "name": "stdout",
          "text": [
            "Wed Jan 25 16:47:17 2023       \n",
            "+-----------------------------------------------------------------------------+\n",
            "| NVIDIA-SMI 510.47.03    Driver Version: 510.47.03    CUDA Version: 11.6     |\n",
            "|-------------------------------+----------------------+----------------------+\n",
            "| GPU  Name        Persistence-M| Bus-Id        Disp.A | Volatile Uncorr. ECC |\n",
            "| Fan  Temp  Perf  Pwr:Usage/Cap|         Memory-Usage | GPU-Util  Compute M. |\n",
            "|                               |                      |               MIG M. |\n",
            "|===============================+======================+======================|\n",
            "|   0  Tesla T4            Off  | 00000000:00:04.0 Off |                    0 |\n",
            "| N/A   62C    P0    27W /  70W |      0MiB / 15360MiB |      0%      Default |\n",
            "|                               |                      |                  N/A |\n",
            "+-------------------------------+----------------------+----------------------+\n",
            "                                                                               \n",
            "+-----------------------------------------------------------------------------+\n",
            "| Processes:                                                                  |\n",
            "|  GPU   GI   CI        PID   Type   Process name                  GPU Memory |\n",
            "|        ID   ID                                                   Usage      |\n",
            "|=============================================================================|\n",
            "|  No running processes found                                                 |\n",
            "+-----------------------------------------------------------------------------+\n"
          ]
        }
      ]
    },
    {
      "cell_type": "markdown",
      "source": [
        "## Get the Data\n",
        "\n",
        "this model is a replica of PubMed 200k, so is trained on the same data"
      ],
      "metadata": {
        "id": "rpcDKr-xirbK"
      }
    },
    {
      "cell_type": "code",
      "source": [
        "! git clone https://github.com/Franck-Dernoncourt/pubmed-rct\n",
        "!ls pubmed-rct"
      ],
      "metadata": {
        "colab": {
          "base_uri": "https://localhost:8080/"
        },
        "id": "X1UGFbrhi2WD",
        "outputId": "4e47cd1f-5ec3-4383-aae2-683d4da3fd80"
      },
      "execution_count": null,
      "outputs": [
        {
          "output_type": "stream",
          "name": "stdout",
          "text": [
            "Cloning into 'pubmed-rct'...\n",
            "remote: Enumerating objects: 33, done.\u001b[K\n",
            "remote: Counting objects: 100% (8/8), done.\u001b[K\n",
            "remote: Compressing objects: 100% (3/3), done.\u001b[K\n",
            "remote: Total 33 (delta 5), reused 5 (delta 5), pack-reused 25\u001b[K\n",
            "Unpacking objects: 100% (33/33), 177.08 MiB | 6.87 MiB/s, done.\n",
            "PubMed_200k_RCT\n",
            "PubMed_200k_RCT_numbers_replaced_with_at_sign\n",
            "PubMed_20k_RCT\n",
            "PubMed_20k_RCT_numbers_replaced_with_at_sign\n",
            "README.md\n"
          ]
        }
      ]
    },
    {
      "cell_type": "code",
      "source": [
        "# Check the data files on the 20K dataset\n",
        "!ls /content/pubmed-rct/PubMed_20k_RCT_numbers_replaced_with_at_sign"
      ],
      "metadata": {
        "colab": {
          "base_uri": "https://localhost:8080/"
        },
        "id": "IuzxtcO2jXua",
        "outputId": "bd9b125d-9f29-48a8-aac7-d31603743287"
      },
      "execution_count": null,
      "outputs": [
        {
          "output_type": "stream",
          "name": "stdout",
          "text": [
            "dev.txt  test.txt  train.txt\n"
          ]
        }
      ]
    },
    {
      "cell_type": "code",
      "source": [
        "!head /content/pubmed-rct/PubMed_20k_RCT_numbers_replaced_with_at_sign/train.txt"
      ],
      "metadata": {
        "colab": {
          "base_uri": "https://localhost:8080/"
        },
        "id": "0HAMjA5FjkxA",
        "outputId": "118bf91e-b967-48f4-95f9-dd331f5f08c2"
      },
      "execution_count": null,
      "outputs": [
        {
          "output_type": "stream",
          "name": "stdout",
          "text": [
            "###24293578\n",
            "OBJECTIVE\tTo investigate the efficacy of @ weeks of daily low-dose oral prednisolone in improving pain , mobility , and systemic low-grade inflammation in the short term and whether the effect would be sustained at @ weeks in older adults with moderate to severe knee osteoarthritis ( OA ) .\n",
            "METHODS\tA total of @ patients with primary knee OA were randomized @:@ ; @ received @ mg/day of prednisolone and @ received placebo for @ weeks .\n",
            "METHODS\tOutcome measures included pain reduction and improvement in function scores and systemic inflammation markers .\n",
            "METHODS\tPain was assessed using the visual analog pain scale ( @-@ mm ) .\n",
            "METHODS\tSecondary outcome measures included the Western Ontario and McMaster Universities Osteoarthritis Index scores , patient global assessment ( PGA ) of the severity of knee OA , and @-min walk distance ( @MWD ) .\n",
            "METHODS\tSerum levels of interleukin @ ( IL-@ ) , IL-@ , tumor necrosis factor ( TNF ) - , and high-sensitivity C-reactive protein ( hsCRP ) were measured .\n",
            "RESULTS\tThere was a clinically relevant reduction in the intervention group compared to the placebo group for knee pain , physical function , PGA , and @MWD at @ weeks .\n",
            "RESULTS\tThe mean difference between treatment arms ( @ % CI ) was @ ( @-@ @ ) , p < @ ; @ ( @-@ @ ) , p < @ ; @ ( @-@ @ ) , p < @ ; and @ ( @-@ @ ) , p < @ , respectively .\n",
            "RESULTS\tFurther , there was a clinically relevant reduction in the serum levels of IL-@ , IL-@ , TNF - , and hsCRP at @ weeks in the intervention group when compared to the placebo group .\n"
          ]
        }
      ]
    },
    {
      "cell_type": "markdown",
      "source": [
        "### load the 20k data set"
      ],
      "metadata": {
        "id": "M3pNPZrbkCEP"
      }
    },
    {
      "cell_type": "code",
      "source": [
        "data_dir = \"/content/pubmed-rct/PubMed_20k_RCT_numbers_replaced_with_at_sign/\""
      ],
      "metadata": {
        "id": "B4uGq1PmkRo7"
      },
      "execution_count": null,
      "outputs": []
    },
    {
      "cell_type": "code",
      "source": [
        "import os\n",
        "filenames = [data_dir + name for name in os.listdir(data_dir)]\n",
        "filenames"
      ],
      "metadata": {
        "colab": {
          "base_uri": "https://localhost:8080/"
        },
        "id": "ztnPdlODkTfw",
        "outputId": "f3a9a6f8-d575-4301-8573-c08dddd3b1a3"
      },
      "execution_count": null,
      "outputs": [
        {
          "output_type": "execute_result",
          "data": {
            "text/plain": [
              "['/content/pubmed-rct/PubMed_20k_RCT_numbers_replaced_with_at_sign/train.txt',\n",
              " '/content/pubmed-rct/PubMed_20k_RCT_numbers_replaced_with_at_sign/dev.txt',\n",
              " '/content/pubmed-rct/PubMed_20k_RCT_numbers_replaced_with_at_sign/test.txt']"
            ]
          },
          "metadata": {},
          "execution_count": 8
        }
      ]
    },
    {
      "cell_type": "code",
      "source": [
        "# Tensorboard logs dir\n",
        "SAVE_DIR = \"models_logs\""
      ],
      "metadata": {
        "id": "zjEXJsLhpevB"
      },
      "execution_count": null,
      "outputs": []
    },
    {
      "cell_type": "markdown",
      "source": [
        "### Preprocessing the data"
      ],
      "metadata": {
        "id": "Q6uoSQ2wkk3C"
      }
    },
    {
      "cell_type": "code",
      "source": [
        "def get_lines(filename):\n",
        "  \"\"\"\n",
        "  Reads a text filename and returns the lines of the text as a list.\n",
        "\n",
        "  Args:\n",
        "    filename: a String constaning the file location\n",
        "\n",
        "  Returns:\n",
        "    List: of the lines in the file\n",
        "  \"\"\"\n",
        "\n",
        "  with open(filename, \"r\") as f:\n",
        "    return f.readlines()"
      ],
      "metadata": {
        "id": "lXRRD3jRkpRG"
      },
      "execution_count": null,
      "outputs": []
    },
    {
      "cell_type": "code",
      "source": [
        "train_data = get_lines(filenames[0])\n",
        "train_data[:20]"
      ],
      "metadata": {
        "colab": {
          "base_uri": "https://localhost:8080/"
        },
        "id": "dws3XLPAlWDR",
        "outputId": "864a6605-80b7-424f-f633-c404aa982df7"
      },
      "execution_count": null,
      "outputs": [
        {
          "output_type": "execute_result",
          "data": {
            "text/plain": [
              "['###24293578\\n',\n",
              " 'OBJECTIVE\\tTo investigate the efficacy of @ weeks of daily low-dose oral prednisolone in improving pain , mobility , and systemic low-grade inflammation in the short term and whether the effect would be sustained at @ weeks in older adults with moderate to severe knee osteoarthritis ( OA ) .\\n',\n",
              " 'METHODS\\tA total of @ patients with primary knee OA were randomized @:@ ; @ received @ mg/day of prednisolone and @ received placebo for @ weeks .\\n',\n",
              " 'METHODS\\tOutcome measures included pain reduction and improvement in function scores and systemic inflammation markers .\\n',\n",
              " 'METHODS\\tPain was assessed using the visual analog pain scale ( @-@ mm ) .\\n',\n",
              " 'METHODS\\tSecondary outcome measures included the Western Ontario and McMaster Universities Osteoarthritis Index scores , patient global assessment ( PGA ) of the severity of knee OA , and @-min walk distance ( @MWD ) .\\n',\n",
              " 'METHODS\\tSerum levels of interleukin @ ( IL-@ ) , IL-@ , tumor necrosis factor ( TNF ) - , and high-sensitivity C-reactive protein ( hsCRP ) were measured .\\n',\n",
              " 'RESULTS\\tThere was a clinically relevant reduction in the intervention group compared to the placebo group for knee pain , physical function , PGA , and @MWD at @ weeks .\\n',\n",
              " 'RESULTS\\tThe mean difference between treatment arms ( @ % CI ) was @ ( @-@ @ ) , p < @ ; @ ( @-@ @ ) , p < @ ; @ ( @-@ @ ) , p < @ ; and @ ( @-@ @ ) , p < @ , respectively .\\n',\n",
              " 'RESULTS\\tFurther , there was a clinically relevant reduction in the serum levels of IL-@ , IL-@ , TNF - , and hsCRP at @ weeks in the intervention group when compared to the placebo group .\\n',\n",
              " 'RESULTS\\tThese differences remained significant at @ weeks .\\n',\n",
              " 'RESULTS\\tThe Outcome Measures in Rheumatology Clinical Trials-Osteoarthritis Research Society International responder rate was @ % in the intervention group and @ % in the placebo group ( p < @ ) .\\n',\n",
              " 'CONCLUSIONS\\tLow-dose oral prednisolone had both a short-term and a longer sustained effect resulting in less knee pain , better physical function , and attenuation of systemic inflammation in older patients with knee OA ( ClinicalTrials.gov identifier NCT@ ) .\\n',\n",
              " '\\n',\n",
              " '###24854809\\n',\n",
              " 'BACKGROUND\\tEmotional eating is associated with overeating and the development of obesity .\\n',\n",
              " 'BACKGROUND\\tYet , empirical evidence for individual ( trait ) differences in emotional eating and cognitive mechanisms that contribute to eating during sad mood remain equivocal .\\n',\n",
              " 'OBJECTIVE\\tThe aim of this study was to test if attention bias for food moderates the effect of self-reported emotional eating during sad mood ( vs neutral mood ) on actual food intake .\\n',\n",
              " 'OBJECTIVE\\tIt was expected that emotional eating is predictive of elevated attention for food and higher food intake after an experimentally induced sad mood and that attentional maintenance on food predicts food intake during a sad versus a neutral mood .\\n',\n",
              " 'METHODS\\tParticipants ( N = @ ) were randomly assigned to one of the two experimental mood induction conditions ( sad/neutral ) .\\n']"
            ]
          },
          "metadata": {},
          "execution_count": 11
        }
      ]
    },
    {
      "cell_type": "code",
      "source": [
        "def process_lines_to_list(filename):\n",
        "  \"\"\"\n",
        "  Returns a list of dictioneries of abstract line data\n",
        "\n",
        "  Args:\n",
        "    filename: String, the name of the text file to read \n",
        "\n",
        "  Returns:\n",
        "    List of dictioneries with the number of the line, the text of the line, the target label and the total number of lines.\n",
        "  \"\"\"\n",
        "\n",
        "  input_lines = get_lines(filename)\n",
        "\n",
        "  abstract_lines = \"\"\n",
        "  abstract_samples = []\n",
        "\n",
        "  for line in input_lines:\n",
        "    if line.startswith(\"###\"):\n",
        "      abstract_id = line\n",
        "      abstract_lines = \"\"\n",
        "    elif line.isspace():\n",
        "      abstract_line_split = abstract_lines.splitlines()\n",
        "      for abstract_line_number, abstract_line in enumerate(abstract_line_split):\n",
        "        line_data = {}\n",
        "        target_text_split = abstract_line.split(\"\\t\")\n",
        "        line_data[\"target\"] = target_text_split[0]\n",
        "        line_data[\"text\"] = target_text_split[1].lower()\n",
        "        line_data[\"line_number\"] = abstract_line_number\n",
        "        line_data[\"total_lines\"] = len(abstract_line_split) - 1\n",
        "\n",
        "        abstract_samples.append(line_data)\n",
        "    else:\n",
        "      abstract_lines += line\n",
        "\n",
        "    \n",
        "  \n",
        "  return abstract_samples\n"
      ],
      "metadata": {
        "id": "LWIj5edtle6H"
      },
      "execution_count": null,
      "outputs": []
    },
    {
      "cell_type": "code",
      "source": [
        "%%time\n",
        "train_samples = process_lines_to_list(data_dir + \"/train.txt\")\n",
        "val_samples = process_lines_to_list(data_dir + \"/dev.txt\")\n",
        "test_samples = process_lines_to_list(data_dir + \"/test.txt\")"
      ],
      "metadata": {
        "id": "2aMJdD3tnUYM",
        "colab": {
          "base_uri": "https://localhost:8080/"
        },
        "outputId": "06046605-0e31-4b0a-c348-0409c3bfd463"
      },
      "execution_count": null,
      "outputs": [
        {
          "output_type": "stream",
          "name": "stdout",
          "text": [
            "CPU times: user 415 ms, sys: 97.1 ms, total: 512 ms\n",
            "Wall time: 514 ms\n"
          ]
        }
      ]
    },
    {
      "cell_type": "markdown",
      "source": [
        "### Further visualiztion"
      ],
      "metadata": {
        "id": "zev8rcBVsA5M"
      }
    },
    {
      "cell_type": "code",
      "source": [
        "import pandas as pd"
      ],
      "metadata": {
        "id": "UwtOqWNLthUL"
      },
      "execution_count": null,
      "outputs": []
    },
    {
      "cell_type": "code",
      "source": [
        "train_df = pd.DataFrame(train_samples)\n",
        "val_df = pd.DataFrame(val_samples)\n",
        "test_df = pd.DataFrame(test_samples)"
      ],
      "metadata": {
        "id": "VqPO-rgUtotY"
      },
      "execution_count": null,
      "outputs": []
    },
    {
      "cell_type": "code",
      "source": [
        "train_df.head()"
      ],
      "metadata": {
        "colab": {
          "base_uri": "https://localhost:8080/",
          "height": 206
        },
        "id": "KFCmnjP2tzoC",
        "outputId": "ac6b068f-c69a-4d26-920a-d32ddd4ab205"
      },
      "execution_count": null,
      "outputs": [
        {
          "output_type": "execute_result",
          "data": {
            "text/plain": [
              "      target                                               text  line_number  \\\n",
              "0  OBJECTIVE  to investigate the efficacy of @ weeks of dail...            0   \n",
              "1    METHODS  a total of @ patients with primary knee oa wer...            1   \n",
              "2    METHODS  outcome measures included pain reduction and i...            2   \n",
              "3    METHODS  pain was assessed using the visual analog pain...            3   \n",
              "4    METHODS  secondary outcome measures included the wester...            4   \n",
              "\n",
              "   total_lines  \n",
              "0           11  \n",
              "1           11  \n",
              "2           11  \n",
              "3           11  \n",
              "4           11  "
            ],
            "text/html": [
              "\n",
              "  <div id=\"df-7f9973d4-32e7-4623-bb54-a7c9e1f87d46\">\n",
              "    <div class=\"colab-df-container\">\n",
              "      <div>\n",
              "<style scoped>\n",
              "    .dataframe tbody tr th:only-of-type {\n",
              "        vertical-align: middle;\n",
              "    }\n",
              "\n",
              "    .dataframe tbody tr th {\n",
              "        vertical-align: top;\n",
              "    }\n",
              "\n",
              "    .dataframe thead th {\n",
              "        text-align: right;\n",
              "    }\n",
              "</style>\n",
              "<table border=\"1\" class=\"dataframe\">\n",
              "  <thead>\n",
              "    <tr style=\"text-align: right;\">\n",
              "      <th></th>\n",
              "      <th>target</th>\n",
              "      <th>text</th>\n",
              "      <th>line_number</th>\n",
              "      <th>total_lines</th>\n",
              "    </tr>\n",
              "  </thead>\n",
              "  <tbody>\n",
              "    <tr>\n",
              "      <th>0</th>\n",
              "      <td>OBJECTIVE</td>\n",
              "      <td>to investigate the efficacy of @ weeks of dail...</td>\n",
              "      <td>0</td>\n",
              "      <td>11</td>\n",
              "    </tr>\n",
              "    <tr>\n",
              "      <th>1</th>\n",
              "      <td>METHODS</td>\n",
              "      <td>a total of @ patients with primary knee oa wer...</td>\n",
              "      <td>1</td>\n",
              "      <td>11</td>\n",
              "    </tr>\n",
              "    <tr>\n",
              "      <th>2</th>\n",
              "      <td>METHODS</td>\n",
              "      <td>outcome measures included pain reduction and i...</td>\n",
              "      <td>2</td>\n",
              "      <td>11</td>\n",
              "    </tr>\n",
              "    <tr>\n",
              "      <th>3</th>\n",
              "      <td>METHODS</td>\n",
              "      <td>pain was assessed using the visual analog pain...</td>\n",
              "      <td>3</td>\n",
              "      <td>11</td>\n",
              "    </tr>\n",
              "    <tr>\n",
              "      <th>4</th>\n",
              "      <td>METHODS</td>\n",
              "      <td>secondary outcome measures included the wester...</td>\n",
              "      <td>4</td>\n",
              "      <td>11</td>\n",
              "    </tr>\n",
              "  </tbody>\n",
              "</table>\n",
              "</div>\n",
              "      <button class=\"colab-df-convert\" onclick=\"convertToInteractive('df-7f9973d4-32e7-4623-bb54-a7c9e1f87d46')\"\n",
              "              title=\"Convert this dataframe to an interactive table.\"\n",
              "              style=\"display:none;\">\n",
              "        \n",
              "  <svg xmlns=\"http://www.w3.org/2000/svg\" height=\"24px\"viewBox=\"0 0 24 24\"\n",
              "       width=\"24px\">\n",
              "    <path d=\"M0 0h24v24H0V0z\" fill=\"none\"/>\n",
              "    <path d=\"M18.56 5.44l.94 2.06.94-2.06 2.06-.94-2.06-.94-.94-2.06-.94 2.06-2.06.94zm-11 1L8.5 8.5l.94-2.06 2.06-.94-2.06-.94L8.5 2.5l-.94 2.06-2.06.94zm10 10l.94 2.06.94-2.06 2.06-.94-2.06-.94-.94-2.06-.94 2.06-2.06.94z\"/><path d=\"M17.41 7.96l-1.37-1.37c-.4-.4-.92-.59-1.43-.59-.52 0-1.04.2-1.43.59L10.3 9.45l-7.72 7.72c-.78.78-.78 2.05 0 2.83L4 21.41c.39.39.9.59 1.41.59.51 0 1.02-.2 1.41-.59l7.78-7.78 2.81-2.81c.8-.78.8-2.07 0-2.86zM5.41 20L4 18.59l7.72-7.72 1.47 1.35L5.41 20z\"/>\n",
              "  </svg>\n",
              "      </button>\n",
              "      \n",
              "  <style>\n",
              "    .colab-df-container {\n",
              "      display:flex;\n",
              "      flex-wrap:wrap;\n",
              "      gap: 12px;\n",
              "    }\n",
              "\n",
              "    .colab-df-convert {\n",
              "      background-color: #E8F0FE;\n",
              "      border: none;\n",
              "      border-radius: 50%;\n",
              "      cursor: pointer;\n",
              "      display: none;\n",
              "      fill: #1967D2;\n",
              "      height: 32px;\n",
              "      padding: 0 0 0 0;\n",
              "      width: 32px;\n",
              "    }\n",
              "\n",
              "    .colab-df-convert:hover {\n",
              "      background-color: #E2EBFA;\n",
              "      box-shadow: 0px 1px 2px rgba(60, 64, 67, 0.3), 0px 1px 3px 1px rgba(60, 64, 67, 0.15);\n",
              "      fill: #174EA6;\n",
              "    }\n",
              "\n",
              "    [theme=dark] .colab-df-convert {\n",
              "      background-color: #3B4455;\n",
              "      fill: #D2E3FC;\n",
              "    }\n",
              "\n",
              "    [theme=dark] .colab-df-convert:hover {\n",
              "      background-color: #434B5C;\n",
              "      box-shadow: 0px 1px 3px 1px rgba(0, 0, 0, 0.15);\n",
              "      filter: drop-shadow(0px 1px 2px rgba(0, 0, 0, 0.3));\n",
              "      fill: #FFFFFF;\n",
              "    }\n",
              "  </style>\n",
              "\n",
              "      <script>\n",
              "        const buttonEl =\n",
              "          document.querySelector('#df-7f9973d4-32e7-4623-bb54-a7c9e1f87d46 button.colab-df-convert');\n",
              "        buttonEl.style.display =\n",
              "          google.colab.kernel.accessAllowed ? 'block' : 'none';\n",
              "\n",
              "        async function convertToInteractive(key) {\n",
              "          const element = document.querySelector('#df-7f9973d4-32e7-4623-bb54-a7c9e1f87d46');\n",
              "          const dataTable =\n",
              "            await google.colab.kernel.invokeFunction('convertToInteractive',\n",
              "                                                     [key], {});\n",
              "          if (!dataTable) return;\n",
              "\n",
              "          const docLinkHtml = 'Like what you see? Visit the ' +\n",
              "            '<a target=\"_blank\" href=https://colab.research.google.com/notebooks/data_table.ipynb>data table notebook</a>'\n",
              "            + ' to learn more about interactive tables.';\n",
              "          element.innerHTML = '';\n",
              "          dataTable['output_type'] = 'display_data';\n",
              "          await google.colab.output.renderOutput(dataTable, element);\n",
              "          const docLink = document.createElement('div');\n",
              "          docLink.innerHTML = docLinkHtml;\n",
              "          element.appendChild(docLink);\n",
              "        }\n",
              "      </script>\n",
              "    </div>\n",
              "  </div>\n",
              "  "
            ]
          },
          "metadata": {},
          "execution_count": 16
        }
      ]
    },
    {
      "cell_type": "code",
      "source": [
        "# cheking for label balance\n",
        "train_df[\"target\"].value_counts()"
      ],
      "metadata": {
        "colab": {
          "base_uri": "https://localhost:8080/"
        },
        "id": "EKOKYekQt4gk",
        "outputId": "74f839b6-c968-44e1-cb85-c7f6967418b2"
      },
      "execution_count": null,
      "outputs": [
        {
          "output_type": "execute_result",
          "data": {
            "text/plain": [
              "METHODS        59353\n",
              "RESULTS        57953\n",
              "CONCLUSIONS    27168\n",
              "BACKGROUND     21727\n",
              "OBJECTIVE      13839\n",
              "Name: target, dtype: int64"
            ]
          },
          "metadata": {},
          "execution_count": 17
        }
      ]
    },
    {
      "cell_type": "code",
      "source": [
        "train_df[\"total_lines\"].plot.hist(figsize=(10,10))"
      ],
      "metadata": {
        "colab": {
          "base_uri": "https://localhost:8080/",
          "height": 609
        },
        "id": "6WkS1ESOuCTa",
        "outputId": "011a7477-5131-4848-95a3-756b165ca042"
      },
      "execution_count": null,
      "outputs": [
        {
          "output_type": "execute_result",
          "data": {
            "text/plain": [
              "<matplotlib.axes._subplots.AxesSubplot at 0x7f6ef2708bb0>"
            ]
          },
          "metadata": {},
          "execution_count": 18
        },
        {
          "output_type": "display_data",
          "data": {
            "text/plain": [
              "<Figure size 720x720 with 1 Axes>"
            ],
            "image/png": "[encoded data removed]"
          },
          "metadata": {
            "needs_background": "light"
          }
        }
      ]
    },
    {
      "cell_type": "code",
      "source": [
        "train_sentences = train_df[\"text\"].tolist()\n",
        "val_sentences = val_df[\"text\"].tolist()\n",
        "test_sentences = test_df[\"text\"].tolist()"
      ],
      "metadata": {
        "id": "mVSzBdeGuZt-"
      },
      "execution_count": null,
      "outputs": []
    },
    {
      "cell_type": "markdown",
      "source": [
        "### Handeling the labels"
      ],
      "metadata": {
        "id": "xoWH7MufukoM"
      }
    },
    {
      "cell_type": "code",
      "source": [
        "#One hot encoding\n",
        "\n",
        "from sklearn.preprocessing import OneHotEncoder\n",
        "\n",
        "one_hot_encoder = OneHotEncoder(sparse=False)\n",
        "\n",
        "train_labels_one_hot = one_hot_encoder.fit_transform(train_df[\"target\"].to_numpy().reshape(-1, 1))\n",
        "test_labels_one_hot = one_hot_encoder.transform(test_df[\"target\"].to_numpy().reshape(-1, 1))\n",
        "val_labels_one_hot = one_hot_encoder.transform(val_df[\"target\"].to_numpy().reshape(-1, 1))"
      ],
      "metadata": {
        "id": "Tf19Y3CvvPE-"
      },
      "execution_count": null,
      "outputs": []
    },
    {
      "cell_type": "code",
      "source": [
        "train_labels_one_hot[:5], train_labels_one_hot.shape"
      ],
      "metadata": {
        "colab": {
          "base_uri": "https://localhost:8080/"
        },
        "id": "2fcWhj-l8cQV",
        "outputId": "e840d4a4-ec8a-48ea-e138-1c1334033a80"
      },
      "execution_count": null,
      "outputs": [
        {
          "output_type": "execute_result",
          "data": {
            "text/plain": [
              "(array([[0., 0., 0., 1., 0.],\n",
              "        [0., 0., 1., 0., 0.],\n",
              "        [0., 0., 1., 0., 0.],\n",
              "        [0., 0., 1., 0., 0.],\n",
              "        [0., 0., 1., 0., 0.]]), (180040, 5))"
            ]
          },
          "metadata": {},
          "execution_count": 21
        }
      ]
    },
    {
      "cell_type": "code",
      "source": [
        "#Label encoding\n",
        "\n",
        "from sklearn.preprocessing import LabelEncoder\n",
        "\n",
        "label_encoder = LabelEncoder()\n",
        "\n",
        "train_labels = label_encoder.fit_transform(train_df[\"target\"].to_numpy().reshape(-1, 1))\n",
        "test_labels = label_encoder.transform(test_df[\"target\"].to_numpy().reshape(-1, 1))\n",
        "val_labels = label_encoder.transform(val_df[\"target\"].to_numpy().reshape(-1, 1))"
      ],
      "metadata": {
        "id": "9hxEmd7Zx7HF",
        "colab": {
          "base_uri": "https://localhost:8080/"
        },
        "outputId": "91c9f07e-4a6d-4336-848a-0395d6d97890"
      },
      "execution_count": null,
      "outputs": [
        {
          "output_type": "stream",
          "name": "stderr",
          "text": [
            "/usr/local/lib/python3.8/dist-packages/sklearn/preprocessing/_label.py:115: DataConversionWarning: A column-vector y was passed when a 1d array was expected. Please change the shape of y to (n_samples, ), for example using ravel().\n",
            "  y = column_or_1d(y, warn=True)\n",
            "/usr/local/lib/python3.8/dist-packages/sklearn/preprocessing/_label.py:133: DataConversionWarning: A column-vector y was passed when a 1d array was expected. Please change the shape of y to (n_samples, ), for example using ravel().\n",
            "  y = column_or_1d(y, warn=True)\n"
          ]
        }
      ]
    },
    {
      "cell_type": "code",
      "source": [
        "train_labels[:5], train_labels.shape"
      ],
      "metadata": {
        "colab": {
          "base_uri": "https://localhost:8080/"
        },
        "id": "Y067DokN8PkY",
        "outputId": "56f6c9d3-aebd-437c-dfd3-1535b3ecab4b"
      },
      "execution_count": null,
      "outputs": [
        {
          "output_type": "execute_result",
          "data": {
            "text/plain": [
              "(array([3, 2, 2, 2, 2]), (180040,))"
            ]
          },
          "metadata": {},
          "execution_count": 23
        }
      ]
    },
    {
      "cell_type": "code",
      "source": [
        "# Get the names and numbers of the classes\n",
        "num_classes = len(label_encoder.classes_)\n",
        "class_names = label_encoder.classes_\n",
        "class_names, num_classes"
      ],
      "metadata": {
        "colab": {
          "base_uri": "https://localhost:8080/"
        },
        "id": "lCBOdOm9yOWU",
        "outputId": "ef0df965-c18e-4d1c-d5bd-78630db405a4"
      },
      "execution_count": null,
      "outputs": [
        {
          "output_type": "execute_result",
          "data": {
            "text/plain": [
              "(array(['BACKGROUND', 'CONCLUSIONS', 'METHODS', 'OBJECTIVE', 'RESULTS'],\n",
              "       dtype=object), 5)"
            ]
          },
          "metadata": {},
          "execution_count": 24
        }
      ]
    },
    {
      "cell_type": "markdown",
      "source": [
        "# Creating the models\n",
        "\n",
        "The 5 model:\n",
        "0. Base Model: naive bayes model\n",
        "1. Conv1D with token embedding\n",
        "2. TF Hub Pretrained Feature Extractor\n",
        "3. Conv1D with character embeddings\n",
        "4. Pretrained token embeddings + character embeddings\n",
        "5. Pretrained token embeddings + character embeddings + positional embeddings"
      ],
      "metadata": {
        "id": "JUXXV9wOzrkm"
      }
    },
    {
      "cell_type": "markdown",
      "source": [
        "## Creating a Text Vectorizer and embedding layer"
      ],
      "metadata": {
        "id": "kpBFevth8zuI"
      }
    },
    {
      "cell_type": "code",
      "source": [
        "# undestanding the average word count in a sentence to abjust the vectorizer to the data\n",
        "sentences_length = [len(sent.split()) for sent in train_sentences]\n",
        "avg_sentences_len = np.mean(sentences_length)\n",
        "sentences_length[:5], avg_sentences_len"
      ],
      "metadata": {
        "colab": {
          "base_uri": "https://localhost:8080/"
        },
        "id": "Q0KlUCgl84AW",
        "outputId": "a0f77fe8-1422-4da3-ebf2-cb8c87d4014b"
      },
      "execution_count": null,
      "outputs": [
        {
          "output_type": "execute_result",
          "data": {
            "text/plain": [
              "([49, 27, 15, 14, 35], 26.338269273494777)"
            ]
          },
          "metadata": {},
          "execution_count": 25
        }
      ]
    },
    {
      "cell_type": "code",
      "source": [
        "plt.hist(sentences_length, bins=30)"
      ],
      "metadata": {
        "colab": {
          "base_uri": "https://localhost:8080/",
          "height": 525
        },
        "id": "hTDgtHRHhs5e",
        "outputId": "52372273-a697-4c83-e161-25589773a2a3"
      },
      "execution_count": null,
      "outputs": [
        {
          "output_type": "execute_result",
          "data": {
            "text/plain": [
              "(array([1.6499e+04, 5.6664e+04, 5.2683e+04, 2.9050e+04, 1.3111e+04,\n",
              "        5.6610e+03, 3.0490e+03, 1.5190e+03, 8.0800e+02, 4.3200e+02,\n",
              "        2.2600e+02, 1.2800e+02, 7.7000e+01, 3.9000e+01, 3.0000e+01,\n",
              "        1.5000e+01, 9.0000e+00, 8.0000e+00, 4.0000e+00, 8.0000e+00,\n",
              "        7.0000e+00, 5.0000e+00, 1.0000e+00, 2.0000e+00, 3.0000e+00,\n",
              "        0.0000e+00, 0.0000e+00, 1.0000e+00, 0.0000e+00, 1.0000e+00]),\n",
              " array([  1.        ,  10.83333333,  20.66666667,  30.5       ,\n",
              "         40.33333333,  50.16666667,  60.        ,  69.83333333,\n",
              "         79.66666667,  89.5       ,  99.33333333, 109.16666667,\n",
              "        119.        , 128.83333333, 138.66666667, 148.5       ,\n",
              "        158.33333333, 168.16666667, 178.        , 187.83333333,\n",
              "        197.66666667, 207.5       , 217.33333333, 227.16666667,\n",
              "        237.        , 246.83333333, 256.66666667, 266.5       ,\n",
              "        276.33333333, 286.16666667, 296.        ]),\n",
              " <a list of 30 Patch objects>)"
            ]
          },
          "metadata": {},
          "execution_count": 26
        },
        {
          "output_type": "display_data",
          "data": {
            "text/plain": [
              "<Figure size 432x288 with 1 Axes>"
            ],
            "image/png": "[encoded data removed]"
          },
          "metadata": {
            "needs_background": "light"
          }
        }
      ]
    },
    {
      "cell_type": "code",
      "source": [
        "# Understanig the best length for the tet vectorizer\n",
        "best_vectorizer_length = int(np.percentile(sentences_length, 95))"
      ],
      "metadata": {
        "id": "L_zw7Xe7h2D4"
      },
      "execution_count": null,
      "outputs": []
    },
    {
      "cell_type": "code",
      "source": [
        "from tensorflow.keras.layers import TextVectorization"
      ],
      "metadata": {
        "id": "v6tJp8nkiWap"
      },
      "execution_count": null,
      "outputs": []
    },
    {
      "cell_type": "code",
      "source": [
        "# creating the text vectorizer\n",
        "\n",
        "max_tokens = 68_000\n",
        "max_length = best_vectorizer_length\n",
        "\n",
        "text_vectorizer = TextVectorization(max_tokens=max_tokens,\n",
        "                                    output_mode='int',\n",
        "                                    output_sequence_length=max_length)"
      ],
      "metadata": {
        "id": "NGzrHiAr9ARs"
      },
      "execution_count": null,
      "outputs": []
    },
    {
      "cell_type": "code",
      "source": [
        "# Let the vectorizer learn from the train set\n",
        "text_vectorizer.adapt(train_sentences)"
      ],
      "metadata": {
        "id": "JfzpYlW69GH8"
      },
      "execution_count": null,
      "outputs": []
    },
    {
      "cell_type": "code",
      "source": [
        "# testing the vectorizer\n",
        "sample_sentence = \"There is a dog on the table\"\n",
        "text_vectorizer([sample_sentence])"
      ],
      "metadata": {
        "colab": {
          "base_uri": "https://localhost:8080/"
        },
        "id": "RQ7t_aqJ9GC2",
        "outputId": "766d980f-1966-4258-febb-78cd340b6fd1"
      },
      "execution_count": null,
      "outputs": [
        {
          "output_type": "execute_result",
          "data": {
            "text/plain": [
              "<tf.Tensor: shape=(1, 55), dtype=int64, numpy=\n",
              "array([[  61,   20,    8, 6412,   18,    2, 3551,    0,    0,    0,    0,\n",
              "           0,    0,    0,    0,    0,    0,    0,    0,    0,    0,    0,\n",
              "           0,    0,    0,    0,    0,    0,    0,    0,    0,    0,    0,\n",
              "           0,    0,    0,    0,    0,    0,    0,    0,    0,    0,    0,\n",
              "           0,    0,    0,    0,    0,    0,    0,    0,    0,    0,    0]])>"
            ]
          },
          "metadata": {},
          "execution_count": 31
        }
      ]
    },
    {
      "cell_type": "code",
      "source": [
        "# Understanding the vectorizer preformance\n",
        "vocab = text_vectorizer.get_vocabulary()\n",
        "vocab[:9], vocab[-5:], len(vocab)"
      ],
      "metadata": {
        "colab": {
          "base_uri": "https://localhost:8080/"
        },
        "id": "Wn7lse1J9bIh",
        "outputId": "76cc57fa-7370-4a81-949f-d562cf1d83df"
      },
      "execution_count": null,
      "outputs": [
        {
          "output_type": "execute_result",
          "data": {
            "text/plain": [
              "(['', '[UNK]', 'the', 'and', 'of', 'in', 'to', 'with', 'a'],\n",
              " ['aainduced', 'aaigroup', 'aachener', 'aachen', 'aaacp'],\n",
              " 64841)"
            ]
          },
          "metadata": {},
          "execution_count": 32
        }
      ]
    },
    {
      "cell_type": "markdown",
      "source": [
        "### Creating the embbeding layer"
      ],
      "metadata": {
        "id": "pJcoebjQ-Gkc"
      }
    },
    {
      "cell_type": "code",
      "source": [
        "from tensorflow.keras.layers import Embedding"
      ],
      "metadata": {
        "id": "IjgFc9tHc5KD"
      },
      "execution_count": null,
      "outputs": []
    },
    {
      "cell_type": "code",
      "source": [
        "embedding_layer = Embedding(len(vocab),\n",
        "                            output_dim=128,\n",
        "                            input_length=max_length,\n",
        "                            mask_zero=True)"
      ],
      "metadata": {
        "id": "aumHp1CWjDqT"
      },
      "execution_count": null,
      "outputs": []
    },
    {
      "cell_type": "code",
      "source": [
        "# testing the embedding layer\n",
        "import random\n",
        "sample = random.choice(train_sentences)\n",
        "\n",
        "print(\"Original:\\n\", sample)\n",
        "print(\"_________\")\n",
        "print(\"Vectiruzed:\\n\", text_vectorizer(sample))\n",
        "print(\"Embedded:\\n\", embedding_layer(text_vectorizer(sample)))"
      ],
      "metadata": {
        "colab": {
          "base_uri": "https://localhost:8080/"
        },
        "id": "ArIMP-ckjs_V",
        "outputId": "7767d67b-a797-42bd-9bb3-af4fb4d07a21"
      },
      "execution_count": null,
      "outputs": [
        {
          "output_type": "stream",
          "name": "stdout",
          "text": [
            "Original:\n",
            " in over-weight patients with t@d , m+s may have a beneficial effect on adiposity with relation to these different effects on two incretins .\n",
            "_________\n",
            "Vectiruzed:\n",
            " tf.Tensor(\n",
            "[    5  1065    12     7  1990   893    91    99     8   748    70    18\n",
            "  4844     7  1852     6   111   197    71    18    51 20414     0     0\n",
            "     0     0     0     0     0     0     0     0     0     0     0     0\n",
            "     0     0     0     0     0     0     0     0     0     0     0     0\n",
            "     0     0     0     0     0     0     0], shape=(55,), dtype=int64)\n",
            "Embedded:\n",
            " tf.Tensor(\n",
            "[[ 0.02449733  0.04961291 -0.03666217 ... -0.00063946  0.01726438\n",
            "  -0.03500495]\n",
            " [-0.04633205  0.00773351 -0.00764654 ...  0.01635176 -0.01599346\n",
            "   0.00511159]\n",
            " [-0.04015332 -0.01557661 -0.02652172 ...  0.0495174  -0.03859161\n",
            "   0.0184846 ]\n",
            " ...\n",
            " [ 0.04511198  0.04554809  0.04850877 ... -0.03513556 -0.00609376\n",
            "   0.0433133 ]\n",
            " [ 0.04511198  0.04554809  0.04850877 ... -0.03513556 -0.00609376\n",
            "   0.0433133 ]\n",
            " [ 0.04511198  0.04554809  0.04850877 ... -0.03513556 -0.00609376\n",
            "   0.0433133 ]], shape=(55, 128), dtype=float32)\n"
          ]
        }
      ]
    },
    {
      "cell_type": "markdown",
      "source": [
        "## Creating datasets(Improving models preforamnce)"
      ],
      "metadata": {
        "id": "H3IuDT-0nNCz"
      }
    },
    {
      "cell_type": "code",
      "source": [
        "train_dataset = tf.data.Dataset.from_tensor_slices((train_sentences, train_labels_one_hot))\n",
        "val_dataset = tf.data.Dataset.from_tensor_slices((val_sentences, val_labels_one_hot))\n",
        "test_dataset = tf.data.Dataset.from_tensor_slices((test_sentences, test_labels_one_hot))\n",
        "\n",
        "train_dataset"
      ],
      "metadata": {
        "colab": {
          "base_uri": "https://localhost:8080/"
        },
        "id": "4BhDNXEPnUFZ",
        "outputId": "5759b5fb-bed8-4cf9-9e5a-8256a1ee9e2d"
      },
      "execution_count": null,
      "outputs": [
        {
          "output_type": "execute_result",
          "data": {
            "text/plain": [
              "<TensorSliceDataset element_spec=(TensorSpec(shape=(), dtype=tf.string, name=None), TensorSpec(shape=(5,), dtype=tf.float64, name=None))>"
            ]
          },
          "metadata": {},
          "execution_count": 36
        }
      ]
    },
    {
      "cell_type": "code",
      "source": [
        "train_dataset = train_dataset.batch(32).prefetch(tf.data.AUTOTUNE)\n",
        "val_dataset = val_dataset.batch(32).prefetch(tf.data.AUTOTUNE)\n",
        "test_dataset = test_dataset.batch(32).prefetch(tf.data.AUTOTUNE)"
      ],
      "metadata": {
        "id": "Zkx_67Djnwut"
      },
      "execution_count": null,
      "outputs": []
    },
    {
      "cell_type": "code",
      "source": [
        "train_dataset"
      ],
      "metadata": {
        "colab": {
          "base_uri": "https://localhost:8080/"
        },
        "id": "tnHaN9ACo4xh",
        "outputId": "d77be4a1-6452-401f-c669-a738f43413bb"
      },
      "execution_count": null,
      "outputs": [
        {
          "output_type": "execute_result",
          "data": {
            "text/plain": [
              "<PrefetchDataset element_spec=(TensorSpec(shape=(None,), dtype=tf.string, name=None), TensorSpec(shape=(None, 5), dtype=tf.float64, name=None))>"
            ]
          },
          "metadata": {},
          "execution_count": 38
        }
      ]
    },
    {
      "cell_type": "markdown",
      "source": [
        "##Model 0: Naive Bayes"
      ],
      "metadata": {
        "id": "3WSazF_8z0Uq"
      }
    },
    {
      "cell_type": "code",
      "source": [
        "from sklearn.naive_bayes import MultinomialNB\n",
        "from sklearn.feature_extraction.text import TfidfVectorizer\n",
        "from sklearn.pipeline import Pipeline"
      ],
      "metadata": {
        "id": "42LewdN_z3El"
      },
      "execution_count": null,
      "outputs": []
    },
    {
      "cell_type": "code",
      "source": [
        "# build a sklearn pipeline\n",
        "model_0 = Pipeline([\n",
        "    ('tfidf', TfidfVectorizer()),\n",
        "    ('clf', MultinomialNB())\n",
        "])"
      ],
      "metadata": {
        "id": "grpTFENzz-n8"
      },
      "execution_count": null,
      "outputs": []
    },
    {
      "cell_type": "code",
      "source": [
        "# train the baseline\n",
        "model_0.fit(train_sentences, train_labels)"
      ],
      "metadata": {
        "colab": {
          "base_uri": "https://localhost:8080/"
        },
        "id": "n3vFjGRB7yc_",
        "outputId": "6fc0ff4d-909e-4ba5-a659-bd3d4833ede9"
      },
      "execution_count": null,
      "outputs": [
        {
          "output_type": "execute_result",
          "data": {
            "text/plain": [
              "Pipeline(steps=[('tfidf', TfidfVectorizer()), ('clf', MultinomialNB())])"
            ]
          },
          "metadata": {},
          "execution_count": 41
        }
      ]
    },
    {
      "cell_type": "code",
      "source": [
        "# evaluating the model\n",
        "model_0_score = model_0.score(val_sentences, val_labels)\n",
        "model_0_score"
      ],
      "metadata": {
        "colab": {
          "base_uri": "https://localhost:8080/"
        },
        "id": "_oshYHtvdvjW",
        "outputId": "5bf58488-4110-4407-fccd-b299937f0453"
      },
      "execution_count": null,
      "outputs": [
        {
          "output_type": "execute_result",
          "data": {
            "text/plain": [
              "0.7218323844829869"
            ]
          },
          "metadata": {},
          "execution_count": 42
        }
      ]
    },
    {
      "cell_type": "code",
      "source": [
        "base_line_preds = model_0.predict(val_sentences)\n",
        "base_line_preds"
      ],
      "metadata": {
        "id": "ATVuBe1Z8AUm",
        "colab": {
          "base_uri": "https://localhost:8080/"
        },
        "outputId": "4b8628aa-cffd-4138-bde0-4a2f6cf7ab45"
      },
      "execution_count": null,
      "outputs": [
        {
          "output_type": "execute_result",
          "data": {
            "text/plain": [
              "array([4, 1, 3, ..., 4, 4, 1])"
            ]
          },
          "metadata": {},
          "execution_count": 43
        }
      ]
    },
    {
      "cell_type": "code",
      "source": [],
      "metadata": {
        "id": "aEzG-L_He8Fc"
      },
      "execution_count": null,
      "outputs": []
    },
    {
      "cell_type": "code",
      "source": [
        "base_line_results = evaluation_dictonary(val_labels, base_line_preds)\n",
        "base_line_results"
      ],
      "metadata": {
        "colab": {
          "base_uri": "https://localhost:8080/"
        },
        "id": "DO3DJRCHeUOr",
        "outputId": "52a13c3b-32b0-466a-e29c-7e58606911ec"
      },
      "execution_count": null,
      "outputs": [
        {
          "output_type": "execute_result",
          "data": {
            "text/plain": [
              "{'accuracy': 0.7218323844829869,\n",
              " 'precision': 0.7186466952323352,\n",
              " 'recall': 0.7218323844829869,\n",
              " 'f1_score': 0.6989250353450294}"
            ]
          },
          "metadata": {},
          "execution_count": 44
        }
      ]
    },
    {
      "cell_type": "markdown",
      "source": [
        "## Model 1: Conv1D"
      ],
      "metadata": {
        "id": "a5fppo3UlJw9"
      }
    },
    {
      "cell_type": "code",
      "source": [
        "from tensorflow.keras import layers"
      ],
      "metadata": {
        "id": "eW4IgAnrlNxg"
      },
      "execution_count": null,
      "outputs": []
    },
    {
      "cell_type": "code",
      "source": [
        "inputs = layers.Input(shape=(1,), dtype=tf.string)\n",
        "\n",
        "x = text_vectorizer(inputs)\n",
        "x = embedding_layer(x)\n",
        "x = layers.Conv1D(128, kernel_size=5, padding=\"same\", activation=\"relu\")(x)\n",
        "x = layers.GlobalAveragePooling1D()(x)\n",
        "\n",
        "outputs = layers.Dense(len(class_names), activation=\"softmax\")(x)\n",
        "\n",
        "model_1 = tf.keras.Model(inputs, outputs)\n",
        "\n",
        "model_1.compile(loss=\"categorical_crossentropy\",\n",
        "                optimizer=\"Adam\",\n",
        "                metrics=[\"accuracy\"])"
      ],
      "metadata": {
        "id": "Kym5JDeYlTIQ"
      },
      "execution_count": null,
      "outputs": []
    },
    {
      "cell_type": "code",
      "source": [
        "model_1.summary()"
      ],
      "metadata": {
        "colab": {
          "base_uri": "https://localhost:8080/"
        },
        "id": "Cy1vRzp6psL4",
        "outputId": "581a9db5-ce7d-43a6-a1e2-05c9c09fe9a5"
      },
      "execution_count": null,
      "outputs": [
        {
          "output_type": "stream",
          "name": "stdout",
          "text": [
            "Model: \"model\"\n",
            "_________________________________________________________________\n",
            " Layer (type)                Output Shape              Param #   \n",
            "=================================================================\n",
            " input_1 (InputLayer)        [(None, 1)]               0         \n",
            "                                                                 \n",
            " text_vectorization (TextVec  (None, 55)               0         \n",
            " torization)                                                     \n",
            "                                                                 \n",
            " embedding (Embedding)       (None, 55, 128)           8299648   \n",
            "                                                                 \n",
            " conv1d (Conv1D)             (None, 55, 128)           82048     \n",
            "                                                                 \n",
            " global_average_pooling1d (G  (None, 128)              0         \n",
            " lobalAveragePooling1D)                                          \n",
            "                                                                 \n",
            " dense (Dense)               (None, 5)                 645       \n",
            "                                                                 \n",
            "=================================================================\n",
            "Total params: 8,382,341\n",
            "Trainable params: 8,382,341\n",
            "Non-trainable params: 0\n",
            "_________________________________________________________________\n"
          ]
        }
      ]
    },
    {
      "cell_type": "code",
      "source": [
        "model_1_history = model_1.fit(train_dataset,\n",
        "                              steps_per_epoch=int(0.1*len(train_dataset)),\n",
        "                              epochs=3,\n",
        "                              validation_data=val_dataset,\n",
        "                              validation_steps=int(0.1*len(val_dataset)),\n",
        "                              callbacks=[create_tensorboard_callback(SAVE_DIR, \"model_1_Conv1D\")])"
      ],
      "metadata": {
        "colab": {
          "base_uri": "https://localhost:8080/"
        },
        "id": "ApUIjD_amvLm",
        "outputId": "46f98c32-c048-4ab1-b880-6fefb669a28e"
      },
      "execution_count": null,
      "outputs": [
        {
          "output_type": "stream",
          "name": "stdout",
          "text": [
            "Saving TensorBoard log files to: models_logs/model_1_Conv1D/20230125-164816\n",
            "Epoch 1/3\n",
            "562/562 [==============================] - 15s 12ms/step - loss: 0.8829 - accuracy: 0.6519 - val_loss: 0.6765 - val_accuracy: 0.7414\n",
            "Epoch 2/3\n",
            "562/562 [==============================] - 8s 14ms/step - loss: 0.6531 - accuracy: 0.7610 - val_loss: 0.6281 - val_accuracy: 0.7766\n",
            "Epoch 3/3\n",
            "562/562 [==============================] - 9s 16ms/step - loss: 0.6116 - accuracy: 0.7783 - val_loss: 0.5884 - val_accuracy: 0.7852\n"
          ]
        }
      ]
    },
    {
      "cell_type": "code",
      "source": [
        "model_1.evaluate(val_dataset)"
      ],
      "metadata": {
        "colab": {
          "base_uri": "https://localhost:8080/"
        },
        "id": "g6-ZM17hr9y3",
        "outputId": "c34d64b1-97ad-44de-b9f0-66ffefbe167b"
      },
      "execution_count": null,
      "outputs": [
        {
          "output_type": "stream",
          "name": "stdout",
          "text": [
            "945/945 [==============================] - 4s 4ms/step - loss: 0.5892 - accuracy: 0.7893\n"
          ]
        },
        {
          "output_type": "execute_result",
          "data": {
            "text/plain": [
              "[0.5892345309257507, 0.7893221378326416]"
            ]
          },
          "metadata": {},
          "execution_count": 49
        }
      ]
    },
    {
      "cell_type": "code",
      "source": [
        "model_1_preds = model_1.predict(val_dataset)\n",
        "model_1_preds[:5]"
      ],
      "metadata": {
        "colab": {
          "base_uri": "https://localhost:8080/"
        },
        "id": "sqK1ONeLsVqL",
        "outputId": "06293796-f438-4eca-dc80-08fcd317bbc6"
      },
      "execution_count": null,
      "outputs": [
        {
          "output_type": "stream",
          "name": "stdout",
          "text": [
            "945/945 [==============================] - 2s 2ms/step\n"
          ]
        },
        {
          "output_type": "execute_result",
          "data": {
            "text/plain": [
              "array([[4.8459283e-01, 1.5191451e-01, 7.1190625e-02, 2.6342398e-01,\n",
              "        2.8878085e-02],\n",
              "       [3.9178020e-01, 3.3064210e-01, 1.7113270e-02, 2.4923450e-01,\n",
              "        1.1229967e-02],\n",
              "       [1.1014237e-01, 4.7007273e-03, 1.3413680e-03, 8.8379461e-01,\n",
              "        2.0834519e-05],\n",
              "       [2.1254913e-05, 4.8595178e-04, 9.7779226e-01, 1.0119868e-05,\n",
              "        2.1690408e-02],\n",
              "       [1.2397963e-03, 3.4966111e-02, 3.3045298e-01, 5.1417097e-04,\n",
              "        6.3282698e-01]], dtype=float32)"
            ]
          },
          "metadata": {},
          "execution_count": 50
        }
      ]
    },
    {
      "cell_type": "code",
      "source": [
        "model_1_preds = tf.argmax(model_1_preds, axis=1)\n",
        "model_1_preds"
      ],
      "metadata": {
        "colab": {
          "base_uri": "https://localhost:8080/"
        },
        "id": "cJnhGYqzsmDd",
        "outputId": "c362e7dc-8d17-4c01-8e6f-8f6ce71cfe64"
      },
      "execution_count": null,
      "outputs": [
        {
          "output_type": "execute_result",
          "data": {
            "text/plain": [
              "<tf.Tensor: shape=(30212,), dtype=int64, numpy=array([0, 0, 3, ..., 4, 1, 1])>"
            ]
          },
          "metadata": {},
          "execution_count": 51
        }
      ]
    },
    {
      "cell_type": "code",
      "source": [
        "# understandig the model preformance\n",
        "model_1_results = evaluation_dictonary(val_labels, model_1_preds)\n",
        "model_1_results"
      ],
      "metadata": {
        "colab": {
          "base_uri": "https://localhost:8080/"
        },
        "id": "RTNTC_f8uNWt",
        "outputId": "f65eb376-2445-4a1e-cc8d-25fb0c051ec0"
      },
      "execution_count": null,
      "outputs": [
        {
          "output_type": "execute_result",
          "data": {
            "text/plain": [
              "{'accuracy': 0.7893221236594731,\n",
              " 'precision': 0.7861669735731754,\n",
              " 'recall': 0.7893221236594731,\n",
              " 'f1_score': 0.7869365408416018}"
            ]
          },
          "metadata": {},
          "execution_count": 52
        }
      ]
    },
    {
      "cell_type": "code",
      "source": [
        "base_line_results"
      ],
      "metadata": {
        "colab": {
          "base_uri": "https://localhost:8080/"
        },
        "id": "Gd_2OJ12uVgQ",
        "outputId": "b21c004f-8498-4267-9344-ed94619ae39f"
      },
      "execution_count": null,
      "outputs": [
        {
          "output_type": "execute_result",
          "data": {
            "text/plain": [
              "{'accuracy': 0.7218323844829869,\n",
              " 'precision': 0.7186466952323352,\n",
              " 'recall': 0.7218323844829869,\n",
              " 'f1_score': 0.6989250353450294}"
            ]
          },
          "metadata": {},
          "execution_count": 53
        }
      ]
    },
    {
      "cell_type": "markdown",
      "source": [
        "## Model 2: Pretrained Embedding layer\n",
        "\n",
        "Using the USE from tensorflow hub"
      ],
      "metadata": {
        "id": "fc0qfqktt23-"
      }
    },
    {
      "cell_type": "code",
      "source": [
        "import tensorflow_hub as hub\n",
        "\n",
        "embedding_layer_pretrained = hub.KerasLayer(\"https://tfhub.dev/google/universal-sentence-encoder/4\",\n",
        "                                            trainable=False,\n",
        "                                            name=\"USE\")"
      ],
      "metadata": {
        "id": "9E4evkUut_EN"
      },
      "execution_count": null,
      "outputs": []
    },
    {
      "cell_type": "code",
      "source": [
        "# Testing the Pretrained Embedding layer\n",
        "random_sentence = random.choice(train_sentences)\n",
        "\n",
        "print(\"Original\\n\", random_sentence)\n",
        "print(\"--------\")\n",
        "embedded_sentence = embedding_layer_pretrained([random_sentence])\n",
        "print(\"Embedded\\n\", embedded_sentence[0][:25])\n",
        "print(\"Embedding length: \", len(embedded_sentence[0]))"
      ],
      "metadata": {
        "colab": {
          "base_uri": "https://localhost:8080/"
        },
        "id": "3tct_h2cv1xL",
        "outputId": "2044ae0e-f72b-434a-c196-827c1760e07a"
      },
      "execution_count": null,
      "outputs": [
        {
          "output_type": "stream",
          "name": "stdout",
          "text": [
            "Original\n",
            " based on the pharmacokinetics model , the recommended @,@ mg/day of abiraterone acetate resulted in similar abiraterone exposure for patients with mcrpc regardless of prior chemotherapy .\n",
            "--------\n",
            "Embedded\n",
            " tf.Tensor(\n",
            "[-0.05315891  0.06964157 -0.02922054 -0.0545826  -0.02759862 -0.02787057\n",
            "  0.06050581 -0.00242276  0.02874031  0.07467051  0.08933553  0.01126078\n",
            " -0.01433641  0.08104023  0.03027172 -0.02329199 -0.09455799 -0.04296355\n",
            " -0.06935357  0.01184764 -0.00946753 -0.00322672 -0.04478989  0.02650814\n",
            "  0.06064074], shape=(25,), dtype=float32)\n",
            "Embedding length:  512\n"
          ]
        }
      ]
    },
    {
      "cell_type": "code",
      "source": [
        "from tensorflow.keras import layers\n",
        "\n",
        "inputs = layers.Input(shape=[], dtype=tf.string)\n",
        "\n",
        "x = embedding_layer_pretrained(inputs)\n",
        "x = layers.Dense(128, activation=\"relu\")(x)\n",
        "\n",
        "outputs = layers.Dense(len(class_names), activation=\"softmax\")(x)\n",
        "\n",
        "model_2 = tf.keras.Model(inputs, outputs)\n",
        "\n",
        "model_2.compile(loss=\"categorical_crossentropy\",\n",
        "                optimizer='Adam',\n",
        "                metrics=[\"accuracy\"])"
      ],
      "metadata": {
        "id": "L4h-O08Mxenp"
      },
      "execution_count": null,
      "outputs": []
    },
    {
      "cell_type": "code",
      "source": [
        "model_2.summary()"
      ],
      "metadata": {
        "colab": {
          "base_uri": "https://localhost:8080/"
        },
        "id": "7r-DYpPNysOw",
        "outputId": "3a03f52c-6a1e-4369-cbfc-7994bdcced29"
      },
      "execution_count": null,
      "outputs": [
        {
          "output_type": "stream",
          "name": "stdout",
          "text": [
            "Model: \"model_1\"\n",
            "_________________________________________________________________\n",
            " Layer (type)                Output Shape              Param #   \n",
            "=================================================================\n",
            " input_2 (InputLayer)        [(None,)]                 0         \n",
            "                                                                 \n",
            " USE (KerasLayer)            (None, 512)               256797824 \n",
            "                                                                 \n",
            " dense_1 (Dense)             (None, 128)               65664     \n",
            "                                                                 \n",
            " dense_2 (Dense)             (None, 5)                 645       \n",
            "                                                                 \n",
            "=================================================================\n",
            "Total params: 256,864,133\n",
            "Trainable params: 66,309\n",
            "Non-trainable params: 256,797,824\n",
            "_________________________________________________________________\n"
          ]
        }
      ]
    },
    {
      "cell_type": "code",
      "source": [
        "model_2_history = model_2.fit(train_dataset,\n",
        "                              epochs=3,\n",
        "                              steps_per_epoch=int(0.1*len(train_dataset)),\n",
        "                              validation_data=val_dataset,\n",
        "                              validation_steps=int(0.1*len(val_dataset)),\n",
        "                              callbacks=[create_tensorboard_callback(SAVE_DIR,\n",
        "                                                                    \"model_2_Pretrained_Embedding\")])"
      ],
      "metadata": {
        "colab": {
          "base_uri": "https://localhost:8080/"
        },
        "id": "DKqFwlQ3zLvy",
        "outputId": "1dcadb31-ade9-43b6-de13-1593449fcf2b"
      },
      "execution_count": null,
      "outputs": [
        {
          "output_type": "stream",
          "name": "stdout",
          "text": [
            "Saving TensorBoard log files to: models_logs/model_2_Pretrained_Embedding/20230125-165001\n",
            "Epoch 1/3\n",
            "562/562 [==============================] - 11s 14ms/step - loss: 0.9160 - accuracy: 0.6519 - val_loss: 0.7939 - val_accuracy: 0.6925\n",
            "Epoch 2/3\n",
            "562/562 [==============================] - 7s 13ms/step - loss: 0.7661 - accuracy: 0.7037 - val_loss: 0.7521 - val_accuracy: 0.7045\n",
            "Epoch 3/3\n",
            "562/562 [==============================] - 8s 15ms/step - loss: 0.7482 - accuracy: 0.7150 - val_loss: 0.7345 - val_accuracy: 0.7164\n"
          ]
        }
      ]
    },
    {
      "cell_type": "code",
      "source": [
        "# Evaluate on the whole validation dataset\\\n",
        "model_2.evaluate(val_dataset)"
      ],
      "metadata": {
        "colab": {
          "base_uri": "https://localhost:8080/"
        },
        "id": "E9vda96tzqXF",
        "outputId": "7ac294d2-2350-45ea-a2d1-f8094fea32d1"
      },
      "execution_count": null,
      "outputs": [
        {
          "output_type": "stream",
          "name": "stdout",
          "text": [
            "945/945 [==============================] - 12s 13ms/step - loss: 0.7372 - accuracy: 0.7147\n"
          ]
        },
        {
          "output_type": "execute_result",
          "data": {
            "text/plain": [
              "[0.7372194528579712, 0.714682936668396]"
            ]
          },
          "metadata": {},
          "execution_count": 59
        }
      ]
    },
    {
      "cell_type": "code",
      "source": [
        "model_2_pred_probs = model_2.predict(val_dataset)\n",
        "model_2_pred_probs"
      ],
      "metadata": {
        "colab": {
          "base_uri": "https://localhost:8080/"
        },
        "id": "q9Ffl3-8z7tk",
        "outputId": "99dc17f2-2ab9-4eb0-9ee9-60abf64d4a26"
      },
      "execution_count": null,
      "outputs": [
        {
          "output_type": "stream",
          "name": "stdout",
          "text": [
            "945/945 [==============================] - 11s 12ms/step\n"
          ]
        },
        {
          "output_type": "execute_result",
          "data": {
            "text/plain": [
              "array([[4.3881422e-01, 3.6140299e-01, 2.3684287e-03, 1.8708676e-01,\n",
              "        1.0327653e-02],\n",
              "       [3.6933324e-01, 4.8552734e-01, 3.9342265e-03, 1.3797286e-01,\n",
              "        3.2323818e-03],\n",
              "       [2.2023444e-01, 1.2386648e-01, 1.5568768e-02, 5.9902573e-01,\n",
              "        4.1304559e-02],\n",
              "       ...,\n",
              "       [1.8473632e-03, 5.0034933e-03, 4.5940392e-02, 7.5103482e-04,\n",
              "        9.4645768e-01],\n",
              "       [5.2403905e-03, 4.8742972e-02, 1.9416009e-01, 1.8159585e-03,\n",
              "        7.5004053e-01],\n",
              "       [1.9164474e-01, 2.2624366e-01, 5.1654446e-01, 1.2082762e-02,\n",
              "        5.3484317e-02]], dtype=float32)"
            ]
          },
          "metadata": {},
          "execution_count": 60
        }
      ]
    },
    {
      "cell_type": "code",
      "source": [
        "model_2_preds = tf.argmax(model_2_pred_probs, axis=1)\n",
        "model_2_preds"
      ],
      "metadata": {
        "colab": {
          "base_uri": "https://localhost:8080/"
        },
        "id": "OL17TNHq0DTO",
        "outputId": "57a78462-d344-4ae4-a100-5b282a063da2"
      },
      "execution_count": null,
      "outputs": [
        {
          "output_type": "execute_result",
          "data": {
            "text/plain": [
              "<tf.Tensor: shape=(30212,), dtype=int64, numpy=array([0, 1, 3, ..., 4, 4, 2])>"
            ]
          },
          "metadata": {},
          "execution_count": 61
        }
      ]
    },
    {
      "cell_type": "code",
      "source": [
        "model_2_results = evaluation_dictonary(val_labels, model_2_preds)\n",
        "model_2_results"
      ],
      "metadata": {
        "colab": {
          "base_uri": "https://localhost:8080/"
        },
        "id": "ls0ew00M0JPP",
        "outputId": "102b48ae-6203-40f1-ebbe-792ab75d7dba"
      },
      "execution_count": null,
      "outputs": [
        {
          "output_type": "execute_result",
          "data": {
            "text/plain": [
              "{'accuracy': 0.7146829074539918,\n",
              " 'precision': 0.7147019738369456,\n",
              " 'recall': 0.7146829074539918,\n",
              " 'f1_score': 0.7119461178708154}"
            ]
          },
          "metadata": {},
          "execution_count": 62
        }
      ]
    },
    {
      "cell_type": "code",
      "source": [
        "base_line_results"
      ],
      "metadata": {
        "colab": {
          "base_uri": "https://localhost:8080/"
        },
        "id": "avIcZ_m-0P-o",
        "outputId": "08878283-7658-4707-8a49-db15767d8209"
      },
      "execution_count": null,
      "outputs": [
        {
          "output_type": "execute_result",
          "data": {
            "text/plain": [
              "{'accuracy': 0.7218323844829869,\n",
              " 'precision': 0.7186466952323352,\n",
              " 'recall': 0.7218323844829869,\n",
              " 'f1_score': 0.6989250353450294}"
            ]
          },
          "metadata": {},
          "execution_count": 63
        }
      ]
    },
    {
      "cell_type": "markdown",
      "source": [
        "## Model 3: Conv1D with Character embeddings"
      ],
      "metadata": {
        "id": "1lAlPzIM1PbF"
      }
    },
    {
      "cell_type": "code",
      "source": [
        "# Make function to split sentences to chars\n",
        "\n",
        "def split_to_chars(text):\n",
        "  return \" \".join(list(text))\n",
        "\n",
        "split_to_chars(\"Hello World, i am mr robot\")"
      ],
      "metadata": {
        "colab": {
          "base_uri": "https://localhost:8080/",
          "height": 36
        },
        "id": "K4iZ2qkr1YgB",
        "outputId": "7c8963d5-e134-43b6-fa30-1cb97b5c0a11"
      },
      "execution_count": null,
      "outputs": [
        {
          "output_type": "execute_result",
          "data": {
            "text/plain": [
              "'H e l l o   W o r l d ,   i   a m   m r   r o b o t'"
            ],
            "application/vnd.google.colaboratory.intrinsic+json": {
              "type": "string"
            }
          },
          "metadata": {},
          "execution_count": 64
        }
      ]
    },
    {
      "cell_type": "code",
      "source": [
        "#splitting the datasets\n",
        "train_chars = [split_to_chars(sentence) for sentence in train_sentences]\n",
        "val_chars = [split_to_chars(sentence) for sentence in val_sentences]\n",
        "test_chars = [split_to_chars(sentence) for sentence in test_sentences]\n",
        "\n",
        "val_chars[:5]"
      ],
      "metadata": {
        "colab": {
          "base_uri": "https://localhost:8080/"
        },
        "id": "xaAWnPNEhWBz",
        "outputId": "9b0a2371-a761-4dc0-ccd6-d4f76119f621"
      },
      "execution_count": null,
      "outputs": [
        {
          "output_type": "execute_result",
          "data": {
            "text/plain": [
              "['i g e   s e n s i t i z a t i o n   t o   a s p e r g i l l u s   f u m i g a t u s   a n d   a   p o s i t i v e   s p u t u m   f u n g a l   c u l t u r e   r e s u l t   a r e   c o m m o n   i n   p a t i e n t s   w i t h   r e f r a c t o r y   a s t h m a   .',\n",
              " 'i t   i s   n o t   c l e a r   w h e t h e r   t h e s e   p a t i e n t s   w o u l d   b e n e f i t   f r o m   a n t i f u n g a l   t r e a t m e n t   .',\n",
              " 'w e   s o u g h t   t o   d e t e r m i n e   w h e t h e r   a   @ - m o n t h   c o u r s e   o f   v o r i c o n a z o l e   i m p r o v e d   a s t h m a - r e l a t e d   o u t c o m e s   i n   p a t i e n t s   w i t h   a s t h m a   w h o   a r e   i g e   s e n s i t i z e d   t o   a   f u m i g a t u s   .',\n",
              " 'a s t h m a t i c   p a t i e n t s   w h o   w e r e   i g e   s e n s i t i z e d   t o   a   f u m i g a t u s   w i t h   a   h i s t o r y   o f   a t   l e a s t   @   s e v e r e   e x a c e r b a t i o n s   i n   t h e   p r e v i o u s   @   m o n t h s   w e r e   t r e a t e d   f o r   @   m o n t h s   w i t h   @   m g   o f   v o r i c o n a z o l e   t w i c e   d a i l y   ,   f o l l o w e d   b y   o b s e r v a t i o n   f o r   @   m o n t h s   ,   i n   a   d o u b l e - b l i n d   ,   p l a c e b o - c o n t r o l l e d   ,   r a n d o m i z e d   d e s i g n   .',\n",
              " 'p r i m a r y   o u t c o m e s   w e r e   i m p r o v e m e n t   i n   q u a l i t y   o f   l i f e   a t   t h e   e n d   o f   t h e   t r e a t m e n t   p e r i o d   a n d   a   r e d u c t i o n   i n   t h e   n u m b e r   o f   s e v e r e   e x a c e r b a t i o n s   o v e r   t h e   @   m o n t h s   o f   t h e   s t u d y   .']"
            ]
          },
          "metadata": {},
          "execution_count": 65
        }
      ]
    },
    {
      "cell_type": "code",
      "source": [
        "char_length = [len(sentence) for sentence in train_sentences]\n",
        "avg_char_length = np.mean(char_length)\n",
        "avg_char_length"
      ],
      "metadata": {
        "colab": {
          "base_uri": "https://localhost:8080/"
        },
        "id": "ebLLysAqiHAi",
        "outputId": "ff51dc0b-cf42-46ff-ba25-62f82daa3148"
      },
      "execution_count": null,
      "outputs": [
        {
          "output_type": "execute_result",
          "data": {
            "text/plain": [
              "149.3662574983337"
            ]
          },
          "metadata": {},
          "execution_count": 66
        }
      ]
    },
    {
      "cell_type": "code",
      "source": [
        "# Check the distribution of the char_length\n",
        "plt.hist(char_length, bins=10)"
      ],
      "metadata": {
        "colab": {
          "base_uri": "https://localhost:8080/",
          "height": 369
        },
        "id": "LuFq5ggTidnC",
        "outputId": "712e944b-30ea-481e-dba1-e15d29f1385a"
      },
      "execution_count": null,
      "outputs": [
        {
          "output_type": "execute_result",
          "data": {
            "text/plain": [
              "(array([9.2691e+04, 7.6343e+04, 9.6890e+03, 1.0890e+03, 1.6700e+02,\n",
              "        4.2000e+01, 1.3000e+01, 3.0000e+00, 2.0000e+00, 1.0000e+00]),\n",
              " array([1.0000e+00, 1.3950e+02, 2.7800e+02, 4.1650e+02, 5.5500e+02,\n",
              "        6.9350e+02, 8.3200e+02, 9.7050e+02, 1.1090e+03, 1.2475e+03,\n",
              "        1.3860e+03]),\n",
              " <a list of 10 Patch objects>)"
            ]
          },
          "metadata": {},
          "execution_count": 67
        },
        {
          "output_type": "display_data",
          "data": {
            "text/plain": [
              "<Figure size 432x288 with 1 Axes>"
            ],
            "image/png": "[encoded data removed]"
          },
          "metadata": {
            "needs_background": "light"
          }
        }
      ]
    },
    {
      "cell_type": "code",
      "source": [
        "# Find the best length for the vectorizer\n",
        "\n",
        "output_char_length = int(np.percentile(char_length, 95))\n",
        "output_char_length"
      ],
      "metadata": {
        "colab": {
          "base_uri": "https://localhost:8080/"
        },
        "id": "RQABk0ZtjEHh",
        "outputId": "b8b0ea0f-1b35-4bba-9dd8-90f3117cbee1"
      },
      "execution_count": null,
      "outputs": [
        {
          "output_type": "execute_result",
          "data": {
            "text/plain": [
              "290"
            ]
          },
          "metadata": {},
          "execution_count": 68
        }
      ]
    },
    {
      "cell_type": "code",
      "source": [
        "# Getting all the possible characters\n",
        "import string\n",
        "\n",
        "all_charcters = string.ascii_lowercase + string.digits + string.punctuation\n",
        "\n",
        "all_charcters"
      ],
      "metadata": {
        "colab": {
          "base_uri": "https://localhost:8080/",
          "height": 36
        },
        "id": "_XuyKIFGjiXd",
        "outputId": "03fe65a2-093b-4650-e3f7-ae046b75efd2"
      },
      "execution_count": null,
      "outputs": [
        {
          "output_type": "execute_result",
          "data": {
            "text/plain": [
              "'abcdefghijklmnopqrstuvwxyz0123456789!\"#$%&\\'()*+,-./:;<=>?@[\\\\]^_`{|}~'"
            ],
            "application/vnd.google.colaboratory.intrinsic+json": {
              "type": "string"
            }
          },
          "metadata": {},
          "execution_count": 69
        }
      ]
    },
    {
      "cell_type": "markdown",
      "source": [
        "### Creating char-level text vectorizer"
      ],
      "metadata": {
        "id": "VAmeZ3cZj1X4"
      }
    },
    {
      "cell_type": "code",
      "source": [
        "num_tokens = len(all_charcters)\n",
        "\n",
        "char_vectorizer = TextVectorization(max_tokens=num_tokens,\n",
        "                                    output_sequence_length=output_char_length,\n",
        "                                    name=\"char-level-vectorizer\")"
      ],
      "metadata": {
        "id": "6apJ-7hsj_TY"
      },
      "execution_count": null,
      "outputs": []
    },
    {
      "cell_type": "code",
      "source": [
        "# Adapt the vectorizer\n",
        "char_vectorizer.adapt(train_chars)\n"
      ],
      "metadata": {
        "id": "A8hA8USNkSqY"
      },
      "execution_count": null,
      "outputs": []
    },
    {
      "cell_type": "code",
      "source": [
        "# Understandig the vocab of the vectorizer\n",
        "char_vocab = char_vectorizer.get_vocabulary()\n",
        "print(f\"Num of Different words: {len(char_vocab)}\")\n",
        "print(f\"5 most common: {char_vocab[:5]}\")\n",
        "print(f\"5 least common: {char_vocab[-5:]}\")"
      ],
      "metadata": {
        "colab": {
          "base_uri": "https://localhost:8080/"
        },
        "id": "_cAkevK-kf36",
        "outputId": "2d21ed1b-bfa1-4897-fdce-ae7c79d970aa"
      },
      "execution_count": null,
      "outputs": [
        {
          "output_type": "stream",
          "name": "stdout",
          "text": [
            "Num of Different words: 28\n",
            "5 most common: ['', '[UNK]', 'e', 't', 'i']\n",
            "5 least common: ['k', 'x', 'z', 'q', 'j']\n"
          ]
        }
      ]
    },
    {
      "cell_type": "code",
      "source": [
        "# Test the vectorizer\n",
        "\n",
        "random_train_chars = random.choice(train_chars)\n",
        "\n",
        "print(f\"Text:\\n{random_train_chars}\\nLength: {len(random_train_chars.split())}\")\n",
        "print(f\"________\\n vectorized chars:\\n{char_vectorizer([random_train_chars])}\\n\\n Length: {len(char_vectorizer([random_train_chars])[0])}\")\n"
      ],
      "metadata": {
        "colab": {
          "base_uri": "https://localhost:8080/"
        },
        "id": "1CkIv47UlP5s",
        "outputId": "01441a14-956e-4ce0-d498-5fbed99b6700"
      },
      "execution_count": null,
      "outputs": [
        {
          "output_type": "stream",
          "name": "stdout",
          "text": [
            "Text:\n",
            "t h e   i n t e r v e n t i o n   r e d u c e d   t h e   p r o p o r t i o n   o f   v i s i t s   w i t h   b v   c o m p a r e d   t o   p l a c e b o   (   @   %   v s   @   %   ;   r e l a t i v e   r i s k   - l s b -   r r   - r s b -   @   ,   @   %   c o n f i d e n c e   i n t e r v a l   - l s b -   c i   - r s b -   @   - @   )   .\n",
            "Length: 137\n",
            "________\n",
            " vectorized chars:\n",
            "[[ 3 13  2  4  6  3  2  8 21  2  6  3  4  7  6  8  2 10 16 11  2 10  3 13\n",
            "   2 14  8  7 14  7  8  3  4  7  6  7 17 21  4  9  4  3  9 20  4  3 13 22\n",
            "  21 11  7 15 14  5  8  2 10  3  7 14 12  5 11  2 22  7 21  9  8  2 12  5\n",
            "   3  4 21  2  8  4  9 23 12  9 22  8  8  8  9 22 11  7  6 17  4 10  2  6\n",
            "  11  2  4  6  3  2  8 21  5 12 12  9 22 11  4  8  9 22  0  0  0  0  0  0\n",
            "   0  0  0  0  0  0  0  0  0  0  0  0  0  0  0  0  0  0  0  0  0  0  0  0\n",
            "   0  0  0  0  0  0  0  0  0  0  0  0  0  0  0  0  0  0  0  0  0  0  0  0\n",
            "   0  0  0  0  0  0  0  0  0  0  0  0  0  0  0  0  0  0  0  0  0  0  0  0\n",
            "   0  0  0  0  0  0  0  0  0  0  0  0  0  0  0  0  0  0  0  0  0  0  0  0\n",
            "   0  0  0  0  0  0  0  0  0  0  0  0  0  0  0  0  0  0  0  0  0  0  0  0\n",
            "   0  0  0  0  0  0  0  0  0  0  0  0  0  0  0  0  0  0  0  0  0  0  0  0\n",
            "   0  0  0  0  0  0  0  0  0  0  0  0  0  0  0  0  0  0  0  0  0  0  0  0\n",
            "   0  0]]\n",
            "\n",
            " Length: 290\n"
          ]
        }
      ]
    },
    {
      "cell_type": "markdown",
      "source": [
        "### Creating char level embedding layer"
      ],
      "metadata": {
        "id": "C5bT9NjzmTsN"
      }
    },
    {
      "cell_type": "code",
      "source": [
        "from tensorflow.keras.layers import Embedding\n",
        "\n",
        "char_embedding = Embedding(input_dim=len(char_vocab),\n",
        "                           output_dim=25,\n",
        "                           mask_zero=True,\n",
        "                           input_length=output_char_length)"
      ],
      "metadata": {
        "id": "s2HD591_mXOc"
      },
      "execution_count": null,
      "outputs": []
    },
    {
      "cell_type": "code",
      "source": [
        "# Test the embedding layer\n",
        "\n",
        "random_train_chars = random.choice(train_chars)\n",
        "\n",
        "print(f\"Text:\\n{random_train_chars}\\nLength: {len(random_train_chars.split())}\")\n",
        "print(f\"________\\n vectorized chars:\\n{char_vectorizer([random_train_chars])}\\n\\n Length: {len(char_vectorizer([random_train_chars])[0])}\")\n",
        "print(f\"________\\n Embedded chars: {char_embedding(char_vectorizer([random_train_chars]))}\\n\\n shape: {char_embedding(char_vectorizer([random_train_chars])).shape}\")"
      ],
      "metadata": {
        "colab": {
          "base_uri": "https://localhost:8080/"
        },
        "id": "RxxB070Um918",
        "outputId": "1cc4a0bb-d9ad-4b3f-d0a9-179f06442aec"
      },
      "execution_count": null,
      "outputs": [
        {
          "output_type": "stream",
          "name": "stdout",
          "text": [
            "Text:\n",
            "o u r   f i n d i n g s   m a y   h e l p   e x p l a i n   t h e   e f f i c a c y   o f   n t x   t o   r e d u c e   h e a v y   d r i n k i n g   ,   b u t   n o t   t o   m a i n t a i n   a b s t i n e n c e   .\n",
            "Length: 90\n",
            "________\n",
            " vectorized chars:\n",
            "[[ 7 16  8 17  4  6 10  4  6 18  9 15  5 19 13  2 12 14  2 24 14 12  5  4\n",
            "   6  3 13  2  2 17 17  4 11  5 11 19  7 17  6  3 24  3  7  8  2 10 16 11\n",
            "   2 13  2  5 21 19 10  8  4  6 23  4  6 18 22 16  3  6  7  3  3  7 15  5\n",
            "   4  6  3  5  4  6  5 22  9  3  4  6  2  6 11  2  0  0  0  0  0  0  0  0\n",
            "   0  0  0  0  0  0  0  0  0  0  0  0  0  0  0  0  0  0  0  0  0  0  0  0\n",
            "   0  0  0  0  0  0  0  0  0  0  0  0  0  0  0  0  0  0  0  0  0  0  0  0\n",
            "   0  0  0  0  0  0  0  0  0  0  0  0  0  0  0  0  0  0  0  0  0  0  0  0\n",
            "   0  0  0  0  0  0  0  0  0  0  0  0  0  0  0  0  0  0  0  0  0  0  0  0\n",
            "   0  0  0  0  0  0  0  0  0  0  0  0  0  0  0  0  0  0  0  0  0  0  0  0\n",
            "   0  0  0  0  0  0  0  0  0  0  0  0  0  0  0  0  0  0  0  0  0  0  0  0\n",
            "   0  0  0  0  0  0  0  0  0  0  0  0  0  0  0  0  0  0  0  0  0  0  0  0\n",
            "   0  0  0  0  0  0  0  0  0  0  0  0  0  0  0  0  0  0  0  0  0  0  0  0\n",
            "   0  0]]\n",
            "\n",
            " Length: 290\n",
            "________\n",
            " Embedded chars: [[[ 0.01206386  0.04689762  0.01558595 ...  0.00792991 -0.04518415\n",
            "   -0.04523664]\n",
            "  [-0.02402657 -0.02891947 -0.00909505 ... -0.03836613  0.02546848\n",
            "    0.01931984]\n",
            "  [-0.03519318  0.03974183  0.00725471 ... -0.01260092 -0.03649877\n",
            "   -0.01065392]\n",
            "  ...\n",
            "  [ 0.04732777  0.00327687  0.03087663 ...  0.02710405  0.0495906\n",
            "   -0.02494317]\n",
            "  [ 0.04732777  0.00327687  0.03087663 ...  0.02710405  0.0495906\n",
            "   -0.02494317]\n",
            "  [ 0.04732777  0.00327687  0.03087663 ...  0.02710405  0.0495906\n",
            "   -0.02494317]]]\n",
            "\n",
            " shape: (1, 290, 25)\n"
          ]
        }
      ]
    },
    {
      "cell_type": "markdown",
      "source": [
        "### Building the model:"
      ],
      "metadata": {
        "id": "QxgylaTPoBH3"
      }
    },
    {
      "cell_type": "code",
      "source": [
        "from tensorflow.keras import layers\n",
        "\n",
        "inputs = layers.Input(shape=(1,), dtype=tf.string)\n",
        "\n",
        "x = char_vectorizer(inputs)\n",
        "x = char_embedding(x)\n",
        "x = layers.Conv1D(64, kernel_size=5, padding=\"same\", activation=\"relu\")(x)\n",
        "x = layers.GlobalMaxPool1D()(x)\n",
        "\n",
        "outputs = layers.Dense(len(class_names), activation=\"softmax\")(x)\n",
        "\n",
        "model_3 = tf.keras.Model(inputs, outputs, name=\"model_3\")\n",
        "\n",
        "model_3.compile(loss=\"categorical_crossentropy\",\n",
        "                optimizer=\"Adam\",\n",
        "                metrics=[\"accuracy\"])"
      ],
      "metadata": {
        "id": "H77gNkTloFG2"
      },
      "execution_count": null,
      "outputs": []
    },
    {
      "cell_type": "code",
      "source": [
        "model_3.summary()"
      ],
      "metadata": {
        "colab": {
          "base_uri": "https://localhost:8080/"
        },
        "id": "5BqgXZ92o46l",
        "outputId": "c1e7fa2e-4a44-42c8-9b3c-8c867fbf14f1"
      },
      "execution_count": null,
      "outputs": [
        {
          "output_type": "stream",
          "name": "stdout",
          "text": [
            "Model: \"model_3\"\n",
            "_________________________________________________________________\n",
            " Layer (type)                Output Shape              Param #   \n",
            "=================================================================\n",
            " input_3 (InputLayer)        [(None, 1)]               0         \n",
            "                                                                 \n",
            " char-level-vectorizer (Text  (None, 290)              0         \n",
            " Vectorization)                                                  \n",
            "                                                                 \n",
            " embedding_1 (Embedding)     (None, 290, 25)           700       \n",
            "                                                                 \n",
            " conv1d_1 (Conv1D)           (None, 290, 64)           8064      \n",
            "                                                                 \n",
            " global_max_pooling1d (Globa  (None, 64)               0         \n",
            " lMaxPooling1D)                                                  \n",
            "                                                                 \n",
            " dense_3 (Dense)             (None, 5)                 325       \n",
            "                                                                 \n",
            "=================================================================\n",
            "Total params: 9,089\n",
            "Trainable params: 9,089\n",
            "Non-trainable params: 0\n",
            "_________________________________________________________________\n"
          ]
        }
      ]
    },
    {
      "cell_type": "code",
      "source": [
        "# Creating dataset of chars data for better preformance\n",
        "\n",
        "train_char_dataset = tf.data.Dataset.from_tensor_slices((train_chars, train_labels_one_hot)).batch(32).prefetch(tf.data.AUTOTUNE)\n",
        "val_char_dataset = tf.data.Dataset.from_tensor_slices((val_chars, val_labels_one_hot)).batch(32).prefetch(tf.data.AUTOTUNE)\n",
        "test_char_dataset = tf.data.Dataset.from_tensor_slices((test_chars, test_labels_one_hot)).batch(32).prefetch(tf.data.AUTOTUNE)\n",
        "\n",
        "train_char_dataset"
      ],
      "metadata": {
        "colab": {
          "base_uri": "https://localhost:8080/"
        },
        "id": "HyF7h06Zo6RO",
        "outputId": "d4177d5c-af88-4ecd-ffcf-166be71958b0"
      },
      "execution_count": null,
      "outputs": [
        {
          "output_type": "execute_result",
          "data": {
            "text/plain": [
              "<PrefetchDataset element_spec=(TensorSpec(shape=(None,), dtype=tf.string, name=None), TensorSpec(shape=(None, 5), dtype=tf.float64, name=None))>"
            ]
          },
          "metadata": {},
          "execution_count": 78
        }
      ]
    },
    {
      "cell_type": "code",
      "source": [
        "# Fit the model\n",
        "\n",
        "model_3_history = model_3.fit(train_char_dataset,\n",
        "                              steps_per_epoch=int(0.1*len(train_char_dataset)),\n",
        "                              epochs=3,\n",
        "                              validation_data=val_char_dataset,\n",
        "                              validation_steps=int(0.1*len(val_char_dataset)),\n",
        "                              callbacks=[create_tensorboard_callback(SAVE_DIR, \"model_3_char_embedding_with_maxPool\")])"
      ],
      "metadata": {
        "colab": {
          "base_uri": "https://localhost:8080/"
        },
        "id": "jgovPXoTpk5O",
        "outputId": "40b05e30-5c5c-4937-ec87-a414342fc2ad"
      },
      "execution_count": null,
      "outputs": [
        {
          "output_type": "stream",
          "name": "stdout",
          "text": [
            "Saving TensorBoard log files to: models_logs/model_3_char_embedding_with_maxPool/20230125-165116\n",
            "Epoch 1/3\n",
            "562/562 [==============================] - 4s 6ms/step - loss: 1.2539 - accuracy: 0.4914 - val_loss: 1.0514 - val_accuracy: 0.5861\n",
            "Epoch 2/3\n",
            "562/562 [==============================] - 3s 5ms/step - loss: 1.0154 - accuracy: 0.5935 - val_loss: 0.9572 - val_accuracy: 0.6193\n",
            "Epoch 3/3\n",
            "562/562 [==============================] - 3s 5ms/step - loss: 0.9328 - accuracy: 0.6345 - val_loss: 0.8824 - val_accuracy: 0.6616\n"
          ]
        }
      ]
    },
    {
      "cell_type": "code",
      "source": [
        "model_3_pred_probs = model_3.predict(val_char_dataset)\n",
        "model_3_prebs = tf.argmax(model_3_pred_probs, axis=1)\n",
        "model_3_prebs"
      ],
      "metadata": {
        "colab": {
          "base_uri": "https://localhost:8080/"
        },
        "id": "xypz_VF5qxSK",
        "outputId": "bb39f7d1-9977-4179-8c51-be2437be7274"
      },
      "execution_count": null,
      "outputs": [
        {
          "output_type": "stream",
          "name": "stdout",
          "text": [
            "945/945 [==============================] - 2s 3ms/step\n"
          ]
        },
        {
          "output_type": "execute_result",
          "data": {
            "text/plain": [
              "<tf.Tensor: shape=(30212,), dtype=int64, numpy=array([1, 1, 2, ..., 4, 4, 1])>"
            ]
          },
          "metadata": {},
          "execution_count": 80
        }
      ]
    },
    {
      "cell_type": "code",
      "source": [
        "model_3_results = evaluation_dictonary(val_labels, model_3_prebs)\n",
        "model_3_results"
      ],
      "metadata": {
        "colab": {
          "base_uri": "https://localhost:8080/"
        },
        "id": "sxB8ARyhrM_u",
        "outputId": "09bd0810-9f69-4ba3-d0c3-c6795c5c8e79"
      },
      "execution_count": null,
      "outputs": [
        {
          "output_type": "execute_result",
          "data": {
            "text/plain": [
              "{'accuracy': 0.6509665033761419,\n",
              " 'precision': 0.6398861523255913,\n",
              " 'recall': 0.6509665033761419,\n",
              " 'f1_score': 0.6384685945437741}"
            ]
          },
          "metadata": {},
          "execution_count": 81
        }
      ]
    },
    {
      "cell_type": "code",
      "source": [
        "base_line_results"
      ],
      "metadata": {
        "colab": {
          "base_uri": "https://localhost:8080/"
        },
        "id": "kq82qfJLrfrF",
        "outputId": "c4e7f9e7-6b83-4859-f11d-35669aadd152"
      },
      "execution_count": null,
      "outputs": [
        {
          "output_type": "execute_result",
          "data": {
            "text/plain": [
              "{'accuracy': 0.7218323844829869,\n",
              " 'precision': 0.7186466952323352,\n",
              " 'recall': 0.7218323844829869,\n",
              " 'f1_score': 0.6989250353450294}"
            ]
          },
          "metadata": {},
          "execution_count": 82
        }
      ]
    },
    {
      "cell_type": "markdown",
      "source": [
        "## Model 4: char embedding + token embedding"
      ],
      "metadata": {
        "id": "MKL3tk8sCZSe"
      }
    },
    {
      "cell_type": "code",
      "source": [
        "#Creating a token inputs model\n",
        "token_inputs = layers.Input(shape=[], dtype=tf.string, name=\"token_input\")\n",
        "token_embedding = embedding_layer_pretrained(token_inputs)\n",
        "token_outputs = layers.Dense(128, activation=\"relu\", name=\"token_output\")(token_embedding)\n",
        "token_model = tf.keras.Model(token_inputs, token_outputs, name=\"token_model\")\n",
        "\n",
        "#Creating char inputs model\n",
        "char_inputs = layers.Input(shape=(1,), dtype=tf.string, name=\"char_input\")\n",
        "char_vector = char_vectorizer(char_inputs)\n",
        "char_embed_layer = char_embedding(char_vector)\n",
        "char_bi_lstm = layers.Bidirectional(layers.LSTM(24))(char_embed_layer)\n",
        "char_model = tf.keras.Model(char_inputs, char_bi_lstm)\n",
        "\n",
        "# Concatonating the 2 outputs\n",
        "token_char_concat = layers.Concatenate()([token_model.output,\n",
        "                                          char_model.output])\n",
        "\n",
        "# Creating the model output layer\n",
        "combained_dropout = layers.Dropout(0.5)(token_char_concat)\n",
        "combained_dense = layers.Dense(128, activation=\"relu\")(combained_dropout)\n",
        "final_dropout = layers.Dropout(0.5)(combained_dense)\n",
        "outputs = layers.Dense(len(class_names), activation=\"softmax\")(final_dropout)\n",
        "\n",
        "# Creating the whole model\n",
        "model_4 = tf.keras.Model([token_inputs, char_inputs], outputs)\n"
      ],
      "metadata": {
        "id": "0lf2cRGbCfck"
      },
      "execution_count": null,
      "outputs": []
    },
    {
      "cell_type": "code",
      "source": [
        "model_4.summary()"
      ],
      "metadata": {
        "colab": {
          "base_uri": "https://localhost:8080/"
        },
        "id": "lSLxFx8ZHnbz",
        "outputId": "28811ed2-c969-4dac-ad81-d727e67148e2"
      },
      "execution_count": null,
      "outputs": [
        {
          "output_type": "stream",
          "name": "stdout",
          "text": [
            "Model: \"model_3\"\n",
            "__________________________________________________________________________________________________\n",
            " Layer (type)                   Output Shape         Param #     Connected to                     \n",
            "==================================================================================================\n",
            " char_input (InputLayer)        [(None, 1)]          0           []                               \n",
            "                                                                                                  \n",
            " token_input (InputLayer)       [(None,)]            0           []                               \n",
            "                                                                                                  \n",
            " char-level-vectorizer (TextVec  (None, 290)         0           ['char_input[0][0]']             \n",
            " torization)                                                                                      \n",
            "                                                                                                  \n",
            " USE (KerasLayer)               (None, 512)          256797824   ['token_input[0][0]']            \n",
            "                                                                                                  \n",
            " embedding_1 (Embedding)        (None, 290, 25)      700         ['char-level-vectorizer[1][0]']  \n",
            "                                                                                                  \n",
            " token_output (Dense)           (None, 128)          65664       ['USE[1][0]']                    \n",
            "                                                                                                  \n",
            " bidirectional (Bidirectional)  (None, 48)           9600        ['embedding_1[1][0]']            \n",
            "                                                                                                  \n",
            " concatenate (Concatenate)      (None, 176)          0           ['token_output[0][0]',           \n",
            "                                                                  'bidirectional[0][0]']          \n",
            "                                                                                                  \n",
            " dropout (Dropout)              (None, 176)          0           ['concatenate[0][0]']            \n",
            "                                                                                                  \n",
            " dense_4 (Dense)                (None, 128)          22656       ['dropout[0][0]']                \n",
            "                                                                                                  \n",
            " dropout_1 (Dropout)            (None, 128)          0           ['dense_4[0][0]']                \n",
            "                                                                                                  \n",
            " dense_5 (Dense)                (None, 5)            645         ['dropout_1[0][0]']              \n",
            "                                                                                                  \n",
            "==================================================================================================\n",
            "Total params: 256,897,089\n",
            "Trainable params: 99,265\n",
            "Non-trainable params: 256,797,824\n",
            "__________________________________________________________________________________________________\n"
          ]
        }
      ]
    },
    {
      "cell_type": "code",
      "source": [
        "# Plot the model 4\n",
        "from keras.utils import plot_model\n",
        "\n",
        "plot_model(model_4, show_shapes=True)"
      ],
      "metadata": {
        "colab": {
          "base_uri": "https://localhost:8080/",
          "height": 976
        },
        "id": "ssncQuzdHvNw",
        "outputId": "39237e91-7c02-430f-ab01-0fc257bd3f4e"
      },
      "execution_count": null,
      "outputs": [
        {
          "output_type": "execute_result",
          "data": {
            "image/png": "[encoded data removed]",
            "text/plain": [
              "<IPython.core.display.Image object>"
            ]
          },
          "metadata": {},
          "execution_count": 85
        }
      ]
    },
    {
      "cell_type": "code",
      "source": [
        "# Compile the model\n",
        "model_4.compile(loss=\"categorical_crossentropy\",\n",
        "                optimizer=\"Adam\",\n",
        "                metrics=[\"accuracy\"])"
      ],
      "metadata": {
        "id": "wX19dX-JIXeg"
      },
      "execution_count": null,
      "outputs": []
    },
    {
      "cell_type": "code",
      "source": [
        "# Function to prepare the datasets\n",
        "\n",
        "def prepare_char_token_dataset(token_input, char_input, labels):\n",
        "\n",
        "  char_token_data = tf.data.Dataset.from_tensor_slices((token_input, char_input))\n",
        "  char_token_labels = tf.data.Dataset.from_tensor_slices(labels)\n",
        "\n",
        "  return tf.data.Dataset.zip((char_token_data, char_token_labels)).batch(32).prefetch(tf.data.AUTOTUNE)"
      ],
      "metadata": {
        "id": "5uw6dMeCK06I"
      },
      "execution_count": null,
      "outputs": []
    },
    {
      "cell_type": "code",
      "source": [
        "# Creating the datasets\n",
        "\n",
        "train_char_token_dataset = prepare_char_token_dataset(train_sentences, train_chars, train_labels_one_hot)\n",
        "val_char_token_dataset = prepare_char_token_dataset(val_sentences, val_chars, val_labels_one_hot)\n",
        "test_char_token_dataset = prepare_char_token_dataset(test_sentences, test_chars, test_labels_one_hot)\n",
        "\n",
        "train_char_token_dataset, val_char_token_dataset"
      ],
      "metadata": {
        "colab": {
          "base_uri": "https://localhost:8080/"
        },
        "id": "lucg3zQQLe6t",
        "outputId": "dfc867f1-617e-4a08-a834-d7f908b1694a"
      },
      "execution_count": null,
      "outputs": [
        {
          "output_type": "execute_result",
          "data": {
            "text/plain": [
              "(<PrefetchDataset element_spec=((TensorSpec(shape=(None,), dtype=tf.string, name=None), TensorSpec(shape=(None,), dtype=tf.string, name=None)), TensorSpec(shape=(None, 5), dtype=tf.float64, name=None))>,\n",
              " <PrefetchDataset element_spec=((TensorSpec(shape=(None,), dtype=tf.string, name=None), TensorSpec(shape=(None,), dtype=tf.string, name=None)), TensorSpec(shape=(None, 5), dtype=tf.float64, name=None))>)"
            ]
          },
          "metadata": {},
          "execution_count": 88
        }
      ]
    },
    {
      "cell_type": "code",
      "source": [
        "# Trainning the model\n",
        "\n",
        "model_4_history = model_4.fit(train_char_token_dataset,\n",
        "                              epochs=3,\n",
        "                              steps_per_epoch=int(0.1*len(train_char_token_dataset)),\n",
        "                              validation_data=val_char_token_dataset,\n",
        "                              validation_steps=int(0.1*len(val_char_token_dataset)),\n",
        "                              callbacks=[create_tensorboard_callback(SAVE_DIR,\n",
        "                                                                     \"model_4_combained_char_token\")])"
      ],
      "metadata": {
        "colab": {
          "base_uri": "https://localhost:8080/"
        },
        "id": "MxfSxFxMMGTE",
        "outputId": "c067c4fe-7737-43b3-b69b-f71fc31589d9"
      },
      "execution_count": null,
      "outputs": [
        {
          "output_type": "stream",
          "name": "stdout",
          "text": [
            "Saving TensorBoard log files to: models_logs/model_4_combained_char_token/20230125-165134\n",
            "Epoch 1/3\n",
            "562/562 [==============================] - 39s 55ms/step - loss: 0.9810 - accuracy: 0.6103 - val_loss: 0.7848 - val_accuracy: 0.6965\n",
            "Epoch 2/3\n",
            "562/562 [==============================] - 29s 52ms/step - loss: 0.8056 - accuracy: 0.6926 - val_loss: 0.7189 - val_accuracy: 0.7237\n",
            "Epoch 3/3\n",
            "562/562 [==============================] - 26s 47ms/step - loss: 0.7792 - accuracy: 0.7033 - val_loss: 0.6953 - val_accuracy: 0.7380\n"
          ]
        }
      ]
    },
    {
      "cell_type": "code",
      "source": [
        "model_4_preds = tf.argmax(model_4.predict(val_char_token_dataset), axis=1)\n",
        "model_4_preds[:5]"
      ],
      "metadata": {
        "colab": {
          "base_uri": "https://localhost:8080/"
        },
        "id": "-qUDwbb-Moiu",
        "outputId": "353fb4da-bf3a-42d2-b3b6-4950a705663e"
      },
      "execution_count": null,
      "outputs": [
        {
          "output_type": "stream",
          "name": "stdout",
          "text": [
            "945/945 [==============================] - 24s 22ms/step\n"
          ]
        },
        {
          "output_type": "execute_result",
          "data": {
            "text/plain": [
              "<tf.Tensor: shape=(5,), dtype=int64, numpy=array([0, 1, 3, 2, 2])>"
            ]
          },
          "metadata": {},
          "execution_count": 90
        }
      ]
    },
    {
      "cell_type": "code",
      "source": [
        "model_4_results = evaluation_dictonary(val_labels, model_4_preds)\n",
        "model_4_results"
      ],
      "metadata": {
        "colab": {
          "base_uri": "https://localhost:8080/"
        },
        "id": "LKSYJG1dM1hP",
        "outputId": "9ed45a11-065e-44a3-b1ca-66f71c6a179a"
      },
      "execution_count": null,
      "outputs": [
        {
          "output_type": "execute_result",
          "data": {
            "text/plain": [
              "{'accuracy': 0.7339798755461406,\n",
              " 'precision': 0.7330721271516287,\n",
              " 'recall': 0.7339798755461406,\n",
              " 'f1_score': 0.7306537493121097}"
            ]
          },
          "metadata": {},
          "execution_count": 91
        }
      ]
    },
    {
      "cell_type": "code",
      "source": [
        "base_line_results"
      ],
      "metadata": {
        "colab": {
          "base_uri": "https://localhost:8080/"
        },
        "id": "Jp6nPmeuM8Qw",
        "outputId": "6f405597-1cb2-40a8-f1df-ca403ee63660"
      },
      "execution_count": null,
      "outputs": [
        {
          "output_type": "execute_result",
          "data": {
            "text/plain": [
              "{'accuracy': 0.7218323844829869,\n",
              " 'precision': 0.7186466952323352,\n",
              " 'recall': 0.7218323844829869,\n",
              " 'f1_score': 0.6989250353450294}"
            ]
          },
          "metadata": {},
          "execution_count": 92
        }
      ]
    },
    {
      "cell_type": "markdown",
      "source": [
        "## Model 5: adding the posittional embedding\n",
        "\n",
        "same as model 4 but with posittional embedding"
      ],
      "metadata": {
        "id": "dN-37PvzP02I"
      }
    },
    {
      "cell_type": "code",
      "source": [
        "# Creating one hot encoding to the sentences line number\n",
        "train_df[\"line_number\"].value_counts()"
      ],
      "metadata": {
        "colab": {
          "base_uri": "https://localhost:8080/"
        },
        "id": "hEIGgPfOQVzE",
        "outputId": "05f500db-4a89-439b-caca-2d6b0fecac1b"
      },
      "execution_count": null,
      "outputs": [
        {
          "output_type": "execute_result",
          "data": {
            "text/plain": [
              "0     15000\n",
              "1     15000\n",
              "2     15000\n",
              "3     15000\n",
              "4     14992\n",
              "5     14949\n",
              "6     14758\n",
              "7     14279\n",
              "8     13346\n",
              "9     11981\n",
              "10    10041\n",
              "11     7892\n",
              "12     5853\n",
              "13     4152\n",
              "14     2835\n",
              "15     1861\n",
              "16     1188\n",
              "17      751\n",
              "18      462\n",
              "19      286\n",
              "20      162\n",
              "21      101\n",
              "22       66\n",
              "23       33\n",
              "24       22\n",
              "25       14\n",
              "26        7\n",
              "27        4\n",
              "28        3\n",
              "29        1\n",
              "30        1\n",
              "Name: line_number, dtype: int64"
            ]
          },
          "metadata": {},
          "execution_count": 93
        }
      ]
    },
    {
      "cell_type": "code",
      "source": [
        "plt.hist(train_df[\"line_number\"], bins=7)"
      ],
      "metadata": {
        "colab": {
          "base_uri": "https://localhost:8080/",
          "height": 352
        },
        "id": "3kdO3ts0SbOw",
        "outputId": "4e6670d6-8895-422c-872d-f81ef779a09b"
      },
      "execution_count": null,
      "outputs": [
        {
          "output_type": "execute_result",
          "data": {
            "text/plain": [
              "(array([7.4992e+04, 5.7332e+04, 3.5767e+04, 1.0787e+04, 1.0110e+03,\n",
              "        1.3500e+02, 1.6000e+01]),\n",
              " array([ 0.        ,  4.28571429,  8.57142857, 12.85714286, 17.14285714,\n",
              "        21.42857143, 25.71428571, 30.        ]),\n",
              " <a list of 7 Patch objects>)"
            ]
          },
          "metadata": {},
          "execution_count": 94
        },
        {
          "output_type": "display_data",
          "data": {
            "text/plain": [
              "<Figure size 432x288 with 1 Axes>"
            ],
            "image/png": "[encoded data removed]"
          },
          "metadata": {
            "needs_background": "light"
          }
        }
      ]
    },
    {
      "cell_type": "code",
      "source": [
        "np.percentile(train_df[\"line_number\"], 95)"
      ],
      "metadata": {
        "colab": {
          "base_uri": "https://localhost:8080/"
        },
        "id": "OB2NEcYuSj15",
        "outputId": "fc11056c-ad47-4377-e60c-3fd6412d060f"
      },
      "execution_count": null,
      "outputs": [
        {
          "output_type": "execute_result",
          "data": {
            "text/plain": [
              "13.0"
            ]
          },
          "metadata": {},
          "execution_count": 95
        }
      ]
    },
    {
      "cell_type": "code",
      "source": [
        "# Creating the one hot encoding, 15 as the one hot vector length due to the 95 percentile output\n",
        "train_line_number_one_hot = tf.one_hot(train_df[\"line_number\"].to_numpy(), depth=15)\n",
        "val_line_number_one_hot = tf.one_hot(val_df[\"line_number\"].to_numpy(), depth=15)\n",
        "test_line_number_one_hot = tf.one_hot(test_df[\"line_number\"].to_numpy(), depth=15)\n",
        "\n",
        "train_line_number_one_hot[:10]"
      ],
      "metadata": {
        "colab": {
          "base_uri": "https://localhost:8080/"
        },
        "id": "v76WnU62SOgV",
        "outputId": "ef1b9f68-6dc0-448f-fc76-cacdd4c66d57"
      },
      "execution_count": null,
      "outputs": [
        {
          "output_type": "execute_result",
          "data": {
            "text/plain": [
              "<tf.Tensor: shape=(10, 15), dtype=float32, numpy=\n",
              "array([[1., 0., 0., 0., 0., 0., 0., 0., 0., 0., 0., 0., 0., 0., 0.],\n",
              "       [0., 1., 0., 0., 0., 0., 0., 0., 0., 0., 0., 0., 0., 0., 0.],\n",
              "       [0., 0., 1., 0., 0., 0., 0., 0., 0., 0., 0., 0., 0., 0., 0.],\n",
              "       [0., 0., 0., 1., 0., 0., 0., 0., 0., 0., 0., 0., 0., 0., 0.],\n",
              "       [0., 0., 0., 0., 1., 0., 0., 0., 0., 0., 0., 0., 0., 0., 0.],\n",
              "       [0., 0., 0., 0., 0., 1., 0., 0., 0., 0., 0., 0., 0., 0., 0.],\n",
              "       [0., 0., 0., 0., 0., 0., 1., 0., 0., 0., 0., 0., 0., 0., 0.],\n",
              "       [0., 0., 0., 0., 0., 0., 0., 1., 0., 0., 0., 0., 0., 0., 0.],\n",
              "       [0., 0., 0., 0., 0., 0., 0., 0., 1., 0., 0., 0., 0., 0., 0.],\n",
              "       [0., 0., 0., 0., 0., 0., 0., 0., 0., 1., 0., 0., 0., 0., 0.]],\n",
              "      dtype=float32)>"
            ]
          },
          "metadata": {},
          "execution_count": 96
        }
      ]
    },
    {
      "cell_type": "code",
      "source": [
        "# Doing the same for total_lines\n",
        "train_df[\"total_lines\"].value_counts()"
      ],
      "metadata": {
        "colab": {
          "base_uri": "https://localhost:8080/"
        },
        "id": "oQiE5UPRS-t3",
        "outputId": "81d4300d-222f-45b8-a6d5-281edadbc667"
      },
      "execution_count": null,
      "outputs": [
        {
          "output_type": "execute_result",
          "data": {
            "text/plain": [
              "11    24468\n",
              "10    23639\n",
              "12    22113\n",
              "9     19400\n",
              "13    18438\n",
              "14    14610\n",
              "8     12285\n",
              "15    10768\n",
              "7      7464\n",
              "16     7429\n",
              "17     5202\n",
              "6      3353\n",
              "18     3344\n",
              "19     2480\n",
              "20     1281\n",
              "5      1146\n",
              "21      770\n",
              "22      759\n",
              "23      264\n",
              "4       215\n",
              "24      200\n",
              "25      182\n",
              "26       81\n",
              "28       58\n",
              "3        32\n",
              "30       31\n",
              "27       28\n",
              "Name: total_lines, dtype: int64"
            ]
          },
          "metadata": {},
          "execution_count": 97
        }
      ]
    },
    {
      "cell_type": "code",
      "source": [
        "plt.hist(train_df[\"total_lines\"], bins=7)"
      ],
      "metadata": {
        "colab": {
          "base_uri": "https://localhost:8080/",
          "height": 334
        },
        "id": "nTUVLBCETHxk",
        "outputId": "992982f5-f72b-42b9-ea35-1eccc1e60a98"
      },
      "execution_count": null,
      "outputs": [
        {
          "output_type": "execute_result",
          "data": {
            "text/plain": [
              "(array([ 4746., 62788., 79629., 26743.,  5290.,   727.,   117.]),\n",
              " array([ 3.        ,  6.85714286, 10.71428571, 14.57142857, 18.42857143,\n",
              "        22.28571429, 26.14285714, 30.        ]),\n",
              " <a list of 7 Patch objects>)"
            ]
          },
          "metadata": {},
          "execution_count": 98
        },
        {
          "output_type": "display_data",
          "data": {
            "text/plain": [
              "<Figure size 432x288 with 1 Axes>"
            ],
            "image/png": "[encoded data removed]"
          },
          "metadata": {
            "needs_background": "light"
          }
        }
      ]
    },
    {
      "cell_type": "code",
      "source": [
        "np.percentile(train_df[\"total_lines\"], 95)"
      ],
      "metadata": {
        "colab": {
          "base_uri": "https://localhost:8080/"
        },
        "id": "YhbIYM2fTP7E",
        "outputId": "d1f55ad0-79d6-4c01-f84f-cbbe1232cee6"
      },
      "execution_count": null,
      "outputs": [
        {
          "output_type": "execute_result",
          "data": {
            "text/plain": [
              "18.0"
            ]
          },
          "metadata": {},
          "execution_count": 99
        }
      ]
    },
    {
      "cell_type": "code",
      "source": [
        "train_total_lines_one_hot = tf.one_hot(train_df[\"total_lines\"].to_numpy(), depth=18)\n",
        "val_total_lines_one_hot = tf.one_hot(val_df[\"total_lines\"].to_numpy(), depth=18)\n",
        "test_total_lines_one_hot = tf.one_hot(test_df[\"total_lines\"].to_numpy(), depth=18)\n",
        "\n",
        "train_total_lines_one_hot[:5]"
      ],
      "metadata": {
        "colab": {
          "base_uri": "https://localhost:8080/"
        },
        "id": "Fzk5NsKNTXbA",
        "outputId": "5cfa3ce7-3ff9-4a16-9a6a-c1be12aae1dd"
      },
      "execution_count": null,
      "outputs": [
        {
          "output_type": "execute_result",
          "data": {
            "text/plain": [
              "<tf.Tensor: shape=(5, 18), dtype=float32, numpy=\n",
              "array([[0., 0., 0., 0., 0., 0., 0., 0., 0., 0., 0., 1., 0., 0., 0., 0.,\n",
              "        0., 0.],\n",
              "       [0., 0., 0., 0., 0., 0., 0., 0., 0., 0., 0., 1., 0., 0., 0., 0.,\n",
              "        0., 0.],\n",
              "       [0., 0., 0., 0., 0., 0., 0., 0., 0., 0., 0., 1., 0., 0., 0., 0.,\n",
              "        0., 0.],\n",
              "       [0., 0., 0., 0., 0., 0., 0., 0., 0., 0., 0., 1., 0., 0., 0., 0.,\n",
              "        0., 0.],\n",
              "       [0., 0., 0., 0., 0., 0., 0., 0., 0., 0., 0., 1., 0., 0., 0., 0.,\n",
              "        0., 0.]], dtype=float32)>"
            ]
          },
          "metadata": {},
          "execution_count": 100
        }
      ]
    },
    {
      "cell_type": "markdown",
      "source": [
        "### Building the model\n",
        "\n",
        "steps:\n",
        "1. Create token-level model\n",
        "2. Create char-level model\n",
        "3. Create model for \"line_number\" \n",
        "4. Create model for \"total_lines\"\n",
        "5. Concatenating the outputs of the token and the char models\n",
        "6. Concatenating the output of the 1 and 2 models with the line_number and total_lines model\n",
        "7. Create an output of all the models to a probability vector\n",
        "8. Creating a model with the inputs and outputs"
      ],
      "metadata": {
        "id": "z75ohFwje2fk"
      }
    },
    {
      "cell_type": "code",
      "source": [
        "from tensorflow.keras import layers\n",
        "\n",
        "# Step 1\n",
        "token_input = layers.Input(shape=[], dtype=tf.string, name=\"Token_Input\")\n",
        "token_embedding = embedding_layer_pretrained(token_input)\n",
        "token_output = layers.Dense(128, activation=\"relu\")(token_embedding)\n",
        "token_model = tf.keras.Model(token_input, token_output)\n",
        "\n",
        "# Step 2\n",
        "char_input = layers.Input(shape=(1,), dtype=tf.string, name=\"Char_Input\")\n",
        "char_vector = char_vectorizer(char_input)\n",
        "char_embed = char_embedding(char_vector)\n",
        "char_output = layers.Bidirectional(layers.LSTM(24))(char_embed)\n",
        "char_model = tf.keras.Model(char_input, char_output)\n",
        "\n",
        "# Step 3\n",
        "line_number_input = layers.Input(shape=(15), name=\"line_number_input\")\n",
        "line_number_x = layers.Dense(32, activation=\"relu\")(line_number_input)\n",
        "line_number_dropout = layers.Dropout(0.5)(line_number_x)\n",
        "line_number_output = layers.Dense(32, activation=\"relu\")(line_number_dropout)\n",
        "line_number_model = tf.keras.Model(line_number_input, line_number_output)\n",
        "\n",
        "# Step 4\n",
        "total_lines_input = layers.Input(shape=(18), name=\"total_lines_input\")\n",
        "total_lines_x = layers.Dense(32, activation=\"relu\")(total_lines_input)\n",
        "total_lines_dropout = layers.Dropout(0.5)(total_lines_x)\n",
        "total_lines_output = layers.Dense(32, activation=\"relu\")(total_lines_dropout)\n",
        "total_lines_model = tf.keras.Model(total_lines_input, total_lines_output)\n",
        "\n",
        "# Step 5\n",
        "token_char_concat = layers.Concatenate(name=\"token_char_concat\")([char_model.output,\n",
        "                                        token_model.output])\n",
        "token_char_dense = layers.Dense(256, activation=\"relu\")(token_char_concat)\n",
        "token_char_dropout = layers.Dropout(0.5)(token_char_dense)\n",
        "\n",
        "# Step 6\n",
        "all_inputs_concat = layers.Concatenate(name=\"all_inputs_concat\")([token_char_dropout,\n",
        "                                      line_number_model.output,\n",
        "                                      total_lines_model.output])\n",
        "\n",
        "# Step 7\n",
        "final_output = layers.Dense(len(class_names), activation=\"softmax\", name=\"Final_Output\")(all_inputs_concat)\n",
        "\n",
        "# Step 8\n",
        "model_5 = tf.keras.Model([token_input, char_input, line_number_input, total_lines_input], final_output)"
      ],
      "metadata": {
        "id": "Y689Qx7Xe7DX"
      },
      "execution_count": null,
      "outputs": []
    },
    {
      "cell_type": "code",
      "source": [
        "model_5.summary()"
      ],
      "metadata": {
        "id": "67Lk2luUjbjR",
        "colab": {
          "base_uri": "https://localhost:8080/"
        },
        "outputId": "c9ce8632-7e1d-4ebb-c0da-5883db5a30ab"
      },
      "execution_count": null,
      "outputs": [
        {
          "output_type": "stream",
          "name": "stdout",
          "text": [
            "Model: \"model_23\"\n",
            "__________________________________________________________________________________________________\n",
            " Layer (type)                   Output Shape         Param #     Connected to                     \n",
            "==================================================================================================\n",
            " Char_Input (InputLayer)        [(None, 1)]          0           []                               \n",
            "                                                                                                  \n",
            " char-level-vectorizer (TextVec  (None, 290)         0           ['Char_Input[0][0]']             \n",
            " torization)                                                                                      \n",
            "                                                                                                  \n",
            " Token_Input (InputLayer)       [(None,)]            0           []                               \n",
            "                                                                                                  \n",
            " embedding_1 (Embedding)        (None, 290, 25)      700         ['char-level-vectorizer[7][0]']  \n",
            "                                                                                                  \n",
            " USE (KerasLayer)               (None, 512)          256797824   ['Token_Input[0][0]']            \n",
            "                                                                                                  \n",
            " bidirectional_3 (Bidirectional  (None, 48)          9600        ['embedding_1[7][0]']            \n",
            " )                                                                                                \n",
            "                                                                                                  \n",
            " dense_25 (Dense)               (None, 128)          65664       ['USE[7][0]']                    \n",
            "                                                                                                  \n",
            " line_number_input (InputLayer)  [(None, 15)]        0           []                               \n",
            "                                                                                                  \n",
            " total_lines_input (InputLayer)  [(None, 18)]        0           []                               \n",
            "                                                                                                  \n",
            " token_char_concat (Concatenate  (None, 176)         0           ['bidirectional_3[0][0]',        \n",
            " )                                                                'dense_25[0][0]']               \n",
            "                                                                                                  \n",
            " dense_26 (Dense)               (None, 32)           512         ['line_number_input[0][0]']      \n",
            "                                                                                                  \n",
            " dense_28 (Dense)               (None, 32)           608         ['total_lines_input[0][0]']      \n",
            "                                                                                                  \n",
            " dense_30 (Dense)               (None, 256)          45312       ['token_char_concat[0][0]']      \n",
            "                                                                                                  \n",
            " dropout_9 (Dropout)            (None, 32)           0           ['dense_26[0][0]']               \n",
            "                                                                                                  \n",
            " dropout_10 (Dropout)           (None, 32)           0           ['dense_28[0][0]']               \n",
            "                                                                                                  \n",
            " dropout_11 (Dropout)           (None, 256)          0           ['dense_30[0][0]']               \n",
            "                                                                                                  \n",
            " dense_27 (Dense)               (None, 32)           1056        ['dropout_9[0][0]']              \n",
            "                                                                                                  \n",
            " dense_29 (Dense)               (None, 32)           1056        ['dropout_10[0][0]']             \n",
            "                                                                                                  \n",
            " all_inputs_concat (Concatenate  (None, 320)         0           ['dropout_11[0][0]',             \n",
            " )                                                                'dense_27[0][0]',               \n",
            "                                                                  'dense_29[0][0]']               \n",
            "                                                                                                  \n",
            " Final_Output (Dense)           (None, 5)            1605        ['all_inputs_concat[0][0]']      \n",
            "                                                                                                  \n",
            "==================================================================================================\n",
            "Total params: 256,923,937\n",
            "Trainable params: 126,113\n",
            "Non-trainable params: 256,797,824\n",
            "__________________________________________________________________________________________________\n"
          ]
        }
      ]
    },
    {
      "cell_type": "code",
      "source": [
        "from keras.utils import plot_model\n",
        "plot_model(model_5)"
      ],
      "metadata": {
        "colab": {
          "base_uri": "https://localhost:8080/",
          "height": 823
        },
        "id": "r7tq77eT4a5W",
        "outputId": "b2275465-5b0c-4ae2-99b2-f86fe9efcdc3"
      },
      "execution_count": null,
      "outputs": [
        {
          "output_type": "execute_result",
          "data": {
            "image/png": "[encoded data removed]",
            "text/plain": [
              "<IPython.core.display.Image object>"
            ]
          },
          "metadata": {},
          "execution_count": 108
        }
      ]
    },
    {
      "cell_type": "code",
      "source": [
        "# Compile the model\n",
        "model_5.compile(loss=tf.keras.losses.CategoricalCrossentropy(label_smoothing=0.2),\n",
        "                optimizer=\"Adam\",\n",
        "                metrics=[\"accuracy\"])"
      ],
      "metadata": {
        "id": "ppzwQlp15RQ6"
      },
      "execution_count": null,
      "outputs": []
    },
    {
      "cell_type": "code",
      "source": [
        "### Creating data pipelines for the multiinput\n",
        "\n",
        "def create_tribrid_datasets(tokens, chars, line_numbers, total_lines, labels_one_hot):\n",
        "\n",
        "  data = tf.data.Dataset.from_tensor_slices((tokens, chars, line_numbers, total_lines))\n",
        "  labels = tf.data.Dataset.from_tensor_slices((labels_one_hot))\n",
        "  dataset = tf.data.Dataset.zip((data, labels)).batch(32).prefetch(tf.data.AUTOTUNE)\n",
        "  return dataset"
      ],
      "metadata": {
        "id": "6CC3qPbB44LO"
      },
      "execution_count": null,
      "outputs": []
    },
    {
      "cell_type": "code",
      "source": [
        "train_tribrid_dataset = create_tribrid_datasets(train_sentences, train_chars, train_line_number_one_hot, train_total_lines_one_hot, train_labels_one_hot)\n",
        "val_tribrid_dataset = create_tribrid_datasets(val_sentences, val_chars, val_line_number_one_hot, val_total_lines_one_hot, val_labels_one_hot)\n",
        "test_tribrid_dataset = create_tribrid_datasets(test_sentences, test_chars, test_line_number_one_hot, test_total_lines_one_hot, test_labels_one_hot)\n",
        "\n",
        "train_tribrid_dataset"
      ],
      "metadata": {
        "colab": {
          "base_uri": "https://localhost:8080/"
        },
        "id": "cWMXtG2B7MVB",
        "outputId": "5f64757f-8835-44e9-a706-d1d0c77fbdeb"
      },
      "execution_count": null,
      "outputs": [
        {
          "output_type": "execute_result",
          "data": {
            "text/plain": [
              "<PrefetchDataset element_spec=((TensorSpec(shape=(None,), dtype=tf.string, name=None), TensorSpec(shape=(None,), dtype=tf.string, name=None), TensorSpec(shape=(None, 15), dtype=tf.float32, name=None), TensorSpec(shape=(None, 18), dtype=tf.float32, name=None)), TensorSpec(shape=(None, 5), dtype=tf.float64, name=None))>"
            ]
          },
          "metadata": {},
          "execution_count": 123
        }
      ]
    },
    {
      "cell_type": "code",
      "source": [
        "# Fitting the model\n",
        "\n",
        "model_5_history = model_5.fit(train_tribrid_dataset,\n",
        "                              epochs=3,\n",
        "                              steps_per_epoch=int(0.1*len(train_tribrid_dataset)),\n",
        "                              validation_data=val_tribrid_dataset,\n",
        "                              validation_steps=int(0.1*len(val_tribrid_dataset)),\n",
        "                              callbacks=[create_tensorboard_callback(SAVE_DIR,\n",
        "                                                                     \"model_5_tribrid_input\")])"
      ],
      "metadata": {
        "colab": {
          "base_uri": "https://localhost:8080/"
        },
        "id": "Axq36pKQ8o0r",
        "outputId": "90c2d065-7e0c-4f94-f18a-09577ab63837"
      },
      "execution_count": null,
      "outputs": [
        {
          "output_type": "stream",
          "name": "stdout",
          "text": [
            "Saving TensorBoard log files to: models_logs/model_5_tribrid_input/20230125-172654\n",
            "Epoch 1/3\n",
            "562/562 [==============================] - 55s 84ms/step - loss: 1.1090 - accuracy: 0.7146 - val_loss: 0.9851 - val_accuracy: 0.8005\n",
            "Epoch 2/3\n",
            "562/562 [==============================] - 40s 72ms/step - loss: 0.9910 - accuracy: 0.8028 - val_loss: 0.9556 - val_accuracy: 0.8255\n",
            "Epoch 3/3\n",
            "562/562 [==============================] - 32s 57ms/step - loss: 0.9717 - accuracy: 0.8104 - val_loss: 0.9407 - val_accuracy: 0.8334\n"
          ]
        }
      ]
    },
    {
      "cell_type": "code",
      "source": [
        "model_5_preds = tf.argmax(model_5.predict(val_tribrid_dataset), axis=1)\n",
        "model_5_preds[:5]"
      ],
      "metadata": {
        "colab": {
          "base_uri": "https://localhost:8080/"
        },
        "id": "bMOjCCOW9D1R",
        "outputId": "82b67a58-6dc4-4bba-ee27-03478b09847c"
      },
      "execution_count": null,
      "outputs": [
        {
          "output_type": "stream",
          "name": "stdout",
          "text": [
            "945/945 [==============================] - 22s 24ms/step\n"
          ]
        },
        {
          "output_type": "execute_result",
          "data": {
            "text/plain": [
              "<tf.Tensor: shape=(5,), dtype=int64, numpy=array([0, 0, 3, 2, 2])>"
            ]
          },
          "metadata": {},
          "execution_count": 131
        }
      ]
    },
    {
      "cell_type": "code",
      "source": [
        "model_5_results = evaluation_dictonary(val_labels, model_5_preds)\n",
        "model_5_results"
      ],
      "metadata": {
        "colab": {
          "base_uri": "https://localhost:8080/"
        },
        "id": "5tVA94bc-M44",
        "outputId": "82ce89fd-c6a8-4cf7-8f24-f963a51799c1"
      },
      "execution_count": null,
      "outputs": [
        {
          "output_type": "execute_result",
          "data": {
            "text/plain": [
              "{'accuracy': 0.8317555938037866,\n",
              " 'precision': 0.8308030958285513,\n",
              " 'recall': 0.8317555938037866,\n",
              " 'f1_score': 0.8308213678461481}"
            ]
          },
          "metadata": {},
          "execution_count": 132
        }
      ]
    },
    {
      "cell_type": "code",
      "source": [
        "base_line_results"
      ],
      "metadata": {
        "colab": {
          "base_uri": "https://localhost:8080/"
        },
        "id": "uyhxuTW7-XSO",
        "outputId": "69b8984d-be68-4c41-b350-9555bcb2bc3b"
      },
      "execution_count": null,
      "outputs": [
        {
          "output_type": "execute_result",
          "data": {
            "text/plain": [
              "{'accuracy': 0.7218323844829869,\n",
              " 'precision': 0.7186466952323352,\n",
              " 'recall': 0.7218323844829869,\n",
              " 'f1_score': 0.6989250353450294}"
            ]
          },
          "metadata": {},
          "execution_count": 133
        }
      ]
    },
    {
      "cell_type": "markdown",
      "source": [
        "# Comparing all models results"
      ],
      "metadata": {
        "id": "kPIdZQnb_UNQ"
      }
    },
    {
      "cell_type": "code",
      "source": [
        "all_model_results = pd.DataFrame({\"model_0_baseline\": base_line_results,\n",
        "                                  \"model_1_custom_token_embed\": model_1_results,\n",
        "                                  \"model_2_pretraind_token_embed\":model_2_results,\n",
        "                                  \"model_3_custom_char_embed\": model_3_results,\n",
        "                                  \"model_4_token_char_embed\": model_4_results,\n",
        "                                  \"model_5_token_char_pos_embed\": model_5_results}).transpose()\n",
        "all_model_results"
      ],
      "metadata": {
        "colab": {
          "base_uri": "https://localhost:8080/",
          "height": 238
        },
        "id": "L4UajWR1_YFN",
        "outputId": "92b0ad84-31f5-467b-ca56-e01dd1a9cce5"
      },
      "execution_count": null,
      "outputs": [
        {
          "output_type": "execute_result",
          "data": {
            "text/plain": [
              "                               accuracy  precision    recall  f1_score\n",
              "model_0_baseline               0.721832   0.718647  0.721832  0.698925\n",
              "model_1_custom_token_embed     0.789322   0.786167  0.789322  0.786937\n",
              "model_2_pretraind_token_embed  0.714683   0.714702  0.714683  0.711946\n",
              "model_3_custom_char_embed      0.650967   0.639886  0.650967  0.638469\n",
              "model_4_token_char_embed       0.733980   0.733072  0.733980  0.730654\n",
              "model_5_token_char_pos_embed   0.831756   0.830803  0.831756  0.830821"
            ],
            "text/html": [
              "\n",
              "  <div id=\"df-7bd016c6-6eb7-4570-85e8-2480ab0c3e01\">\n",
              "    <div class=\"colab-df-container\">\n",
              "      <div>\n",
              "<style scoped>\n",
              "    .dataframe tbody tr th:only-of-type {\n",
              "        vertical-align: middle;\n",
              "    }\n",
              "\n",
              "    .dataframe tbody tr th {\n",
              "        vertical-align: top;\n",
              "    }\n",
              "\n",
              "    .dataframe thead th {\n",
              "        text-align: right;\n",
              "    }\n",
              "</style>\n",
              "<table border=\"1\" class=\"dataframe\">\n",
              "  <thead>\n",
              "    <tr style=\"text-align: right;\">\n",
              "      <th></th>\n",
              "      <th>accuracy</th>\n",
              "      <th>precision</th>\n",
              "      <th>recall</th>\n",
              "      <th>f1_score</th>\n",
              "    </tr>\n",
              "  </thead>\n",
              "  <tbody>\n",
              "    <tr>\n",
              "      <th>model_0_baseline</th>\n",
              "      <td>0.721832</td>\n",
              "      <td>0.718647</td>\n",
              "      <td>0.721832</td>\n",
              "      <td>0.698925</td>\n",
              "    </tr>\n",
              "    <tr>\n",
              "      <th>model_1_custom_token_embed</th>\n",
              "      <td>0.789322</td>\n",
              "      <td>0.786167</td>\n",
              "      <td>0.789322</td>\n",
              "      <td>0.786937</td>\n",
              "    </tr>\n",
              "    <tr>\n",
              "      <th>model_2_pretraind_token_embed</th>\n",
              "      <td>0.714683</td>\n",
              "      <td>0.714702</td>\n",
              "      <td>0.714683</td>\n",
              "      <td>0.711946</td>\n",
              "    </tr>\n",
              "    <tr>\n",
              "      <th>model_3_custom_char_embed</th>\n",
              "      <td>0.650967</td>\n",
              "      <td>0.639886</td>\n",
              "      <td>0.650967</td>\n",
              "      <td>0.638469</td>\n",
              "    </tr>\n",
              "    <tr>\n",
              "      <th>model_4_token_char_embed</th>\n",
              "      <td>0.733980</td>\n",
              "      <td>0.733072</td>\n",
              "      <td>0.733980</td>\n",
              "      <td>0.730654</td>\n",
              "    </tr>\n",
              "    <tr>\n",
              "      <th>model_5_token_char_pos_embed</th>\n",
              "      <td>0.831756</td>\n",
              "      <td>0.830803</td>\n",
              "      <td>0.831756</td>\n",
              "      <td>0.830821</td>\n",
              "    </tr>\n",
              "  </tbody>\n",
              "</table>\n",
              "</div>\n",
              "      <button class=\"colab-df-convert\" onclick=\"convertToInteractive('df-7bd016c6-6eb7-4570-85e8-2480ab0c3e01')\"\n",
              "              title=\"Convert this dataframe to an interactive table.\"\n",
              "              style=\"display:none;\">\n",
              "        \n",
              "  <svg xmlns=\"http://www.w3.org/2000/svg\" height=\"24px\"viewBox=\"0 0 24 24\"\n",
              "       width=\"24px\">\n",
              "    <path d=\"M0 0h24v24H0V0z\" fill=\"none\"/>\n",
              "    <path d=\"M18.56 5.44l.94 2.06.94-2.06 2.06-.94-2.06-.94-.94-2.06-.94 2.06-2.06.94zm-11 1L8.5 8.5l.94-2.06 2.06-.94-2.06-.94L8.5 2.5l-.94 2.06-2.06.94zm10 10l.94 2.06.94-2.06 2.06-.94-2.06-.94-.94-2.06-.94 2.06-2.06.94z\"/><path d=\"M17.41 7.96l-1.37-1.37c-.4-.4-.92-.59-1.43-.59-.52 0-1.04.2-1.43.59L10.3 9.45l-7.72 7.72c-.78.78-.78 2.05 0 2.83L4 21.41c.39.39.9.59 1.41.59.51 0 1.02-.2 1.41-.59l7.78-7.78 2.81-2.81c.8-.78.8-2.07 0-2.86zM5.41 20L4 18.59l7.72-7.72 1.47 1.35L5.41 20z\"/>\n",
              "  </svg>\n",
              "      </button>\n",
              "      \n",
              "  <style>\n",
              "    .colab-df-container {\n",
              "      display:flex;\n",
              "      flex-wrap:wrap;\n",
              "      gap: 12px;\n",
              "    }\n",
              "\n",
              "    .colab-df-convert {\n",
              "      background-color: #E8F0FE;\n",
              "      border: none;\n",
              "      border-radius: 50%;\n",
              "      cursor: pointer;\n",
              "      display: none;\n",
              "      fill: #1967D2;\n",
              "      height: 32px;\n",
              "      padding: 0 0 0 0;\n",
              "      width: 32px;\n",
              "    }\n",
              "\n",
              "    .colab-df-convert:hover {\n",
              "      background-color: #E2EBFA;\n",
              "      box-shadow: 0px 1px 2px rgba(60, 64, 67, 0.3), 0px 1px 3px 1px rgba(60, 64, 67, 0.15);\n",
              "      fill: #174EA6;\n",
              "    }\n",
              "\n",
              "    [theme=dark] .colab-df-convert {\n",
              "      background-color: #3B4455;\n",
              "      fill: #D2E3FC;\n",
              "    }\n",
              "\n",
              "    [theme=dark] .colab-df-convert:hover {\n",
              "      background-color: #434B5C;\n",
              "      box-shadow: 0px 1px 3px 1px rgba(0, 0, 0, 0.15);\n",
              "      filter: drop-shadow(0px 1px 2px rgba(0, 0, 0, 0.3));\n",
              "      fill: #FFFFFF;\n",
              "    }\n",
              "  </style>\n",
              "\n",
              "      <script>\n",
              "        const buttonEl =\n",
              "          document.querySelector('#df-7bd016c6-6eb7-4570-85e8-2480ab0c3e01 button.colab-df-convert');\n",
              "        buttonEl.style.display =\n",
              "          google.colab.kernel.accessAllowed ? 'block' : 'none';\n",
              "\n",
              "        async function convertToInteractive(key) {\n",
              "          const element = document.querySelector('#df-7bd016c6-6eb7-4570-85e8-2480ab0c3e01');\n",
              "          const dataTable =\n",
              "            await google.colab.kernel.invokeFunction('convertToInteractive',\n",
              "                                                     [key], {});\n",
              "          if (!dataTable) return;\n",
              "\n",
              "          const docLinkHtml = 'Like what you see? Visit the ' +\n",
              "            '<a target=\"_blank\" href=https://colab.research.google.com/notebooks/data_table.ipynb>data table notebook</a>'\n",
              "            + ' to learn more about interactive tables.';\n",
              "          element.innerHTML = '';\n",
              "          dataTable['output_type'] = 'display_data';\n",
              "          await google.colab.output.renderOutput(dataTable, element);\n",
              "          const docLink = document.createElement('div');\n",
              "          docLink.innerHTML = docLinkHtml;\n",
              "          element.appendChild(docLink);\n",
              "        }\n",
              "      </script>\n",
              "    </div>\n",
              "  </div>\n",
              "  "
            ]
          },
          "metadata": {},
          "execution_count": 135
        }
      ]
    },
    {
      "cell_type": "code",
      "source": [
        "all_model_results.plot(kind=\"bar\", figsize=(10,10))"
      ],
      "metadata": {
        "colab": {
          "base_uri": "https://localhost:8080/",
          "height": 764
        },
        "id": "hiiacM_8_6Y4",
        "outputId": "65988c7c-ee3f-44b8-eaf1-64c57a62a40d"
      },
      "execution_count": null,
      "outputs": [
        {
          "output_type": "execute_result",
          "data": {
            "text/plain": [
              "<matplotlib.axes._subplots.AxesSubplot at 0x7f6d86beb0d0>"
            ]
          },
          "metadata": {},
          "execution_count": 137
        },
        {
          "output_type": "display_data",
          "data": {
            "text/plain": [
              "<Figure size 720x720 with 1 Axes>"
            ],
            "image/png": "[encoded data removed]"
          },
          "metadata": {
            "needs_background": "light"
          }
        }
      ]
    },
    {
      "cell_type": "code",
      "source": [
        "all_model_results = all_model_results.sort_values(\"f1_score\", ascending=False)\n",
        "all_model_results.plot(kind=\"bar\", figsize=(10,10))"
      ],
      "metadata": {
        "colab": {
          "base_uri": "https://localhost:8080/",
          "height": 764
        },
        "id": "tXay7Nz3ANUi",
        "outputId": "fbcd5498-6617-4037-9f14-233526919344"
      },
      "execution_count": null,
      "outputs": [
        {
          "output_type": "execute_result",
          "data": {
            "text/plain": [
              "<matplotlib.axes._subplots.AxesSubplot at 0x7f6d86b0aa60>"
            ]
          },
          "metadata": {},
          "execution_count": 140
        },
        {
          "output_type": "display_data",
          "data": {
            "text/plain": [
              "<Figure size 720x720 with 1 Axes>"
            ],
            "image/png": "[encoded data removed]"
          },
          "metadata": {
            "needs_background": "light"
          }
        }
      ]
    },
    {
      "cell_type": "code",
      "source": [
        "# save the best model: Model_5\n",
        "\n",
        "model_5.save(\"/content/drive/MyDrive/tensorflow course/skimlit_best_model\")"
      ],
      "metadata": {
        "colab": {
          "base_uri": "https://localhost:8080/"
        },
        "id": "lrNzERGmA13h",
        "outputId": "b0792b4c-4a65-42a6-f872-7d01622b9cd5"
      },
      "execution_count": null,
      "outputs": [
        {
          "output_type": "stream",
          "name": "stderr",
          "text": [
            "WARNING:absl:Function `_wrapped_model` contains input name(s) Token_Input, Char_Input with unsupported characters which will be renamed to token_input, char_input in the SavedModel.\n",
            "WARNING:absl:Found untraced functions such as lstm_cell_10_layer_call_fn, lstm_cell_10_layer_call_and_return_conditional_losses, lstm_cell_11_layer_call_fn, lstm_cell_11_layer_call_and_return_conditional_losses while saving (showing 4 of 4). These functions will not be directly callable after loading.\n"
          ]
        }
      ]
    },
    {
      "cell_type": "code",
      "source": [
        "loaded_model = tf.keras.models.load_model(\"/content/drive/MyDrive/tensorflow course/skimlit_best_model\")"
      ],
      "metadata": {
        "id": "orB0kwd8BPkc"
      },
      "execution_count": null,
      "outputs": []
    },
    {
      "cell_type": "code",
      "source": [
        "# check if the model got saved corectly\n",
        "loaded_model_preds = tf.argmax(loaded_model.predict(val_tribrid_dataset), axis=1)\n",
        "loaded_model_preds[:5]"
      ],
      "metadata": {
        "colab": {
          "base_uri": "https://localhost:8080/"
        },
        "id": "W8gwop-5Bec8",
        "outputId": "ab2d4434-3893-4558-f6a0-c641687579d6"
      },
      "execution_count": null,
      "outputs": [
        {
          "output_type": "stream",
          "name": "stdout",
          "text": [
            "945/945 [==============================] - 33s 32ms/step\n"
          ]
        },
        {
          "output_type": "execute_result",
          "data": {
            "text/plain": [
              "<tf.Tensor: shape=(5,), dtype=int64, numpy=array([0, 0, 3, 2, 2])>"
            ]
          },
          "metadata": {},
          "execution_count": 143
        }
      ]
    },
    {
      "cell_type": "code",
      "source": [
        "loaded_model_results = evaluation_dictonary(val_labels, loaded_model_preds)\n",
        "loaded_model_results"
      ],
      "metadata": {
        "colab": {
          "base_uri": "https://localhost:8080/"
        },
        "id": "09FF8J9PBz83",
        "outputId": "681dfe27-9950-444d-cb22-58fb127f76cd"
      },
      "execution_count": null,
      "outputs": [
        {
          "output_type": "execute_result",
          "data": {
            "text/plain": [
              "{'accuracy': 0.8317555938037866,\n",
              " 'precision': 0.8308030958285513,\n",
              " 'recall': 0.8317555938037866,\n",
              " 'f1_score': 0.8308213678461481}"
            ]
          },
          "metadata": {},
          "execution_count": 146
        }
      ]
    },
    {
      "cell_type": "code",
      "source": [
        "model_5_results == loaded_model_results"
      ],
      "metadata": {
        "colab": {
          "base_uri": "https://localhost:8080/"
        },
        "id": "Wm4RK59HCDZZ",
        "outputId": "347f0d2c-c6c1-4d20-f7cd-5a901787b3d0"
      },
      "execution_count": null,
      "outputs": [
        {
          "output_type": "execute_result",
          "data": {
            "text/plain": [
              "True"
            ]
          },
          "metadata": {},
          "execution_count": 147
        }
      ]
    }
  ]
}
