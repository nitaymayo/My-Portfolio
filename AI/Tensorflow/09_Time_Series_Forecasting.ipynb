{
  "nbformat": 4,
  "nbformat_minor": 0,
  "metadata": {
    "colab": {
      "provenance": [],
      "authorship_tag": "ABX9TyMwWextzh6EJNAL0DDnNoEq",
      "include_colab_link": true
    },
    "kernelspec": {
      "name": "python3",
      "display_name": "Python 3"
    },
    "language_info": {
      "name": "python"
    },
    "accelerator": "GPU",
    "gpuClass": "standard"
  },
  "cells": [
    {
      "cell_type": "markdown",
      "metadata": {
        "id": "view-in-github",
        "colab_type": "text"
      },
      "source": [
        "<a href=\"https://colab.research.google.com/github/nitaymayo/My_Portfolio/blob/main/AI/Tensorflow/Time_Series_Forecasting.ipynb\" target=\"_parent\"><img src=\"https://colab.research.google.com/assets/colab-badge.svg\" alt=\"Open In Colab\"/></a>"
      ]
    },
    {
      "cell_type": "markdown",
      "source": [
        "# Time Series Forecasting using Tensorflow\n",
        "\n",
        "Tensorflow models trained and tested on the bit stock prices dataset"
      ],
      "metadata": {
        "id": "N6jTIyD1OG5o"
      }
    },
    {
      "cell_type": "code",
      "execution_count": null,
      "metadata": {
        "id": "hoIirjjJEdl0"
      },
      "outputs": [],
      "source": [
        "import tensorflow as tf\n",
        "import pandas as pd\n",
        "import matplotlib.pyplot as plt\n",
        "import numpy as np"
      ]
    },
    {
      "cell_type": "code",
      "source": [
        "! wget https://raw.githubusercontent.com/nitaymayo/my_repo/main/helper_functions.py\n",
        "from helper_functions import *"
      ],
      "metadata": {
        "id": "2FtQC8Ltqd6y"
      },
      "execution_count": null,
      "outputs": []
    },
    {
      "cell_type": "code",
      "source": [
        "# Getiing the data\n",
        "! wget https://raw.githubusercontent.com/mrdbourke/tensorflow-deep-learning/main/extras/BTC_USD_2013-10-01_2021-05-18-CoinDesk.csv"
      ],
      "metadata": {
        "colab": {
          "base_uri": "https://localhost:8080/"
        },
        "id": "bqT4_moxI40o",
        "outputId": "320001d2-f3fc-4e5e-a08b-772e472b58c6"
      },
      "execution_count": null,
      "outputs": [
        {
          "output_type": "stream",
          "name": "stdout",
          "text": [
            "/bin/bash: /home/nitay/miniconda3/lib/libtinfo.so.6: no version information available (required by /bin/bash)\r\n",
            "--2023-01-31 13:04:55--  https://raw.githubusercontent.com/mrdbourke/tensorflow-deep-learning/main/extras/BTC_USD_2013-10-01_2021-05-18-CoinDesk.csv\r\n",
            "Resolving raw.githubusercontent.com (raw.githubusercontent.com)... 185.199.110.133, 185.199.111.133, 185.199.108.133, ...\n",
            "Connecting to raw.githubusercontent.com (raw.githubusercontent.com)|185.199.110.133|:443... connected.\n",
            "HTTP request sent, awaiting response... 200 OK\n",
            "Length: 178509 (174K) [text/plain]\n",
            "Saving to: ‘BTC_USD_2013-10-01_2021-05-18-CoinDesk.csv’\n",
            "\n",
            "BTC_USD_2013-10-01_ 100%[===================>] 174.33K  1.10MB/s    in 0.2s    \n",
            "\n",
            "2023-01-31 13:04:55 (1.10 MB/s) - ‘BTC_USD_2013-10-01_2021-05-18-CoinDesk.csv’ saved [178509/178509]\n",
            "\n"
          ]
        }
      ]
    },
    {
      "cell_type": "code",
      "source": [
        "# Reading the data with pandas module\n",
        "bit_data = pd.read_csv(\"BTC_USD_2013-10-01_2021-05-18-CoinDesk.csv\",\n",
        "                       parse_dates=[\"Date\"],\n",
        "                       index_col=[\"Date\"])"
      ],
      "metadata": {
        "id": "2peSIsHtOcpz"
      },
      "execution_count": null,
      "outputs": []
    },
    {
      "cell_type": "code",
      "source": [
        "bit_data.head()"
      ],
      "metadata": {
        "colab": {
          "base_uri": "https://localhost:8080/",
          "height": 238
        },
        "id": "uz4YGIQd_VpS",
        "outputId": "1853f1c0-7b66-45ff-ed0b-b924c324f5ac"
      },
      "execution_count": null,
      "outputs": [
        {
          "output_type": "execute_result",
          "data": {
            "text/plain": [
              "           Currency  Closing Price (USD)  24h Open (USD)  24h High (USD)  \\\n",
              "Date                                                                       \n",
              "2013-10-01      BTC            123.65499       124.30466       124.75166   \n",
              "2013-10-02      BTC            125.45500       123.65499       125.75850   \n",
              "2013-10-03      BTC            108.58483       125.45500       125.66566   \n",
              "2013-10-04      BTC            118.67466       108.58483       118.67500   \n",
              "2013-10-05      BTC            121.33866       118.67466       121.93633   \n",
              "\n",
              "            24h Low (USD)  \n",
              "Date                       \n",
              "2013-10-01      122.56349  \n",
              "2013-10-02      123.63383  \n",
              "2013-10-03       83.32833  \n",
              "2013-10-04      107.05816  \n",
              "2013-10-05      118.00566  "
            ],
            "text/html": [
              "<div>\n",
              "<style scoped>\n",
              "    .dataframe tbody tr th:only-of-type {\n",
              "        vertical-align: middle;\n",
              "    }\n",
              "\n",
              "    .dataframe tbody tr th {\n",
              "        vertical-align: top;\n",
              "    }\n",
              "\n",
              "    .dataframe thead th {\n",
              "        text-align: right;\n",
              "    }\n",
              "</style>\n",
              "<table border=\"1\" class=\"dataframe\">\n",
              "  <thead>\n",
              "    <tr style=\"text-align: right;\">\n",
              "      <th></th>\n",
              "      <th>Currency</th>\n",
              "      <th>Closing Price (USD)</th>\n",
              "      <th>24h Open (USD)</th>\n",
              "      <th>24h High (USD)</th>\n",
              "      <th>24h Low (USD)</th>\n",
              "    </tr>\n",
              "    <tr>\n",
              "      <th>Date</th>\n",
              "      <th></th>\n",
              "      <th></th>\n",
              "      <th></th>\n",
              "      <th></th>\n",
              "      <th></th>\n",
              "    </tr>\n",
              "  </thead>\n",
              "  <tbody>\n",
              "    <tr>\n",
              "      <th>2013-10-01</th>\n",
              "      <td>BTC</td>\n",
              "      <td>123.65499</td>\n",
              "      <td>124.30466</td>\n",
              "      <td>124.75166</td>\n",
              "      <td>122.56349</td>\n",
              "    </tr>\n",
              "    <tr>\n",
              "      <th>2013-10-02</th>\n",
              "      <td>BTC</td>\n",
              "      <td>125.45500</td>\n",
              "      <td>123.65499</td>\n",
              "      <td>125.75850</td>\n",
              "      <td>123.63383</td>\n",
              "    </tr>\n",
              "    <tr>\n",
              "      <th>2013-10-03</th>\n",
              "      <td>BTC</td>\n",
              "      <td>108.58483</td>\n",
              "      <td>125.45500</td>\n",
              "      <td>125.66566</td>\n",
              "      <td>83.32833</td>\n",
              "    </tr>\n",
              "    <tr>\n",
              "      <th>2013-10-04</th>\n",
              "      <td>BTC</td>\n",
              "      <td>118.67466</td>\n",
              "      <td>108.58483</td>\n",
              "      <td>118.67500</td>\n",
              "      <td>107.05816</td>\n",
              "    </tr>\n",
              "    <tr>\n",
              "      <th>2013-10-05</th>\n",
              "      <td>BTC</td>\n",
              "      <td>121.33866</td>\n",
              "      <td>118.67466</td>\n",
              "      <td>121.93633</td>\n",
              "      <td>118.00566</td>\n",
              "    </tr>\n",
              "  </tbody>\n",
              "</table>\n",
              "</div>"
            ]
          },
          "metadata": {},
          "execution_count": 18
        }
      ]
    },
    {
      "cell_type": "code",
      "source": [
        "# Inspecting the data\n",
        "bit_data.info()"
      ],
      "metadata": {
        "colab": {
          "base_uri": "https://localhost:8080/"
        },
        "id": "5zXzmdF4_X4W",
        "outputId": "c2479839-e95c-4148-b343-3a4f66a76b16"
      },
      "execution_count": null,
      "outputs": [
        {
          "output_type": "stream",
          "name": "stdout",
          "text": [
            "<class 'pandas.core.frame.DataFrame'>\n",
            "DatetimeIndex: 2787 entries, 2013-10-01 to 2021-05-18\n",
            "Data columns (total 5 columns):\n",
            " #   Column               Non-Null Count  Dtype  \n",
            "---  ------               --------------  -----  \n",
            " 0   Currency             2787 non-null   object \n",
            " 1   Closing Price (USD)  2787 non-null   float64\n",
            " 2   24h Open (USD)       2787 non-null   float64\n",
            " 3   24h High (USD)       2787 non-null   float64\n",
            " 4   24h Low (USD)        2787 non-null   float64\n",
            "dtypes: float64(4), object(1)\n",
            "memory usage: 130.6+ KB\n"
          ]
        }
      ]
    },
    {
      "cell_type": "code",
      "source": [
        "bit_data[\"Closing Price (USD)\"].plot()"
      ],
      "metadata": {
        "colab": {
          "base_uri": "https://localhost:8080/",
          "height": 466
        },
        "id": "4Pc9MSGGANaj",
        "outputId": "54b6827d-e57c-4340-c8dd-761b51ce2a18"
      },
      "execution_count": null,
      "outputs": [
        {
          "output_type": "execute_result",
          "data": {
            "text/plain": [
              "<AxesSubplot: xlabel='Date'>"
            ]
          },
          "metadata": {},
          "execution_count": 20
        },
        {
          "output_type": "display_data",
          "data": {
            "text/plain": [
              "<Figure size 640x480 with 1 Axes>"
            ],
            "image/png": "[encoded data removed]"
          },
          "metadata": {}
        }
      ]
    },
    {
      "cell_type": "code",
      "source": [
        "# Splitting the data to timesteps and prices\n",
        "\n",
        "bitcoin_prices = pd.DataFrame(bit_data[\"Closing Price (USD)\"]).rename(columns={\"Closing Price (USD)\": \"Price\"})\n",
        "\n",
        "bitcoin_prices[:10]"
      ],
      "metadata": {
        "colab": {
          "base_uri": "https://localhost:8080/",
          "height": 394
        },
        "id": "jp2SKewGod4j",
        "outputId": "9a9780cc-bc08-4fe3-b768-961fbb8a925c"
      },
      "execution_count": null,
      "outputs": [
        {
          "output_type": "execute_result",
          "data": {
            "text/plain": [
              "                Price\n",
              "Date                 \n",
              "2013-10-01  123.65499\n",
              "2013-10-02  125.45500\n",
              "2013-10-03  108.58483\n",
              "2013-10-04  118.67466\n",
              "2013-10-05  121.33866\n",
              "2013-10-06  120.65533\n",
              "2013-10-07  121.79500\n",
              "2013-10-08  123.03300\n",
              "2013-10-09  124.04900\n",
              "2013-10-10  125.96116"
            ],
            "text/html": [
              "<div>\n",
              "<style scoped>\n",
              "    .dataframe tbody tr th:only-of-type {\n",
              "        vertical-align: middle;\n",
              "    }\n",
              "\n",
              "    .dataframe tbody tr th {\n",
              "        vertical-align: top;\n",
              "    }\n",
              "\n",
              "    .dataframe thead th {\n",
              "        text-align: right;\n",
              "    }\n",
              "</style>\n",
              "<table border=\"1\" class=\"dataframe\">\n",
              "  <thead>\n",
              "    <tr style=\"text-align: right;\">\n",
              "      <th></th>\n",
              "      <th>Price</th>\n",
              "    </tr>\n",
              "    <tr>\n",
              "      <th>Date</th>\n",
              "      <th></th>\n",
              "    </tr>\n",
              "  </thead>\n",
              "  <tbody>\n",
              "    <tr>\n",
              "      <th>2013-10-01</th>\n",
              "      <td>123.65499</td>\n",
              "    </tr>\n",
              "    <tr>\n",
              "      <th>2013-10-02</th>\n",
              "      <td>125.45500</td>\n",
              "    </tr>\n",
              "    <tr>\n",
              "      <th>2013-10-03</th>\n",
              "      <td>108.58483</td>\n",
              "    </tr>\n",
              "    <tr>\n",
              "      <th>2013-10-04</th>\n",
              "      <td>118.67466</td>\n",
              "    </tr>\n",
              "    <tr>\n",
              "      <th>2013-10-05</th>\n",
              "      <td>121.33866</td>\n",
              "    </tr>\n",
              "    <tr>\n",
              "      <th>2013-10-06</th>\n",
              "      <td>120.65533</td>\n",
              "    </tr>\n",
              "    <tr>\n",
              "      <th>2013-10-07</th>\n",
              "      <td>121.79500</td>\n",
              "    </tr>\n",
              "    <tr>\n",
              "      <th>2013-10-08</th>\n",
              "      <td>123.03300</td>\n",
              "    </tr>\n",
              "    <tr>\n",
              "      <th>2013-10-09</th>\n",
              "      <td>124.04900</td>\n",
              "    </tr>\n",
              "    <tr>\n",
              "      <th>2013-10-10</th>\n",
              "      <td>125.96116</td>\n",
              "    </tr>\n",
              "  </tbody>\n",
              "</table>\n",
              "</div>"
            ]
          },
          "metadata": {},
          "execution_count": 21
        }
      ]
    },
    {
      "cell_type": "code",
      "source": [
        "bitcoin_prices.head()"
      ],
      "metadata": {
        "colab": {
          "base_uri": "https://localhost:8080/",
          "height": 238
        },
        "id": "7Pm0hXJrr2oO",
        "outputId": "3b4d7b7e-b213-4b83-8751-dbf115251d5b"
      },
      "execution_count": null,
      "outputs": [
        {
          "output_type": "execute_result",
          "data": {
            "text/plain": [
              "                Price\n",
              "Date                 \n",
              "2013-10-01  123.65499\n",
              "2013-10-02  125.45500\n",
              "2013-10-03  108.58483\n",
              "2013-10-04  118.67466\n",
              "2013-10-05  121.33866"
            ],
            "text/html": [
              "<div>\n",
              "<style scoped>\n",
              "    .dataframe tbody tr th:only-of-type {\n",
              "        vertical-align: middle;\n",
              "    }\n",
              "\n",
              "    .dataframe tbody tr th {\n",
              "        vertical-align: top;\n",
              "    }\n",
              "\n",
              "    .dataframe thead th {\n",
              "        text-align: right;\n",
              "    }\n",
              "</style>\n",
              "<table border=\"1\" class=\"dataframe\">\n",
              "  <thead>\n",
              "    <tr style=\"text-align: right;\">\n",
              "      <th></th>\n",
              "      <th>Price</th>\n",
              "    </tr>\n",
              "    <tr>\n",
              "      <th>Date</th>\n",
              "      <th></th>\n",
              "    </tr>\n",
              "  </thead>\n",
              "  <tbody>\n",
              "    <tr>\n",
              "      <th>2013-10-01</th>\n",
              "      <td>123.65499</td>\n",
              "    </tr>\n",
              "    <tr>\n",
              "      <th>2013-10-02</th>\n",
              "      <td>125.45500</td>\n",
              "    </tr>\n",
              "    <tr>\n",
              "      <th>2013-10-03</th>\n",
              "      <td>108.58483</td>\n",
              "    </tr>\n",
              "    <tr>\n",
              "      <th>2013-10-04</th>\n",
              "      <td>118.67466</td>\n",
              "    </tr>\n",
              "    <tr>\n",
              "      <th>2013-10-05</th>\n",
              "      <td>121.33866</td>\n",
              "    </tr>\n",
              "  </tbody>\n",
              "</table>\n",
              "</div>"
            ]
          },
          "metadata": {},
          "execution_count": 22
        }
      ]
    },
    {
      "cell_type": "code",
      "source": [
        "timesteps = bitcoin_prices.index.to_numpy()\n",
        "prices = bitcoin_prices[\"Price\"].to_numpy()\n",
        "\n",
        "timesteps.shape, prices.shape"
      ],
      "metadata": {
        "colab": {
          "base_uri": "https://localhost:8080/"
        },
        "id": "YZXAK92luBJc",
        "outputId": "172cf70e-6fa2-47d5-e0a4-5f1fd94cbbe9"
      },
      "execution_count": null,
      "outputs": [
        {
          "output_type": "execute_result",
          "data": {
            "text/plain": [
              "((2787,), (2787,))"
            ]
          },
          "metadata": {},
          "execution_count": 23
        }
      ]
    },
    {
      "cell_type": "code",
      "source": [
        "# Splitting the data to train test splits\n",
        "\n",
        "split_size = int(0.8 * len(bit_data))\n",
        "\n",
        "# Creating the train split\n",
        "x_train, y_train = timesteps[:split_size], prices[:split_size]\n",
        "\n",
        "# Creating the test split\n",
        "x_test, y_test = timesteps[split_size:], prices[split_size:] "
      ],
      "metadata": {
        "id": "wjIlR8MNoMIf"
      },
      "execution_count": null,
      "outputs": []
    },
    {
      "cell_type": "markdown",
      "source": [
        "## Building models\n",
        "\n",
        "Builidng the following models:\n",
        "0. Naive model (baseline)\n",
        "1. Dense model\thorizon=1\twindow=7\t\n",
        "2. Same as 1\thorizon=1\twindow=30\n",
        "3. Same as 1\thorizon=7\twindow=30\n",
        "4. Conv1D\thorizon=1\twindow=7\n",
        "5. LSTM\thorizon=1\twindow=7\n",
        "6. Same as 1 (with multivariate data)\thorizon=1\twindow=7\tBlock reward size\n",
        "7. N-BEATs Algorithm\thorizon=1\twindow=7\n",
        "8. Ensemble (multiple models optimized on different loss functions)\thorizon=1\twindow=7\t\n",
        "9. Future prediction model (model to predict future values)\thorizon=1\twindow=7\t\n",
        "10. Same as 1 with turkey data"
      ],
      "metadata": {
        "id": "jVnH6Z1emMT4"
      }
    },
    {
      "cell_type": "markdown",
      "source": [
        "### Model 0 Baseline: Naive forcast\n",
        "\n",
        "by the following formula:\n",
        "\n",
        "$$\\hat{y}_t=y_{t-1}$$"
      ],
      "metadata": {
        "id": "q3qCylOsmk6h"
      }
    },
    {
      "cell_type": "code",
      "source": [
        "# Creating the naive forcast\n",
        "\n",
        "naive_forcast = y_test[:-1]\n",
        "naive_forcast[1]"
      ],
      "metadata": {
        "colab": {
          "base_uri": "https://localhost:8080/"
        },
        "id": "aQ9-HFPHm189",
        "outputId": "3f1296de-ede4-4301-8cd1-26c0c7ea0b2f"
      },
      "execution_count": null,
      "outputs": [
        {
          "output_type": "execute_result",
          "data": {
            "text/plain": [
              "8794.3586445233"
            ]
          },
          "metadata": {},
          "execution_count": 14
        }
      ]
    },
    {
      "cell_type": "code",
      "source": [
        "# Plotting the naive forcasts\n",
        "plt.figure(figsize=(10,10))\n",
        "# plot_time_series(x_train, y_train, label=\"Train_data\")\n",
        "plot_time_series(x_test, y_test, start=300, label=\"Test_data\", format=\"-\")\n",
        "plot_time_series(x_test[1:], naive_forcast, start=300, label=\"naive_forcast_data\")"
      ],
      "metadata": {
        "id": "9FlVdmmOoFj3",
        "colab": {
          "base_uri": "https://localhost:8080/",
          "height": 606
        },
        "outputId": "44790de7-b0db-4c97-9a5f-f1f84c13ae52"
      },
      "execution_count": null,
      "outputs": [
        {
          "output_type": "display_data",
          "data": {
            "text/plain": [
              "<Figure size 720x720 with 1 Axes>"
            ],
            "image/png": "[encoded data removed]"
          },
          "metadata": {
            "needs_background": "light"
          }
        }
      ]
    },
    {
      "cell_type": "code",
      "source": [
        "# Creating a MASE parameter function to evaluate future models\n",
        "def MASE_parameter(y_true, y_pred):\n",
        "  \"\"\"\n",
        "  Returns a MASE paramter\n",
        "  if the returned value >1 that the model is better then the naive, else worse than the naive forcast\n",
        "  \"\"\"\n",
        "  mae = tf.reduce_mean(tf.abs(y_true-y_pred))\n",
        "  mae_naive = tf.reduce_mean(tf.abs(y_true[1:] - y_true[:-1]))\n",
        "  return mae / mae_naive"
      ],
      "metadata": {
        "id": "Jz9TvdC7OuhG"
      },
      "execution_count": null,
      "outputs": []
    },
    {
      "cell_type": "code",
      "source": [
        "MASE_parameter(y_test[1:], naive_forcast).numpy()"
      ],
      "metadata": {
        "id": "s74yDXeRQGIh",
        "colab": {
          "base_uri": "https://localhost:8080/"
        },
        "outputId": "db02c5a6-e2f6-4019-cc7b-12e38de6c589"
      },
      "execution_count": null,
      "outputs": [
        {
          "output_type": "execute_result",
          "data": {
            "text/plain": [
              "0.9995699939182624"
            ]
          },
          "metadata": {},
          "execution_count": 17
        }
      ]
    },
    {
      "cell_type": "code",
      "source": [
        "# Creating a function that returns an evaluation dictionary\n",
        "def regression_evaluation(y_true, y_pred):\n",
        "  y_true = tf.cast(y_true, dtype=tf.float32)\n",
        "  y_pred = tf.cast(y_pred, dtype=tf.float32)\n",
        "\n",
        "  mae = tf.keras.metrics.mean_absolute_error(y_true, y_pred)\n",
        "  mse = tf.keras.metrics.mean_squared_error(y_true, y_pred)\n",
        "  rmse = tf.sqrt(mse)\n",
        "  mape = tf.keras.metrics.mean_absolute_percentage_error(y_true, y_pred)\n",
        "  mase = MASE_parameter(y_true, y_pred)\n",
        "\n",
        "\n",
        "  # Account for diffrenet horizons sizes\n",
        "  if mae.ndim > 0:\n",
        "    print(\"Multi dim input\")\n",
        "    mae = tf.reduce_mean(mae)\n",
        "    mse = tf.reduce_mean(mse)\n",
        "    rmse = tf.reduce_mean(rmse)\n",
        "    mape = tf.reduce_mean(mape)\n",
        "    mase = tf.reduce_mean(mase)\n",
        "\n",
        "  return {\"mae\": mae.numpy(),\n",
        "          \"mse\": mse.numpy(),\n",
        "          \"rmse\": rmse.numpy(),\n",
        "          \"mape\": mape.numpy(),\n",
        "          \"mase\": mase.numpy()}"
      ],
      "metadata": {
        "id": "QXJ_yF83RhVd"
      },
      "execution_count": null,
      "outputs": []
    },
    {
      "cell_type": "code",
      "source": [
        "naive_results = regression_evaluation(y_test[1:], naive_forcast)\n",
        "\n",
        "naive_results"
      ],
      "metadata": {
        "colab": {
          "base_uri": "https://localhost:8080/"
        },
        "id": "KycgcOYCS5WM",
        "outputId": "dfc9149f-7231-4da7-ff6d-29da7c08a042"
      },
      "execution_count": null,
      "outputs": [
        {
          "output_type": "execute_result",
          "data": {
            "text/plain": [
              "{'mae': 567.9802,\n",
              " 'mse': 1147547.0,\n",
              " 'rmse': 1071.2362,\n",
              " 'mape': 2.5165248,\n",
              " 'mase': 0.99957}"
            ]
          },
          "metadata": {},
          "execution_count": 19
        }
      ]
    },
    {
      "cell_type": "markdown",
      "source": [
        "### Preparing data"
      ],
      "metadata": {
        "id": "28TyQf1YgUAV"
      }
    },
    {
      "cell_type": "code",
      "source": [
        "# Formatting the data as windows and horizons\n",
        "HORIZON = 1\n",
        "WINDOW_SIZE = 7\n",
        "\n",
        "def get_labelled_windows(x, horizon=HORIZON):\n",
        "  return x[:, :-horizon], x[:, -horizon:]"
      ],
      "metadata": {
        "id": "qlrWSaWBUSQq"
      },
      "execution_count": null,
      "outputs": []
    },
    {
      "cell_type": "code",
      "source": [
        "# Function to create windows and horizons data\n",
        "def make_windows(x, window_size, horizon):\n",
        "  \"\"\"\n",
        "  Function to create windows and horizons data set\n",
        "  \"\"\"\n",
        "\n",
        "  # Creating a window to shift across the data\n",
        "  window_step = np.expand_dims(np.arange(window_size+horizon), axis=0)\n",
        "\n",
        "  # Creating the windows + horizons indexes array by shifting the window_step array across every index from 0 to len(x)-(window_size+horizon-1)\n",
        "  window_indexes = window_step + np.expand_dims(np.arange(len(x)-(window_size+horizon-1)), axis=0).T\n",
        "\n",
        "  # Index on x with the window_indexes array\n",
        "  windowed_array = x[window_indexes]\n",
        "\n",
        "  # Seperating windows and labels\n",
        "  windows, labels = get_labelled_windows(windowed_array, horizon)\n",
        "\n",
        "  return windows, labels"
      ],
      "metadata": {
        "id": "B-UdjUu4WE9G"
      },
      "execution_count": null,
      "outputs": []
    },
    {
      "cell_type": "code",
      "source": [
        "# turning the windows to train and test split\n",
        "def make_time_train_test_split(windows, labels, test_split=0.2):\n",
        "  \"\"\"\n",
        "  make the whole data into a train and test splits\n",
        "\n",
        "  Returns:\n",
        "  The following order:\n",
        "   x_train, x_test, y_train, y_test \n",
        "  \"\"\"\n",
        "\n",
        "  split_size = int(len(windows) * (1-test_split))\n",
        "\n",
        "  x_train = windows[:split_size]\n",
        "  y_train = labels[:split_size]\n",
        "  x_test = windows[split_size:]\n",
        "  y_test = labels[split_size:]\n",
        "\n",
        "  return x_train, x_test, y_train, y_test "
      ],
      "metadata": {
        "id": "kAlPllINdCYO"
      },
      "execution_count": null,
      "outputs": []
    },
    {
      "cell_type": "code",
      "source": [
        "# Function to preprocess the data\n",
        "def preprocess_data(x, y, batch_size=128):\n",
        "  x = tf.cast(x, tf.float32)\n",
        "  y = tf.cast(y, tf.float32)\n",
        "\n",
        "  x = tf.data.Dataset.from_tensor_slices(x)\n",
        "  y = tf.data.Dataset.from_tensor_slices(y)\n",
        "\n",
        "  ds = tf.data.Dataset.zip((x, y))\n",
        "  return ds.batch(batch_size).prefetch(tf.data.AUTOTUNE)"
      ],
      "metadata": {
        "id": "KWVROOIJjLBX"
      },
      "execution_count": null,
      "outputs": []
    },
    {
      "cell_type": "markdown",
      "source": [
        "### Creating checkpoint callback\n",
        "\n",
        "to save the best model in each training"
      ],
      "metadata": {
        "id": "0DUHtBvfgZRq"
      }
    },
    {
      "cell_type": "code",
      "source": [
        "import os\n",
        "\n",
        "# Funcrtion to create checkpoint callback for the models\n",
        "def create_model_checkpoint(model_name, save_dir=\"models_experiment\", set_verbose=2):\n",
        "  return tf.keras.callbacks.ModelCheckpoint(filepath=os.path.join(save_dir, model_name),\n",
        "                                            verbose=set_verbose,\n",
        "                                            save_best_only=True)"
      ],
      "metadata": {
        "id": "gpYwcXRdgfvZ"
      },
      "execution_count": null,
      "outputs": []
    },
    {
      "cell_type": "markdown",
      "source": [
        "### Model 1: Dense Model (W=7, H=1)"
      ],
      "metadata": {
        "id": "XUFrrE7XhB64"
      }
    },
    {
      "cell_type": "code",
      "source": [
        "# Preparing the data\n",
        "full_windows, full_labels = make_windows(prices, 7, 1)\n",
        "\n",
        "len(full_windows), len(full_labels)"
      ],
      "metadata": {
        "colab": {
          "base_uri": "https://localhost:8080/"
        },
        "id": "i2tvSc8Chgfx",
        "outputId": "c1bba8df-7b34-40ba-c658-4deeeb8c20d2"
      },
      "execution_count": null,
      "outputs": [
        {
          "output_type": "execute_result",
          "data": {
            "text/plain": [
              "(2780, 2780)"
            ]
          },
          "metadata": {},
          "execution_count": 27
        }
      ]
    },
    {
      "cell_type": "code",
      "source": [
        "# Splitting the data\n",
        "x_train, x_test, y_train, y_test = make_time_train_test_split(full_windows, full_labels)\n",
        "\n",
        "x_train.shape, y_train.shape, x_test.shape, y_test.shape"
      ],
      "metadata": {
        "colab": {
          "base_uri": "https://localhost:8080/"
        },
        "id": "UsVC3zqDhbhJ",
        "outputId": "145eb7a5-20a9-44e2-90b3-29eb732449f1"
      },
      "execution_count": null,
      "outputs": [
        {
          "output_type": "execute_result",
          "data": {
            "text/plain": [
              "((2224, 7), (2224, 1), (556, 7), (556, 1))"
            ]
          },
          "metadata": {},
          "execution_count": 28
        }
      ]
    },
    {
      "cell_type": "code",
      "source": [
        "from tensorflow.keras import layers\n",
        "\n",
        "model_1 = tf.keras.Sequential([\n",
        "    layers.Dense(128, activation=\"relu\"),\n",
        "    layers.Dense(1, activation=\"linear\")\n",
        "], name=\"model_1_dense\")\n",
        "\n",
        "model_1.compile(loss=\"mae\",\n",
        "                optimizer=\"Adam\",\n",
        "                metrics=[\"mae\", \"mse\"])\n",
        "\n",
        "model_1_history = model_1.fit(x_train,\n",
        "                              y_train,\n",
        "                              epochs=100,\n",
        "                              verbose=1,\n",
        "                              batch_size=128,\n",
        "                              validation_data=(x_test, y_test),\n",
        "                              callbacks=[create_model_checkpoint(model_1.name)])"
      ],
      "metadata": {
        "colab": {
          "base_uri": "https://localhost:8080/"
        },
        "id": "04_LdOWdhH6B",
        "outputId": "866e2f32-4fd9-4c84-9600-e681acd7aa03"
      },
      "execution_count": null,
      "outputs": [
        {
          "output_type": "stream",
          "name": "stdout",
          "text": [
            "Epoch 1/100\n",
            "17/18 [===========================>..] - ETA: 0s - loss: 892.5579 - mae: 892.5579 - mse: 2944224.5000   \n",
            "Epoch 1: val_loss improved from inf to 2601.04077, saving model to models_experiment/model_1_dense\n",
            "18/18 [==============================] - 2s 51ms/step - loss: 884.1020 - mae: 884.1020 - mse: 2897712.0000 - val_loss: 2601.0408 - val_mae: 2601.0408 - val_mse: 16493631.0000\n",
            "Epoch 2/100\n",
            " 1/18 [>.............................] - ETA: 0s - loss: 452.7934 - mae: 452.7934 - mse: 568897.0625\n",
            "Epoch 2: val_loss improved from 2601.04077 to 1164.86621, saving model to models_experiment/model_1_dense\n",
            "18/18 [==============================] - 1s 31ms/step - loss: 277.7174 - mae: 277.7174 - mse: 315708.0000 - val_loss: 1164.8662 - val_mae: 1164.8662 - val_mse: 4521403.0000\n",
            "Epoch 3/100\n",
            " 1/18 [>.............................] - ETA: 0s - loss: 208.9985 - mae: 208.9985 - mse: 186498.4688\n",
            "Epoch 3: val_loss improved from 1164.86621 to 1117.90662, saving model to models_experiment/model_1_dense\n",
            "18/18 [==============================] - 1s 32ms/step - loss: 217.5196 - mae: 217.5196 - mse: 230729.1094 - val_loss: 1117.9066 - val_mae: 1117.9066 - val_mse: 4181354.2500\n",
            "Epoch 4/100\n",
            " 1/18 [>.............................] - ETA: 0s - loss: 180.8361 - mae: 180.8361 - mse: 122362.4297\n",
            "Epoch 4: val_loss improved from 1117.90662 to 1064.25073, saving model to models_experiment/model_1_dense\n",
            "18/18 [==============================] - 1s 32ms/step - loss: 199.6043 - mae: 199.6043 - mse: 204614.6719 - val_loss: 1064.2507 - val_mae: 1064.2507 - val_mse: 3793704.0000\n",
            "Epoch 5/100\n",
            " 1/18 [>.............................] - ETA: 0s - loss: 158.6393 - mae: 158.6393 - mse: 74321.3203\n",
            "Epoch 5: val_loss did not improve from 1064.25073\n",
            "18/18 [==============================] - 0s 4ms/step - loss: 191.0858 - mae: 191.0858 - mse: 186385.9531 - val_loss: 1098.8595 - val_mae: 1098.8595 - val_mse: 3698432.0000\n",
            "Epoch 6/100\n",
            " 1/18 [>.............................] - ETA: 0s - loss: 181.8020 - mae: 181.8020 - mse: 142184.5469\n",
            "Epoch 6: val_loss improved from 1064.25073 to 975.60803, saving model to models_experiment/model_1_dense\n",
            "18/18 [==============================] - 1s 30ms/step - loss: 183.2265 - mae: 183.2265 - mse: 175623.9844 - val_loss: 975.6080 - val_mae: 975.6080 - val_mse: 3115159.7500\n",
            "Epoch 7/100\n",
            " 1/18 [>.............................] - ETA: 0s - loss: 159.9725 - mae: 159.9725 - mse: 110196.2656\n",
            "Epoch 7: val_loss improved from 975.60803 to 968.48944, saving model to models_experiment/model_1_dense\n",
            "18/18 [==============================] - 1s 32ms/step - loss: 171.9558 - mae: 171.9558 - mse: 157258.5312 - val_loss: 968.4894 - val_mae: 968.4894 - val_mse: 2939993.7500\n",
            "Epoch 8/100\n",
            " 1/18 [>.............................] - ETA: 0s - loss: 200.0207 - mae: 200.0207 - mse: 177080.8438\n",
            "Epoch 8: val_loss improved from 968.48944 to 887.12463, saving model to models_experiment/model_1_dense\n",
            "18/18 [==============================] - 1s 30ms/step - loss: 163.4527 - mae: 163.4527 - mse: 141979.1875 - val_loss: 887.1246 - val_mae: 887.1246 - val_mse: 2663993.0000\n",
            "Epoch 9/100\n",
            "16/18 [=========================>....] - ETA: 0s - loss: 155.8251 - mae: 155.8251 - mse: 129837.4453\n",
            "Epoch 9: val_loss improved from 887.12463 to 867.43365, saving model to models_experiment/model_1_dense\n",
            "18/18 [==============================] - 1s 44ms/step - loss: 156.6630 - mae: 156.6630 - mse: 130250.6172 - val_loss: 867.4337 - val_mae: 867.4337 - val_mse: 2444254.5000\n",
            "Epoch 10/100\n",
            " 1/18 [>.............................] - ETA: 0s - loss: 163.5589 - mae: 163.5589 - mse: 182437.5312\n",
            "Epoch 10: val_loss did not improve from 867.43365\n",
            "18/18 [==============================] - 0s 3ms/step - loss: 151.3505 - mae: 151.3505 - mse: 124870.2578 - val_loss: 891.3778 - val_mae: 891.3778 - val_mse: 2405804.2500\n",
            "Epoch 11/100\n",
            " 1/18 [>.............................] - ETA: 0s - loss: 131.4929 - mae: 131.4929 - mse: 76773.2500\n",
            "Epoch 11: val_loss improved from 867.43365 to 843.44110, saving model to models_experiment/model_1_dense\n",
            "18/18 [==============================] - 1s 32ms/step - loss: 146.6185 - mae: 146.6185 - mse: 116268.2266 - val_loss: 843.4411 - val_mae: 843.4411 - val_mse: 2364239.7500\n",
            "Epoch 12/100\n",
            " 1/18 [>.............................] - ETA: 0s - loss: 200.3138 - mae: 200.3138 - mse: 243241.6562\n",
            "Epoch 12: val_loss improved from 843.44110 to 775.04913, saving model to models_experiment/model_1_dense\n",
            "18/18 [==============================] - 1s 31ms/step - loss: 142.7033 - mae: 142.7033 - mse: 109384.1484 - val_loss: 775.0491 - val_mae: 775.0491 - val_mse: 1965649.0000\n",
            "Epoch 13/100\n",
            " 1/18 [>.............................] - ETA: 0s - loss: 156.7407 - mae: 156.7407 - mse: 167477.6406\n",
            "Epoch 13: val_loss improved from 775.04913 to 752.59778, saving model to models_experiment/model_1_dense\n",
            "18/18 [==============================] - 1s 31ms/step - loss: 138.4382 - mae: 138.4382 - mse: 106280.8438 - val_loss: 752.5978 - val_mae: 752.5978 - val_mse: 1843082.8750\n",
            "Epoch 14/100\n",
            " 1/18 [>.............................] - ETA: 0s - loss: 147.8470 - mae: 147.8470 - mse: 121295.6641\n",
            "Epoch 14: val_loss did not improve from 752.59778\n",
            "18/18 [==============================] - 0s 4ms/step - loss: 131.6322 - mae: 131.6322 - mse: 98789.3281 - val_loss: 763.1772 - val_mae: 763.1772 - val_mse: 1811509.6250\n",
            "Epoch 15/100\n",
            " 1/18 [>.............................] - ETA: 0s - loss: 143.2831 - mae: 143.2831 - mse: 84818.3203\n",
            "Epoch 15: val_loss improved from 752.59778 to 736.23328, saving model to models_experiment/model_1_dense\n",
            "18/18 [==============================] - 1s 29ms/step - loss: 131.7982 - mae: 131.7982 - mse: 98830.1875 - val_loss: 736.2333 - val_mae: 736.2333 - val_mse: 1804793.0000\n",
            "Epoch 16/100\n",
            " 1/18 [>.............................] - ETA: 0s - loss: 139.3741 - mae: 139.3741 - mse: 75868.6328\n",
            "Epoch 16: val_loss improved from 736.23328 to 712.84088, saving model to models_experiment/model_1_dense\n",
            "18/18 [==============================] - 1s 31ms/step - loss: 140.1615 - mae: 140.1615 - mse: 103540.0078 - val_loss: 712.8409 - val_mae: 712.8409 - val_mse: 1704392.5000\n",
            "Epoch 17/100\n",
            " 1/18 [>.............................] - ETA: 0s - loss: 179.6564 - mae: 179.6564 - mse: 241189.1250\n",
            "Epoch 17: val_loss improved from 712.84088 to 685.08789, saving model to models_experiment/model_1_dense\n",
            "18/18 [==============================] - 1s 31ms/step - loss: 129.5527 - mae: 129.5527 - mse: 92066.0547 - val_loss: 685.0879 - val_mae: 685.0879 - val_mse: 1596112.7500\n",
            "Epoch 18/100\n",
            " 1/18 [>.............................] - ETA: 0s - loss: 157.2758 - mae: 157.2758 - mse: 113466.8594\n",
            "Epoch 18: val_loss improved from 685.08789 to 659.89618, saving model to models_experiment/model_1_dense\n",
            "18/18 [==============================] - 1s 33ms/step - loss: 125.2915 - mae: 125.2915 - mse: 87362.0000 - val_loss: 659.8962 - val_mae: 659.8962 - val_mse: 1505393.0000\n",
            "Epoch 19/100\n",
            " 1/18 [>.............................] - ETA: 0s - loss: 156.1494 - mae: 156.1494 - mse: 192582.0625\n",
            "Epoch 19: val_loss improved from 659.89618 to 648.88098, saving model to models_experiment/model_1_dense\n",
            "18/18 [==============================] - 1s 30ms/step - loss: 123.1767 - mae: 123.1767 - mse: 87004.6016 - val_loss: 648.8810 - val_mae: 648.8810 - val_mse: 1442570.5000\n",
            "Epoch 20/100\n",
            " 1/18 [>.............................] - ETA: 0s - loss: 148.7740 - mae: 148.7740 - mse: 238379.0156\n",
            "Epoch 20: val_loss did not improve from 648.88098\n",
            "18/18 [==============================] - 0s 4ms/step - loss: 122.0165 - mae: 122.0165 - mse: 83396.3516 - val_loss: 666.4237 - val_mae: 666.4237 - val_mse: 1459841.8750\n",
            "Epoch 21/100\n",
            " 1/18 [>.............................] - ETA: 0s - loss: 117.8776 - mae: 117.8776 - mse: 67984.1094\n",
            "Epoch 21: val_loss did not improve from 648.88098\n",
            "18/18 [==============================] - 0s 4ms/step - loss: 121.7519 - mae: 121.7519 - mse: 84138.1953 - val_loss: 671.0498 - val_mae: 671.0498 - val_mse: 1460042.8750\n",
            "Epoch 22/100\n",
            " 1/18 [>.............................] - ETA: 0s - loss: 126.3638 - mae: 126.3638 - mse: 82398.5625\n",
            "Epoch 22: val_loss did not improve from 648.88098\n",
            "18/18 [==============================] - 0s 3ms/step - loss: 116.8333 - mae: 116.8333 - mse: 80234.3125 - val_loss: 717.8033 - val_mae: 717.8033 - val_mse: 1566143.2500\n",
            "Epoch 23/100\n",
            " 1/18 [>.............................] - ETA: 0s - loss: 95.7482 - mae: 95.7482 - mse: 44010.7539\n",
            "Epoch 23: val_loss did not improve from 648.88098\n",
            "18/18 [==============================] - 0s 4ms/step - loss: 120.3634 - mae: 120.3634 - mse: 81696.7500 - val_loss: 672.0087 - val_mae: 672.0087 - val_mse: 1446186.6250\n",
            "Epoch 24/100\n",
            " 1/18 [>.............................] - ETA: 0s - loss: 113.0976 - mae: 113.0976 - mse: 87944.2656\n",
            "Epoch 24: val_loss did not improve from 648.88098\n",
            "18/18 [==============================] - 0s 4ms/step - loss: 118.7875 - mae: 118.7875 - mse: 79005.0547 - val_loss: 778.7844 - val_mae: 778.7844 - val_mse: 1736934.6250\n",
            "Epoch 25/100\n",
            " 1/18 [>.............................] - ETA: 0s - loss: 160.3549 - mae: 160.3549 - mse: 152400.6094\n",
            "Epoch 25: val_loss did not improve from 648.88098\n",
            "18/18 [==============================] - 0s 4ms/step - loss: 119.3647 - mae: 119.3647 - mse: 79163.8750 - val_loss: 673.1351 - val_mae: 673.1351 - val_mse: 1486410.2500\n",
            "Epoch 26/100\n",
            " 1/18 [>.............................] - ETA: 0s - loss: 104.3847 - mae: 104.3847 - mse: 43810.6211\n",
            "Epoch 26: val_loss did not improve from 648.88098\n",
            "18/18 [==============================] - 0s 4ms/step - loss: 120.6880 - mae: 120.6880 - mse: 82289.8828 - val_loss: 771.5767 - val_mae: 771.5767 - val_mse: 1804836.7500\n",
            "Epoch 27/100\n",
            " 1/18 [>.............................] - ETA: 0s - loss: 142.6098 - mae: 142.6098 - mse: 85858.3359\n",
            "Epoch 27: val_loss improved from 648.88098 to 615.13940, saving model to models_experiment/model_1_dense\n",
            "18/18 [==============================] - 1s 32ms/step - loss: 123.0792 - mae: 123.0792 - mse: 82137.5234 - val_loss: 615.1394 - val_mae: 615.1394 - val_mse: 1314590.1250\n",
            "Epoch 28/100\n",
            " 1/18 [>.............................] - ETA: 0s - loss: 77.2564 - mae: 77.2564 - mse: 28711.1484\n",
            "Epoch 28: val_loss did not improve from 615.13940\n",
            "18/18 [==============================] - 0s 5ms/step - loss: 115.2133 - mae: 115.2133 - mse: 78219.7422 - val_loss: 672.6933 - val_mae: 672.6933 - val_mse: 1429919.5000\n",
            "Epoch 29/100\n",
            " 1/18 [>.............................] - ETA: 0s - loss: 117.6002 - mae: 117.6002 - mse: 75376.3750\n",
            "Epoch 29: val_loss did not improve from 615.13940\n",
            "18/18 [==============================] - 0s 4ms/step - loss: 117.6552 - mae: 117.6552 - mse: 78514.8906 - val_loss: 623.0716 - val_mae: 623.0716 - val_mse: 1321583.5000\n",
            "Epoch 30/100\n",
            " 1/18 [>.............................] - ETA: 0s - loss: 120.2043 - mae: 120.2043 - mse: 75290.7578\n",
            "Epoch 30: val_loss improved from 615.13940 to 603.36340, saving model to models_experiment/model_1_dense\n",
            "18/18 [==============================] - 1s 31ms/step - loss: 116.6975 - mae: 116.6975 - mse: 79932.7422 - val_loss: 603.3634 - val_mae: 603.3634 - val_mse: 1293109.8750\n",
            "Epoch 31/100\n",
            " 1/18 [>.............................] - ETA: 0s - loss: 132.4254 - mae: 132.4254 - mse: 71277.9375\n",
            "Epoch 31: val_loss did not improve from 603.36340\n",
            "18/18 [==============================] - 0s 5ms/step - loss: 117.3588 - mae: 117.3588 - mse: 78256.2500 - val_loss: 753.8775 - val_mae: 753.8775 - val_mse: 1647514.6250\n",
            "Epoch 32/100\n",
            " 1/18 [>.............................] - ETA: 0s - loss: 135.2299 - mae: 135.2299 - mse: 76370.7188\n",
            "Epoch 32: val_loss improved from 603.36340 to 599.48694, saving model to models_experiment/model_1_dense\n",
            "18/18 [==============================] - 1s 33ms/step - loss: 116.6830 - mae: 116.6830 - mse: 77414.8828 - val_loss: 599.4869 - val_mae: 599.4869 - val_mse: 1280458.0000\n",
            "Epoch 33/100\n",
            " 1/18 [>.............................] - ETA: 0s - loss: 142.5210 - mae: 142.5210 - mse: 145093.7188\n",
            "Epoch 33: val_loss improved from 599.48694 to 594.95642, saving model to models_experiment/model_1_dense\n",
            "18/18 [==============================] - 1s 31ms/step - loss: 114.1623 - mae: 114.1623 - mse: 78073.8750 - val_loss: 594.9564 - val_mae: 594.9564 - val_mse: 1266781.6250\n",
            "Epoch 34/100\n",
            " 1/18 [>.............................] - ETA: 0s - loss: 121.4483 - mae: 121.4483 - mse: 103891.3438\n",
            "Epoch 34: val_loss improved from 594.95642 to 593.48755, saving model to models_experiment/model_1_dense\n",
            "18/18 [==============================] - 1s 32ms/step - loss: 119.6396 - mae: 119.6396 - mse: 78873.3594 - val_loss: 593.4875 - val_mae: 593.4875 - val_mse: 1262681.1250\n",
            "Epoch 35/100\n",
            " 1/18 [>.............................] - ETA: 0s - loss: 92.7485 - mae: 92.7485 - mse: 44116.6172\n",
            "Epoch 35: val_loss did not improve from 593.48755\n",
            "18/18 [==============================] - 0s 4ms/step - loss: 124.9795 - mae: 124.9795 - mse: 86007.0859 - val_loss: 865.8549 - val_mae: 865.8549 - val_mse: 2010366.6250\n",
            "Epoch 36/100\n",
            " 1/18 [>.............................] - ETA: 0s - loss: 130.9941 - mae: 130.9941 - mse: 82385.6172\n",
            "Epoch 36: val_loss did not improve from 593.48755\n",
            "18/18 [==============================] - 0s 5ms/step - loss: 136.0750 - mae: 136.0750 - mse: 86260.2109 - val_loss: 625.7421 - val_mae: 625.7421 - val_mse: 1331754.8750\n",
            "Epoch 37/100\n",
            " 1/18 [>.............................] - ETA: 0s - loss: 108.9474 - mae: 108.9474 - mse: 49428.8047\n",
            "Epoch 37: val_loss did not improve from 593.48755\n",
            "18/18 [==============================] - 0s 4ms/step - loss: 116.5713 - mae: 116.5713 - mse: 78910.7734 - val_loss: 609.7147 - val_mae: 609.7147 - val_mse: 1277761.3750\n",
            "Epoch 38/100\n",
            " 1/18 [>.............................] - ETA: 0s - loss: 137.2406 - mae: 137.2406 - mse: 87531.9688\n",
            "Epoch 38: val_loss improved from 593.48755 to 591.07050, saving model to models_experiment/model_1_dense\n",
            "18/18 [==============================] - 1s 32ms/step - loss: 111.5880 - mae: 111.5880 - mse: 74491.9688 - val_loss: 591.0705 - val_mae: 591.0705 - val_mse: 1252452.5000\n",
            "Epoch 39/100\n",
            " 1/18 [>.............................] - ETA: 0s - loss: 100.6688 - mae: 100.6688 - mse: 59226.0234\n",
            "Epoch 39: val_loss did not improve from 591.07050\n",
            "18/18 [==============================] - 0s 4ms/step - loss: 111.8272 - mae: 111.8272 - mse: 74026.2266 - val_loss: 595.8988 - val_mae: 595.8988 - val_mse: 1251546.7500\n",
            "Epoch 40/100\n",
            " 1/18 [>.............................] - ETA: 0s - loss: 86.8354 - mae: 86.8354 - mse: 30412.4961\n",
            "Epoch 40: val_loss did not improve from 591.07050\n",
            "18/18 [==============================] - 0s 4ms/step - loss: 111.8852 - mae: 111.8852 - mse: 74892.5000 - val_loss: 606.0487 - val_mae: 606.0487 - val_mse: 1265333.1250\n",
            "Epoch 41/100\n",
            " 1/18 [>.............................] - ETA: 0s - loss: 97.1691 - mae: 97.1691 - mse: 58676.0781\n",
            "Epoch 41: val_loss did not improve from 591.07050\n",
            "18/18 [==============================] - 0s 4ms/step - loss: 111.5134 - mae: 111.5134 - mse: 74611.5078 - val_loss: 624.0530 - val_mae: 624.0530 - val_mse: 1318883.0000\n",
            "Epoch 42/100\n",
            " 1/18 [>.............................] - ETA: 0s - loss: 103.2358 - mae: 103.2358 - mse: 59293.3789\n",
            "Epoch 42: val_loss did not improve from 591.07050\n",
            "18/18 [==============================] - 0s 5ms/step - loss: 114.6187 - mae: 114.6187 - mse: 76735.7734 - val_loss: 658.5924 - val_mae: 658.5924 - val_mse: 1375330.8750\n",
            "Epoch 43/100\n",
            " 1/18 [>.............................] - ETA: 0s - loss: 113.3086 - mae: 113.3086 - mse: 72713.3281\n",
            "Epoch 43: val_loss did not improve from 591.07050\n",
            "18/18 [==============================] - 0s 4ms/step - loss: 117.9096 - mae: 117.9096 - mse: 76127.0781 - val_loss: 632.1367 - val_mae: 632.1367 - val_mse: 1314341.7500\n",
            "Epoch 44/100\n",
            " 1/18 [>.............................] - ETA: 0s - loss: 134.3604 - mae: 134.3604 - mse: 77656.7188\n",
            "Epoch 44: val_loss did not improve from 591.07050\n",
            "18/18 [==============================] - 0s 5ms/step - loss: 118.6367 - mae: 118.6367 - mse: 76947.6094 - val_loss: 605.2048 - val_mae: 605.2048 - val_mse: 1261462.3750\n",
            "Epoch 45/100\n",
            " 1/18 [>.............................] - ETA: 0s - loss: 93.2360 - mae: 93.2360 - mse: 46315.4180\n",
            "Epoch 45: val_loss did not improve from 591.07050\n",
            "18/18 [==============================] - 0s 4ms/step - loss: 111.5186 - mae: 111.5186 - mse: 74911.3984 - val_loss: 646.0943 - val_mae: 646.0943 - val_mse: 1368784.5000\n",
            "Epoch 46/100\n",
            "18/18 [==============================] - ETA: 0s - loss: 116.2363 - mae: 116.2363 - mse: 77902.9531\n",
            "Epoch 46: val_loss did not improve from 591.07050\n",
            "18/18 [==============================] - 0s 5ms/step - loss: 116.2363 - mae: 116.2363 - mse: 77902.9531 - val_loss: 598.1534 - val_mae: 598.1534 - val_mse: 1259711.2500\n",
            "Epoch 47/100\n",
            " 1/18 [>.............................] - ETA: 0s - loss: 97.6900 - mae: 97.6900 - mse: 52283.4180\n",
            "Epoch 47: val_loss did not improve from 591.07050\n",
            "18/18 [==============================] - 0s 4ms/step - loss: 111.9067 - mae: 111.9067 - mse: 74536.7188 - val_loss: 691.9625 - val_mae: 691.9625 - val_mse: 1450878.8750\n",
            "Epoch 48/100\n",
            " 1/18 [>.............................] - ETA: 0s - loss: 145.3583 - mae: 145.3583 - mse: 101413.4531\n",
            "Epoch 48: val_loss did not improve from 591.07050\n",
            "18/18 [==============================] - 0s 4ms/step - loss: 113.0937 - mae: 113.0937 - mse: 73852.8672 - val_loss: 593.5264 - val_mae: 593.5264 - val_mse: 1248443.1250\n",
            "Epoch 49/100\n",
            " 1/18 [>.............................] - ETA: 0s - loss: 91.2614 - mae: 91.2614 - mse: 63495.7578\n",
            "Epoch 49: val_loss did not improve from 591.07050\n",
            "18/18 [==============================] - 0s 4ms/step - loss: 110.8148 - mae: 110.8148 - mse: 74960.6719 - val_loss: 592.3341 - val_mae: 592.3341 - val_mse: 1244205.8750\n",
            "Epoch 50/100\n",
            " 1/18 [>.............................] - ETA: 0s - loss: 108.6379 - mae: 108.6379 - mse: 53582.9219\n",
            "Epoch 50: val_loss improved from 591.07050 to 581.00238, saving model to models_experiment/model_1_dense\n",
            "18/18 [==============================] - 1s 47ms/step - loss: 111.9427 - mae: 111.9427 - mse: 73695.7969 - val_loss: 581.0024 - val_mae: 581.0024 - val_mse: 1220533.6250\n",
            "Epoch 51/100\n",
            " 1/18 [>.............................] - ETA: 0s - loss: 102.1370 - mae: 102.1370 - mse: 55298.9258\n",
            "Epoch 51: val_loss did not improve from 581.00238\n",
            "18/18 [==============================] - 0s 4ms/step - loss: 111.7602 - mae: 111.7602 - mse: 75011.7734 - val_loss: 593.2193 - val_mae: 593.2193 - val_mse: 1245317.5000\n",
            "Epoch 52/100\n",
            " 1/18 [>.............................] - ETA: 0s - loss: 127.2926 - mae: 127.2926 - mse: 125554.6719\n",
            "Epoch 52: val_loss did not improve from 581.00238\n",
            "18/18 [==============================] - 0s 4ms/step - loss: 111.9151 - mae: 111.9151 - mse: 74280.3672 - val_loss: 582.4879 - val_mae: 582.4879 - val_mse: 1224103.0000\n",
            "Epoch 53/100\n",
            " 1/18 [>.............................] - ETA: 0s - loss: 78.0948 - mae: 78.0948 - mse: 40009.0469\n",
            "Epoch 53: val_loss did not improve from 581.00238\n",
            "18/18 [==============================] - 0s 3ms/step - loss: 110.4402 - mae: 110.4402 - mse: 73372.0469 - val_loss: 606.1244 - val_mae: 606.1244 - val_mse: 1267998.0000\n",
            "Epoch 54/100\n",
            " 1/18 [>.............................] - ETA: 0s - loss: 137.2819 - mae: 137.2819 - mse: 111105.4844\n",
            "Epoch 54: val_loss did not improve from 581.00238\n",
            "18/18 [==============================] - 0s 4ms/step - loss: 108.6092 - mae: 108.6092 - mse: 70897.9609 - val_loss: 600.9775 - val_mae: 600.9775 - val_mse: 1241499.3750\n",
            "Epoch 55/100\n",
            " 1/18 [>.............................] - ETA: 0s - loss: 128.8976 - mae: 128.8976 - mse: 124796.2969\n",
            "Epoch 55: val_loss improved from 581.00238 to 576.03149, saving model to models_experiment/model_1_dense\n",
            "18/18 [==============================] - 1s 31ms/step - loss: 109.3969 - mae: 109.3969 - mse: 73141.8203 - val_loss: 576.0315 - val_mae: 576.0315 - val_mse: 1201997.0000\n",
            "Epoch 56/100\n",
            " 1/18 [>.............................] - ETA: 0s - loss: 134.5981 - mae: 134.5981 - mse: 97881.0312\n",
            "Epoch 56: val_loss did not improve from 576.03149\n",
            "18/18 [==============================] - 0s 5ms/step - loss: 110.2781 - mae: 110.2781 - mse: 72924.0469 - val_loss: 648.1605 - val_mae: 648.1605 - val_mse: 1338310.3750\n",
            "Epoch 57/100\n",
            " 1/18 [>.............................] - ETA: 0s - loss: 110.9324 - mae: 110.9324 - mse: 72988.9531\n",
            "Epoch 57: val_loss did not improve from 576.03149\n",
            "18/18 [==============================] - 0s 5ms/step - loss: 114.4839 - mae: 114.4839 - mse: 74589.3125 - val_loss: 578.6230 - val_mae: 578.6230 - val_mse: 1202614.7500\n",
            "Epoch 58/100\n",
            " 1/18 [>.............................] - ETA: 0s - loss: 157.9503 - mae: 157.9503 - mse: 206333.1875\n",
            "Epoch 58: val_loss did not improve from 576.03149\n",
            "18/18 [==============================] - 0s 4ms/step - loss: 107.4296 - mae: 107.4296 - mse: 70551.1719 - val_loss: 579.4762 - val_mae: 579.4762 - val_mse: 1202397.2500\n",
            "Epoch 59/100\n",
            " 1/18 [>.............................] - ETA: 0s - loss: 109.7851 - mae: 109.7851 - mse: 56999.3047\n",
            "Epoch 59: val_loss did not improve from 576.03149\n",
            "18/18 [==============================] - 0s 5ms/step - loss: 108.1127 - mae: 108.1127 - mse: 70566.4141 - val_loss: 576.1826 - val_mae: 576.1826 - val_mse: 1200994.2500\n",
            "Epoch 60/100\n",
            " 1/18 [>.............................] - ETA: 0s - loss: 83.2336 - mae: 83.2336 - mse: 35744.4961\n",
            "Epoch 60: val_loss did not improve from 576.03149\n",
            "18/18 [==============================] - 0s 4ms/step - loss: 107.9434 - mae: 107.9434 - mse: 71761.0469 - val_loss: 606.4365 - val_mae: 606.4365 - val_mse: 1259574.7500\n",
            "Epoch 61/100\n",
            " 1/18 [>.............................] - ETA: 0s - loss: 142.2157 - mae: 142.2157 - mse: 126331.9062\n",
            "Epoch 61: val_loss did not improve from 576.03149\n",
            "18/18 [==============================] - 0s 5ms/step - loss: 109.0441 - mae: 109.0441 - mse: 71362.8750 - val_loss: 644.1257 - val_mae: 644.1257 - val_mse: 1347014.8750\n",
            "Epoch 62/100\n",
            " 1/18 [>.............................] - ETA: 0s - loss: 127.4027 - mae: 127.4027 - mse: 115507.9453\n",
            "Epoch 62: val_loss did not improve from 576.03149\n",
            "18/18 [==============================] - 0s 4ms/step - loss: 112.9152 - mae: 112.9152 - mse: 73191.1328 - val_loss: 641.0048 - val_mae: 641.0048 - val_mse: 1318237.3750\n",
            "Epoch 63/100\n",
            " 1/18 [>.............................] - ETA: 0s - loss: 131.3183 - mae: 131.3183 - mse: 109973.3672\n",
            "Epoch 63: val_loss did not improve from 576.03149\n",
            "18/18 [==============================] - 0s 5ms/step - loss: 112.5427 - mae: 112.5427 - mse: 73210.9531 - val_loss: 704.2997 - val_mae: 704.2997 - val_mse: 1513486.3750\n",
            "Epoch 64/100\n",
            " 1/18 [>.............................] - ETA: 0s - loss: 135.9695 - mae: 135.9695 - mse: 86543.3828\n",
            "Epoch 64: val_loss did not improve from 576.03149\n",
            "18/18 [==============================] - 0s 5ms/step - loss: 113.9715 - mae: 113.9715 - mse: 74648.6250 - val_loss: 704.1297 - val_mae: 704.1297 - val_mse: 1467841.5000\n",
            "Epoch 65/100\n",
            " 1/18 [>.............................] - ETA: 0s - loss: 100.9908 - mae: 100.9908 - mse: 41999.6562\n",
            "Epoch 65: val_loss did not improve from 576.03149\n",
            "18/18 [==============================] - 0s 4ms/step - loss: 110.5741 - mae: 110.5741 - mse: 73364.6875 - val_loss: 576.6819 - val_mae: 576.6819 - val_mse: 1197685.1250\n",
            "Epoch 66/100\n",
            " 1/18 [>.............................] - ETA: 0s - loss: 114.2258 - mae: 114.2258 - mse: 55046.3828\n",
            "Epoch 66: val_loss improved from 576.03149 to 573.48035, saving model to models_experiment/model_1_dense\n",
            "18/18 [==============================] - 1s 34ms/step - loss: 107.5989 - mae: 107.5989 - mse: 70872.3594 - val_loss: 573.4803 - val_mae: 573.4803 - val_mse: 1186283.8750\n",
            "Epoch 67/100\n",
            " 1/18 [>.............................] - ETA: 0s - loss: 82.1998 - mae: 82.1998 - mse: 37977.0703\n",
            "Epoch 67: val_loss did not improve from 573.48035\n",
            "18/18 [==============================] - 0s 4ms/step - loss: 107.2955 - mae: 107.2955 - mse: 70896.4062 - val_loss: 589.6918 - val_mae: 589.6918 - val_mse: 1209635.0000\n",
            "Epoch 68/100\n",
            " 1/18 [>.............................] - ETA: 0s - loss: 92.1178 - mae: 92.1178 - mse: 37240.2930\n",
            "Epoch 68: val_loss did not improve from 573.48035\n",
            "18/18 [==============================] - 0s 4ms/step - loss: 111.3395 - mae: 111.3395 - mse: 74773.6328 - val_loss: 587.7553 - val_mae: 587.7553 - val_mse: 1204755.1250\n",
            "Epoch 69/100\n",
            " 1/18 [>.............................] - ETA: 0s - loss: 94.8983 - mae: 94.8983 - mse: 63098.2656\n",
            "Epoch 69: val_loss improved from 573.48035 to 570.18066, saving model to models_experiment/model_1_dense\n",
            "18/18 [==============================] - 1s 32ms/step - loss: 107.4963 - mae: 107.4963 - mse: 70512.5000 - val_loss: 570.1807 - val_mae: 570.1807 - val_mse: 1181708.8750\n",
            "Epoch 70/100\n",
            " 1/18 [>.............................] - ETA: 0s - loss: 100.8624 - mae: 100.8624 - mse: 46333.4492\n",
            "Epoch 70: val_loss did not improve from 570.18066\n",
            "18/18 [==============================] - 0s 4ms/step - loss: 107.1158 - mae: 107.1158 - mse: 70274.1172 - val_loss: 570.6339 - val_mae: 570.6339 - val_mse: 1183009.7500\n",
            "Epoch 71/100\n",
            " 1/18 [>.............................] - ETA: 0s - loss: 147.6645 - mae: 147.6645 - mse: 142051.2031\n",
            "Epoch 71: val_loss did not improve from 570.18066\n",
            "18/18 [==============================] - 0s 4ms/step - loss: 106.7338 - mae: 106.7338 - mse: 70426.9141 - val_loss: 573.8566 - val_mae: 573.8566 - val_mse: 1190031.0000\n",
            "Epoch 72/100\n",
            " 1/18 [>.............................] - ETA: 0s - loss: 125.0770 - mae: 125.0770 - mse: 90916.8750\n",
            "Epoch 72: val_loss did not improve from 570.18066\n",
            "18/18 [==============================] - 0s 5ms/step - loss: 118.0649 - mae: 118.0649 - mse: 76362.9453 - val_loss: 712.3799 - val_mae: 712.3799 - val_mse: 1537277.6250\n",
            "Epoch 73/100\n",
            " 1/18 [>.............................] - ETA: 0s - loss: 116.0689 - mae: 116.0689 - mse: 66944.8594\n",
            "Epoch 73: val_loss did not improve from 570.18066\n",
            "18/18 [==============================] - 0s 5ms/step - loss: 111.8873 - mae: 111.8873 - mse: 74296.2812 - val_loss: 594.1305 - val_mae: 594.1305 - val_mse: 1214131.1250\n",
            "Epoch 74/100\n",
            " 1/18 [>.............................] - ETA: 0s - loss: 91.2437 - mae: 91.2437 - mse: 37124.3555\n",
            "Epoch 74: val_loss did not improve from 570.18066\n",
            "18/18 [==============================] - 0s 5ms/step - loss: 108.1408 - mae: 108.1408 - mse: 69863.0000 - val_loss: 630.6678 - val_mae: 630.6678 - val_mse: 1304972.0000\n",
            "Epoch 75/100\n",
            " 1/18 [>.............................] - ETA: 0s - loss: 130.9856 - mae: 130.9856 - mse: 96430.1406\n",
            "Epoch 75: val_loss did not improve from 570.18066\n",
            "18/18 [==============================] - 0s 5ms/step - loss: 108.3386 - mae: 108.3386 - mse: 71553.6016 - val_loss: 576.1794 - val_mae: 576.1794 - val_mse: 1184583.3750\n",
            "Epoch 76/100\n",
            " 1/18 [>.............................] - ETA: 0s - loss: 101.6532 - mae: 101.6532 - mse: 55165.0000\n",
            "Epoch 76: val_loss did not improve from 570.18066\n",
            "18/18 [==============================] - 0s 4ms/step - loss: 108.6008 - mae: 108.6008 - mse: 70211.0078 - val_loss: 570.5092 - val_mae: 570.5092 - val_mse: 1180276.2500\n",
            "Epoch 77/100\n",
            " 1/18 [>.............................] - ETA: 0s - loss: 85.0081 - mae: 85.0081 - mse: 43789.9023\n",
            "Epoch 77: val_loss did not improve from 570.18066\n",
            "18/18 [==============================] - 0s 4ms/step - loss: 111.2424 - mae: 111.2424 - mse: 73807.9453 - val_loss: 585.4716 - val_mae: 585.4716 - val_mse: 1196657.1250\n",
            "Epoch 78/100\n",
            " 1/18 [>.............................] - ETA: 0s - loss: 99.3879 - mae: 99.3879 - mse: 47891.0898\n",
            "Epoch 78: val_loss did not improve from 570.18066\n",
            "18/18 [==============================] - 0s 4ms/step - loss: 108.4453 - mae: 108.4453 - mse: 71117.9453 - val_loss: 581.5976 - val_mae: 581.5976 - val_mse: 1190438.3750\n",
            "Epoch 79/100\n",
            " 1/18 [>.............................] - ETA: 0s - loss: 121.8669 - mae: 121.8669 - mse: 81355.6953\n",
            "Epoch 79: val_loss did not improve from 570.18066\n",
            "18/18 [==============================] - 0s 4ms/step - loss: 107.6559 - mae: 107.6559 - mse: 70144.1641 - val_loss: 599.4128 - val_mae: 599.4128 - val_mse: 1221513.5000\n",
            "Epoch 80/100\n",
            " 1/18 [>.............................] - ETA: 0s - loss: 110.8254 - mae: 110.8254 - mse: 60093.6211\n",
            "Epoch 80: val_loss did not improve from 570.18066\n",
            "18/18 [==============================] - 0s 5ms/step - loss: 110.2661 - mae: 110.2661 - mse: 72119.4766 - val_loss: 639.7318 - val_mae: 639.7318 - val_mse: 1327738.7500\n",
            "Epoch 81/100\n",
            " 1/18 [>.............................] - ETA: 0s - loss: 95.5479 - mae: 95.5479 - mse: 90556.1641\n",
            "Epoch 81: val_loss did not improve from 570.18066\n",
            "18/18 [==============================] - 0s 4ms/step - loss: 106.5981 - mae: 106.5981 - mse: 70658.5625 - val_loss: 581.1327 - val_mae: 581.1327 - val_mse: 1187028.7500\n",
            "Epoch 82/100\n",
            " 1/18 [>.............................] - ETA: 0s - loss: 139.9672 - mae: 139.9672 - mse: 149448.7031\n",
            "Epoch 82: val_loss improved from 570.18066 to 569.75470, saving model to models_experiment/model_1_dense\n",
            "18/18 [==============================] - 1s 31ms/step - loss: 106.6696 - mae: 106.6696 - mse: 69276.8359 - val_loss: 569.7547 - val_mae: 569.7547 - val_mse: 1174421.5000\n",
            "Epoch 83/100\n",
            " 1/18 [>.............................] - ETA: 0s - loss: 87.8685 - mae: 87.8685 - mse: 36462.0352\n",
            "Epoch 83: val_loss did not improve from 569.75470\n",
            "18/18 [==============================] - 0s 4ms/step - loss: 105.8470 - mae: 105.8470 - mse: 69762.3984 - val_loss: 570.0660 - val_mae: 570.0660 - val_mse: 1176834.6250\n",
            "Epoch 84/100\n",
            " 1/18 [>.............................] - ETA: 0s - loss: 104.9348 - mae: 104.9348 - mse: 57219.5234\n",
            "Epoch 84: val_loss did not improve from 569.75470\n",
            "18/18 [==============================] - 0s 4ms/step - loss: 106.5975 - mae: 106.5975 - mse: 70166.3047 - val_loss: 578.3945 - val_mae: 578.3945 - val_mse: 1194793.2500\n",
            "Epoch 85/100\n",
            " 1/18 [>.............................] - ETA: 0s - loss: 81.5921 - mae: 81.5921 - mse: 30906.9766\n",
            "Epoch 85: val_loss did not improve from 569.75470\n",
            "18/18 [==============================] - 0s 4ms/step - loss: 107.3387 - mae: 107.3387 - mse: 69458.5469 - val_loss: 571.2027 - val_mae: 571.2027 - val_mse: 1173274.1250\n",
            "Epoch 86/100\n",
            " 1/18 [>.............................] - ETA: 0s - loss: 127.3549 - mae: 127.3549 - mse: 78510.9062\n",
            "Epoch 86: val_loss did not improve from 569.75470\n",
            "18/18 [==============================] - 0s 4ms/step - loss: 106.5453 - mae: 106.5453 - mse: 69569.7578 - val_loss: 682.1758 - val_mae: 682.1758 - val_mse: 1441016.0000\n",
            "Epoch 87/100\n",
            " 1/18 [>.............................] - ETA: 0s - loss: 131.9084 - mae: 131.9084 - mse: 94035.6406\n",
            "Epoch 87: val_loss did not improve from 569.75470\n",
            "18/18 [==============================] - 0s 4ms/step - loss: 109.0648 - mae: 109.0648 - mse: 71674.6562 - val_loss: 648.4545 - val_mae: 648.4545 - val_mse: 1327730.1250\n",
            "Epoch 88/100\n",
            " 1/18 [>.............................] - ETA: 0s - loss: 145.7042 - mae: 145.7042 - mse: 159654.2812\n",
            "Epoch 88: val_loss did not improve from 569.75470\n",
            "18/18 [==============================] - 0s 4ms/step - loss: 112.3449 - mae: 112.3449 - mse: 69942.4141 - val_loss: 760.2106 - val_mae: 760.2106 - val_mse: 1697858.1250\n",
            "Epoch 89/100\n",
            " 1/18 [>.............................] - ETA: 0s - loss: 143.9889 - mae: 143.9889 - mse: 98716.9297\n",
            "Epoch 89: val_loss did not improve from 569.75470\n",
            "18/18 [==============================] - 0s 4ms/step - loss: 120.6038 - mae: 120.6038 - mse: 78099.4688 - val_loss: 597.9555 - val_mae: 597.9555 - val_mse: 1240519.3750\n",
            "Epoch 90/100\n",
            "15/18 [========================>.....] - ETA: 0s - loss: 106.3213 - mae: 106.3213 - mse: 68516.3281\n",
            "Epoch 90: val_loss did not improve from 569.75470\n",
            "18/18 [==============================] - 0s 7ms/step - loss: 111.7465 - mae: 111.7465 - mse: 74036.8750 - val_loss: 587.3923 - val_mae: 587.3923 - val_mse: 1221138.8750\n",
            "Epoch 91/100\n",
            " 1/18 [>.............................] - ETA: 0s - loss: 95.3910 - mae: 95.3910 - mse: 78522.0859\n",
            "Epoch 91: val_loss did not improve from 569.75470\n",
            "18/18 [==============================] - 0s 4ms/step - loss: 106.1612 - mae: 106.1612 - mse: 69452.5703 - val_loss: 570.4405 - val_mae: 570.4405 - val_mse: 1177661.8750\n",
            "Epoch 92/100\n",
            " 1/18 [>.............................] - ETA: 0s - loss: 96.6873 - mae: 96.6873 - mse: 38545.1172\n",
            "Epoch 92: val_loss did not improve from 569.75470\n",
            "18/18 [==============================] - 0s 4ms/step - loss: 106.1164 - mae: 106.1164 - mse: 69266.0234 - val_loss: 582.6757 - val_mae: 582.6757 - val_mse: 1203116.6250\n",
            "Epoch 93/100\n",
            " 1/18 [>.............................] - ETA: 0s - loss: 142.7994 - mae: 142.7994 - mse: 177575.2500\n",
            "Epoch 93: val_loss did not improve from 569.75470\n",
            "18/18 [==============================] - 0s 5ms/step - loss: 105.7118 - mae: 105.7118 - mse: 68464.7422 - val_loss: 610.6383 - val_mae: 610.6383 - val_mse: 1243634.8750\n",
            "Epoch 94/100\n",
            " 1/18 [>.............................] - ETA: 0s - loss: 90.4723 - mae: 90.4723 - mse: 42755.4219\n",
            "Epoch 94: val_loss did not improve from 569.75470\n",
            "18/18 [==============================] - 0s 4ms/step - loss: 107.2905 - mae: 107.2905 - mse: 68737.4844 - val_loss: 619.6375 - val_mae: 619.6375 - val_mse: 1279551.1250\n",
            "Epoch 95/100\n",
            " 1/18 [>.............................] - ETA: 0s - loss: 89.4538 - mae: 89.4538 - mse: 32548.7402\n",
            "Epoch 95: val_loss did not improve from 569.75470\n",
            "18/18 [==============================] - 0s 4ms/step - loss: 105.2944 - mae: 105.2944 - mse: 67214.0859 - val_loss: 574.6506 - val_mae: 574.6506 - val_mse: 1184418.7500\n",
            "Epoch 96/100\n",
            " 1/18 [>.............................] - ETA: 0s - loss: 87.5860 - mae: 87.5860 - mse: 41199.5469\n",
            "Epoch 96: val_loss did not improve from 569.75470\n",
            "18/18 [==============================] - 0s 5ms/step - loss: 106.4234 - mae: 106.4234 - mse: 68015.7500 - val_loss: 570.2849 - val_mae: 570.2849 - val_mse: 1170685.0000\n",
            "Epoch 97/100\n",
            " 1/18 [>.............................] - ETA: 0s - loss: 100.2542 - mae: 100.2542 - mse: 92082.0938\n",
            "Epoch 97: val_loss did not improve from 569.75470\n",
            "18/18 [==============================] - 0s 4ms/step - loss: 108.5449 - mae: 108.5449 - mse: 70632.3047 - val_loss: 637.5930 - val_mae: 637.5930 - val_mse: 1301122.5000\n",
            "Epoch 98/100\n",
            " 1/18 [>.............................] - ETA: 0s - loss: 88.3103 - mae: 88.3103 - mse: 35248.0312\n",
            "Epoch 98: val_loss did not improve from 569.75470\n",
            "18/18 [==============================] - 0s 5ms/step - loss: 113.6386 - mae: 113.6386 - mse: 70628.3047 - val_loss: 606.7859 - val_mae: 606.7859 - val_mse: 1234252.1250\n",
            "Epoch 99/100\n",
            " 1/18 [>.............................] - ETA: 0s - loss: 110.7694 - mae: 110.7694 - mse: 57970.2734\n",
            "Epoch 99: val_loss improved from 569.75470 to 567.34869, saving model to models_experiment/model_1_dense\n",
            "18/18 [==============================] - 1s 33ms/step - loss: 118.1759 - mae: 118.1759 - mse: 73791.6094 - val_loss: 567.3487 - val_mae: 567.3487 - val_mse: 1166999.2500\n",
            "Epoch 100/100\n",
            " 1/18 [>.............................] - ETA: 0s - loss: 124.2468 - mae: 124.2468 - mse: 99983.8672\n",
            "Epoch 100: val_loss did not improve from 567.34869\n",
            "18/18 [==============================] - 0s 4ms/step - loss: 107.1522 - mae: 107.1522 - mse: 69314.0312 - val_loss: 590.1652 - val_mae: 590.1652 - val_mse: 1200129.3750\n"
          ]
        }
      ]
    },
    {
      "cell_type": "code",
      "source": [
        "# Create a function to fit, load, evaluate and plot a given model\n",
        "import tensorflow_datasets as tfds\n",
        "def run_model_experiment(model, train_ds, test_ds, n_epochs, set_callbacks=[], set_verbose=0):\n",
        "  \"\"\"\n",
        "  A function that will fit a model, then will load the best preforming checkpoint, evaluate the model and will plot its predictions againts the test data\n",
        "\n",
        "  Args:\n",
        "  model: the checked model\n",
        "  train_ds, test_ds: data sets of train and test data\n",
        "  n_epochs: number of epochs to fit the model\n",
        "  callbacks: add callbacks to the model training, a checkpoint callback is deafult in the training\n",
        "\n",
        "  Returns:\n",
        "  best_model = returns the best model\n",
        "  history: model fitting hgistory object\n",
        "  evaluation dictionary: an evaluation dictionary according to the regression_evaluation method\n",
        "  \"\"\"\n",
        "  set_callbacks.append(create_model_checkpoint(model.name))\n",
        "  model_history = model.fit(train_ds,\n",
        "                            epochs=n_epochs,\n",
        "                            validation_data=test_ds,\n",
        "                            callbacks=set_callbacks,\n",
        "                            verbose=set_verbose)\n",
        "  \n",
        "  best_model = tf.keras.models.load_model(f\"/content/models_experiment/{model.name}\")\n",
        "\n",
        "  model_preds = tf.squeeze(best_model.predict(test_ds))\n",
        "\n",
        "  print(\"preds labels: \", model_preds.shape, model_preds[:4])\n",
        "\n",
        "  # get the test labels\n",
        "  # test_labels = np.asarray(list(map(lambda x: x[1], tfds.as_numpy(test_ds.unbatch()))))\n",
        "  test_labels = []\n",
        "  for x in iter(tfds.as_numpy(train_ds.unbatch())):\n",
        "    test_labels.append(tf.squeeze(x[1]).numpy())\n",
        "\n",
        "  # test_labels = tf.squeeze(test_labels)\n",
        "\n",
        "  # print(\"Test labels: \", test_labels.shape, test_labels[:4])\n",
        "\n",
        "\n",
        "  model_results = regression_evaluation(test_labels, model_preds)\n",
        "\n",
        "  print(\"Model results:\\n\", model_results)\n",
        "\n",
        "  plt.figure(figsize=(10,10))\n",
        "  plot_time_series(timesteps[-len(test_labels):], model_preds, label=model.name)\n",
        "  plot_time_series(timesteps[-len(test_labels):], test_labels, label=\"ground-truth\", format=\"-\")\n",
        "\n",
        "  return best_model, model_history, model_results"
      ],
      "metadata": {
        "id": "aqgsD_1K_yBb"
      },
      "execution_count": null,
      "outputs": []
    },
    {
      "cell_type": "code",
      "source": [
        "# load the best model\n",
        "model_1 = tf.keras.models.load_model(\"/content/models_experiment/model_1_dense\")\n",
        "\n",
        "model_1.evaluate(x_test, y_test)"
      ],
      "metadata": {
        "colab": {
          "base_uri": "https://localhost:8080/"
        },
        "id": "Z_5cyVbniaL0",
        "outputId": "30a7adc2-1d42-4757-bf3a-80f6872d8ec4"
      },
      "execution_count": null,
      "outputs": [
        {
          "output_type": "stream",
          "name": "stdout",
          "text": [
            "18/18 [==============================] - 0s 2ms/step - loss: 567.3488 - mae: 567.3488 - mse: 1166999.2500\n"
          ]
        },
        {
          "output_type": "execute_result",
          "data": {
            "text/plain": [
              "[567.3487548828125, 567.3487548828125, 1166999.25]"
            ]
          },
          "metadata": {},
          "execution_count": 31
        }
      ]
    },
    {
      "cell_type": "code",
      "source": [
        "# Creating prediction array\n",
        "model_1_preds = tf.squeeze(model_1.predict(x_test))\n",
        "\n",
        "model_1_preds[:5], model_1_preds.shape"
      ],
      "metadata": {
        "colab": {
          "base_uri": "https://localhost:8080/"
        },
        "id": "9lgmGiV_krm5",
        "outputId": "395fdb48-9e48-4721-af98-fc0855c5c671"
      },
      "execution_count": null,
      "outputs": [
        {
          "output_type": "stream",
          "name": "stdout",
          "text": [
            "18/18 [==============================] - 0s 2ms/step\n"
          ]
        },
        {
          "output_type": "execute_result",
          "data": {
            "text/plain": [
              "(<tf.Tensor: shape=(5,), dtype=float32, numpy=array([8831.881, 8740.21 , 9000.423, 8780.19 , 8712.199], dtype=float32)>,\n",
              " TensorShape([556]))"
            ]
          },
          "metadata": {},
          "execution_count": 32
        }
      ]
    },
    {
      "cell_type": "code",
      "source": [
        "# Getting the evaluation dictionary\n",
        "model_1_results = regression_evaluation(y_test, model_1_preds)\n",
        "model_1_results"
      ],
      "metadata": {
        "colab": {
          "base_uri": "https://localhost:8080/"
        },
        "id": "FdYNTUwNmMx2",
        "outputId": "7aea784c-5b81-4bd8-f917-e8bdc68a8c6c"
      },
      "execution_count": null,
      "outputs": [
        {
          "output_type": "stream",
          "name": "stdout",
          "text": [
            "Multi dim input\n"
          ]
        },
        {
          "output_type": "execute_result",
          "data": {
            "text/plain": [
              "{'mae': 17142.338,\n",
              " 'mse': 614695550.0,\n",
              " 'rmse': 23718.557,\n",
              " 'mape': 113.27407,\n",
              " 'mase': 30.11434}"
            ]
          },
          "metadata": {},
          "execution_count": 33
        }
      ]
    },
    {
      "cell_type": "code",
      "source": [
        "naive_results"
      ],
      "metadata": {
        "colab": {
          "base_uri": "https://localhost:8080/"
        },
        "id": "b1dasxwAmPlL",
        "outputId": "ed12de66-655a-4793-95bb-ad0cb390f6e2"
      },
      "execution_count": null,
      "outputs": [
        {
          "output_type": "execute_result",
          "data": {
            "text/plain": [
              "{'mae': 567.9802,\n",
              " 'mse': 1147547.0,\n",
              " 'rmse': 1071.2362,\n",
              " 'mape': 2.5165248,\n",
              " 'mase': 0.99957}"
            ]
          },
          "metadata": {},
          "execution_count": 34
        }
      ]
    },
    {
      "cell_type": "code",
      "source": [
        "# Plotting the predictions\n",
        "plt.figure(figsize=(10,10))\n",
        "plot_time_series(timesteps[-len(x_test):], model_1_preds, label=\"model_1_preds\")\n",
        "plot_time_series(timesteps[-len(model_1_preds):], y_test, label=\"ground-truth\", format=\"-\")\n"
      ],
      "metadata": {
        "colab": {
          "base_uri": "https://localhost:8080/",
          "height": 606
        },
        "id": "y2iegiY7ky0W",
        "outputId": "a0982e89-b49c-4fad-8c04-f4a9a122c2c6"
      },
      "execution_count": null,
      "outputs": [
        {
          "output_type": "display_data",
          "data": {
            "text/plain": [
              "<Figure size 720x720 with 1 Axes>"
            ],
            "image/png": "[encoded data removed]"
          },
          "metadata": {
            "needs_background": "light"
          }
        }
      ]
    },
    {
      "cell_type": "markdown",
      "source": [
        "### Model 2: Dense (W=30, H=1)"
      ],
      "metadata": {
        "id": "yqZFGKrtltou"
      }
    },
    {
      "cell_type": "code",
      "source": [
        "# Creating the windows and labels\n",
        "WINDOWS_SIZE = 30\n",
        "HORIZON = 1\n",
        "\n",
        "windows, labels = make_windows(prices, window_size=WINDOWS_SIZE, horizon=HORIZON)\n",
        "\n",
        "len(windows), len(labels)"
      ],
      "metadata": {
        "colab": {
          "base_uri": "https://localhost:8080/"
        },
        "id": "bcinFn2SFozT",
        "outputId": "11934950-6029-4dd8-929f-a1f17e9915b8"
      },
      "execution_count": null,
      "outputs": [
        {
          "output_type": "execute_result",
          "data": {
            "text/plain": [
              "(2757, 2757)"
            ]
          },
          "metadata": {},
          "execution_count": 36
        }
      ]
    },
    {
      "cell_type": "code",
      "source": [
        "# Splitting to testing and trainnig\n",
        "x_train, x_test, y_train, y_test = make_time_train_test_split(windows, labels)\n",
        "\n",
        "x_train.shape, x_test.shape, y_train.shape, y_test.shape"
      ],
      "metadata": {
        "id": "uWlE9TLJF7Aw",
        "colab": {
          "base_uri": "https://localhost:8080/"
        },
        "outputId": "e49acae3-23a2-4f0a-c2c0-c6a9ba071b0e"
      },
      "execution_count": null,
      "outputs": [
        {
          "output_type": "execute_result",
          "data": {
            "text/plain": [
              "((2205, 30), (552, 30), (2205, 1), (552, 1))"
            ]
          },
          "metadata": {},
          "execution_count": 37
        }
      ]
    },
    {
      "cell_type": "code",
      "source": [
        "# Creating datasets\n",
        "train_ds = preprocess_data(x_train, y_train)\n",
        "test_ds = preprocess_data(x_test, y_test)\n",
        "\n",
        "temp = []\n",
        "temp.append(tf.squeeze(next(iter(tfds.as_numpy(train_ds.unbatch())))[1]).numpy())\n",
        "temp"
      ],
      "metadata": {
        "colab": {
          "base_uri": "https://localhost:8080/"
        },
        "id": "UXshBzOUGOx7",
        "outputId": "ef2f919e-7860-418a-a022-eeefe96ff5a6"
      },
      "execution_count": null,
      "outputs": [
        {
          "output_type": "execute_result",
          "data": {
            "text/plain": [
              "[196.025]"
            ]
          },
          "metadata": {},
          "execution_count": 38
        }
      ]
    },
    {
      "cell_type": "code",
      "source": [
        "# Build, compile, fit and evaluate the model\n",
        "from tensorflow.keras import layers\n",
        "model_2 = tf.keras.Sequential([\n",
        "    layers.Dense(128, activation=\"relu\"),\n",
        "    layers.Dense(HORIZON)\n",
        "], name=\"model_2_dense\")\n",
        "\n",
        "model_2.compile(loss=\"mae\",\n",
        "                optimizer=\"Adam\",\n",
        "                metrics=[\"mae\", \"mse\"])\n",
        "\n",
        "model_2.fit(x_train,\n",
        "            y_train,\n",
        "            batch_size=128,\n",
        "            epochs=100,\n",
        "            validation_data=(x_test, y_test),\n",
        "            callbacks=[create_model_checkpoint(model_2.name)],\n",
        "            )\n",
        "\n",
        "# model_2, model_2_history, model_2_results = run_model_experiment(model_2, train_ds, test_ds, n_epochs=100, set_verbose=1)"
      ],
      "metadata": {
        "colab": {
          "base_uri": "https://localhost:8080/"
        },
        "id": "W4BV94USGtB7",
        "outputId": "871593fb-bd9b-468c-bcef-538627fcc83b"
      },
      "execution_count": null,
      "outputs": [
        {
          "output_type": "stream",
          "name": "stdout",
          "text": [
            "Epoch 1/100\n",
            "18/18 [==============================] - ETA: 0s - loss: 624.1816 - mae: 624.1816 - mse: 1592819.7500\n",
            "Epoch 1: val_loss improved from inf to 1905.49768, saving model to models_experiment/model_2_dense\n",
            "18/18 [==============================] - 2s 63ms/step - loss: 624.1816 - mae: 624.1816 - mse: 1592819.7500 - val_loss: 1905.4977 - val_mae: 1905.4977 - val_mse: 11108809.0000\n",
            "Epoch 2/100\n",
            " 1/18 [>.............................] - ETA: 0s - loss: 338.9364 - mae: 338.9364 - mse: 379397.6250\n",
            "Epoch 2: val_loss improved from 1905.49768 to 1819.94763, saving model to models_experiment/model_2_dense\n",
            "18/18 [==============================] - 1s 31ms/step - loss: 343.3178 - mae: 343.3178 - mse: 555572.3125 - val_loss: 1819.9476 - val_mae: 1819.9476 - val_mse: 9463942.0000\n",
            "Epoch 3/100\n",
            " 1/18 [>.............................] - ETA: 0s - loss: 246.7483 - mae: 246.7483 - mse: 271824.2188\n",
            "Epoch 3: val_loss did not improve from 1819.94763\n",
            "18/18 [==============================] - 0s 5ms/step - loss: 306.2083 - mae: 306.2083 - mse: 411490.7812 - val_loss: 2103.0183 - val_mae: 2103.0183 - val_mse: 11112159.0000\n",
            "Epoch 4/100\n",
            " 1/18 [>.............................] - ETA: 0s - loss: 309.5898 - mae: 309.5898 - mse: 468420.8750\n",
            "Epoch 4: val_loss improved from 1819.94763 to 1348.50842, saving model to models_experiment/model_2_dense\n",
            "18/18 [==============================] - 1s 32ms/step - loss: 256.5132 - mae: 256.5132 - mse: 324035.6250 - val_loss: 1348.5084 - val_mae: 1348.5084 - val_mse: 6410503.5000\n",
            "Epoch 5/100\n",
            " 1/18 [>.............................] - ETA: 0s - loss: 277.7585 - mae: 277.7585 - mse: 441501.1562\n",
            "Epoch 5: val_loss did not improve from 1348.50842\n",
            "18/18 [==============================] - 0s 5ms/step - loss: 245.3102 - mae: 245.3102 - mse: 285214.4375 - val_loss: 1568.3018 - val_mae: 1568.3018 - val_mse: 6491639.5000\n",
            "Epoch 6/100\n",
            " 1/18 [>.............................] - ETA: 0s - loss: 350.1014 - mae: 350.1014 - mse: 499496.7500\n",
            "Epoch 6: val_loss improved from 1348.50842 to 1124.86816, saving model to models_experiment/model_2_dense\n",
            "18/18 [==============================] - 1s 33ms/step - loss: 230.3424 - mae: 230.3424 - mse: 249134.1719 - val_loss: 1124.8682 - val_mae: 1124.8682 - val_mse: 4322463.0000\n",
            "Epoch 7/100\n",
            " 1/18 [>.............................] - ETA: 0s - loss: 262.4939 - mae: 262.4939 - mse: 280885.4375\n",
            "Epoch 7: val_loss improved from 1124.86816 to 1101.07666, saving model to models_experiment/model_2_dense\n",
            "18/18 [==============================] - 1s 33ms/step - loss: 205.9433 - mae: 205.9433 - mse: 213522.0312 - val_loss: 1101.0767 - val_mae: 1101.0767 - val_mse: 4257085.0000\n",
            "Epoch 8/100\n",
            " 1/18 [>.............................] - ETA: 0s - loss: 202.1595 - mae: 202.1595 - mse: 163755.6719\n",
            "Epoch 8: val_loss improved from 1101.07666 to 1008.63745, saving model to models_experiment/model_2_dense\n",
            "18/18 [==============================] - 1s 33ms/step - loss: 191.3596 - mae: 191.3596 - mse: 184718.4531 - val_loss: 1008.6375 - val_mae: 1008.6375 - val_mse: 3494942.5000\n",
            "Epoch 9/100\n",
            " 1/18 [>.............................] - ETA: 0s - loss: 175.9498 - mae: 175.9498 - mse: 121256.4297\n",
            "Epoch 9: val_loss improved from 1008.63745 to 999.94427, saving model to models_experiment/model_2_dense\n",
            "18/18 [==============================] - 1s 34ms/step - loss: 184.7761 - mae: 184.7761 - mse: 169217.2812 - val_loss: 999.9443 - val_mae: 999.9443 - val_mse: 3479550.5000\n",
            "Epoch 10/100\n",
            " 1/18 [>.............................] - ETA: 0s - loss: 183.6582 - mae: 183.6582 - mse: 132949.1250\n",
            "Epoch 10: val_loss improved from 999.94427 to 955.29620, saving model to models_experiment/model_2_dense\n",
            "18/18 [==============================] - 1s 32ms/step - loss: 175.6947 - mae: 175.6947 - mse: 156616.0469 - val_loss: 955.2962 - val_mae: 955.2962 - val_mse: 3112485.7500\n",
            "Epoch 11/100\n",
            " 1/18 [>.............................] - ETA: 0s - loss: 132.4567 - mae: 132.4567 - mse: 90564.3125\n",
            "Epoch 11: val_loss did not improve from 955.29620\n",
            "18/18 [==============================] - 0s 4ms/step - loss: 181.3661 - mae: 181.3661 - mse: 168001.3281 - val_loss: 1181.6481 - val_mae: 1181.6481 - val_mse: 3750221.5000\n",
            "Epoch 12/100\n",
            " 1/18 [>.............................] - ETA: 0s - loss: 209.3002 - mae: 209.3002 - mse: 169037.7031\n",
            "Epoch 12: val_loss did not improve from 955.29620\n",
            "18/18 [==============================] - 0s 4ms/step - loss: 172.4772 - mae: 172.4772 - mse: 147734.6875 - val_loss: 1015.5657 - val_mae: 1015.5657 - val_mse: 3424635.7500\n",
            "Epoch 13/100\n",
            " 1/18 [>.............................] - ETA: 0s - loss: 221.5708 - mae: 221.5708 - mse: 356131.6250\n",
            "Epoch 13: val_loss did not improve from 955.29620\n",
            "18/18 [==============================] - 0s 4ms/step - loss: 182.6453 - mae: 182.6453 - mse: 158031.1094 - val_loss: 1130.9076 - val_mae: 1130.9076 - val_mse: 3959655.5000\n",
            "Epoch 14/100\n",
            " 1/18 [>.............................] - ETA: 0s - loss: 116.4756 - mae: 116.4756 - mse: 62882.9219\n",
            "Epoch 14: val_loss improved from 955.29620 to 880.17694, saving model to models_experiment/model_2_dense\n",
            "18/18 [==============================] - 1s 33ms/step - loss: 170.9493 - mae: 170.9493 - mse: 140578.0312 - val_loss: 880.1769 - val_mae: 880.1769 - val_mse: 2534616.2500\n",
            "Epoch 15/100\n",
            " 1/18 [>.............................] - ETA: 0s - loss: 109.6960 - mae: 109.6960 - mse: 90077.6719\n",
            "Epoch 15: val_loss did not improve from 880.17694\n",
            "18/18 [==============================] - 0s 5ms/step - loss: 155.7995 - mae: 155.7995 - mse: 124749.6094 - val_loss: 1001.5038 - val_mae: 1001.5038 - val_mse: 2847417.5000\n",
            "Epoch 16/100\n",
            " 1/18 [>.............................] - ETA: 0s - loss: 159.5505 - mae: 159.5505 - mse: 117508.6719\n",
            "Epoch 16: val_loss did not improve from 880.17694\n",
            "18/18 [==============================] - 0s 5ms/step - loss: 164.1288 - mae: 164.1288 - mse: 133392.9219 - val_loss: 1460.2844 - val_mae: 1460.2844 - val_mse: 5713121.5000\n",
            "Epoch 17/100\n",
            " 1/18 [>.............................] - ETA: 0s - loss: 242.4016 - mae: 242.4016 - mse: 245793.0000\n",
            "Epoch 17: val_loss improved from 880.17694 to 878.24951, saving model to models_experiment/model_2_dense\n",
            "18/18 [==============================] - 1s 34ms/step - loss: 182.7242 - mae: 182.7242 - mse: 155354.5625 - val_loss: 878.2495 - val_mae: 878.2495 - val_mse: 2436734.5000\n",
            "Epoch 18/100\n",
            " 1/18 [>.............................] - ETA: 0s - loss: 151.8837 - mae: 151.8837 - mse: 109078.9375\n",
            "Epoch 18: val_loss did not improve from 878.24951\n",
            "18/18 [==============================] - 0s 5ms/step - loss: 159.0557 - mae: 159.0557 - mse: 124559.6562 - val_loss: 892.4400 - val_mae: 892.4400 - val_mse: 2458696.0000\n",
            "Epoch 19/100\n",
            " 1/18 [>.............................] - ETA: 0s - loss: 148.9665 - mae: 148.9665 - mse: 113908.2188\n",
            "Epoch 19: val_loss did not improve from 878.24951\n",
            "18/18 [==============================] - 0s 4ms/step - loss: 155.4389 - mae: 155.4389 - mse: 119571.0703 - val_loss: 899.2786 - val_mae: 899.2786 - val_mse: 2617826.2500\n",
            "Epoch 20/100\n",
            " 1/18 [>.............................] - ETA: 0s - loss: 213.8176 - mae: 213.8176 - mse: 189037.2500\n",
            "Epoch 20: val_loss improved from 878.24951 to 807.59131, saving model to models_experiment/model_2_dense\n",
            "18/18 [==============================] - 1s 32ms/step - loss: 163.0522 - mae: 163.0522 - mse: 124799.8828 - val_loss: 807.5913 - val_mae: 807.5913 - val_mse: 2113150.5000\n",
            "Epoch 21/100\n",
            " 1/18 [>.............................] - ETA: 0s - loss: 143.0071 - mae: 143.0071 - mse: 100882.5859\n",
            "Epoch 21: val_loss did not improve from 807.59131\n",
            "18/18 [==============================] - 0s 4ms/step - loss: 156.1777 - mae: 156.1777 - mse: 117413.1016 - val_loss: 858.5460 - val_mae: 858.5460 - val_mse: 2278981.0000\n",
            "Epoch 22/100\n",
            " 1/18 [>.............................] - ETA: 0s - loss: 154.4630 - mae: 154.4630 - mse: 96902.3672\n",
            "Epoch 22: val_loss did not improve from 807.59131\n",
            "18/18 [==============================] - 0s 4ms/step - loss: 171.2355 - mae: 171.2355 - mse: 131001.6875 - val_loss: 859.0353 - val_mae: 859.0353 - val_mse: 2250949.2500\n",
            "Epoch 23/100\n",
            " 1/18 [>.............................] - ETA: 0s - loss: 100.1992 - mae: 100.1992 - mse: 52667.9375\n",
            "Epoch 23: val_loss did not improve from 807.59131\n",
            "18/18 [==============================] - 0s 4ms/step - loss: 140.2843 - mae: 140.2843 - mse: 103410.4531 - val_loss: 1049.1271 - val_mae: 1049.1271 - val_mse: 2947444.5000\n",
            "Epoch 24/100\n",
            " 1/18 [>.............................] - ETA: 0s - loss: 217.5015 - mae: 217.5015 - mse: 241537.6875\n",
            "Epoch 24: val_loss improved from 807.59131 to 789.97345, saving model to models_experiment/model_2_dense\n",
            "18/18 [==============================] - 1s 32ms/step - loss: 161.9191 - mae: 161.9191 - mse: 125011.3438 - val_loss: 789.9734 - val_mae: 789.9734 - val_mse: 2029809.6250\n",
            "Epoch 25/100\n",
            " 1/18 [>.............................] - ETA: 0s - loss: 154.0491 - mae: 154.0491 - mse: 114596.0000\n",
            "Epoch 25: val_loss did not improve from 789.97345\n",
            "18/18 [==============================] - 0s 5ms/step - loss: 145.0717 - mae: 145.0717 - mse: 103430.7188 - val_loss: 836.3000 - val_mae: 836.3000 - val_mse: 2253737.7500\n",
            "Epoch 26/100\n",
            " 1/18 [>.............................] - ETA: 0s - loss: 124.1261 - mae: 124.1261 - mse: 74581.2266\n",
            "Epoch 26: val_loss did not improve from 789.97345\n",
            "18/18 [==============================] - 0s 4ms/step - loss: 145.7000 - mae: 145.7000 - mse: 106534.1016 - val_loss: 1054.2129 - val_mae: 1054.2129 - val_mse: 2921431.2500\n",
            "Epoch 27/100\n",
            " 1/18 [>.............................] - ETA: 0s - loss: 183.0965 - mae: 183.0965 - mse: 125654.0938\n",
            "Epoch 27: val_loss did not improve from 789.97345\n",
            "18/18 [==============================] - 0s 5ms/step - loss: 155.9423 - mae: 155.9423 - mse: 112507.1953 - val_loss: 1030.8711 - val_mae: 1030.8711 - val_mse: 2812730.2500\n",
            "Epoch 28/100\n",
            " 1/18 [>.............................] - ETA: 0s - loss: 194.3066 - mae: 194.3066 - mse: 204187.4375\n",
            "Epoch 28: val_loss did not improve from 789.97345\n",
            "18/18 [==============================] - 0s 4ms/step - loss: 149.3130 - mae: 149.3130 - mse: 109211.8750 - val_loss: 860.0564 - val_mae: 860.0564 - val_mse: 2387162.0000\n",
            "Epoch 29/100\n",
            " 1/18 [>.............................] - ETA: 0s - loss: 155.6737 - mae: 155.6737 - mse: 131661.8438\n",
            "Epoch 29: val_loss did not improve from 789.97345\n",
            "18/18 [==============================] - 0s 4ms/step - loss: 142.0291 - mae: 142.0291 - mse: 101707.9609 - val_loss: 1017.8816 - val_mae: 1017.8816 - val_mse: 3022437.0000\n",
            "Epoch 30/100\n",
            " 1/18 [>.............................] - ETA: 0s - loss: 218.5337 - mae: 218.5337 - mse: 238515.8594\n",
            "Epoch 30: val_loss improved from 789.97345 to 787.64038, saving model to models_experiment/model_2_dense\n",
            "18/18 [==============================] - 1s 32ms/step - loss: 147.4579 - mae: 147.4579 - mse: 106447.9766 - val_loss: 787.6404 - val_mae: 787.6404 - val_mse: 1915442.8750\n",
            "Epoch 31/100\n",
            " 1/18 [>.............................] - ETA: 0s - loss: 100.2895 - mae: 100.2895 - mse: 48847.6406\n",
            "Epoch 31: val_loss did not improve from 787.64038\n",
            "18/18 [==============================] - 0s 5ms/step - loss: 142.5624 - mae: 142.5624 - mse: 103127.7656 - val_loss: 965.3286 - val_mae: 965.3286 - val_mse: 2771481.5000\n",
            "Epoch 32/100\n",
            " 1/18 [>.............................] - ETA: 0s - loss: 206.9352 - mae: 206.9352 - mse: 169672.7500\n",
            "Epoch 32: val_loss did not improve from 787.64038\n",
            "18/18 [==============================] - 0s 4ms/step - loss: 150.9861 - mae: 150.9861 - mse: 109609.6250 - val_loss: 890.2202 - val_mae: 890.2202 - val_mse: 2252958.2500\n",
            "Epoch 33/100\n",
            " 1/18 [>.............................] - ETA: 0s - loss: 103.6227 - mae: 103.6227 - mse: 42745.6875\n",
            "Epoch 33: val_loss did not improve from 787.64038\n",
            "18/18 [==============================] - 0s 4ms/step - loss: 138.7749 - mae: 138.7749 - mse: 98523.4453 - val_loss: 793.0026 - val_mae: 793.0026 - val_mse: 1909196.3750\n",
            "Epoch 34/100\n",
            " 1/18 [>.............................] - ETA: 0s - loss: 139.1041 - mae: 139.1041 - mse: 102694.6406\n",
            "Epoch 34: val_loss did not improve from 787.64038\n",
            "18/18 [==============================] - 0s 5ms/step - loss: 137.0185 - mae: 137.0185 - mse: 94627.1641 - val_loss: 818.1814 - val_mae: 818.1814 - val_mse: 1979479.0000\n",
            "Epoch 35/100\n",
            " 1/18 [>.............................] - ETA: 0s - loss: 131.7115 - mae: 131.7115 - mse: 145718.3438\n",
            "Epoch 35: val_loss did not improve from 787.64038\n",
            "18/18 [==============================] - 0s 5ms/step - loss: 135.3545 - mae: 135.3545 - mse: 92613.7891 - val_loss: 801.5062 - val_mae: 801.5062 - val_mse: 1926223.2500\n",
            "Epoch 36/100\n",
            " 1/18 [>.............................] - ETA: 0s - loss: 145.5052 - mae: 145.5052 - mse: 113101.4844\n",
            "Epoch 36: val_loss improved from 787.64038 to 767.20416, saving model to models_experiment/model_2_dense\n",
            "18/18 [==============================] - 1s 33ms/step - loss: 136.1374 - mae: 136.1374 - mse: 94718.5469 - val_loss: 767.2042 - val_mae: 767.2042 - val_mse: 1817031.5000\n",
            "Epoch 37/100\n",
            " 1/18 [>.............................] - ETA: 0s - loss: 111.7552 - mae: 111.7552 - mse: 55799.0586\n",
            "Epoch 37: val_loss improved from 767.20416 to 705.59985, saving model to models_experiment/model_2_dense\n",
            "18/18 [==============================] - 1s 34ms/step - loss: 154.3776 - mae: 154.3776 - mse: 111390.0938 - val_loss: 705.5999 - val_mae: 705.5999 - val_mse: 1713156.8750\n",
            "Epoch 38/100\n",
            " 1/18 [>.............................] - ETA: 0s - loss: 122.3315 - mae: 122.3315 - mse: 69913.0156\n",
            "Epoch 38: val_loss did not improve from 705.59985\n",
            "18/18 [==============================] - 0s 4ms/step - loss: 136.4558 - mae: 136.4558 - mse: 94569.7422 - val_loss: 736.8384 - val_mae: 736.8384 - val_mse: 1802593.8750\n",
            "Epoch 39/100\n",
            " 1/18 [>.............................] - ETA: 0s - loss: 165.7782 - mae: 165.7782 - mse: 193763.9375\n",
            "Epoch 39: val_loss did not improve from 705.59985\n",
            "18/18 [==============================] - 0s 5ms/step - loss: 137.9430 - mae: 137.9430 - mse: 92654.0938 - val_loss: 742.9910 - val_mae: 742.9910 - val_mse: 1842383.0000\n",
            "Epoch 40/100\n",
            "18/18 [==============================] - ETA: 0s - loss: 130.4724 - mae: 130.4724 - mse: 90216.9922 \n",
            "Epoch 40: val_loss did not improve from 705.59985\n",
            "18/18 [==============================] - 0s 5ms/step - loss: 130.4724 - mae: 130.4724 - mse: 90216.9922 - val_loss: 731.6794 - val_mae: 731.6794 - val_mse: 1707836.7500\n",
            "Epoch 41/100\n",
            " 1/18 [>.............................] - ETA: 0s - loss: 167.5217 - mae: 167.5217 - mse: 103215.0312\n",
            "Epoch 41: val_loss did not improve from 705.59985\n",
            "18/18 [==============================] - 0s 4ms/step - loss: 134.4762 - mae: 134.4762 - mse: 91074.7188 - val_loss: 910.5478 - val_mae: 910.5478 - val_mse: 2251595.5000\n",
            "Epoch 42/100\n",
            " 1/18 [>.............................] - ETA: 0s - loss: 140.2487 - mae: 140.2487 - mse: 59002.0625\n",
            "Epoch 42: val_loss improved from 705.59985 to 676.89087, saving model to models_experiment/model_2_dense\n",
            "18/18 [==============================] - 1s 34ms/step - loss: 139.8020 - mae: 139.8020 - mse: 96134.1562 - val_loss: 676.8909 - val_mae: 676.8909 - val_mse: 1555318.8750\n",
            "Epoch 43/100\n",
            " 1/18 [>.............................] - ETA: 0s - loss: 142.2103 - mae: 142.2103 - mse: 104166.1719\n",
            "Epoch 43: val_loss did not improve from 676.89087\n",
            "18/18 [==============================] - 0s 5ms/step - loss: 125.6991 - mae: 125.6991 - mse: 84094.6641 - val_loss: 729.3889 - val_mae: 729.3889 - val_mse: 1732139.0000\n",
            "Epoch 44/100\n",
            " 1/18 [>.............................] - ETA: 0s - loss: 163.7428 - mae: 163.7428 - mse: 157561.1875\n",
            "Epoch 44: val_loss did not improve from 676.89087\n",
            "18/18 [==============================] - 0s 5ms/step - loss: 129.1558 - mae: 129.1558 - mse: 87955.7969 - val_loss: 900.0484 - val_mae: 900.0484 - val_mse: 2387882.7500\n",
            "Epoch 45/100\n",
            " 1/18 [>.............................] - ETA: 0s - loss: 152.4513 - mae: 152.4513 - mse: 95247.7891\n",
            "Epoch 45: val_loss improved from 676.89087 to 665.50024, saving model to models_experiment/model_2_dense\n",
            "18/18 [==============================] - 1s 32ms/step - loss: 132.2836 - mae: 132.2836 - mse: 87484.8047 - val_loss: 665.5002 - val_mae: 665.5002 - val_mse: 1518793.8750\n",
            "Epoch 46/100\n",
            " 1/18 [>.............................] - ETA: 0s - loss: 119.5971 - mae: 119.5971 - mse: 140397.8125\n",
            "Epoch 46: val_loss did not improve from 665.50024\n",
            "18/18 [==============================] - 0s 4ms/step - loss: 127.1133 - mae: 127.1133 - mse: 84938.5469 - val_loss: 714.8980 - val_mae: 714.8980 - val_mse: 1603525.5000\n",
            "Epoch 47/100\n",
            " 1/18 [>.............................] - ETA: 0s - loss: 143.3779 - mae: 143.3779 - mse: 84680.7031\n",
            "Epoch 47: val_loss improved from 665.50024 to 665.18933, saving model to models_experiment/model_2_dense\n",
            "18/18 [==============================] - 1s 52ms/step - loss: 127.8753 - mae: 127.8753 - mse: 83825.6172 - val_loss: 665.1893 - val_mae: 665.1893 - val_mse: 1493891.7500\n",
            "Epoch 48/100\n",
            " 1/18 [>.............................] - ETA: 0s - loss: 154.0424 - mae: 154.0424 - mse: 205005.0938\n",
            "Epoch 48: val_loss did not improve from 665.18933\n",
            "18/18 [==============================] - 0s 4ms/step - loss: 126.0235 - mae: 126.0235 - mse: 84278.7734 - val_loss: 803.5955 - val_mae: 803.5954 - val_mse: 1865038.6250\n",
            "Epoch 49/100\n",
            " 1/18 [>.............................] - ETA: 0s - loss: 140.7283 - mae: 140.7283 - mse: 78485.4453\n",
            "Epoch 49: val_loss did not improve from 665.18933\n",
            "18/18 [==============================] - 0s 5ms/step - loss: 163.4380 - mae: 163.4380 - mse: 116204.7734 - val_loss: 678.8377 - val_mae: 678.8377 - val_mse: 1556287.8750\n",
            "Epoch 50/100\n",
            " 1/18 [>.............................] - ETA: 0s - loss: 141.9890 - mae: 141.9890 - mse: 68886.5469\n",
            "Epoch 50: val_loss improved from 665.18933 to 654.40271, saving model to models_experiment/model_2_dense\n",
            "18/18 [==============================] - 1s 32ms/step - loss: 138.1904 - mae: 138.1904 - mse: 88686.5859 - val_loss: 654.4027 - val_mae: 654.4027 - val_mse: 1444752.7500\n",
            "Epoch 51/100\n",
            " 1/18 [>.............................] - ETA: 0s - loss: 102.2417 - mae: 102.2417 - mse: 119443.3906\n",
            "Epoch 51: val_loss did not improve from 654.40271\n",
            "18/18 [==============================] - 0s 5ms/step - loss: 134.2485 - mae: 134.2485 - mse: 88053.6562 - val_loss: 700.7068 - val_mae: 700.7068 - val_mse: 1598400.0000\n",
            "Epoch 52/100\n",
            " 1/18 [>.............................] - ETA: 0s - loss: 114.7959 - mae: 114.7959 - mse: 68462.3594\n",
            "Epoch 52: val_loss did not improve from 654.40271\n",
            "18/18 [==============================] - 0s 4ms/step - loss: 133.5439 - mae: 133.5439 - mse: 89344.7734 - val_loss: 743.8254 - val_mae: 743.8254 - val_mse: 1675761.1250\n",
            "Epoch 53/100\n",
            " 1/18 [>.............................] - ETA: 0s - loss: 108.8510 - mae: 108.8510 - mse: 73414.0000\n",
            "Epoch 53: val_loss did not improve from 654.40271\n",
            "18/18 [==============================] - 0s 5ms/step - loss: 121.4214 - mae: 121.4214 - mse: 80182.9844 - val_loss: 663.2465 - val_mae: 663.2465 - val_mse: 1508756.3750\n",
            "Epoch 54/100\n",
            " 1/18 [>.............................] - ETA: 0s - loss: 150.9252 - mae: 150.9252 - mse: 129392.2969\n",
            "Epoch 54: val_loss improved from 654.40271 to 652.79767, saving model to models_experiment/model_2_dense\n",
            "18/18 [==============================] - 1s 33ms/step - loss: 143.4330 - mae: 143.4330 - mse: 95209.7969 - val_loss: 652.7977 - val_mae: 652.7977 - val_mse: 1464828.3750\n",
            "Epoch 55/100\n",
            " 1/18 [>.............................] - ETA: 0s - loss: 96.4069 - mae: 96.4069 - mse: 44569.8984\n",
            "Epoch 55: val_loss did not improve from 652.79767\n",
            "18/18 [==============================] - 0s 5ms/step - loss: 126.4718 - mae: 126.4718 - mse: 84799.6797 - val_loss: 845.2068 - val_mae: 845.2068 - val_mse: 2143617.5000\n",
            "Epoch 56/100\n",
            " 1/18 [>.............................] - ETA: 0s - loss: 168.2739 - mae: 168.2739 - mse: 127069.3594\n",
            "Epoch 56: val_loss did not improve from 652.79767\n",
            "18/18 [==============================] - 0s 4ms/step - loss: 128.9578 - mae: 128.9578 - mse: 88341.1953 - val_loss: 1024.9171 - val_mae: 1024.9171 - val_mse: 2624753.5000\n",
            "Epoch 57/100\n",
            " 1/18 [>.............................] - ETA: 0s - loss: 141.0624 - mae: 141.0624 - mse: 61245.1484\n",
            "Epoch 57: val_loss did not improve from 652.79767\n",
            "18/18 [==============================] - 0s 5ms/step - loss: 143.8687 - mae: 143.8687 - mse: 99655.0312 - val_loss: 696.8190 - val_mae: 696.8190 - val_mse: 1611270.5000\n",
            "Epoch 58/100\n",
            " 1/18 [>.............................] - ETA: 0s - loss: 139.0567 - mae: 139.0567 - mse: 97158.6094\n",
            "Epoch 58: val_loss did not improve from 652.79767\n",
            "18/18 [==============================] - 0s 4ms/step - loss: 121.1319 - mae: 121.1319 - mse: 78997.4922 - val_loss: 680.3557 - val_mae: 680.3557 - val_mse: 1488744.2500\n",
            "Epoch 59/100\n",
            " 1/18 [>.............................] - ETA: 0s - loss: 111.8640 - mae: 111.8640 - mse: 54052.0898\n",
            "Epoch 59: val_loss improved from 652.79767 to 641.31805, saving model to models_experiment/model_2_dense\n",
            "18/18 [==============================] - 1s 34ms/step - loss: 121.7295 - mae: 121.7295 - mse: 79204.7734 - val_loss: 641.3181 - val_mae: 641.3181 - val_mse: 1429445.7500\n",
            "Epoch 60/100\n",
            " 1/18 [>.............................] - ETA: 0s - loss: 113.3850 - mae: 113.3850 - mse: 72165.1406\n",
            "Epoch 60: val_loss did not improve from 641.31805\n",
            "18/18 [==============================] - 0s 4ms/step - loss: 118.9781 - mae: 118.9781 - mse: 76773.0234 - val_loss: 999.6846 - val_mae: 999.6846 - val_mse: 2525858.0000\n",
            "Epoch 61/100\n",
            " 1/18 [>.............................] - ETA: 0s - loss: 155.9149 - mae: 155.9149 - mse: 92629.2500\n",
            "Epoch 61: val_loss did not improve from 641.31805\n",
            "18/18 [==============================] - 0s 4ms/step - loss: 131.9788 - mae: 131.9788 - mse: 88330.3047 - val_loss: 700.9622 - val_mae: 700.9622 - val_mse: 1581210.3750\n",
            "Epoch 62/100\n",
            " 1/18 [>.............................] - ETA: 0s - loss: 133.4417 - mae: 133.4417 - mse: 88718.6875\n",
            "Epoch 62: val_loss improved from 641.31805 to 627.86823, saving model to models_experiment/model_2_dense\n",
            "18/18 [==============================] - 1s 32ms/step - loss: 126.7957 - mae: 126.7957 - mse: 80125.3281 - val_loss: 627.8682 - val_mae: 627.8682 - val_mse: 1340846.8750\n",
            "Epoch 63/100\n",
            " 1/18 [>.............................] - ETA: 0s - loss: 97.4310 - mae: 97.4310 - mse: 54232.8281\n",
            "Epoch 63: val_loss did not improve from 627.86823\n",
            "18/18 [==============================] - 0s 4ms/step - loss: 138.6476 - mae: 138.6476 - mse: 92135.2578 - val_loss: 634.0839 - val_mae: 634.0839 - val_mse: 1367068.5000\n",
            "Epoch 64/100\n",
            " 1/18 [>.............................] - ETA: 0s - loss: 120.7248 - mae: 120.7248 - mse: 67190.1406\n",
            "Epoch 64: val_loss did not improve from 627.86823\n",
            "18/18 [==============================] - 0s 5ms/step - loss: 120.8534 - mae: 120.8534 - mse: 79650.7188 - val_loss: 720.9473 - val_mae: 720.9473 - val_mse: 1566266.2500\n",
            "Epoch 65/100\n",
            " 1/18 [>.............................] - ETA: 0s - loss: 117.8627 - mae: 117.8627 - mse: 115498.2500\n",
            "Epoch 65: val_loss did not improve from 627.86823\n",
            "18/18 [==============================] - 0s 4ms/step - loss: 136.6370 - mae: 136.6370 - mse: 91302.5000 - val_loss: 676.3746 - val_mae: 676.3746 - val_mse: 1504868.8750\n",
            "Epoch 66/100\n",
            " 1/18 [>.............................] - ETA: 0s - loss: 109.9667 - mae: 109.9667 - mse: 65451.2383\n",
            "Epoch 66: val_loss did not improve from 627.86823\n",
            "18/18 [==============================] - 0s 4ms/step - loss: 122.9617 - mae: 122.9617 - mse: 80003.2500 - val_loss: 1071.2549 - val_mae: 1071.2549 - val_mse: 2793904.2500\n",
            "Epoch 67/100\n",
            " 1/18 [>.............................] - ETA: 0s - loss: 162.7882 - mae: 162.7882 - mse: 80936.1562\n",
            "Epoch 67: val_loss did not improve from 627.86823\n",
            "18/18 [==============================] - 0s 4ms/step - loss: 129.9427 - mae: 129.9427 - mse: 84176.1875 - val_loss: 632.0457 - val_mae: 632.0457 - val_mse: 1331892.6250\n",
            "Epoch 68/100\n",
            "18/18 [==============================] - ETA: 0s - loss: 120.2585 - mae: 120.2585 - mse: 76722.3203 \n",
            "Epoch 68: val_loss did not improve from 627.86823\n",
            "18/18 [==============================] - 0s 6ms/step - loss: 120.2585 - mae: 120.2585 - mse: 76722.3203 - val_loss: 682.5909 - val_mae: 682.5909 - val_mse: 1517409.8750\n",
            "Epoch 69/100\n",
            " 1/18 [>.............................] - ETA: 0s - loss: 102.0155 - mae: 102.0155 - mse: 36509.3789\n",
            "Epoch 69: val_loss did not improve from 627.86823\n",
            "18/18 [==============================] - 0s 4ms/step - loss: 129.2532 - mae: 129.2532 - mse: 85650.6250 - val_loss: 876.8724 - val_mae: 876.8724 - val_mse: 2058400.0000\n",
            "Epoch 70/100\n",
            " 1/18 [>.............................] - ETA: 0s - loss: 180.9445 - mae: 180.9445 - mse: 144310.4062\n",
            "Epoch 70: val_loss did not improve from 627.86823\n",
            "18/18 [==============================] - 0s 4ms/step - loss: 149.7553 - mae: 149.7553 - mse: 98446.9219 - val_loss: 931.5159 - val_mae: 931.5159 - val_mse: 2256356.7500\n",
            "Epoch 71/100\n",
            " 1/18 [>.............................] - ETA: 0s - loss: 161.1741 - mae: 161.1741 - mse: 85905.0469\n",
            "Epoch 71: val_loss did not improve from 627.86823\n",
            "18/18 [==============================] - 0s 4ms/step - loss: 127.3347 - mae: 127.3347 - mse: 82899.5938 - val_loss: 949.6484 - val_mae: 949.6484 - val_mse: 2315639.0000\n",
            "Epoch 72/100\n",
            " 1/18 [>.............................] - ETA: 0s - loss: 161.3046 - mae: 161.3046 - mse: 71834.9844\n",
            "Epoch 72: val_loss did not improve from 627.86823\n",
            "18/18 [==============================] - 0s 4ms/step - loss: 121.0553 - mae: 121.0553 - mse: 79009.1094 - val_loss: 664.0196 - val_mae: 664.0196 - val_mse: 1434733.6250\n",
            "Epoch 73/100\n",
            " 1/18 [>.............................] - ETA: 0s - loss: 115.9198 - mae: 115.9198 - mse: 65002.0391\n",
            "Epoch 73: val_loss did not improve from 627.86823\n",
            "18/18 [==============================] - 0s 4ms/step - loss: 116.6133 - mae: 116.6133 - mse: 76297.6641 - val_loss: 712.2407 - val_mae: 712.2407 - val_mse: 1589888.8750\n",
            "Epoch 74/100\n",
            " 1/18 [>.............................] - ETA: 0s - loss: 121.4706 - mae: 121.4706 - mse: 79451.3203\n",
            "Epoch 74: val_loss improved from 627.86823 to 613.64087, saving model to models_experiment/model_2_dense\n",
            "18/18 [==============================] - 1s 33ms/step - loss: 132.7791 - mae: 132.7791 - mse: 84123.8203 - val_loss: 613.6409 - val_mae: 613.6409 - val_mse: 1305913.1250\n",
            "Epoch 75/100\n",
            " 1/18 [>.............................] - ETA: 0s - loss: 114.9775 - mae: 114.9775 - mse: 45759.8867\n",
            "Epoch 75: val_loss did not improve from 613.64087\n",
            "18/18 [==============================] - 0s 5ms/step - loss: 118.3717 - mae: 118.3717 - mse: 73492.9453 - val_loss: 615.2160 - val_mae: 615.2160 - val_mse: 1313326.1250\n",
            "Epoch 76/100\n",
            " 1/18 [>.............................] - ETA: 0s - loss: 85.8588 - mae: 85.8588 - mse: 34870.6172\n",
            "Epoch 76: val_loss did not improve from 613.64087\n",
            "18/18 [==============================] - 0s 4ms/step - loss: 121.2700 - mae: 121.2700 - mse: 76361.6875 - val_loss: 613.9412 - val_mae: 613.9412 - val_mse: 1308139.7500\n",
            "Epoch 77/100\n",
            " 1/18 [>.............................] - ETA: 0s - loss: 167.4995 - mae: 167.4995 - mse: 178076.2188\n",
            "Epoch 77: val_loss did not improve from 613.64087\n",
            "18/18 [==============================] - 0s 5ms/step - loss: 132.0443 - mae: 132.0443 - mse: 86568.3047 - val_loss: 625.1542 - val_mae: 625.1542 - val_mse: 1290502.5000\n",
            "Epoch 78/100\n",
            " 1/18 [>.............................] - ETA: 0s - loss: 82.3138 - mae: 82.3138 - mse: 34225.2773\n",
            "Epoch 78: val_loss did not improve from 613.64087\n",
            "18/18 [==============================] - 0s 5ms/step - loss: 117.9984 - mae: 117.9984 - mse: 77196.2969 - val_loss: 981.1058 - val_mae: 981.1058 - val_mse: 2427092.5000\n",
            "Epoch 79/100\n",
            " 1/18 [>.............................] - ETA: 0s - loss: 201.3437 - mae: 201.3437 - mse: 143329.8594\n",
            "Epoch 79: val_loss did not improve from 613.64087\n",
            "18/18 [==============================] - 0s 4ms/step - loss: 133.8036 - mae: 133.8036 - mse: 86564.9375 - val_loss: 719.8068 - val_mae: 719.8068 - val_mse: 1569713.6250\n",
            "Epoch 80/100\n",
            " 1/18 [>.............................] - ETA: 0s - loss: 104.3701 - mae: 104.3701 - mse: 48196.6445\n",
            "Epoch 80: val_loss did not improve from 613.64087\n",
            "18/18 [==============================] - 0s 5ms/step - loss: 118.4717 - mae: 118.4717 - mse: 76614.1172 - val_loss: 671.7621 - val_mae: 671.7621 - val_mse: 1427253.7500\n",
            "Epoch 81/100\n",
            " 1/18 [>.............................] - ETA: 0s - loss: 122.5304 - mae: 122.5304 - mse: 55083.2461\n",
            "Epoch 81: val_loss did not improve from 613.64087\n",
            "18/18 [==============================] - 0s 4ms/step - loss: 121.5535 - mae: 121.5535 - mse: 78773.7969 - val_loss: 655.4865 - val_mae: 655.4865 - val_mse: 1377764.6250\n",
            "Epoch 82/100\n",
            " 1/18 [>.............................] - ETA: 0s - loss: 103.4656 - mae: 103.4656 - mse: 54825.1016\n",
            "Epoch 82: val_loss did not improve from 613.64087\n",
            "18/18 [==============================] - 0s 4ms/step - loss: 121.0266 - mae: 121.0266 - mse: 78435.9688 - val_loss: 706.5999 - val_mae: 706.5999 - val_mse: 1514102.5000\n",
            "Epoch 83/100\n",
            " 1/18 [>.............................] - ETA: 0s - loss: 89.1290 - mae: 89.1290 - mse: 35001.5234\n",
            "Epoch 83: val_loss improved from 613.64087 to 609.78845, saving model to models_experiment/model_2_dense\n",
            "18/18 [==============================] - 1s 34ms/step - loss: 115.4839 - mae: 115.4839 - mse: 73567.2500 - val_loss: 609.7885 - val_mae: 609.7885 - val_mse: 1272302.7500\n",
            "Epoch 84/100\n",
            " 1/18 [>.............................] - ETA: 0s - loss: 100.9866 - mae: 100.9866 - mse: 105313.4922\n",
            "Epoch 84: val_loss did not improve from 609.78845\n",
            "18/18 [==============================] - 0s 4ms/step - loss: 115.2911 - mae: 115.2911 - mse: 73681.6484 - val_loss: 631.1447 - val_mae: 631.1447 - val_mse: 1319635.2500\n",
            "Epoch 85/100\n",
            " 1/18 [>.............................] - ETA: 0s - loss: 87.7533 - mae: 87.7533 - mse: 33579.5859\n",
            "Epoch 85: val_loss did not improve from 609.78845\n",
            "18/18 [==============================] - 0s 4ms/step - loss: 111.0316 - mae: 111.0316 - mse: 70897.3594 - val_loss: 851.1230 - val_mae: 851.1230 - val_mse: 2027577.2500\n",
            "Epoch 86/100\n",
            " 1/18 [>.............................] - ETA: 0s - loss: 193.2305 - mae: 193.2305 - mse: 191773.6250\n",
            "Epoch 86: val_loss improved from 609.78845 to 601.04846, saving model to models_experiment/model_2_dense\n",
            "18/18 [==============================] - 1s 33ms/step - loss: 138.2106 - mae: 138.2106 - mse: 92223.6406 - val_loss: 601.0485 - val_mae: 601.0485 - val_mse: 1251598.0000\n",
            "Epoch 87/100\n",
            " 1/18 [>.............................] - ETA: 0s - loss: 113.5403 - mae: 113.5403 - mse: 51036.8477\n",
            "Epoch 87: val_loss did not improve from 601.04846\n",
            "18/18 [==============================] - 0s 4ms/step - loss: 113.3470 - mae: 113.3470 - mse: 73859.3594 - val_loss: 693.1022 - val_mae: 693.1022 - val_mse: 1521338.8750\n",
            "Epoch 88/100\n",
            " 1/18 [>.............................] - ETA: 0s - loss: 125.2887 - mae: 125.2887 - mse: 82954.7422\n",
            "Epoch 88: val_loss did not improve from 601.04846\n",
            "18/18 [==============================] - 0s 4ms/step - loss: 121.5909 - mae: 121.5909 - mse: 78965.9688 - val_loss: 657.7633 - val_mae: 657.7633 - val_mse: 1395550.3750\n",
            "Epoch 89/100\n",
            " 1/18 [>.............................] - ETA: 0s - loss: 125.8689 - mae: 125.8689 - mse: 69145.4297\n",
            "Epoch 89: val_loss did not improve from 601.04846\n",
            "18/18 [==============================] - 0s 4ms/step - loss: 120.3295 - mae: 120.3295 - mse: 77121.9844 - val_loss: 624.5169 - val_mae: 624.5169 - val_mse: 1313689.0000\n",
            "Epoch 90/100\n",
            " 1/18 [>.............................] - ETA: 0s - loss: 128.8806 - mae: 128.8806 - mse: 77406.9062\n",
            "Epoch 90: val_loss did not improve from 601.04846\n",
            "18/18 [==============================] - 0s 4ms/step - loss: 116.6290 - mae: 116.6290 - mse: 73844.1250 - val_loss: 601.0588 - val_mae: 601.0588 - val_mse: 1259808.8750\n",
            "Epoch 91/100\n",
            " 1/18 [>.............................] - ETA: 0s - loss: 109.2718 - mae: 109.2718 - mse: 58186.1797\n",
            "Epoch 91: val_loss did not improve from 601.04846\n",
            "18/18 [==============================] - 0s 5ms/step - loss: 121.6463 - mae: 121.6463 - mse: 78249.1016 - val_loss: 655.2532 - val_mae: 655.2532 - val_mse: 1381567.5000\n",
            "Epoch 92/100\n",
            " 1/18 [>.............................] - ETA: 0s - loss: 161.2865 - mae: 161.2865 - mse: 196979.6719\n",
            "Epoch 92: val_loss did not improve from 601.04846\n",
            "18/18 [==============================] - 0s 4ms/step - loss: 113.6818 - mae: 113.6818 - mse: 73765.3516 - val_loss: 673.4543 - val_mae: 673.4543 - val_mse: 1439184.6250\n",
            "Epoch 93/100\n",
            " 1/18 [>.............................] - ETA: 0s - loss: 123.5945 - mae: 123.5945 - mse: 70346.7656\n",
            "Epoch 93: val_loss did not improve from 601.04846\n",
            "18/18 [==============================] - 0s 4ms/step - loss: 110.7977 - mae: 110.7977 - mse: 71865.5781 - val_loss: 641.5627 - val_mae: 641.5627 - val_mse: 1340958.3750\n",
            "Epoch 94/100\n",
            "16/18 [=========================>....] - ETA: 0s - loss: 129.6644 - mae: 129.6644 - mse: 80894.5312\n",
            "Epoch 94: val_loss did not improve from 601.04846\n",
            "18/18 [==============================] - 0s 5ms/step - loss: 127.6269 - mae: 127.6269 - mse: 77699.6719 - val_loss: 766.4511 - val_mae: 766.4511 - val_mse: 1694750.8750\n",
            "Epoch 95/100\n",
            "16/18 [=========================>....] - ETA: 0s - loss: 113.0721 - mae: 113.0721 - mse: 69253.2422\n",
            "Epoch 95: val_loss improved from 601.04846 to 597.47479, saving model to models_experiment/model_2_dense\n",
            "18/18 [==============================] - 1s 36ms/step - loss: 115.9204 - mae: 115.9204 - mse: 74139.2422 - val_loss: 597.4748 - val_mae: 597.4748 - val_mse: 1246684.1250\n",
            "Epoch 96/100\n",
            " 1/18 [>.............................] - ETA: 0s - loss: 85.4707 - mae: 85.4707 - mse: 35499.0117\n",
            "Epoch 96: val_loss did not improve from 597.47479\n",
            "18/18 [==============================] - 0s 5ms/step - loss: 115.6217 - mae: 115.6217 - mse: 73970.6328 - val_loss: 747.9911 - val_mae: 747.9911 - val_mse: 1654639.5000\n",
            "Epoch 97/100\n",
            " 1/18 [>.............................] - ETA: 0s - loss: 114.1003 - mae: 114.1003 - mse: 50467.8672\n",
            "Epoch 97: val_loss did not improve from 597.47479\n",
            "18/18 [==============================] - 0s 4ms/step - loss: 158.5836 - mae: 158.5836 - mse: 105300.0625 - val_loss: 717.1043 - val_mae: 717.1043 - val_mse: 1556376.1250\n",
            "Epoch 98/100\n",
            " 1/18 [>.............................] - ETA: 0s - loss: 134.7733 - mae: 134.7733 - mse: 55524.5703\n",
            "Epoch 98: val_loss did not improve from 597.47479\n",
            "18/18 [==============================] - 0s 4ms/step - loss: 127.7047 - mae: 127.7047 - mse: 82298.2109 - val_loss: 609.7670 - val_mae: 609.7670 - val_mse: 1264636.3750\n",
            "Epoch 99/100\n",
            " 1/18 [>.............................] - ETA: 0s - loss: 91.9706 - mae: 91.9706 - mse: 40199.1250\n",
            "Epoch 99: val_loss did not improve from 597.47479\n",
            "18/18 [==============================] - 0s 5ms/step - loss: 110.8812 - mae: 110.8812 - mse: 71074.7344 - val_loss: 717.4723 - val_mae: 717.4723 - val_mse: 1554313.5000\n",
            "Epoch 100/100\n",
            " 1/18 [>.............................] - ETA: 0s - loss: 138.1327 - mae: 138.1327 - mse: 78305.8906\n",
            "Epoch 100: val_loss did not improve from 597.47479\n",
            "18/18 [==============================] - 0s 4ms/step - loss: 113.7418 - mae: 113.7418 - mse: 72693.4688 - val_loss: 600.5840 - val_mae: 600.5840 - val_mse: 1257142.7500\n"
          ]
        },
        {
          "output_type": "execute_result",
          "data": {
            "text/plain": [
              "<keras.callbacks.History at 0x7f7b65ac7d90>"
            ]
          },
          "metadata": {},
          "execution_count": 40
        }
      ]
    },
    {
      "cell_type": "code",
      "source": [
        "model_2 = tf.keras.models.load_model(\"/content/models_experiment/model_2_dense\")"
      ],
      "metadata": {
        "id": "OPu-xJHrgh4F"
      },
      "execution_count": null,
      "outputs": []
    },
    {
      "cell_type": "code",
      "source": [
        "model_2_preds = tf.squeeze(model_2.predict(x_test))\n",
        "model_2_preds.shape"
      ],
      "metadata": {
        "colab": {
          "base_uri": "https://localhost:8080/"
        },
        "id": "GXF_Q7o-gqQS",
        "outputId": "f3f9c0da-b89a-4bf6-aaba-cec57c30ec14"
      },
      "execution_count": null,
      "outputs": [
        {
          "output_type": "stream",
          "name": "stdout",
          "text": [
            "18/18 [==============================] - 0s 2ms/step\n"
          ]
        },
        {
          "output_type": "execute_result",
          "data": {
            "text/plain": [
              "TensorShape([552])"
            ]
          },
          "metadata": {},
          "execution_count": 42
        }
      ]
    },
    {
      "cell_type": "code",
      "source": [
        "model_2_results = regression_evaluation(y_test, model_2_preds)"
      ],
      "metadata": {
        "colab": {
          "base_uri": "https://localhost:8080/"
        },
        "id": "kKoeqYmogxCJ",
        "outputId": "8053429b-2531-4f32-c06c-05c525db3550"
      },
      "execution_count": null,
      "outputs": [
        {
          "output_type": "stream",
          "name": "stdout",
          "text": [
            "Multi dim input\n"
          ]
        }
      ]
    },
    {
      "cell_type": "code",
      "source": [
        "model_2_results"
      ],
      "metadata": {
        "colab": {
          "base_uri": "https://localhost:8080/"
        },
        "id": "2JU01pZPJgmr",
        "outputId": "90e1747f-e956-47a5-e362-cd2adb1cccd1"
      },
      "execution_count": null,
      "outputs": [
        {
          "output_type": "execute_result",
          "data": {
            "text/plain": [
              "{'mae': 17228.71,\n",
              " 'mse': 617975740.0,\n",
              " 'rmse': 23800.34,\n",
              " 'mape': 113.857864,\n",
              " 'mase': 30.115953}"
            ]
          },
          "metadata": {},
          "execution_count": 44
        }
      ]
    },
    {
      "cell_type": "code",
      "source": [
        "naive_results"
      ],
      "metadata": {
        "colab": {
          "base_uri": "https://localhost:8080/"
        },
        "id": "XDBHJr7-JjVz",
        "outputId": "1adcca91-e7d1-437a-cee8-663eb4137a8c"
      },
      "execution_count": null,
      "outputs": [
        {
          "output_type": "execute_result",
          "data": {
            "text/plain": [
              "{'mae': 567.9802,\n",
              " 'mse': 1147547.0,\n",
              " 'rmse': 1071.2362,\n",
              " 'mape': 2.5165248,\n",
              " 'mase': 0.99957}"
            ]
          },
          "metadata": {},
          "execution_count": 45
        }
      ]
    },
    {
      "cell_type": "markdown",
      "source": [
        "### Model 3: Dense (W=30, H=7)"
      ],
      "metadata": {
        "id": "A4PWESx_95Bi"
      }
    },
    {
      "cell_type": "code",
      "source": [
        "# Create data sets\n",
        "HORIZON = 7\n",
        "WINDOW_SIZE = 30\n",
        "\n",
        "windows, labels = make_windows(prices, WINDOW_SIZE, HORIZON)\n",
        "\n",
        "windows.shape, labels.shape, labels[0]"
      ],
      "metadata": {
        "colab": {
          "base_uri": "https://localhost:8080/"
        },
        "id": "JHTvNA9b-BEU",
        "outputId": "759c0098-e93f-45d2-eace-f562ab4ffaa7"
      },
      "execution_count": null,
      "outputs": [
        {
          "output_type": "execute_result",
          "data": {
            "text/plain": [
              "((2751, 30),\n",
              " (2751, 7),\n",
              " array([196.02499, 198.04883, 198.93233, 200.543  , 210.3075 , 225.02   ,\n",
              "        248.25333]))"
            ]
          },
          "metadata": {},
          "execution_count": 47
        }
      ]
    },
    {
      "cell_type": "code",
      "source": [
        "# Split and turn into datasets\n",
        "x_train, x_test, y_train, y_test = make_time_train_test_split(windows, labels)\n",
        "\n",
        "train_ds = preprocess_data(x_train, y_train)\n",
        "test_ds = preprocess_data(x_test, y_test)\n",
        "\n",
        "train_ds"
      ],
      "metadata": {
        "colab": {
          "base_uri": "https://localhost:8080/"
        },
        "id": "g7oNTrTIAp4e",
        "outputId": "2e89f955-2bf6-4f3c-8e94-c4cd58ff49e7"
      },
      "execution_count": null,
      "outputs": [
        {
          "output_type": "execute_result",
          "data": {
            "text/plain": [
              "<PrefetchDataset element_spec=(TensorSpec(shape=(None, 30), dtype=tf.float32, name=None), TensorSpec(shape=(None, 7), dtype=tf.float32, name=None))>"
            ]
          },
          "metadata": {},
          "execution_count": 48
        }
      ]
    },
    {
      "cell_type": "code",
      "source": [
        "y_test.shape, y_train.shape"
      ],
      "metadata": {
        "colab": {
          "base_uri": "https://localhost:8080/"
        },
        "id": "EUC9kjd_GUFc",
        "outputId": "2ee62934-b752-4ce6-abfe-29f9d11680c9"
      },
      "execution_count": null,
      "outputs": [
        {
          "output_type": "execute_result",
          "data": {
            "text/plain": [
              "((551, 7), (2200, 7))"
            ]
          },
          "metadata": {},
          "execution_count": 49
        }
      ]
    },
    {
      "cell_type": "code",
      "source": [
        "# Create, compile, fit and evaluate the model\n",
        "model_3 = tf.keras.Sequential([\n",
        "    layers.Dense(128, activation='relu'),\n",
        "    layers.Dense(HORIZON)\n",
        "], name=\"model_3_dense\")\n",
        "\n",
        "model_3.compile(loss=\"mae\",\n",
        "                optimizer=\"Adam\",\n",
        "                metrics=[\"mae\", \"mse\"])\n",
        "\n",
        "model_3_history = model_3.fit(train_ds,\n",
        "                              epochs=100,\n",
        "                              validation_data=test_ds,\n",
        "                              callbacks=[create_model_checkpoint(model_3.name)],\n",
        "                              )"
      ],
      "metadata": {
        "colab": {
          "base_uri": "https://localhost:8080/"
        },
        "id": "PPtGajNtBLW_",
        "outputId": "467385e0-e3c0-491e-915a-e7232ad39d1d"
      },
      "execution_count": null,
      "outputs": [
        {
          "output_type": "stream",
          "name": "stdout",
          "text": [
            "Epoch 1/100\n",
            "11/18 [=================>............] - ETA: 0s - loss: 513.0674 - mae: 513.0674 - mse: 696649.6250  \n",
            "Epoch 1: val_loss improved from inf to 3092.21826, saving model to models_experiment/model_3_dense\n",
            "18/18 [==============================] - 3s 95ms/step - loss: 1147.1923 - mae: 1147.1923 - mse: 5192537.0000 - val_loss: 3092.2183 - val_mae: 3092.2183 - val_mse: 27651756.0000\n",
            "Epoch 2/100\n",
            " 1/18 [>.............................] - ETA: 0s - loss: 213.8195 - mae: 213.8195 - mse: 86432.6641\n",
            "Epoch 2: val_loss did not improve from 3092.21826\n",
            "18/18 [==============================] - 0s 4ms/step - loss: 1014.1324 - mae: 1014.1324 - mse: 5188647.0000 - val_loss: 3249.0818 - val_mae: 3249.0818 - val_mse: 30352584.0000\n",
            "Epoch 3/100\n",
            " 1/18 [>.............................] - ETA: 0s - loss: 229.5851 - mae: 229.5851 - mse: 93515.2188\n",
            "Epoch 3: val_loss improved from 3092.21826 to 2916.10034, saving model to models_experiment/model_3_dense\n",
            "18/18 [==============================] - 1s 29ms/step - loss: 661.8514 - mae: 661.8514 - mse: 2032022.3750 - val_loss: 2916.1003 - val_mae: 2916.1003 - val_mse: 24937532.0000\n",
            "Epoch 4/100\n",
            "18/18 [==============================] - ETA: 0s - loss: 679.3279 - mae: 679.3279 - mse: 2139418.5000\n",
            "Epoch 4: val_loss improved from 2916.10034 to 2307.41357, saving model to models_experiment/model_3_dense\n",
            "18/18 [==============================] - 1s 31ms/step - loss: 679.3279 - mae: 679.3279 - mse: 2139418.5000 - val_loss: 2307.4136 - val_mae: 2307.4136 - val_mse: 15644969.0000\n",
            "Epoch 5/100\n",
            " 1/18 [>.............................] - ETA: 0s - loss: 190.0847 - mae: 190.0847 - mse: 69989.9219\n",
            "Epoch 5: val_loss did not improve from 2307.41357\n",
            "18/18 [==============================] - 0s 3ms/step - loss: 607.2571 - mae: 607.2571 - mse: 1727520.7500 - val_loss: 2650.5969 - val_mae: 2650.5969 - val_mse: 21610912.0000\n",
            "Epoch 6/100\n",
            " 1/18 [>.............................] - ETA: 0s - loss: 180.8510 - mae: 180.8510 - mse: 67107.2969\n",
            "Epoch 6: val_loss did not improve from 2307.41357\n",
            "18/18 [==============================] - 0s 3ms/step - loss: 640.0013 - mae: 640.0013 - mse: 1913658.8750 - val_loss: 2392.3667 - val_mae: 2392.3667 - val_mse: 16301062.0000\n",
            "Epoch 7/100\n",
            " 1/18 [>.............................] - ETA: 0s - loss: 180.0182 - mae: 180.0182 - mse: 62688.2656\n",
            "Epoch 7: val_loss did not improve from 2307.41357\n",
            "18/18 [==============================] - 0s 3ms/step - loss: 580.1760 - mae: 580.1760 - mse: 1569135.3750 - val_loss: 2566.3308 - val_mae: 2566.3308 - val_mse: 19551218.0000\n",
            "Epoch 8/100\n",
            " 1/18 [>.............................] - ETA: 0s - loss: 172.8244 - mae: 172.8244 - mse: 59883.4453\n",
            "Epoch 8: val_loss improved from 2307.41357 to 2273.66870, saving model to models_experiment/model_3_dense\n",
            "18/18 [==============================] - 1s 30ms/step - loss: 588.1781 - mae: 588.1781 - mse: 1654297.0000 - val_loss: 2273.6687 - val_mae: 2273.6687 - val_mse: 15030967.0000\n",
            "Epoch 9/100\n",
            " 1/18 [>.............................] - ETA: 0s - loss: 171.5876 - mae: 171.5876 - mse: 56293.4531\n",
            "Epoch 9: val_loss did not improve from 2273.66870\n",
            "18/18 [==============================] - 0s 3ms/step - loss: 528.5828 - mae: 528.5828 - mse: 1313521.1250 - val_loss: 2372.5703 - val_mae: 2372.5703 - val_mse: 16815726.0000\n",
            "Epoch 10/100\n",
            "17/18 [===========================>..] - ETA: 0s - loss: 535.4181 - mae: 535.4181 - mse: 1412089.5000\n",
            "Epoch 10: val_loss improved from 2273.66870 to 2171.50952, saving model to models_experiment/model_3_dense\n",
            "18/18 [==============================] - 1s 32ms/step - loss: 539.0856 - mae: 539.0856 - mse: 1408747.5000 - val_loss: 2171.5095 - val_mae: 2171.5095 - val_mse: 13895443.0000\n",
            "Epoch 11/100\n",
            " 1/18 [>.............................] - ETA: 0s - loss: 162.6420 - mae: 162.6420 - mse: 50195.5078\n",
            "Epoch 11: val_loss did not improve from 2171.50952\n",
            "18/18 [==============================] - 0s 3ms/step - loss: 501.8705 - mae: 501.8705 - mse: 1180835.3750 - val_loss: 2209.2229 - val_mae: 2209.2229 - val_mse: 14529914.0000\n",
            "Epoch 12/100\n",
            " 1/18 [>.............................] - ETA: 0s - loss: 154.7065 - mae: 154.7065 - mse: 46838.7070\n",
            "Epoch 12: val_loss did not improve from 2171.50952\n",
            "18/18 [==============================] - 0s 3ms/step - loss: 540.4745 - mae: 540.4745 - mse: 1339501.2500 - val_loss: 2177.8418 - val_mae: 2177.8418 - val_mse: 13529029.0000\n",
            "Epoch 13/100\n",
            " 1/18 [>.............................] - ETA: 0s - loss: 155.4001 - mae: 155.4001 - mse: 45400.0312\n",
            "Epoch 13: val_loss improved from 2171.50952 to 2152.51367, saving model to models_experiment/model_3_dense\n",
            "18/18 [==============================] - 1s 31ms/step - loss: 483.4851 - mae: 483.4851 - mse: 1086220.0000 - val_loss: 2152.5137 - val_mae: 2152.5137 - val_mse: 13357435.0000\n",
            "Epoch 14/100\n",
            " 1/18 [>.............................] - ETA: 0s - loss: 148.5914 - mae: 148.5914 - mse: 42273.0312\n",
            "Epoch 14: val_loss improved from 2152.51367 to 2143.23267, saving model to models_experiment/model_3_dense\n",
            "18/18 [==============================] - 1s 31ms/step - loss: 504.5031 - mae: 504.5031 - mse: 1163867.2500 - val_loss: 2143.2327 - val_mae: 2143.2327 - val_mse: 12961806.0000\n",
            "Epoch 15/100\n",
            " 1/18 [>.............................] - ETA: 0s - loss: 147.7429 - mae: 147.7429 - mse: 40931.5234\n",
            "Epoch 15: val_loss improved from 2143.23267 to 1987.93506, saving model to models_experiment/model_3_dense\n",
            "18/18 [==============================] - 1s 49ms/step - loss: 455.4449 - mae: 455.4449 - mse: 970439.1250 - val_loss: 1987.9351 - val_mae: 1987.9351 - val_mse: 11672968.0000\n",
            "Epoch 16/100\n",
            " 1/18 [>.............................] - ETA: 0s - loss: 142.6498 - mae: 142.6498 - mse: 38302.8320\n",
            "Epoch 16: val_loss did not improve from 1987.93506\n",
            "18/18 [==============================] - 0s 4ms/step - loss: 492.9561 - mae: 492.9561 - mse: 1105479.6250 - val_loss: 2151.5942 - val_mae: 2151.5942 - val_mse: 12951755.0000\n",
            "Epoch 17/100\n",
            " 1/18 [>.............................] - ETA: 0s - loss: 143.0465 - mae: 143.0465 - mse: 37518.1992\n",
            "Epoch 17: val_loss improved from 1987.93506 to 1897.47986, saving model to models_experiment/model_3_dense\n",
            "18/18 [==============================] - 1s 31ms/step - loss: 490.0891 - mae: 490.0891 - mse: 1083435.7500 - val_loss: 1897.4799 - val_mae: 1897.4799 - val_mse: 10590722.0000\n",
            "Epoch 18/100\n",
            " 1/18 [>.............................] - ETA: 0s - loss: 135.8060 - mae: 135.8060 - mse: 34140.2266\n",
            "Epoch 18: val_loss did not improve from 1897.47986\n",
            "18/18 [==============================] - 0s 3ms/step - loss: 597.1896 - mae: 597.1896 - mse: 1576642.0000 - val_loss: 1997.3616 - val_mae: 1997.3616 - val_mse: 11285594.0000\n",
            "Epoch 19/100\n",
            "18/18 [==============================] - ETA: 0s - loss: 573.9783 - mae: 573.9783 - mse: 1500769.5000\n",
            "Epoch 19: val_loss did not improve from 1897.47986\n",
            "18/18 [==============================] - 0s 5ms/step - loss: 573.9783 - mae: 573.9783 - mse: 1500769.5000 - val_loss: 2379.2710 - val_mae: 2379.2710 - val_mse: 16753655.0000\n",
            "Epoch 20/100\n",
            " 1/18 [>.............................] - ETA: 0s - loss: 140.6504 - mae: 140.6504 - mse: 38012.8672\n",
            "Epoch 20: val_loss improved from 1897.47986 to 1865.47998, saving model to models_experiment/model_3_dense\n",
            "18/18 [==============================] - 1s 30ms/step - loss: 508.0556 - mae: 508.0556 - mse: 1189332.2500 - val_loss: 1865.4800 - val_mae: 1865.4800 - val_mse: 9971417.0000\n",
            "Epoch 21/100\n",
            " 1/18 [>.............................] - ETA: 0s - loss: 139.4143 - mae: 139.4143 - mse: 35345.3594\n",
            "Epoch 21: val_loss did not improve from 1865.47998\n",
            "18/18 [==============================] - 0s 3ms/step - loss: 478.5267 - mae: 478.5267 - mse: 1049209.8750 - val_loss: 2115.1667 - val_mae: 2115.1667 - val_mse: 12969997.0000\n",
            "Epoch 22/100\n",
            " 1/18 [>.............................] - ETA: 0s - loss: 135.3627 - mae: 135.3627 - mse: 34691.0156\n",
            "Epoch 22: val_loss did not improve from 1865.47998\n",
            "18/18 [==============================] - 0s 3ms/step - loss: 474.8065 - mae: 474.8065 - mse: 1060242.5000 - val_loss: 1879.6506 - val_mae: 1879.6506 - val_mse: 10072477.0000\n",
            "Epoch 23/100\n",
            " 1/18 [>.............................] - ETA: 0s - loss: 136.2019 - mae: 136.2019 - mse: 33841.0781\n",
            "Epoch 23: val_loss did not improve from 1865.47998\n",
            "18/18 [==============================] - 0s 3ms/step - loss: 439.9335 - mae: 439.9335 - mse: 931516.8125 - val_loss: 2018.4912 - val_mae: 2018.4912 - val_mse: 11888095.0000\n",
            "Epoch 24/100\n",
            " 1/18 [>.............................] - ETA: 0s - loss: 131.5324 - mae: 131.5324 - mse: 32962.2148\n",
            "Epoch 24: val_loss improved from 1865.47998 to 1797.42639, saving model to models_experiment/model_3_dense\n",
            "18/18 [==============================] - 1s 30ms/step - loss: 440.9530 - mae: 440.9530 - mse: 957261.5000 - val_loss: 1797.4264 - val_mae: 1797.4264 - val_mse: 9505942.0000\n",
            "Epoch 25/100\n",
            " 1/18 [>.............................] - ETA: 0s - loss: 131.9490 - mae: 131.9490 - mse: 32109.3574\n",
            "Epoch 25: val_loss did not improve from 1797.42639\n",
            "18/18 [==============================] - 0s 3ms/step - loss: 422.8610 - mae: 422.8610 - mse: 858646.3125 - val_loss: 1981.3834 - val_mae: 1981.3834 - val_mse: 11286001.0000\n",
            "Epoch 26/100\n",
            " 1/18 [>.............................] - ETA: 0s - loss: 128.9139 - mae: 128.9139 - mse: 31453.6074\n",
            "Epoch 26: val_loss did not improve from 1797.42639\n",
            "18/18 [==============================] - 0s 3ms/step - loss: 421.0902 - mae: 421.0902 - mse: 851264.4375 - val_loss: 1883.5081 - val_mae: 1883.5081 - val_mse: 10223133.0000\n",
            "Epoch 27/100\n",
            " 1/18 [>.............................] - ETA: 0s - loss: 127.9403 - mae: 127.9403 - mse: 30462.6875\n",
            "Epoch 27: val_loss did not improve from 1797.42639\n",
            "18/18 [==============================] - 0s 3ms/step - loss: 416.0695 - mae: 416.0695 - mse: 822872.6875 - val_loss: 1954.6863 - val_mae: 1954.6863 - val_mse: 10849598.0000\n",
            "Epoch 28/100\n",
            " 1/18 [>.............................] - ETA: 0s - loss: 126.1526 - mae: 126.1526 - mse: 29821.0195\n",
            "Epoch 28: val_loss did not improve from 1797.42639\n",
            "18/18 [==============================] - 0s 3ms/step - loss: 406.6330 - mae: 406.6330 - mse: 784376.0000 - val_loss: 1821.6243 - val_mae: 1821.6243 - val_mse: 9717764.0000\n",
            "Epoch 29/100\n",
            " 1/18 [>.............................] - ETA: 0s - loss: 123.8008 - mae: 123.8008 - mse: 28666.5234\n",
            "Epoch 29: val_loss did not improve from 1797.42639\n",
            "18/18 [==============================] - 0s 3ms/step - loss: 391.0262 - mae: 391.0262 - mse: 726140.6875 - val_loss: 1841.3695 - val_mae: 1841.3695 - val_mse: 9783013.0000\n",
            "Epoch 30/100\n",
            " 1/18 [>.............................] - ETA: 0s - loss: 122.5092 - mae: 122.5092 - mse: 27960.9922\n",
            "Epoch 30: val_loss improved from 1797.42639 to 1796.40527, saving model to models_experiment/model_3_dense\n",
            "18/18 [==============================] - 1s 31ms/step - loss: 403.6799 - mae: 403.6799 - mse: 755933.9375 - val_loss: 1796.4053 - val_mae: 1796.4053 - val_mse: 9500235.0000\n",
            "Epoch 31/100\n",
            " 1/18 [>.............................] - ETA: 0s - loss: 120.6809 - mae: 120.6809 - mse: 27197.4766\n",
            "Epoch 31: val_loss improved from 1796.40527 to 1711.24683, saving model to models_experiment/model_3_dense\n",
            "18/18 [==============================] - 1s 31ms/step - loss: 387.5561 - mae: 387.5561 - mse: 699256.3125 - val_loss: 1711.2468 - val_mae: 1711.2468 - val_mse: 8829584.0000\n",
            "Epoch 32/100\n",
            " 1/18 [>.............................] - ETA: 0s - loss: 118.8921 - mae: 118.8921 - mse: 26474.9180\n",
            "Epoch 32: val_loss did not improve from 1711.24683\n",
            "18/18 [==============================] - 0s 4ms/step - loss: 421.3005 - mae: 421.3005 - mse: 817921.4375 - val_loss: 1807.5177 - val_mae: 1807.5177 - val_mse: 9640815.0000\n",
            "Epoch 33/100\n",
            " 1/18 [>.............................] - ETA: 0s - loss: 119.0456 - mae: 119.0456 - mse: 26447.7305\n",
            "Epoch 33: val_loss improved from 1711.24683 to 1694.88318, saving model to models_experiment/model_3_dense\n",
            "18/18 [==============================] - 1s 31ms/step - loss: 416.5477 - mae: 416.5477 - mse: 765977.8125 - val_loss: 1694.8832 - val_mae: 1694.8832 - val_mse: 8687446.0000\n",
            "Epoch 34/100\n",
            " 1/18 [>.............................] - ETA: 0s - loss: 119.2909 - mae: 119.2909 - mse: 25995.5938\n",
            "Epoch 34: val_loss did not improve from 1694.88318\n",
            "18/18 [==============================] - 0s 3ms/step - loss: 479.3716 - mae: 479.3716 - mse: 999296.9375 - val_loss: 1873.0681 - val_mae: 1873.0681 - val_mse: 9839250.0000\n",
            "Epoch 35/100\n",
            " 1/18 [>.............................] - ETA: 0s - loss: 122.3272 - mae: 122.3272 - mse: 26441.9473\n",
            "Epoch 35: val_loss did not improve from 1694.88318\n",
            "18/18 [==============================] - 0s 3ms/step - loss: 427.3965 - mae: 427.3965 - mse: 792748.8125 - val_loss: 1885.1577 - val_mae: 1885.1577 - val_mse: 10245619.0000\n",
            "Epoch 36/100\n",
            " 1/18 [>.............................] - ETA: 0s - loss: 116.9460 - mae: 116.9460 - mse: 25555.3223\n",
            "Epoch 36: val_loss did not improve from 1694.88318\n",
            "18/18 [==============================] - 0s 3ms/step - loss: 417.2104 - mae: 417.2104 - mse: 787383.1875 - val_loss: 1751.1768 - val_mae: 1751.1768 - val_mse: 8896482.0000\n",
            "Epoch 37/100\n",
            " 1/18 [>.............................] - ETA: 0s - loss: 119.9962 - mae: 119.9962 - mse: 25544.8047\n",
            "Epoch 37: val_loss did not improve from 1694.88318\n",
            "18/18 [==============================] - 0s 3ms/step - loss: 378.5578 - mae: 378.5578 - mse: 651755.6875 - val_loss: 1740.9911 - val_mae: 1740.9911 - val_mse: 9143958.0000\n",
            "Epoch 38/100\n",
            " 1/18 [>.............................] - ETA: 0s - loss: 113.0099 - mae: 113.0099 - mse: 23985.2070\n",
            "Epoch 38: val_loss did not improve from 1694.88318\n",
            "18/18 [==============================] - 0s 3ms/step - loss: 406.7916 - mae: 406.7916 - mse: 725185.3125 - val_loss: 1887.3180 - val_mae: 1887.3180 - val_mse: 10265663.0000\n",
            "Epoch 39/100\n",
            " 1/18 [>.............................] - ETA: 0s - loss: 118.3612 - mae: 118.3612 - mse: 24922.9160\n",
            "Epoch 39: val_loss did not improve from 1694.88318\n",
            "18/18 [==============================] - 0s 3ms/step - loss: 394.5294 - mae: 394.5294 - mse: 703858.0625 - val_loss: 1762.2405 - val_mae: 1762.2405 - val_mse: 9241559.0000\n",
            "Epoch 40/100\n",
            " 1/18 [>.............................] - ETA: 0s - loss: 115.0887 - mae: 115.0887 - mse: 23951.9043\n",
            "Epoch 40: val_loss improved from 1694.88318 to 1480.59949, saving model to models_experiment/model_3_dense\n",
            "18/18 [==============================] - 1s 31ms/step - loss: 363.3084 - mae: 363.3084 - mse: 612795.5625 - val_loss: 1480.5995 - val_mae: 1480.5995 - val_mse: 7056348.0000\n",
            "Epoch 41/100\n",
            " 1/18 [>.............................] - ETA: 0s - loss: 111.4210 - mae: 111.4210 - mse: 22713.6680\n",
            "Epoch 41: val_loss did not improve from 1480.59949\n",
            "18/18 [==============================] - 0s 3ms/step - loss: 383.2359 - mae: 383.2359 - mse: 658784.1250 - val_loss: 1712.1724 - val_mae: 1712.1724 - val_mse: 8731513.0000\n",
            "Epoch 42/100\n",
            " 1/18 [>.............................] - ETA: 0s - loss: 109.1865 - mae: 109.1865 - mse: 22427.2109\n",
            "Epoch 42: val_loss did not improve from 1480.59949\n",
            "18/18 [==============================] - 0s 4ms/step - loss: 401.0642 - mae: 401.0642 - mse: 729730.9375 - val_loss: 1781.7217 - val_mae: 1781.7217 - val_mse: 9077450.0000\n",
            "Epoch 43/100\n",
            " 1/18 [>.............................] - ETA: 0s - loss: 114.5135 - mae: 114.5135 - mse: 23313.8633\n",
            "Epoch 43: val_loss did not improve from 1480.59949\n",
            "18/18 [==============================] - 0s 3ms/step - loss: 359.3419 - mae: 359.3419 - mse: 600949.5625 - val_loss: 1706.7782 - val_mae: 1706.7782 - val_mse: 8767987.0000\n",
            "Epoch 44/100\n",
            " 1/18 [>.............................] - ETA: 0s - loss: 108.1042 - mae: 108.1042 - mse: 22064.0859\n",
            "Epoch 44: val_loss did not improve from 1480.59949\n",
            "18/18 [==============================] - 0s 3ms/step - loss: 351.4271 - mae: 351.4271 - mse: 574534.6250 - val_loss: 1626.3214 - val_mae: 1626.3214 - val_mse: 7917423.0000\n",
            "Epoch 45/100\n",
            " 1/18 [>.............................] - ETA: 0s - loss: 108.2006 - mae: 108.2006 - mse: 21752.1699\n",
            "Epoch 45: val_loss did not improve from 1480.59949\n",
            "18/18 [==============================] - 0s 3ms/step - loss: 340.0642 - mae: 340.0642 - mse: 540167.1875 - val_loss: 1624.4655 - val_mae: 1624.4655 - val_mse: 8053546.5000\n",
            "Epoch 46/100\n",
            " 1/18 [>.............................] - ETA: 0s - loss: 105.7943 - mae: 105.7943 - mse: 21232.1270\n",
            "Epoch 46: val_loss did not improve from 1480.59949\n",
            "18/18 [==============================] - 0s 3ms/step - loss: 364.5182 - mae: 364.5182 - mse: 600338.3750 - val_loss: 1771.1249 - val_mae: 1771.1249 - val_mse: 9107588.0000\n",
            "Epoch 47/100\n",
            " 1/18 [>.............................] - ETA: 0s - loss: 111.2677 - mae: 111.2677 - mse: 22253.0234\n",
            "Epoch 47: val_loss did not improve from 1480.59949\n",
            "18/18 [==============================] - 0s 3ms/step - loss: 338.1059 - mae: 338.1059 - mse: 528837.5000 - val_loss: 1646.6687 - val_mae: 1646.6687 - val_mse: 8300744.5000\n",
            "Epoch 48/100\n",
            " 1/18 [>.............................] - ETA: 0s - loss: 104.4837 - mae: 104.4837 - mse: 20803.7520\n",
            "Epoch 48: val_loss did not improve from 1480.59949\n",
            "18/18 [==============================] - 0s 3ms/step - loss: 347.0905 - mae: 347.0905 - mse: 544850.9375 - val_loss: 1533.0200 - val_mae: 1533.0200 - val_mse: 7289529.5000\n",
            "Epoch 49/100\n",
            " 1/18 [>.............................] - ETA: 0s - loss: 104.5844 - mae: 104.5844 - mse: 20488.3848\n",
            "Epoch 49: val_loss did not improve from 1480.59949\n",
            "18/18 [==============================] - 0s 3ms/step - loss: 370.0082 - mae: 370.0082 - mse: 589213.6250 - val_loss: 1681.0750 - val_mae: 1681.0750 - val_mse: 8381366.5000\n",
            "Epoch 50/100\n",
            " 1/18 [>.............................] - ETA: 0s - loss: 108.9310 - mae: 108.9310 - mse: 21194.0957\n",
            "Epoch 50: val_loss did not improve from 1480.59949\n",
            "18/18 [==============================] - 0s 3ms/step - loss: 359.1924 - mae: 359.1924 - mse: 601895.9375 - val_loss: 1661.8057 - val_mae: 1661.8057 - val_mse: 8223809.0000\n",
            "Epoch 51/100\n",
            " 1/18 [>.............................] - ETA: 0s - loss: 107.7001 - mae: 107.7001 - mse: 20920.1055\n",
            "Epoch 51: val_loss did not improve from 1480.59949\n",
            "18/18 [==============================] - 0s 4ms/step - loss: 350.8954 - mae: 350.8954 - mse: 597675.6875 - val_loss: 1717.2565 - val_mae: 1717.2565 - val_mse: 8723881.0000\n",
            "Epoch 52/100\n",
            " 1/18 [>.............................] - ETA: 0s - loss: 102.9700 - mae: 102.9700 - mse: 20009.2031\n",
            "Epoch 52: val_loss did not improve from 1480.59949\n",
            "18/18 [==============================] - 0s 3ms/step - loss: 345.5280 - mae: 345.5280 - mse: 571974.9375 - val_loss: 1572.0892 - val_mae: 1572.0892 - val_mse: 7542632.5000\n",
            "Epoch 53/100\n",
            " 1/18 [>.............................] - ETA: 0s - loss: 104.3680 - mae: 104.3680 - mse: 19922.0664\n",
            "Epoch 53: val_loss did not improve from 1480.59949\n",
            "18/18 [==============================] - 0s 4ms/step - loss: 339.9624 - mae: 339.9624 - mse: 592749.6250 - val_loss: 1575.1173 - val_mae: 1575.1173 - val_mse: 7851505.0000\n",
            "Epoch 54/100\n",
            " 1/18 [>.............................] - ETA: 0s - loss: 99.1607 - mae: 99.1607 - mse: 19056.7578\n",
            "Epoch 54: val_loss did not improve from 1480.59949\n",
            "18/18 [==============================] - 0s 3ms/step - loss: 350.4301 - mae: 350.4301 - mse: 573569.4375 - val_loss: 1582.4546 - val_mae: 1582.4546 - val_mse: 7550256.5000\n",
            "Epoch 55/100\n",
            " 1/18 [>.............................] - ETA: 0s - loss: 102.4164 - mae: 102.4164 - mse: 19432.1445\n",
            "Epoch 55: val_loss did not improve from 1480.59949\n",
            "18/18 [==============================] - 0s 3ms/step - loss: 358.5176 - mae: 358.5176 - mse: 689365.6875 - val_loss: 1670.4810 - val_mae: 1670.4810 - val_mse: 8291401.5000\n",
            "Epoch 56/100\n",
            " 1/18 [>.............................] - ETA: 0s - loss: 100.2852 - mae: 100.2852 - mse: 19147.1133\n",
            "Epoch 56: val_loss did not improve from 1480.59949\n",
            "18/18 [==============================] - 0s 3ms/step - loss: 342.2729 - mae: 342.2729 - mse: 557156.8750 - val_loss: 1593.3021 - val_mae: 1593.3021 - val_mse: 7681264.5000\n",
            "Epoch 57/100\n",
            " 1/18 [>.............................] - ETA: 0s - loss: 100.8833 - mae: 100.8833 - mse: 19049.7656\n",
            "Epoch 57: val_loss did not improve from 1480.59949\n",
            "18/18 [==============================] - 0s 4ms/step - loss: 352.8265 - mae: 352.8265 - mse: 677752.5000 - val_loss: 1576.8185 - val_mae: 1576.8185 - val_mse: 7758076.5000\n",
            "Epoch 58/100\n",
            " 1/18 [>.............................] - ETA: 0s - loss: 97.8665 - mae: 97.8665 - mse: 18593.9297\n",
            "Epoch 58: val_loss did not improve from 1480.59949\n",
            "18/18 [==============================] - 0s 4ms/step - loss: 335.7299 - mae: 335.7299 - mse: 542247.1875 - val_loss: 1509.2477 - val_mae: 1509.2477 - val_mse: 7232842.0000\n",
            "Epoch 59/100\n",
            " 1/18 [>.............................] - ETA: 0s - loss: 95.6289 - mae: 95.6289 - mse: 17891.0332\n",
            "Epoch 59: val_loss did not improve from 1480.59949\n",
            "18/18 [==============================] - 0s 3ms/step - loss: 361.4270 - mae: 361.4270 - mse: 649953.6875 - val_loss: 1709.3641 - val_mae: 1709.3641 - val_mse: 8327480.0000\n",
            "Epoch 60/100\n",
            " 1/18 [>.............................] - ETA: 0s - loss: 99.9427 - mae: 99.9427 - mse: 18562.0645\n",
            "Epoch 60: val_loss did not improve from 1480.59949\n",
            "18/18 [==============================] - 0s 3ms/step - loss: 341.2038 - mae: 341.2038 - mse: 552491.0000 - val_loss: 1574.8914 - val_mae: 1574.8914 - val_mse: 7716907.5000\n",
            "Epoch 61/100\n",
            " 1/18 [>.............................] - ETA: 0s - loss: 95.2436 - mae: 95.2436 - mse: 17736.3066\n",
            "Epoch 61: val_loss did not improve from 1480.59949\n",
            "18/18 [==============================] - 0s 3ms/step - loss: 340.4909 - mae: 340.4909 - mse: 565377.1250 - val_loss: 1489.3698 - val_mae: 1489.3698 - val_mse: 6991151.0000\n",
            "Epoch 62/100\n",
            " 1/18 [>.............................] - ETA: 0s - loss: 94.8872 - mae: 94.8872 - mse: 17609.1094\n",
            "Epoch 62: val_loss did not improve from 1480.59949\n",
            "18/18 [==============================] - 0s 3ms/step - loss: 342.3851 - mae: 342.3851 - mse: 553367.2500 - val_loss: 1573.7357 - val_mae: 1573.7357 - val_mse: 7756164.5000\n",
            "Epoch 63/100\n",
            " 1/18 [>.............................] - ETA: 0s - loss: 94.6647 - mae: 94.6647 - mse: 17502.7969\n",
            "Epoch 63: val_loss did not improve from 1480.59949\n",
            "18/18 [==============================] - 0s 4ms/step - loss: 333.0791 - mae: 333.0791 - mse: 531228.6250 - val_loss: 1655.7815 - val_mae: 1655.7815 - val_mse: 7869475.5000\n",
            "Epoch 64/100\n",
            " 1/18 [>.............................] - ETA: 0s - loss: 96.2458 - mae: 96.2458 - mse: 17590.9180\n",
            "Epoch 64: val_loss did not improve from 1480.59949\n",
            "18/18 [==============================] - 0s 3ms/step - loss: 314.4118 - mae: 314.4118 - mse: 477317.7188 - val_loss: 1533.3262 - val_mae: 1533.3262 - val_mse: 7470477.5000\n",
            "Epoch 65/100\n",
            " 1/18 [>.............................] - ETA: 0s - loss: 93.2564 - mae: 93.2564 - mse: 17176.0234\n",
            "Epoch 65: val_loss did not improve from 1480.59949\n",
            "18/18 [==============================] - 0s 3ms/step - loss: 312.6158 - mae: 312.6158 - mse: 470282.9062 - val_loss: 1577.8248 - val_mae: 1577.8248 - val_mse: 7386767.0000\n",
            "Epoch 66/100\n",
            " 1/18 [>.............................] - ETA: 0s - loss: 94.5391 - mae: 94.5391 - mse: 17285.0312\n",
            "Epoch 66: val_loss improved from 1480.59949 to 1478.48157, saving model to models_experiment/model_3_dense\n",
            "18/18 [==============================] - 1s 30ms/step - loss: 303.2348 - mae: 303.2348 - mse: 445287.2500 - val_loss: 1478.4816 - val_mae: 1478.4816 - val_mse: 7059917.0000\n",
            "Epoch 67/100\n",
            "17/18 [===========================>..] - ETA: 0s - loss: 311.8737 - mae: 311.8737 - mse: 470811.2812\n",
            "Epoch 67: val_loss did not improve from 1478.48157\n",
            "18/18 [==============================] - 0s 4ms/step - loss: 315.9063 - mae: 315.9063 - mse: 474094.0938 - val_loss: 1623.0837 - val_mae: 1623.0837 - val_mse: 7674886.5000\n",
            "Epoch 68/100\n",
            " 1/18 [>.............................] - ETA: 0s - loss: 95.7773 - mae: 95.7773 - mse: 17340.8867\n",
            "Epoch 68: val_loss improved from 1478.48157 to 1470.16162, saving model to models_experiment/model_3_dense\n",
            "18/18 [==============================] - 1s 30ms/step - loss: 297.7737 - mae: 297.7737 - mse: 429857.0000 - val_loss: 1470.1616 - val_mae: 1470.1616 - val_mse: 7009484.0000\n",
            "Epoch 69/100\n",
            " 1/18 [>.............................] - ETA: 0s - loss: 92.1785 - mae: 92.1785 - mse: 16918.7891\n",
            "Epoch 69: val_loss did not improve from 1470.16162\n",
            "18/18 [==============================] - 0s 3ms/step - loss: 304.9907 - mae: 304.9907 - mse: 448737.5000 - val_loss: 1555.5488 - val_mae: 1555.5488 - val_mse: 7243352.0000\n",
            "Epoch 70/100\n",
            " 1/18 [>.............................] - ETA: 0s - loss: 93.8214 - mae: 93.8214 - mse: 17097.1289\n",
            "Epoch 70: val_loss did not improve from 1470.16162\n",
            "18/18 [==============================] - 0s 3ms/step - loss: 299.1576 - mae: 299.1576 - mse: 434531.0938 - val_loss: 1490.6643 - val_mae: 1490.6643 - val_mse: 7098710.0000\n",
            "Epoch 71/100\n",
            " 1/18 [>.............................] - ETA: 0s - loss: 92.1506 - mae: 92.1506 - mse: 16792.0430\n",
            "Epoch 71: val_loss did not improve from 1470.16162\n",
            "18/18 [==============================] - 0s 4ms/step - loss: 317.0518 - mae: 317.0518 - mse: 490070.4062 - val_loss: 1686.4890 - val_mae: 1686.4890 - val_mse: 8173216.0000\n",
            "Epoch 72/100\n",
            " 1/18 [>.............................] - ETA: 0s - loss: 96.2439 - mae: 96.2439 - mse: 17388.5352\n",
            "Epoch 72: val_loss did not improve from 1470.16162\n",
            "18/18 [==============================] - 0s 3ms/step - loss: 322.1141 - mae: 322.1141 - mse: 498174.2500 - val_loss: 1706.2112 - val_mae: 1706.2112 - val_mse: 8602652.0000\n",
            "Epoch 73/100\n",
            "17/18 [===========================>..] - ETA: 0s - loss: 317.9950 - mae: 317.9950 - mse: 531641.0000\n",
            "Epoch 73: val_loss did not improve from 1470.16162\n",
            "18/18 [==============================] - 0s 4ms/step - loss: 322.8398 - mae: 322.8398 - mse: 536991.4375 - val_loss: 1733.3976 - val_mae: 1733.3976 - val_mse: 8961926.0000\n",
            "Epoch 74/100\n",
            " 1/18 [>.............................] - ETA: 0s - loss: 96.5176 - mae: 96.5176 - mse: 17523.9336\n",
            "Epoch 74: val_loss did not improve from 1470.16162\n",
            "18/18 [==============================] - 0s 3ms/step - loss: 329.4227 - mae: 329.4227 - mse: 522247.9062 - val_loss: 1761.8141 - val_mae: 1761.8141 - val_mse: 8888102.0000\n",
            "Epoch 75/100\n",
            " 1/18 [>.............................] - ETA: 0s - loss: 98.7805 - mae: 98.7805 - mse: 17785.9258\n",
            "Epoch 75: val_loss did not improve from 1470.16162\n",
            "18/18 [==============================] - 0s 3ms/step - loss: 323.0313 - mae: 323.0313 - mse: 556876.7500 - val_loss: 1566.6741 - val_mae: 1566.6741 - val_mse: 7476935.0000\n",
            "Epoch 76/100\n",
            " 1/18 [>.............................] - ETA: 0s - loss: 93.0318 - mae: 93.0318 - mse: 16920.8164\n",
            "Epoch 76: val_loss did not improve from 1470.16162\n",
            "18/18 [==============================] - 0s 4ms/step - loss: 350.5207 - mae: 350.5207 - mse: 593906.9375 - val_loss: 1545.8739 - val_mae: 1545.8739 - val_mse: 7254964.5000\n",
            "Epoch 77/100\n",
            " 1/18 [>.............................] - ETA: 0s - loss: 92.9763 - mae: 92.9763 - mse: 16776.4160\n",
            "Epoch 77: val_loss did not improve from 1470.16162\n",
            "18/18 [==============================] - 0s 3ms/step - loss: 397.2693 - mae: 397.2693 - mse: 820395.9375 - val_loss: 1617.4974 - val_mae: 1617.4974 - val_mse: 7724135.0000\n",
            "Epoch 78/100\n",
            " 1/18 [>.............................] - ETA: 0s - loss: 95.4601 - mae: 95.4601 - mse: 17169.8516\n",
            "Epoch 78: val_loss did not improve from 1470.16162\n",
            "18/18 [==============================] - 0s 3ms/step - loss: 364.9233 - mae: 364.9233 - mse: 623261.8750 - val_loss: 1490.3013 - val_mae: 1490.3013 - val_mse: 6884812.5000\n",
            "Epoch 79/100\n",
            " 1/18 [>.............................] - ETA: 0s - loss: 91.8784 - mae: 91.8784 - mse: 16603.2988\n",
            "Epoch 79: val_loss did not improve from 1470.16162\n",
            "18/18 [==============================] - 0s 4ms/step - loss: 380.0636 - mae: 380.0636 - mse: 738923.3750 - val_loss: 1501.1625 - val_mae: 1501.1625 - val_mse: 7149029.0000\n",
            "Epoch 80/100\n",
            " 1/18 [>.............................] - ETA: 0s - loss: 94.5839 - mae: 94.5839 - mse: 17169.4961\n",
            "Epoch 80: val_loss did not improve from 1470.16162\n",
            "18/18 [==============================] - 0s 4ms/step - loss: 340.8884 - mae: 340.8884 - mse: 546661.5625 - val_loss: 1478.5836 - val_mae: 1478.5836 - val_mse: 6823320.0000\n",
            "Epoch 81/100\n",
            " 1/18 [>.............................] - ETA: 0s - loss: 91.8652 - mae: 91.8652 - mse: 16651.4551\n",
            "Epoch 81: val_loss did not improve from 1470.16162\n",
            "18/18 [==============================] - 0s 3ms/step - loss: 344.3497 - mae: 344.3497 - mse: 580235.9375 - val_loss: 1538.1324 - val_mae: 1538.1324 - val_mse: 7272300.5000\n",
            "Epoch 82/100\n",
            " 1/18 [>.............................] - ETA: 0s - loss: 93.6997 - mae: 93.6997 - mse: 16946.2695\n",
            "Epoch 82: val_loss did not improve from 1470.16162\n",
            "18/18 [==============================] - 0s 3ms/step - loss: 309.8801 - mae: 309.8801 - mse: 468901.4688 - val_loss: 1506.1559 - val_mae: 1506.1559 - val_mse: 7033658.5000\n",
            "Epoch 83/100\n",
            " 1/18 [>.............................] - ETA: 0s - loss: 90.6604 - mae: 90.6604 - mse: 16372.8232\n",
            "Epoch 83: val_loss did not improve from 1470.16162\n",
            "18/18 [==============================] - 0s 3ms/step - loss: 315.5161 - mae: 315.5161 - mse: 495882.5938 - val_loss: 1506.1577 - val_mae: 1506.1577 - val_mse: 6994052.0000\n",
            "Epoch 84/100\n",
            " 1/18 [>.............................] - ETA: 0s - loss: 92.2033 - mae: 92.2033 - mse: 16574.1211\n",
            "Epoch 84: val_loss did not improve from 1470.16162\n",
            "18/18 [==============================] - 0s 4ms/step - loss: 298.1302 - mae: 298.1302 - mse: 443600.7188 - val_loss: 1519.7220 - val_mae: 1519.7220 - val_mse: 7134338.0000\n",
            "Epoch 85/100\n",
            "17/18 [===========================>..] - ETA: 0s - loss: 297.9903 - mae: 297.9903 - mse: 454607.9375\n",
            "Epoch 85: val_loss did not improve from 1470.16162\n",
            "18/18 [==============================] - 0s 5ms/step - loss: 301.7985 - mae: 301.7985 - mse: 457243.8750 - val_loss: 1496.6438 - val_mae: 1496.6438 - val_mse: 6913985.0000\n",
            "Epoch 86/100\n",
            " 1/18 [>.............................] - ETA: 0s - loss: 91.6325 - mae: 91.6325 - mse: 16449.3906\n",
            "Epoch 86: val_loss did not improve from 1470.16162\n",
            "18/18 [==============================] - 0s 4ms/step - loss: 285.3666 - mae: 285.3666 - mse: 413180.3125 - val_loss: 1501.2744 - val_mae: 1501.2744 - val_mse: 6999312.0000\n",
            "Epoch 87/100\n",
            " 1/18 [>.............................] - ETA: 0s - loss: 90.0898 - mae: 90.0898 - mse: 16225.0293\n",
            "Epoch 87: val_loss did not improve from 1470.16162\n",
            "18/18 [==============================] - 0s 3ms/step - loss: 289.7563 - mae: 289.7563 - mse: 430219.1562 - val_loss: 1491.2585 - val_mae: 1491.2585 - val_mse: 6876378.5000\n",
            "Epoch 88/100\n",
            " 1/18 [>.............................] - ETA: 0s - loss: 90.6318 - mae: 90.6318 - mse: 16220.2607\n",
            "Epoch 88: val_loss did not improve from 1470.16162\n",
            "18/18 [==============================] - 0s 3ms/step - loss: 283.0487 - mae: 283.0487 - mse: 411222.7500 - val_loss: 1521.9287 - val_mae: 1521.9287 - val_mse: 7145118.0000\n",
            "Epoch 89/100\n",
            "17/18 [===========================>..] - ETA: 0s - loss: 281.0262 - mae: 281.0262 - mse: 418109.2188\n",
            "Epoch 89: val_loss did not improve from 1470.16162\n",
            "18/18 [==============================] - 0s 4ms/step - loss: 284.9210 - mae: 284.9210 - mse: 421324.3125 - val_loss: 1495.2107 - val_mae: 1495.2107 - val_mse: 6887013.5000\n",
            "Epoch 90/100\n",
            " 1/18 [>.............................] - ETA: 0s - loss: 90.2548 - mae: 90.2548 - mse: 16086.8184\n",
            "Epoch 90: val_loss did not improve from 1470.16162\n",
            "18/18 [==============================] - 0s 3ms/step - loss: 280.2958 - mae: 280.2958 - mse: 405400.3750 - val_loss: 1510.7524 - val_mae: 1510.7524 - val_mse: 7092969.0000\n",
            "Epoch 91/100\n",
            " 1/18 [>.............................] - ETA: 0s - loss: 89.7813 - mae: 89.7813 - mse: 16043.0879\n",
            "Epoch 91: val_loss did not improve from 1470.16162\n",
            "18/18 [==============================] - 0s 3ms/step - loss: 286.3045 - mae: 286.3045 - mse: 421740.2812 - val_loss: 1511.4460 - val_mae: 1511.4460 - val_mse: 6970713.5000\n",
            "Epoch 92/100\n",
            " 1/18 [>.............................] - ETA: 0s - loss: 90.0453 - mae: 90.0453 - mse: 15957.0361\n",
            "Epoch 92: val_loss did not improve from 1470.16162\n",
            "18/18 [==============================] - 0s 3ms/step - loss: 299.0056 - mae: 299.0056 - mse: 439941.1875 - val_loss: 1607.2382 - val_mae: 1607.2382 - val_mse: 7577738.0000\n",
            "Epoch 93/100\n",
            "12/18 [===================>..........] - ETA: 0s - loss: 153.7679 - mae: 153.7679 - mse: 273053.0312\n",
            "Epoch 93: val_loss did not improve from 1470.16162\n",
            "18/18 [==============================] - 0s 6ms/step - loss: 319.0929 - mae: 319.0929 - mse: 507135.7188 - val_loss: 1761.9047 - val_mae: 1761.9047 - val_mse: 8521964.0000\n",
            "Epoch 94/100\n",
            " 1/18 [>.............................] - ETA: 0s - loss: 94.8711 - mae: 94.8711 - mse: 16596.5977\n",
            "Epoch 94: val_loss did not improve from 1470.16162\n",
            "18/18 [==============================] - 0s 4ms/step - loss: 298.0534 - mae: 298.0534 - mse: 437560.5312 - val_loss: 1691.1543 - val_mae: 1691.1542 - val_mse: 8222259.0000\n",
            "Epoch 95/100\n",
            " 1/18 [>.............................] - ETA: 0s - loss: 93.9807 - mae: 93.9807 - mse: 16543.9219\n",
            "Epoch 95: val_loss did not improve from 1470.16162\n",
            "18/18 [==============================] - 0s 4ms/step - loss: 293.2365 - mae: 293.2365 - mse: 443583.3438 - val_loss: 1615.9768 - val_mae: 1615.9768 - val_mse: 7696183.0000\n",
            "Epoch 96/100\n",
            " 1/18 [>.............................] - ETA: 0s - loss: 92.0745 - mae: 92.0745 - mse: 16240.5234\n",
            "Epoch 96: val_loss did not improve from 1470.16162\n",
            "18/18 [==============================] - 0s 4ms/step - loss: 288.8082 - mae: 288.8082 - mse: 407832.5000 - val_loss: 1553.6815 - val_mae: 1553.6815 - val_mse: 7245183.0000\n",
            "Epoch 97/100\n",
            " 1/18 [>.............................] - ETA: 0s - loss: 91.1364 - mae: 91.1364 - mse: 16093.4082\n",
            "Epoch 97: val_loss did not improve from 1470.16162\n",
            "18/18 [==============================] - 0s 3ms/step - loss: 289.3788 - mae: 289.3788 - mse: 423621.1562 - val_loss: 1598.6676 - val_mae: 1598.6676 - val_mse: 7628673.5000\n",
            "Epoch 98/100\n",
            " 1/18 [>.............................] - ETA: 0s - loss: 91.5013 - mae: 91.5013 - mse: 16169.6035\n",
            "Epoch 98: val_loss did not improve from 1470.16162\n",
            "18/18 [==============================] - 0s 3ms/step - loss: 285.8356 - mae: 285.8356 - mse: 394443.0000 - val_loss: 1484.6594 - val_mae: 1484.6594 - val_mse: 6816973.0000\n",
            "Epoch 99/100\n",
            " 1/18 [>.............................] - ETA: 0s - loss: 90.6109 - mae: 90.6109 - mse: 15988.3418\n",
            "Epoch 99: val_loss did not improve from 1470.16162\n",
            "18/18 [==============================] - 0s 4ms/step - loss: 291.4022 - mae: 291.4022 - mse: 425535.1562 - val_loss: 1561.7786 - val_mae: 1561.7786 - val_mse: 7393334.0000\n",
            "Epoch 100/100\n",
            "17/18 [===========================>..] - ETA: 0s - loss: 289.1756 - mae: 289.1756 - mse: 399823.3125\n",
            "Epoch 100: val_loss did not improve from 1470.16162\n",
            "18/18 [==============================] - 0s 4ms/step - loss: 292.1717 - mae: 292.1717 - mse: 402279.5938 - val_loss: 1490.8129 - val_mae: 1490.8129 - val_mse: 6820192.0000\n"
          ]
        }
      ]
    },
    {
      "cell_type": "code",
      "source": [
        "# Load the best model and evaluate the model\n",
        "\n",
        "model_3 = tf.keras.models.load_model(\"models_experiment/model_3_dense\")\n",
        "\n",
        "model_3.evaluate(test_ds)"
      ],
      "metadata": {
        "colab": {
          "base_uri": "https://localhost:8080/"
        },
        "id": "SoQaHs0ACAhy",
        "outputId": "46567850-1d3f-4f53-8101-1eaeef89d455"
      },
      "execution_count": null,
      "outputs": [
        {
          "output_type": "stream",
          "name": "stdout",
          "text": [
            "5/5 [==============================] - 0s 3ms/step - loss: 1470.1616 - mae: 1470.1616 - mse: 7009484.0000\n"
          ]
        },
        {
          "output_type": "execute_result",
          "data": {
            "text/plain": [
              "[1470.16162109375, 1470.16162109375, 7009484.0]"
            ]
          },
          "metadata": {},
          "execution_count": 51
        }
      ]
    },
    {
      "cell_type": "code",
      "source": [
        "# Getting the predictions\n",
        "model_3_preds = model_3.predict(test_ds)\n",
        "\n",
        "model_3_preds.shape"
      ],
      "metadata": {
        "colab": {
          "base_uri": "https://localhost:8080/"
        },
        "id": "uFmgcT3TCVJA",
        "outputId": "03d45a2f-eb8b-4a1f-c138-5e30294aea93"
      },
      "execution_count": null,
      "outputs": [
        {
          "output_type": "stream",
          "name": "stdout",
          "text": [
            "5/5 [==============================] - 0s 3ms/step\n"
          ]
        },
        {
          "output_type": "execute_result",
          "data": {
            "text/plain": [
              "(551, 7)"
            ]
          },
          "metadata": {},
          "execution_count": 52
        }
      ]
    },
    {
      "cell_type": "code",
      "source": [
        "# Regrresion evaluation\n",
        "\n",
        "model_3_results = regression_evaluation(y_test, model_3_preds)\n",
        "\n",
        "model_3_results"
      ],
      "metadata": {
        "colab": {
          "base_uri": "https://localhost:8080/"
        },
        "id": "U4hH_KofClHk",
        "outputId": "754b7de9-f35c-4169-e0ea-b059ee935e27"
      },
      "execution_count": null,
      "outputs": [
        {
          "output_type": "stream",
          "name": "stdout",
          "text": [
            "Multi dim input\n"
          ]
        },
        {
          "output_type": "execute_result",
          "data": {
            "text/plain": [
              "{'mae': 1470.1616,\n",
              " 'mse': 7009484.0,\n",
              " 'rmse': 1682.0496,\n",
              " 'mape': 6.490796,\n",
              " 'mase': 2.6160698}"
            ]
          },
          "metadata": {},
          "execution_count": 53
        }
      ]
    },
    {
      "cell_type": "code",
      "source": [
        "naive_results"
      ],
      "metadata": {
        "colab": {
          "base_uri": "https://localhost:8080/"
        },
        "id": "_fPKEDDiEPA2",
        "outputId": "d6399412-7c01-43d7-af4b-182532a29376"
      },
      "execution_count": null,
      "outputs": [
        {
          "output_type": "execute_result",
          "data": {
            "text/plain": [
              "{'mae': 567.9802,\n",
              " 'mse': 1147547.0,\n",
              " 'rmse': 1071.2362,\n",
              " 'mape': 2.5165248,\n",
              " 'mase': 0.99957}"
            ]
          },
          "metadata": {},
          "execution_count": 54
        }
      ]
    },
    {
      "cell_type": "code",
      "source": [
        "# Plot the models predictions\n",
        "offset=300\n",
        "plt.figure(figsize=(10, 10))\n",
        "plot_time_series(timesteps[-len(y_test):], y_test[:, 0], start=offset, label=\"ground-truth\", format=\"-\")\n",
        "plot_time_series(timesteps[-len(y_test):], tf.reduce_mean(model_3_preds, axis=1), start=offset, label=model_3.name)"
      ],
      "metadata": {
        "colab": {
          "base_uri": "https://localhost:8080/",
          "height": 606
        },
        "id": "AQo7fU5XHRMz",
        "outputId": "3124e5b3-7fb7-4f28-bfd5-77180718d76d"
      },
      "execution_count": null,
      "outputs": [
        {
          "output_type": "display_data",
          "data": {
            "text/plain": [
              "<Figure size 720x720 with 1 Axes>"
            ],
            "image/png": "[encoded data removed]"
          },
          "metadata": {
            "needs_background": "light"
          }
        }
      ]
    },
    {
      "cell_type": "markdown",
      "source": [
        "### Comparing all models so far"
      ],
      "metadata": {
        "id": "uEY-lZYnJ4hs"
      }
    },
    {
      "cell_type": "code",
      "source": [
        "# Turning all results into panda DF\n",
        "all_model_res = pd.DataFrame({\n",
        "    \"naive\": naive_results,\n",
        "    \"model_1\": model_1_results,\n",
        "    \"model_2\": model_2_results,\n",
        "    \"model_3\": model_3_results\n",
        "})\n",
        "\n",
        "all_model_res.head()"
      ],
      "metadata": {
        "colab": {
          "base_uri": "https://localhost:8080/",
          "height": 206
        },
        "id": "CXtRcGmyKBmT",
        "outputId": "e80d6c88-5d79-4819-c741-e0a1297b669e"
      },
      "execution_count": null,
      "outputs": [
        {
          "output_type": "execute_result",
          "data": {
            "text/plain": [
              "             naive       model_1       model_2       model_3\n",
              "mae   5.679802e+02  1.714234e+04  1.722871e+04  1.470162e+03\n",
              "mse   1.147547e+06  6.146956e+08  6.179757e+08  7.009484e+06\n",
              "rmse  1.071236e+03  2.371856e+04  2.380034e+04  1.682050e+03\n",
              "mape  2.516525e+00  1.132741e+02  1.138579e+02  6.490796e+00\n",
              "mase  9.995700e-01  3.011434e+01  3.011595e+01  2.616070e+00"
            ],
            "text/html": [
              "\n",
              "  <div id=\"df-e8fa5993-e8a8-4f7e-9220-7ef4072755b9\">\n",
              "    <div class=\"colab-df-container\">\n",
              "      <div>\n",
              "<style scoped>\n",
              "    .dataframe tbody tr th:only-of-type {\n",
              "        vertical-align: middle;\n",
              "    }\n",
              "\n",
              "    .dataframe tbody tr th {\n",
              "        vertical-align: top;\n",
              "    }\n",
              "\n",
              "    .dataframe thead th {\n",
              "        text-align: right;\n",
              "    }\n",
              "</style>\n",
              "<table border=\"1\" class=\"dataframe\">\n",
              "  <thead>\n",
              "    <tr style=\"text-align: right;\">\n",
              "      <th></th>\n",
              "      <th>naive</th>\n",
              "      <th>model_1</th>\n",
              "      <th>model_2</th>\n",
              "      <th>model_3</th>\n",
              "    </tr>\n",
              "  </thead>\n",
              "  <tbody>\n",
              "    <tr>\n",
              "      <th>mae</th>\n",
              "      <td>5.679802e+02</td>\n",
              "      <td>1.714234e+04</td>\n",
              "      <td>1.722871e+04</td>\n",
              "      <td>1.470162e+03</td>\n",
              "    </tr>\n",
              "    <tr>\n",
              "      <th>mse</th>\n",
              "      <td>1.147547e+06</td>\n",
              "      <td>6.146956e+08</td>\n",
              "      <td>6.179757e+08</td>\n",
              "      <td>7.009484e+06</td>\n",
              "    </tr>\n",
              "    <tr>\n",
              "      <th>rmse</th>\n",
              "      <td>1.071236e+03</td>\n",
              "      <td>2.371856e+04</td>\n",
              "      <td>2.380034e+04</td>\n",
              "      <td>1.682050e+03</td>\n",
              "    </tr>\n",
              "    <tr>\n",
              "      <th>mape</th>\n",
              "      <td>2.516525e+00</td>\n",
              "      <td>1.132741e+02</td>\n",
              "      <td>1.138579e+02</td>\n",
              "      <td>6.490796e+00</td>\n",
              "    </tr>\n",
              "    <tr>\n",
              "      <th>mase</th>\n",
              "      <td>9.995700e-01</td>\n",
              "      <td>3.011434e+01</td>\n",
              "      <td>3.011595e+01</td>\n",
              "      <td>2.616070e+00</td>\n",
              "    </tr>\n",
              "  </tbody>\n",
              "</table>\n",
              "</div>\n",
              "      <button class=\"colab-df-convert\" onclick=\"convertToInteractive('df-e8fa5993-e8a8-4f7e-9220-7ef4072755b9')\"\n",
              "              title=\"Convert this dataframe to an interactive table.\"\n",
              "              style=\"display:none;\">\n",
              "        \n",
              "  <svg xmlns=\"http://www.w3.org/2000/svg\" height=\"24px\"viewBox=\"0 0 24 24\"\n",
              "       width=\"24px\">\n",
              "    <path d=\"M0 0h24v24H0V0z\" fill=\"none\"/>\n",
              "    <path d=\"M18.56 5.44l.94 2.06.94-2.06 2.06-.94-2.06-.94-.94-2.06-.94 2.06-2.06.94zm-11 1L8.5 8.5l.94-2.06 2.06-.94-2.06-.94L8.5 2.5l-.94 2.06-2.06.94zm10 10l.94 2.06.94-2.06 2.06-.94-2.06-.94-.94-2.06-.94 2.06-2.06.94z\"/><path d=\"M17.41 7.96l-1.37-1.37c-.4-.4-.92-.59-1.43-.59-.52 0-1.04.2-1.43.59L10.3 9.45l-7.72 7.72c-.78.78-.78 2.05 0 2.83L4 21.41c.39.39.9.59 1.41.59.51 0 1.02-.2 1.41-.59l7.78-7.78 2.81-2.81c.8-.78.8-2.07 0-2.86zM5.41 20L4 18.59l7.72-7.72 1.47 1.35L5.41 20z\"/>\n",
              "  </svg>\n",
              "      </button>\n",
              "      \n",
              "  <style>\n",
              "    .colab-df-container {\n",
              "      display:flex;\n",
              "      flex-wrap:wrap;\n",
              "      gap: 12px;\n",
              "    }\n",
              "\n",
              "    .colab-df-convert {\n",
              "      background-color: #E8F0FE;\n",
              "      border: none;\n",
              "      border-radius: 50%;\n",
              "      cursor: pointer;\n",
              "      display: none;\n",
              "      fill: #1967D2;\n",
              "      height: 32px;\n",
              "      padding: 0 0 0 0;\n",
              "      width: 32px;\n",
              "    }\n",
              "\n",
              "    .colab-df-convert:hover {\n",
              "      background-color: #E2EBFA;\n",
              "      box-shadow: 0px 1px 2px rgba(60, 64, 67, 0.3), 0px 1px 3px 1px rgba(60, 64, 67, 0.15);\n",
              "      fill: #174EA6;\n",
              "    }\n",
              "\n",
              "    [theme=dark] .colab-df-convert {\n",
              "      background-color: #3B4455;\n",
              "      fill: #D2E3FC;\n",
              "    }\n",
              "\n",
              "    [theme=dark] .colab-df-convert:hover {\n",
              "      background-color: #434B5C;\n",
              "      box-shadow: 0px 1px 3px 1px rgba(0, 0, 0, 0.15);\n",
              "      filter: drop-shadow(0px 1px 2px rgba(0, 0, 0, 0.3));\n",
              "      fill: #FFFFFF;\n",
              "    }\n",
              "  </style>\n",
              "\n",
              "      <script>\n",
              "        const buttonEl =\n",
              "          document.querySelector('#df-e8fa5993-e8a8-4f7e-9220-7ef4072755b9 button.colab-df-convert');\n",
              "        buttonEl.style.display =\n",
              "          google.colab.kernel.accessAllowed ? 'block' : 'none';\n",
              "\n",
              "        async function convertToInteractive(key) {\n",
              "          const element = document.querySelector('#df-e8fa5993-e8a8-4f7e-9220-7ef4072755b9');\n",
              "          const dataTable =\n",
              "            await google.colab.kernel.invokeFunction('convertToInteractive',\n",
              "                                                     [key], {});\n",
              "          if (!dataTable) return;\n",
              "\n",
              "          const docLinkHtml = 'Like what you see? Visit the ' +\n",
              "            '<a target=\"_blank\" href=https://colab.research.google.com/notebooks/data_table.ipynb>data table notebook</a>'\n",
              "            + ' to learn more about interactive tables.';\n",
              "          element.innerHTML = '';\n",
              "          dataTable['output_type'] = 'display_data';\n",
              "          await google.colab.output.renderOutput(dataTable, element);\n",
              "          const docLink = document.createElement('div');\n",
              "          docLink.innerHTML = docLinkHtml;\n",
              "          element.appendChild(docLink);\n",
              "        }\n",
              "      </script>\n",
              "    </div>\n",
              "  </div>\n",
              "  "
            ]
          },
          "metadata": {},
          "execution_count": 56
        }
      ]
    },
    {
      "cell_type": "code",
      "source": [
        "all_model_res.T[\"mae\"].plot(kind=\"bar\")"
      ],
      "metadata": {
        "colab": {
          "base_uri": "https://localhost:8080/",
          "height": 315
        },
        "id": "zUBAOPiLKTKa",
        "outputId": "8af0e92a-75be-48f4-9db8-ccc3c19726b7"
      },
      "execution_count": null,
      "outputs": [
        {
          "output_type": "execute_result",
          "data": {
            "text/plain": [
              "<matplotlib.axes._subplots.AxesSubplot at 0x7f7b658b1ac0>"
            ]
          },
          "metadata": {},
          "execution_count": 57
        },
        {
          "output_type": "display_data",
          "data": {
            "text/plain": [
              "<Figure size 432x288 with 1 Axes>"
            ],
            "image/png": "[encoded data removed]"
          },
          "metadata": {
            "needs_background": "light"
          }
        }
      ]
    },
    {
      "cell_type": "markdown",
      "source": [
        "### Model 4: Conv1D (W=7, H=1)"
      ],
      "metadata": {
        "id": "pTMmIpP4OhlA"
      }
    },
    {
      "cell_type": "code",
      "source": [
        "# Creating the data\n",
        "HORIZON = 1\n",
        "WINDOW_SIZE = 7\n",
        "\n",
        "windows, labels = make_windows(prices, WINDOW_SIZE, HORIZON)\n",
        "\n",
        "windows.shape, labels.shape"
      ],
      "metadata": {
        "colab": {
          "base_uri": "https://localhost:8080/"
        },
        "id": "XJEAWBQ4Omgt",
        "outputId": "72941593-6cca-499c-bc3d-5e22b84e5746"
      },
      "execution_count": null,
      "outputs": [
        {
          "output_type": "execute_result",
          "data": {
            "text/plain": [
              "((2780, 7), (2780, 1))"
            ]
          },
          "metadata": {},
          "execution_count": 41
        }
      ]
    },
    {
      "cell_type": "code",
      "source": [
        "# Split to test and train\n",
        "\n",
        "x_train, x_test, y_train, y_test = make_time_train_test_split(windows, labels)\n",
        "\n",
        "x_train.shape, y_train.shape, x_test.shape, y_test.shape"
      ],
      "metadata": {
        "colab": {
          "base_uri": "https://localhost:8080/"
        },
        "id": "ZCTb2ycoPtzO",
        "outputId": "0c188f0c-a7cc-4b2e-ce62-7f8b4643c339"
      },
      "execution_count": null,
      "outputs": [
        {
          "output_type": "execute_result",
          "data": {
            "text/plain": [
              "((2224, 7), (2224, 1), (556, 7), (556, 1))"
            ]
          },
          "metadata": {},
          "execution_count": 42
        }
      ]
    },
    {
      "cell_type": "code",
      "source": [
        "# Creating the Datasets\n",
        "\n",
        "# train_ds = preprocess_data(x_train, y_train)\n",
        "# test_ds = preprocess_data(x_test, y_test)\n",
        "\n",
        "# train_ds"
      ],
      "metadata": {
        "id": "CZdhnROMP_0x"
      },
      "execution_count": null,
      "outputs": []
    },
    {
      "cell_type": "code",
      "source": [
        "# Create, Compile, Fit and Evaluate the model\n",
        "\n",
        "model_4 = tf.keras.Sequential([\n",
        "    layers.Lambda(lambda x: tf.expand_dims(x, axis=1)),\n",
        "    layers.Conv1D(128, kernel_size=5, strides=1, padding=\"causal\", activation=\"relu\"),\n",
        "    layers.Dense(HORIZON)\n",
        "], name=\"model_4_Conv1D\")\n",
        "\n",
        "model_4.compile(loss=tf.keras.losses.mae,\n",
        "                optimizer=tf.keras.optimizers.Adam())\n",
        "\n",
        "model_4_history = model_4.fit(x_train,\n",
        "                              y_train,\n",
        "                              batch_size=128,\n",
        "                              epochs=100,\n",
        "                              validation_data=(x_test, y_test),\n",
        "                              callbacks=[create_model_checkpoint(model_4.name)])\n",
        "\n",
        "model_4 = tf.keras.models.load_model(\"/content/models_experiment/model_4_Conv1D\")\n",
        "\n",
        "# model_4, model_4_history, model_4_results = run_model_experiment(model_4, train_ds, test_ds, n_epochs=100, set_verbose=1)"
      ],
      "metadata": {
        "colab": {
          "base_uri": "https://localhost:8080/",
          "height": 1000
        },
        "id": "R9nQoyZdQKa8",
        "outputId": "567a8f29-40c5-48a9-9f66-635a8c2e56a4"
      },
      "execution_count": null,
      "outputs": [
        {
          "output_type": "stream",
          "name": "stdout",
          "text": [
            "Epoch 1/100\n"
          ]
        },
        {
          "output_type": "stream",
          "name": "stderr",
          "text": [
            "2023-01-31 13:15:42.073568: I tensorflow/stream_executor/cuda/cuda_dnn.cc:384] Loaded cuDNN version 8400\n",
            "2023-01-31 13:15:43.554088: I tensorflow/core/platform/default/subprocess.cc:304] Start cannot spawn child process: No such file or directory\n"
          ]
        },
        {
          "output_type": "stream",
          "name": "stdout",
          "text": [
            "18/18 [==============================] - ETA: 0s - loss: 2097.5779  \n",
            "Epoch 1: val_loss improved from inf to 5291.67383, saving model to models_experiment/model_4_Conv1D\n"
          ]
        },
        {
          "output_type": "stream",
          "name": "stderr",
          "text": [
            "WARNING:absl:Found untraced functions such as _jit_compiled_convolution_op while saving (showing 1 of 1). These functions will not be directly callable after loading.\n"
          ]
        },
        {
          "output_type": "stream",
          "name": "stdout",
          "text": [
            "INFO:tensorflow:Assets written to: models_experiment/model_4_Conv1D/assets\n"
          ]
        },
        {
          "output_type": "stream",
          "name": "stderr",
          "text": [
            "INFO:tensorflow:Assets written to: models_experiment/model_4_Conv1D/assets\n"
          ]
        },
        {
          "output_type": "stream",
          "name": "stdout",
          "text": [
            "\b\b\b\b\b\b\b\b\b\b\b\b\b\b\b\b\b\b\b\b\b\b\b\b\b\b\b\b\b\b\b\b\b\b\b\b\b\b\b\b\b\b\b\b\b\b\b\b\b\b\b\b\b\b\b\b\b\b\b\b\b\b\b\b\b\b\r18/18 [==============================] - 5s 64ms/step - loss: 2097.5779 - val_loss: 5291.6738\n",
            "Epoch 2/100\n",
            "16/18 [=========================>....] - ETA: 0s - loss: 394.0418\n",
            "Epoch 2: val_loss improved from 5291.67383 to 1319.96838, saving model to models_experiment/model_4_Conv1D\n"
          ]
        },
        {
          "output_type": "stream",
          "name": "stderr",
          "text": [
            "WARNING:absl:Found untraced functions such as _jit_compiled_convolution_op while saving (showing 1 of 1). These functions will not be directly callable after loading.\n"
          ]
        },
        {
          "output_type": "stream",
          "name": "stdout",
          "text": [
            "INFO:tensorflow:Assets written to: models_experiment/model_4_Conv1D/assets\n"
          ]
        },
        {
          "output_type": "stream",
          "name": "stderr",
          "text": [
            "INFO:tensorflow:Assets written to: models_experiment/model_4_Conv1D/assets\n"
          ]
        },
        {
          "output_type": "stream",
          "name": "stdout",
          "text": [
            "\b\b\b\b\b\b\b\b\b\b\b\b\b\b\b\b\b\b\b\b\b\b\b\b\b\b\b\b\b\b\b\b\b\b\b\b\b\b\b\b\b\b\b\b\b\b\b\b\b\b\b\b\b\b\b\b\b\b\b\b\b\b\b\b\b\r18/18 [==============================] - 1s 47ms/step - loss: 387.3108 - val_loss: 1319.9684\n",
            "Epoch 3/100\n",
            "16/18 [=========================>....] - ETA: 0s - loss: 211.7994\n",
            "Epoch 3: val_loss improved from 1319.96838 to 1051.22375, saving model to models_experiment/model_4_Conv1D\n"
          ]
        },
        {
          "output_type": "stream",
          "name": "stderr",
          "text": [
            "WARNING:absl:Found untraced functions such as _jit_compiled_convolution_op while saving (showing 1 of 1). These functions will not be directly callable after loading.\n"
          ]
        },
        {
          "output_type": "stream",
          "name": "stdout",
          "text": [
            "INFO:tensorflow:Assets written to: models_experiment/model_4_Conv1D/assets\n"
          ]
        },
        {
          "output_type": "stream",
          "name": "stderr",
          "text": [
            "INFO:tensorflow:Assets written to: models_experiment/model_4_Conv1D/assets\n"
          ]
        },
        {
          "output_type": "stream",
          "name": "stdout",
          "text": [
            "\b\b\b\b\b\b\b\b\b\b\b\b\b\b\b\b\b\b\b\b\b\b\b\b\b\b\b\b\b\b\b\b\b\b\b\b\b\b\b\b\b\b\b\b\b\b\b\b\b\b\b\b\b\b\b\b\b\b\b\b\b\b\b\b\b\r18/18 [==============================] - 1s 43ms/step - loss: 208.5302 - val_loss: 1051.2238\n",
            "Epoch 4/100\n",
            "16/18 [=========================>....] - ETA: 0s - loss: 195.2542\n",
            "Epoch 4: val_loss did not improve from 1051.22375\n",
            "18/18 [==============================] - 0s 6ms/step - loss: 190.3202 - val_loss: 1060.1251\n",
            "Epoch 5/100\n",
            "17/18 [===========================>..] - ETA: 0s - loss: 183.4514\n",
            "Epoch 5: val_loss improved from 1051.22375 to 1038.41211, saving model to models_experiment/model_4_Conv1D\n"
          ]
        },
        {
          "output_type": "stream",
          "name": "stderr",
          "text": [
            "WARNING:absl:Found untraced functions such as _jit_compiled_convolution_op while saving (showing 1 of 1). These functions will not be directly callable after loading.\n"
          ]
        },
        {
          "output_type": "stream",
          "name": "stdout",
          "text": [
            "INFO:tensorflow:Assets written to: models_experiment/model_4_Conv1D/assets\n"
          ]
        },
        {
          "output_type": "stream",
          "name": "stderr",
          "text": [
            "INFO:tensorflow:Assets written to: models_experiment/model_4_Conv1D/assets\n"
          ]
        },
        {
          "output_type": "stream",
          "name": "stdout",
          "text": [
            "\b\b\b\b\b\b\b\b\b\b\b\b\b\b\b\b\b\b\b\b\b\b\b\b\b\b\b\b\b\b\b\b\b\b\b\b\b\b\b\b\b\b\b\b\b\b\b\b\b\b\b\b\b\b\b\b\b\b\b\b\b\b\b\b\b\r18/18 [==============================] - 1s 40ms/step - loss: 184.1285 - val_loss: 1038.4121\n",
            "Epoch 6/100\n",
            " 1/18 [>.............................] - ETA: 0s - loss: 170.1965\n",
            "Epoch 6: val_loss improved from 1038.41211 to 1018.30420, saving model to models_experiment/model_4_Conv1D\n"
          ]
        },
        {
          "output_type": "stream",
          "name": "stderr",
          "text": [
            "WARNING:absl:Found untraced functions such as _jit_compiled_convolution_op while saving (showing 1 of 1). These functions will not be directly callable after loading.\n"
          ]
        },
        {
          "output_type": "stream",
          "name": "stdout",
          "text": [
            "INFO:tensorflow:Assets written to: models_experiment/model_4_Conv1D/assets\n"
          ]
        },
        {
          "output_type": "stream",
          "name": "stderr",
          "text": [
            "INFO:tensorflow:Assets written to: models_experiment/model_4_Conv1D/assets\n"
          ]
        },
        {
          "output_type": "stream",
          "name": "stdout",
          "text": [
            "\b\b\b\b\b\b\b\b\b\b\b\b\b\b\b\b\b\b\b\b\b\b\b\b\b\b\b\b\b\b\b\b\b\b\b\b\b\b\b\b\b\b\b\b\b\b\b\b\b\b\b\b\b\b\b\b\b\b\b\b\b\b\b\b\b\r18/18 [==============================] - 1s 40ms/step - loss: 181.8794 - val_loss: 1018.3042\n",
            "Epoch 7/100\n",
            " 1/18 [>.............................] - ETA: 0s - loss: 154.6597\n",
            "Epoch 7: val_loss improved from 1018.30420 to 1004.27362, saving model to models_experiment/model_4_Conv1D\n"
          ]
        },
        {
          "output_type": "stream",
          "name": "stderr",
          "text": [
            "WARNING:absl:Found untraced functions such as _jit_compiled_convolution_op while saving (showing 1 of 1). These functions will not be directly callable after loading.\n"
          ]
        },
        {
          "output_type": "stream",
          "name": "stdout",
          "text": [
            "INFO:tensorflow:Assets written to: models_experiment/model_4_Conv1D/assets\n"
          ]
        },
        {
          "output_type": "stream",
          "name": "stderr",
          "text": [
            "INFO:tensorflow:Assets written to: models_experiment/model_4_Conv1D/assets\n"
          ]
        },
        {
          "output_type": "stream",
          "name": "stdout",
          "text": [
            "\b\b\b\b\b\b\b\b\b\b\b\b\b\b\b\b\b\b\b\b\b\b\b\b\b\b\b\b\b\b\b\b\b\b\b\b\b\b\b\b\b\b\b\b\b\b\b\b\b\b\b\b\b\b\b\b\b\b\b\b\b\b\b\b\b\r18/18 [==============================] - 1s 44ms/step - loss: 180.7150 - val_loss: 1004.2736\n",
            "Epoch 8/100\n",
            "17/18 [===========================>..] - ETA: 0s - loss: 178.5643\n",
            "Epoch 8: val_loss improved from 1004.27362 to 993.51080, saving model to models_experiment/model_4_Conv1D\n"
          ]
        },
        {
          "output_type": "stream",
          "name": "stderr",
          "text": [
            "WARNING:absl:Found untraced functions such as _jit_compiled_convolution_op while saving (showing 1 of 1). These functions will not be directly callable after loading.\n"
          ]
        },
        {
          "output_type": "stream",
          "name": "stdout",
          "text": [
            "INFO:tensorflow:Assets written to: models_experiment/model_4_Conv1D/assets\n"
          ]
        },
        {
          "output_type": "stream",
          "name": "stderr",
          "text": [
            "INFO:tensorflow:Assets written to: models_experiment/model_4_Conv1D/assets\n"
          ]
        },
        {
          "output_type": "stream",
          "name": "stdout",
          "text": [
            "\b\b\b\b\b\b\b\b\b\b\b\b\b\b\b\b\b\b\b\b\b\b\b\b\b\b\b\b\b\b\b\b\b\b\b\b\b\b\b\b\b\b\b\b\b\b\b\b\b\b\b\b\b\b\b\b\b\b\b\b\b\b\b\b\b\r18/18 [==============================] - 1s 51ms/step - loss: 177.6696 - val_loss: 993.5108\n",
            "Epoch 9/100\n",
            "18/18 [==============================] - ETA: 0s - loss: 175.4860\n",
            "Epoch 9: val_loss did not improve from 993.51080\n",
            "18/18 [==============================] - 0s 5ms/step - loss: 175.4860 - val_loss: 1010.4520\n",
            "Epoch 10/100\n",
            " 1/18 [>.............................] - ETA: 0s - loss: 146.9803\n",
            "Epoch 10: val_loss did not improve from 993.51080\n",
            "18/18 [==============================] - 0s 5ms/step - loss: 173.5130 - val_loss: 1014.7343\n",
            "Epoch 11/100\n",
            " 1/18 [>.............................] - ETA: 0s - loss: 171.9996\n",
            "Epoch 11: val_loss improved from 993.51080 to 956.98065, saving model to models_experiment/model_4_Conv1D\n"
          ]
        },
        {
          "output_type": "stream",
          "name": "stderr",
          "text": [
            "WARNING:absl:Found untraced functions such as _jit_compiled_convolution_op while saving (showing 1 of 1). These functions will not be directly callable after loading.\n"
          ]
        },
        {
          "output_type": "stream",
          "name": "stdout",
          "text": [
            "INFO:tensorflow:Assets written to: models_experiment/model_4_Conv1D/assets\n"
          ]
        },
        {
          "output_type": "stream",
          "name": "stderr",
          "text": [
            "INFO:tensorflow:Assets written to: models_experiment/model_4_Conv1D/assets\n"
          ]
        },
        {
          "output_type": "stream",
          "name": "stdout",
          "text": [
            "\b\b\b\b\b\b\b\b\b\b\b\b\b\b\b\b\b\b\b\b\b\b\b\b\b\b\b\b\b\b\b\b\b\b\b\b\b\b\b\b\b\b\b\b\b\b\b\b\b\b\b\b\b\b\b\b\b\b\b\b\b\b\b\b\b\r18/18 [==============================] - 1s 40ms/step - loss: 170.7428 - val_loss: 956.9807\n",
            "Epoch 12/100\n",
            "17/18 [===========================>..] - ETA: 0s - loss: 171.0524\n",
            "Epoch 12: val_loss did not improve from 956.98065\n",
            "18/18 [==============================] - 0s 5ms/step - loss: 171.0287 - val_loss: 970.5256\n",
            "Epoch 13/100\n",
            "18/18 [==============================] - ETA: 0s - loss: 166.9931\n",
            "Epoch 13: val_loss improved from 956.98065 to 946.65796, saving model to models_experiment/model_4_Conv1D\n"
          ]
        },
        {
          "output_type": "stream",
          "name": "stderr",
          "text": [
            "WARNING:absl:Found untraced functions such as _jit_compiled_convolution_op while saving (showing 1 of 1). These functions will not be directly callable after loading.\n"
          ]
        },
        {
          "output_type": "stream",
          "name": "stdout",
          "text": [
            "INFO:tensorflow:Assets written to: models_experiment/model_4_Conv1D/assets\n"
          ]
        },
        {
          "output_type": "stream",
          "name": "stderr",
          "text": [
            "INFO:tensorflow:Assets written to: models_experiment/model_4_Conv1D/assets\n"
          ]
        },
        {
          "output_type": "stream",
          "name": "stdout",
          "text": [
            "\b\b\b\b\b\b\b\b\b\b\b\b\b\b\b\b\b\b\b\b\b\b\b\b\b\b\b\b\b\b\b\b\b\b\b\b\b\b\b\b\b\b\b\b\b\b\b\b\b\b\b\b\b\b\b\b\b\b\b\b\b\b\b\b\b\r18/18 [==============================] - 1s 40ms/step - loss: 166.9931 - val_loss: 946.6580\n",
            "Epoch 14/100\n",
            " 1/18 [>.............................] - ETA: 0s - loss: 173.1176\n",
            "Epoch 14: val_loss improved from 946.65796 to 944.14783, saving model to models_experiment/model_4_Conv1D\n"
          ]
        },
        {
          "output_type": "stream",
          "name": "stderr",
          "text": [
            "WARNING:absl:Found untraced functions such as _jit_compiled_convolution_op while saving (showing 1 of 1). These functions will not be directly callable after loading.\n"
          ]
        },
        {
          "output_type": "stream",
          "name": "stdout",
          "text": [
            "INFO:tensorflow:Assets written to: models_experiment/model_4_Conv1D/assets\n"
          ]
        },
        {
          "output_type": "stream",
          "name": "stderr",
          "text": [
            "INFO:tensorflow:Assets written to: models_experiment/model_4_Conv1D/assets\n"
          ]
        },
        {
          "output_type": "stream",
          "name": "stdout",
          "text": [
            "\b\b\b\b\b\b\b\b\b\b\b\b\b\b\b\b\b\b\b\b\b\b\b\b\b\b\b\b\b\b\b\b\b\b\b\b\b\b\b\b\b\b\b\b\b\b\b\b\b\b\b\b\b\b\b\b\b\b\b\b\b\b\b\b\b\r18/18 [==============================] - 1s 39ms/step - loss: 164.8591 - val_loss: 944.1478\n",
            "Epoch 15/100\n",
            " 1/18 [>.............................] - ETA: 0s - loss: 103.9066\n",
            "Epoch 15: val_loss improved from 944.14783 to 897.15009, saving model to models_experiment/model_4_Conv1D\n"
          ]
        },
        {
          "output_type": "stream",
          "name": "stderr",
          "text": [
            "WARNING:absl:Found untraced functions such as _jit_compiled_convolution_op while saving (showing 1 of 1). These functions will not be directly callable after loading.\n"
          ]
        },
        {
          "output_type": "stream",
          "name": "stdout",
          "text": [
            "INFO:tensorflow:Assets written to: models_experiment/model_4_Conv1D/assets\n"
          ]
        },
        {
          "output_type": "stream",
          "name": "stderr",
          "text": [
            "INFO:tensorflow:Assets written to: models_experiment/model_4_Conv1D/assets\n"
          ]
        },
        {
          "output_type": "stream",
          "name": "stdout",
          "text": [
            "\b\b\b\b\b\b\b\b\b\b\b\b\b\b\b\b\b\b\b\b\b\b\b\b\b\b\b\b\b\b\b\b\b\b\b\b\b\b\b\b\b\b\b\b\b\b\b\b\b\b\b\b\b\b\b\b\b\b\b\b\b\b\b\b\b\r18/18 [==============================] - 1s 39ms/step - loss: 160.7454 - val_loss: 897.1501\n",
            "Epoch 16/100\n",
            "16/18 [=========================>....] - ETA: 0s - loss: 160.0246\n",
            "Epoch 16: val_loss did not improve from 897.15009\n",
            "18/18 [==============================] - 0s 6ms/step - loss: 160.6410 - val_loss: 940.3625\n",
            "Epoch 17/100\n",
            "16/18 [=========================>....] - ETA: 0s - loss: 156.9487\n",
            "Epoch 17: val_loss improved from 897.15009 to 868.08649, saving model to models_experiment/model_4_Conv1D\n"
          ]
        },
        {
          "output_type": "stream",
          "name": "stderr",
          "text": [
            "WARNING:absl:Found untraced functions such as _jit_compiled_convolution_op while saving (showing 1 of 1). These functions will not be directly callable after loading.\n"
          ]
        },
        {
          "output_type": "stream",
          "name": "stdout",
          "text": [
            "INFO:tensorflow:Assets written to: models_experiment/model_4_Conv1D/assets\n"
          ]
        },
        {
          "output_type": "stream",
          "name": "stderr",
          "text": [
            "INFO:tensorflow:Assets written to: models_experiment/model_4_Conv1D/assets\n"
          ]
        },
        {
          "output_type": "stream",
          "name": "stdout",
          "text": [
            "\b\b\b\b\b\b\b\b\b\b\b\b\b\b\b\b\b\b\b\b\b\b\b\b\b\b\b\b\b\b\b\b\b\b\b\b\b\b\b\b\b\b\b\b\b\b\b\b\b\b\b\b\b\b\b\b\b\b\b\b\b\b\b\b\b\r18/18 [==============================] - 1s 41ms/step - loss: 156.2436 - val_loss: 868.0865\n",
            "Epoch 18/100\n",
            " 1/18 [>.............................] - ETA: 0s - loss: 183.7018\n",
            "Epoch 18: val_loss did not improve from 868.08649\n",
            "18/18 [==============================] - 0s 5ms/step - loss: 153.7026 - val_loss: 870.7526\n",
            "Epoch 19/100\n",
            " 1/18 [>.............................] - ETA: 0s - loss: 171.0292\n",
            "Epoch 19: val_loss improved from 868.08649 to 855.85016, saving model to models_experiment/model_4_Conv1D\n"
          ]
        },
        {
          "output_type": "stream",
          "name": "stderr",
          "text": [
            "WARNING:absl:Found untraced functions such as _jit_compiled_convolution_op while saving (showing 1 of 1). These functions will not be directly callable after loading.\n"
          ]
        },
        {
          "output_type": "stream",
          "name": "stdout",
          "text": [
            "INFO:tensorflow:Assets written to: models_experiment/model_4_Conv1D/assets\n"
          ]
        },
        {
          "output_type": "stream",
          "name": "stderr",
          "text": [
            "INFO:tensorflow:Assets written to: models_experiment/model_4_Conv1D/assets\n"
          ]
        },
        {
          "output_type": "stream",
          "name": "stdout",
          "text": [
            "\b\b\b\b\b\b\b\b\b\b\b\b\b\b\b\b\b\b\b\b\b\b\b\b\b\b\b\b\b\b\b\b\b\b\b\b\b\b\b\b\b\b\b\b\b\b\b\b\b\b\b\b\b\b\b\b\b\b\b\b\b\b\b\b\b\r18/18 [==============================] - 1s 40ms/step - loss: 150.7256 - val_loss: 855.8502\n",
            "Epoch 20/100\n",
            "18/18 [==============================] - ETA: 0s - loss: 152.1707\n",
            "Epoch 20: val_loss did not improve from 855.85016\n",
            "18/18 [==============================] - 0s 5ms/step - loss: 152.1707 - val_loss: 892.0473\n",
            "Epoch 21/100\n",
            "17/18 [===========================>..] - ETA: 0s - loss: 147.6545\n",
            "Epoch 21: val_loss improved from 855.85016 to 837.44861, saving model to models_experiment/model_4_Conv1D\n"
          ]
        },
        {
          "output_type": "stream",
          "name": "stderr",
          "text": [
            "WARNING:absl:Found untraced functions such as _jit_compiled_convolution_op while saving (showing 1 of 1). These functions will not be directly callable after loading.\n"
          ]
        },
        {
          "output_type": "stream",
          "name": "stdout",
          "text": [
            "INFO:tensorflow:Assets written to: models_experiment/model_4_Conv1D/assets\n"
          ]
        },
        {
          "output_type": "stream",
          "name": "stderr",
          "text": [
            "INFO:tensorflow:Assets written to: models_experiment/model_4_Conv1D/assets\n"
          ]
        },
        {
          "output_type": "stream",
          "name": "stdout",
          "text": [
            "\b\b\b\b\b\b\b\b\b\b\b\b\b\b\b\b\b\b\b\b\b\b\b\b\b\b\b\b\b\b\b\b\b\b\b\b\b\b\b\b\b\b\b\b\b\b\b\b\b\b\b\b\b\b\b\b\b\b\b\b\b\b\b\b\b\r18/18 [==============================] - 1s 45ms/step - loss: 146.7176 - val_loss: 837.4486\n",
            "Epoch 22/100\n",
            "17/18 [===========================>..] - ETA: 0s - loss: 145.4735\n",
            "Epoch 22: val_loss improved from 837.44861 to 801.10144, saving model to models_experiment/model_4_Conv1D\n"
          ]
        },
        {
          "output_type": "stream",
          "name": "stderr",
          "text": [
            "WARNING:absl:Found untraced functions such as _jit_compiled_convolution_op while saving (showing 1 of 1). These functions will not be directly callable after loading.\n"
          ]
        },
        {
          "output_type": "stream",
          "name": "stdout",
          "text": [
            "INFO:tensorflow:Assets written to: models_experiment/model_4_Conv1D/assets\n"
          ]
        },
        {
          "output_type": "stream",
          "name": "stderr",
          "text": [
            "INFO:tensorflow:Assets written to: models_experiment/model_4_Conv1D/assets\n"
          ]
        },
        {
          "output_type": "stream",
          "name": "stdout",
          "text": [
            "\b\b\b\b\b\b\b\b\b\b\b\b\b\b\b\b\b\b\b\b\b\b\b\b\b\b\b\b\b\b\b\b\b\b\b\b\b\b\b\b\b\b\b\b\b\b\b\b\b\b\b\b\b\b\b\b\b\b\b\b\b\b\b\b\b\r18/18 [==============================] - 1s 42ms/step - loss: 145.7593 - val_loss: 801.1014\n",
            "Epoch 23/100\n",
            " 1/18 [>.............................] - ETA: 0s - loss: 123.0823\n",
            "Epoch 23: val_loss improved from 801.10144 to 793.48157, saving model to models_experiment/model_4_Conv1D\n"
          ]
        },
        {
          "output_type": "stream",
          "name": "stderr",
          "text": [
            "WARNING:absl:Found untraced functions such as _jit_compiled_convolution_op while saving (showing 1 of 1). These functions will not be directly callable after loading.\n"
          ]
        },
        {
          "output_type": "stream",
          "name": "stdout",
          "text": [
            "INFO:tensorflow:Assets written to: models_experiment/model_4_Conv1D/assets\n"
          ]
        },
        {
          "output_type": "stream",
          "name": "stderr",
          "text": [
            "INFO:tensorflow:Assets written to: models_experiment/model_4_Conv1D/assets\n"
          ]
        },
        {
          "output_type": "stream",
          "name": "stdout",
          "text": [
            "\b\b\b\b\b\b\b\b\b\b\b\b\b\b\b\b\b\b\b\b\b\b\b\b\b\b\b\b\b\b\b\b\b\b\b\b\b\b\b\b\b\b\b\b\b\b\b\b\b\b\b\b\b\b\b\b\b\b\b\b\b\b\b\b\b\r18/18 [==============================] - 1s 44ms/step - loss: 141.9630 - val_loss: 793.4816\n",
            "Epoch 24/100\n",
            "15/18 [========================>.....] - ETA: 0s - loss: 140.0366\n",
            "Epoch 24: val_loss improved from 793.48157 to 783.41388, saving model to models_experiment/model_4_Conv1D\n"
          ]
        },
        {
          "output_type": "stream",
          "name": "stderr",
          "text": [
            "WARNING:absl:Found untraced functions such as _jit_compiled_convolution_op while saving (showing 1 of 1). These functions will not be directly callable after loading.\n"
          ]
        },
        {
          "output_type": "stream",
          "name": "stdout",
          "text": [
            "INFO:tensorflow:Assets written to: models_experiment/model_4_Conv1D/assets\n"
          ]
        },
        {
          "output_type": "stream",
          "name": "stderr",
          "text": [
            "INFO:tensorflow:Assets written to: models_experiment/model_4_Conv1D/assets\n"
          ]
        },
        {
          "output_type": "stream",
          "name": "stdout",
          "text": [
            "\b\b\b\b\b\b\b\b\b\b\b\b\b\b\b\b\b\b\b\b\b\b\b\b\b\b\b\b\b\b\b\b\b\b\b\b\b\b\b\b\b\b\b\b\b\b\b\b\b\b\b\b\b\b\b\b\b\b\b\b\b\b\b\b\b\r18/18 [==============================] - 1s 46ms/step - loss: 139.4478 - val_loss: 783.4139\n",
            "Epoch 25/100\n",
            "16/18 [=========================>....] - ETA: 0s - loss: 140.5794\n",
            "Epoch 25: val_loss did not improve from 783.41388\n",
            "18/18 [==============================] - 0s 6ms/step - loss: 138.1488 - val_loss: 786.0203\n",
            "Epoch 26/100\n",
            "16/18 [=========================>....] - ETA: 0s - loss: 146.6613\n",
            "Epoch 26: val_loss did not improve from 783.41388\n",
            "18/18 [==============================] - 0s 6ms/step - loss: 142.7781 - val_loss: 1033.4811\n",
            "Epoch 27/100\n",
            "18/18 [==============================] - ETA: 0s - loss: 147.9971\n",
            "Epoch 27: val_loss improved from 783.41388 to 745.29913, saving model to models_experiment/model_4_Conv1D\n"
          ]
        },
        {
          "output_type": "stream",
          "name": "stderr",
          "text": [
            "WARNING:absl:Found untraced functions such as _jit_compiled_convolution_op while saving (showing 1 of 1). These functions will not be directly callable after loading.\n"
          ]
        },
        {
          "output_type": "stream",
          "name": "stdout",
          "text": [
            "INFO:tensorflow:Assets written to: models_experiment/model_4_Conv1D/assets\n"
          ]
        },
        {
          "output_type": "stream",
          "name": "stderr",
          "text": [
            "INFO:tensorflow:Assets written to: models_experiment/model_4_Conv1D/assets\n"
          ]
        },
        {
          "output_type": "stream",
          "name": "stdout",
          "text": [
            "\b\b\b\b\b\b\b\b\b\b\b\b\b\b\b\b\b\b\b\b\b\b\b\b\b\b\b\b\b\b\b\b\b\b\b\b\b\b\b\b\b\b\b\b\b\b\b\b\b\b\b\b\b\b\b\b\b\b\b\b\b\b\b\b\b\r18/18 [==============================] - 1s 40ms/step - loss: 147.9971 - val_loss: 745.2991\n",
            "Epoch 28/100\n",
            " 1/18 [>.............................] - ETA: 0s - loss: 141.7569\n",
            "Epoch 28: val_loss improved from 745.29913 to 741.33014, saving model to models_experiment/model_4_Conv1D\n"
          ]
        },
        {
          "output_type": "stream",
          "name": "stderr",
          "text": [
            "WARNING:absl:Found untraced functions such as _jit_compiled_convolution_op while saving (showing 1 of 1). These functions will not be directly callable after loading.\n"
          ]
        },
        {
          "output_type": "stream",
          "name": "stdout",
          "text": [
            "INFO:tensorflow:Assets written to: models_experiment/model_4_Conv1D/assets\n"
          ]
        },
        {
          "output_type": "stream",
          "name": "stderr",
          "text": [
            "INFO:tensorflow:Assets written to: models_experiment/model_4_Conv1D/assets\n"
          ]
        },
        {
          "output_type": "stream",
          "name": "stdout",
          "text": [
            "\b\b\b\b\b\b\b\b\b\b\b\b\b\b\b\b\b\b\b\b\b\b\b\b\b\b\b\b\b\b\b\b\b\b\b\b\b\b\b\b\b\b\b\b\b\b\b\b\b\b\b\b\b\b\b\b\b\b\b\b\b\b\b\b\b\r18/18 [==============================] - 1s 42ms/step - loss: 133.0608 - val_loss: 741.3301\n",
            "Epoch 29/100\n",
            " 1/18 [>.............................] - ETA: 0s - loss: 113.6268\n",
            "Epoch 29: val_loss improved from 741.33014 to 727.38702, saving model to models_experiment/model_4_Conv1D\n"
          ]
        },
        {
          "output_type": "stream",
          "name": "stderr",
          "text": [
            "WARNING:absl:Found untraced functions such as _jit_compiled_convolution_op while saving (showing 1 of 1). These functions will not be directly callable after loading.\n"
          ]
        },
        {
          "output_type": "stream",
          "name": "stdout",
          "text": [
            "INFO:tensorflow:Assets written to: models_experiment/model_4_Conv1D/assets\n"
          ]
        },
        {
          "output_type": "stream",
          "name": "stderr",
          "text": [
            "INFO:tensorflow:Assets written to: models_experiment/model_4_Conv1D/assets\n"
          ]
        },
        {
          "output_type": "stream",
          "name": "stdout",
          "text": [
            "\b\b\b\b\b\b\b\b\b\b\b\b\b\b\b\b\b\b\b\b\b\b\b\b\b\b\b\b\b\b\b\b\b\b\b\b\b\b\b\b\b\b\b\b\b\b\b\b\b\b\b\b\b\b\b\b\b\b\b\b\b\b\b\b\b\r18/18 [==============================] - 1s 54ms/step - loss: 130.7005 - val_loss: 727.3870\n",
            "Epoch 30/100\n",
            "18/18 [==============================] - ETA: 0s - loss: 130.7502\n",
            "Epoch 30: val_loss improved from 727.38702 to 715.76813, saving model to models_experiment/model_4_Conv1D\n"
          ]
        },
        {
          "output_type": "stream",
          "name": "stderr",
          "text": [
            "WARNING:absl:Found untraced functions such as _jit_compiled_convolution_op while saving (showing 1 of 1). These functions will not be directly callable after loading.\n"
          ]
        },
        {
          "output_type": "stream",
          "name": "stdout",
          "text": [
            "INFO:tensorflow:Assets written to: models_experiment/model_4_Conv1D/assets\n"
          ]
        },
        {
          "output_type": "stream",
          "name": "stderr",
          "text": [
            "INFO:tensorflow:Assets written to: models_experiment/model_4_Conv1D/assets\n"
          ]
        },
        {
          "output_type": "stream",
          "name": "stdout",
          "text": [
            "\b\b\b\b\b\b\b\b\b\b\b\b\b\b\b\b\b\b\b\b\b\b\b\b\b\b\b\b\b\b\b\b\b\b\b\b\b\b\b\b\b\b\b\b\b\b\b\b\b\b\b\b\b\b\b\b\b\b\b\b\b\b\b\b\b\r18/18 [==============================] - 1s 41ms/step - loss: 130.7502 - val_loss: 715.7681\n",
            "Epoch 31/100\n",
            "18/18 [==============================] - ETA: 0s - loss: 134.2215\n",
            "Epoch 31: val_loss improved from 715.76813 to 707.66931, saving model to models_experiment/model_4_Conv1D\n"
          ]
        },
        {
          "output_type": "stream",
          "name": "stderr",
          "text": [
            "WARNING:absl:Found untraced functions such as _jit_compiled_convolution_op while saving (showing 1 of 1). These functions will not be directly callable after loading.\n"
          ]
        },
        {
          "output_type": "stream",
          "name": "stdout",
          "text": [
            "INFO:tensorflow:Assets written to: models_experiment/model_4_Conv1D/assets\n"
          ]
        },
        {
          "output_type": "stream",
          "name": "stderr",
          "text": [
            "INFO:tensorflow:Assets written to: models_experiment/model_4_Conv1D/assets\n"
          ]
        },
        {
          "output_type": "stream",
          "name": "stdout",
          "text": [
            "\b\b\b\b\b\b\b\b\b\b\b\b\b\b\b\b\b\b\b\b\b\b\b\b\b\b\b\b\b\b\b\b\b\b\b\b\b\b\b\b\b\b\b\b\b\b\b\b\b\b\b\b\b\b\b\b\b\b\b\b\b\b\b\b\b\r18/18 [==============================] - 1s 41ms/step - loss: 134.2215 - val_loss: 707.6693\n",
            "Epoch 32/100\n",
            " 1/18 [>.............................] - ETA: 0s - loss: 124.8651\n",
            "Epoch 32: val_loss did not improve from 707.66931\n",
            "18/18 [==============================] - 0s 5ms/step - loss: 129.1258 - val_loss: 746.7557\n",
            "Epoch 33/100\n",
            " 1/18 [>.............................] - ETA: 0s - loss: 100.0676\n",
            "Epoch 33: val_loss improved from 707.66931 to 706.61859, saving model to models_experiment/model_4_Conv1D\n"
          ]
        },
        {
          "output_type": "stream",
          "name": "stderr",
          "text": [
            "WARNING:absl:Found untraced functions such as _jit_compiled_convolution_op while saving (showing 1 of 1). These functions will not be directly callable after loading.\n"
          ]
        },
        {
          "output_type": "stream",
          "name": "stdout",
          "text": [
            "INFO:tensorflow:Assets written to: models_experiment/model_4_Conv1D/assets\n"
          ]
        },
        {
          "output_type": "stream",
          "name": "stderr",
          "text": [
            "INFO:tensorflow:Assets written to: models_experiment/model_4_Conv1D/assets\n"
          ]
        },
        {
          "output_type": "stream",
          "name": "stdout",
          "text": [
            "\b\b\b\b\b\b\b\b\b\b\b\b\b\b\b\b\b\b\b\b\b\b\b\b\b\b\b\b\b\b\b\b\b\b\b\b\b\b\b\b\b\b\b\b\b\b\b\b\b\b\b\b\b\b\b\b\b\b\b\b\b\b\b\b\b\r18/18 [==============================] - 1s 40ms/step - loss: 126.7325 - val_loss: 706.6186\n",
            "Epoch 34/100\n",
            " 1/18 [>.............................] - ETA: 0s - loss: 132.1193\n",
            "Epoch 34: val_loss did not improve from 706.61859\n",
            "18/18 [==============================] - 0s 5ms/step - loss: 124.6743 - val_loss: 725.1351\n",
            "Epoch 35/100\n",
            "18/18 [==============================] - ETA: 0s - loss: 127.4341\n",
            "Epoch 35: val_loss improved from 706.61859 to 684.94025, saving model to models_experiment/model_4_Conv1D\n"
          ]
        },
        {
          "output_type": "stream",
          "name": "stderr",
          "text": [
            "WARNING:absl:Found untraced functions such as _jit_compiled_convolution_op while saving (showing 1 of 1). These functions will not be directly callable after loading.\n"
          ]
        },
        {
          "output_type": "stream",
          "name": "stdout",
          "text": [
            "INFO:tensorflow:Assets written to: models_experiment/model_4_Conv1D/assets\n"
          ]
        },
        {
          "output_type": "stream",
          "name": "stderr",
          "text": [
            "INFO:tensorflow:Assets written to: models_experiment/model_4_Conv1D/assets\n"
          ]
        },
        {
          "output_type": "stream",
          "name": "stdout",
          "text": [
            "\b\b\b\b\b\b\b\b\b\b\b\b\b\b\b\b\b\b\b\b\b\b\b\b\b\b\b\b\b\b\b\b\b\b\b\b\b\b\b\b\b\b\b\b\b\b\b\b\b\b\b\b\b\b\b\b\b\b\b\b\b\b\b\b\b\r18/18 [==============================] - 1s 37ms/step - loss: 127.4341 - val_loss: 684.9402\n",
            "Epoch 36/100\n",
            " 1/18 [>.............................] - ETA: 0s - loss: 126.0743\n",
            "Epoch 36: val_loss improved from 684.94025 to 672.53326, saving model to models_experiment/model_4_Conv1D\n"
          ]
        },
        {
          "output_type": "stream",
          "name": "stderr",
          "text": [
            "WARNING:absl:Found untraced functions such as _jit_compiled_convolution_op while saving (showing 1 of 1). These functions will not be directly callable after loading.\n"
          ]
        },
        {
          "output_type": "stream",
          "name": "stdout",
          "text": [
            "INFO:tensorflow:Assets written to: models_experiment/model_4_Conv1D/assets\n"
          ]
        },
        {
          "output_type": "stream",
          "name": "stderr",
          "text": [
            "INFO:tensorflow:Assets written to: models_experiment/model_4_Conv1D/assets\n"
          ]
        },
        {
          "output_type": "stream",
          "name": "stdout",
          "text": [
            "\b\b\b\b\b\b\b\b\b\b\b\b\b\b\b\b\b\b\b\b\b\b\b\b\b\b\b\b\b\b\b\b\b\b\b\b\b\b\b\b\b\b\b\b\b\b\b\b\b\b\b\b\b\b\b\b\b\b\b\b\b\b\b\b\b\r18/18 [==============================] - 1s 39ms/step - loss: 122.7113 - val_loss: 672.5333\n",
            "Epoch 37/100\n",
            " 1/18 [>.............................] - ETA: 0s - loss: 154.8951\n",
            "Epoch 37: val_loss improved from 672.53326 to 666.48090, saving model to models_experiment/model_4_Conv1D\n"
          ]
        },
        {
          "output_type": "stream",
          "name": "stderr",
          "text": [
            "WARNING:absl:Found untraced functions such as _jit_compiled_convolution_op while saving (showing 1 of 1). These functions will not be directly callable after loading.\n"
          ]
        },
        {
          "output_type": "stream",
          "name": "stdout",
          "text": [
            "INFO:tensorflow:Assets written to: models_experiment/model_4_Conv1D/assets\n"
          ]
        },
        {
          "output_type": "stream",
          "name": "stderr",
          "text": [
            "INFO:tensorflow:Assets written to: models_experiment/model_4_Conv1D/assets\n"
          ]
        },
        {
          "output_type": "stream",
          "name": "stdout",
          "text": [
            "\b\b\b\b\b\b\b\b\b\b\b\b\b\b\b\b\b\b\b\b\b\b\b\b\b\b\b\b\b\b\b\b\b\b\b\b\b\b\b\b\b\b\b\b\b\b\b\b\b\b\b\b\b\b\b\b\b\b\b\b\b\b\b\b\b\r18/18 [==============================] - 1s 40ms/step - loss: 121.2803 - val_loss: 666.4809\n",
            "Epoch 38/100\n",
            " 1/18 [>.............................] - ETA: 0s - loss: 116.2444\n",
            "Epoch 38: val_loss improved from 666.48090 to 660.82111, saving model to models_experiment/model_4_Conv1D\n"
          ]
        },
        {
          "output_type": "stream",
          "name": "stderr",
          "text": [
            "WARNING:absl:Found untraced functions such as _jit_compiled_convolution_op while saving (showing 1 of 1). These functions will not be directly callable after loading.\n"
          ]
        },
        {
          "output_type": "stream",
          "name": "stdout",
          "text": [
            "INFO:tensorflow:Assets written to: models_experiment/model_4_Conv1D/assets\n"
          ]
        },
        {
          "output_type": "stream",
          "name": "stderr",
          "text": [
            "INFO:tensorflow:Assets written to: models_experiment/model_4_Conv1D/assets\n"
          ]
        },
        {
          "output_type": "stream",
          "name": "stdout",
          "text": [
            "\b\b\b\b\b\b\b\b\b\b\b\b\b\b\b\b\b\b\b\b\b\b\b\b\b\b\b\b\b\b\b\b\b\b\b\b\b\b\b\b\b\b\b\b\b\b\b\b\b\b\b\b\b\b\b\b\b\b\b\b\b\b\b\b\b\r18/18 [==============================] - 1s 44ms/step - loss: 121.7859 - val_loss: 660.8211\n",
            "Epoch 39/100\n",
            " 1/18 [>.............................] - ETA: 0s - loss: 173.3800\n",
            "Epoch 39: val_loss did not improve from 660.82111\n",
            "18/18 [==============================] - 0s 5ms/step - loss: 122.8204 - val_loss: 697.3269\n",
            "Epoch 40/100\n",
            " 1/18 [>.............................] - ETA: 0s - loss: 152.3009\n",
            "Epoch 40: val_loss did not improve from 660.82111\n",
            "18/18 [==============================] - 0s 5ms/step - loss: 122.1179 - val_loss: 661.6505\n",
            "Epoch 41/100\n",
            " 1/18 [>.............................] - ETA: 0s - loss: 158.9391\n",
            "Epoch 41: val_loss improved from 660.82111 to 646.80902, saving model to models_experiment/model_4_Conv1D\n"
          ]
        },
        {
          "output_type": "stream",
          "name": "stderr",
          "text": [
            "WARNING:absl:Found untraced functions such as _jit_compiled_convolution_op while saving (showing 1 of 1). These functions will not be directly callable after loading.\n"
          ]
        },
        {
          "output_type": "stream",
          "name": "stdout",
          "text": [
            "INFO:tensorflow:Assets written to: models_experiment/model_4_Conv1D/assets\n"
          ]
        },
        {
          "output_type": "stream",
          "name": "stderr",
          "text": [
            "INFO:tensorflow:Assets written to: models_experiment/model_4_Conv1D/assets\n"
          ]
        },
        {
          "output_type": "stream",
          "name": "stdout",
          "text": [
            "\b\b\b\b\b\b\b\b\b\b\b\b\b\b\b\b\b\b\b\b\b\b\b\b\b\b\b\b\b\b\b\b\b\b\b\b\b\b\b\b\b\b\b\b\b\b\b\b\b\b\b\b\b\b\b\b\b\b\b\b\b\b\b\b\b\r18/18 [==============================] - 1s 38ms/step - loss: 118.7144 - val_loss: 646.8090\n",
            "Epoch 42/100\n",
            " 1/18 [>.............................] - ETA: 0s - loss: 123.6524\n",
            "Epoch 42: val_loss improved from 646.80902 to 641.94775, saving model to models_experiment/model_4_Conv1D\n"
          ]
        },
        {
          "output_type": "stream",
          "name": "stderr",
          "text": [
            "WARNING:absl:Found untraced functions such as _jit_compiled_convolution_op while saving (showing 1 of 1). These functions will not be directly callable after loading.\n"
          ]
        },
        {
          "output_type": "stream",
          "name": "stdout",
          "text": [
            "INFO:tensorflow:Assets written to: models_experiment/model_4_Conv1D/assets\n"
          ]
        },
        {
          "output_type": "stream",
          "name": "stderr",
          "text": [
            "INFO:tensorflow:Assets written to: models_experiment/model_4_Conv1D/assets\n"
          ]
        },
        {
          "output_type": "stream",
          "name": "stdout",
          "text": [
            "\b\b\b\b\b\b\b\b\b\b\b\b\b\b\b\b\b\b\b\b\b\b\b\b\b\b\b\b\b\b\b\b\b\b\b\b\b\b\b\b\b\b\b\b\b\b\b\b\b\b\b\b\b\b\b\b\b\b\b\b\b\b\b\b\b\r18/18 [==============================] - 1s 41ms/step - loss: 118.5372 - val_loss: 641.9478\n",
            "Epoch 43/100\n",
            "18/18 [==============================] - ETA: 0s - loss: 121.0624\n",
            "Epoch 43: val_loss did not improve from 641.94775\n",
            "18/18 [==============================] - 0s 5ms/step - loss: 121.0624 - val_loss: 644.8860\n",
            "Epoch 44/100\n",
            "17/18 [===========================>..] - ETA: 0s - loss: 117.7404\n",
            "Epoch 44: val_loss did not improve from 641.94775\n",
            "18/18 [==============================] - 0s 5ms/step - loss: 118.5707 - val_loss: 648.7808\n",
            "Epoch 45/100\n",
            "18/18 [==============================] - ETA: 0s - loss: 118.0089\n",
            "Epoch 45: val_loss improved from 641.94775 to 631.99841, saving model to models_experiment/model_4_Conv1D\n"
          ]
        },
        {
          "output_type": "stream",
          "name": "stderr",
          "text": [
            "WARNING:absl:Found untraced functions such as _jit_compiled_convolution_op while saving (showing 1 of 1). These functions will not be directly callable after loading.\n"
          ]
        },
        {
          "output_type": "stream",
          "name": "stdout",
          "text": [
            "INFO:tensorflow:Assets written to: models_experiment/model_4_Conv1D/assets\n"
          ]
        },
        {
          "output_type": "stream",
          "name": "stderr",
          "text": [
            "INFO:tensorflow:Assets written to: models_experiment/model_4_Conv1D/assets\n"
          ]
        },
        {
          "output_type": "stream",
          "name": "stdout",
          "text": [
            "\b\b\b\b\b\b\b\b\b\b\b\b\b\b\b\b\b\b\b\b\b\b\b\b\b\b\b\b\b\b\b\b\b\b\b\b\b\b\b\b\b\b\b\b\b\b\b\b\b\b\b\b\b\b\b\b\b\b\b\b\b\b\b\b\b\r18/18 [==============================] - 1s 39ms/step - loss: 118.0089 - val_loss: 631.9984\n",
            "Epoch 46/100\n",
            " 1/18 [>.............................] - ETA: 0s - loss: 97.7067\n",
            "Epoch 46: val_loss improved from 631.99841 to 631.35632, saving model to models_experiment/model_4_Conv1D\n"
          ]
        },
        {
          "output_type": "stream",
          "name": "stderr",
          "text": [
            "WARNING:absl:Found untraced functions such as _jit_compiled_convolution_op while saving (showing 1 of 1). These functions will not be directly callable after loading.\n"
          ]
        },
        {
          "output_type": "stream",
          "name": "stdout",
          "text": [
            "INFO:tensorflow:Assets written to: models_experiment/model_4_Conv1D/assets\n"
          ]
        },
        {
          "output_type": "stream",
          "name": "stderr",
          "text": [
            "INFO:tensorflow:Assets written to: models_experiment/model_4_Conv1D/assets\n"
          ]
        },
        {
          "output_type": "stream",
          "name": "stdout",
          "text": [
            "\b\b\b\b\b\b\b\b\b\b\b\b\b\b\b\b\b\b\b\b\b\b\b\b\b\b\b\b\b\b\b\b\b\b\b\b\b\b\b\b\b\b\b\b\b\b\b\b\b\b\b\b\b\b\b\b\b\b\b\b\b\b\b\b\r18/18 [==============================] - 1s 40ms/step - loss: 116.3052 - val_loss: 631.3563\n",
            "Epoch 47/100\n",
            " 1/18 [>.............................] - ETA: 0s - loss: 135.7987\n",
            "Epoch 47: val_loss improved from 631.35632 to 624.35236, saving model to models_experiment/model_4_Conv1D\n"
          ]
        },
        {
          "output_type": "stream",
          "name": "stderr",
          "text": [
            "WARNING:absl:Found untraced functions such as _jit_compiled_convolution_op while saving (showing 1 of 1). These functions will not be directly callable after loading.\n"
          ]
        },
        {
          "output_type": "stream",
          "name": "stdout",
          "text": [
            "INFO:tensorflow:Assets written to: models_experiment/model_4_Conv1D/assets\n"
          ]
        },
        {
          "output_type": "stream",
          "name": "stderr",
          "text": [
            "INFO:tensorflow:Assets written to: models_experiment/model_4_Conv1D/assets\n"
          ]
        },
        {
          "output_type": "stream",
          "name": "stdout",
          "text": [
            "\b\b\b\b\b\b\b\b\b\b\b\b\b\b\b\b\b\b\b\b\b\b\b\b\b\b\b\b\b\b\b\b\b\b\b\b\b\b\b\b\b\b\b\b\b\b\b\b\b\b\b\b\b\b\b\b\b\b\b\b\b\b\b\b\b\r18/18 [==============================] - 1s 39ms/step - loss: 116.6362 - val_loss: 624.3524\n",
            "Epoch 48/100\n",
            "18/18 [==============================] - ETA: 0s - loss: 115.0021\n",
            "Epoch 48: val_loss improved from 624.35236 to 622.21997, saving model to models_experiment/model_4_Conv1D\n"
          ]
        },
        {
          "output_type": "stream",
          "name": "stderr",
          "text": [
            "WARNING:absl:Found untraced functions such as _jit_compiled_convolution_op while saving (showing 1 of 1). These functions will not be directly callable after loading.\n"
          ]
        },
        {
          "output_type": "stream",
          "name": "stdout",
          "text": [
            "INFO:tensorflow:Assets written to: models_experiment/model_4_Conv1D/assets\n"
          ]
        },
        {
          "output_type": "stream",
          "name": "stderr",
          "text": [
            "INFO:tensorflow:Assets written to: models_experiment/model_4_Conv1D/assets\n"
          ]
        },
        {
          "output_type": "stream",
          "name": "stdout",
          "text": [
            "\b\b\b\b\b\b\b\b\b\b\b\b\b\b\b\b\b\b\b\b\b\b\b\b\b\b\b\b\b\b\b\b\b\b\b\b\b\b\b\b\b\b\b\b\b\b\b\b\b\b\b\b\b\b\b\b\b\b\b\b\b\b\b\b\b\r18/18 [==============================] - 1s 54ms/step - loss: 115.0021 - val_loss: 622.2200\n",
            "Epoch 49/100\n",
            " 1/18 [>.............................] - ETA: 0s - loss: 86.7312\n",
            "Epoch 49: val_loss did not improve from 622.21997\n",
            "18/18 [==============================] - 0s 5ms/step - loss: 115.2439 - val_loss: 657.7130\n",
            "Epoch 50/100\n",
            "18/18 [==============================] - ETA: 0s - loss: 114.8018\n",
            "Epoch 50: val_loss did not improve from 622.21997\n",
            "18/18 [==============================] - 0s 5ms/step - loss: 114.8018 - val_loss: 641.2914\n",
            "Epoch 51/100\n",
            " 1/18 [>.............................] - ETA: 0s - loss: 95.4861\n",
            "Epoch 51: val_loss did not improve from 622.21997\n",
            "18/18 [==============================] - 0s 5ms/step - loss: 117.6168 - val_loss: 695.7469\n",
            "Epoch 52/100\n",
            " 1/18 [>.............................] - ETA: 0s - loss: 169.5840\n",
            "Epoch 52: val_loss did not improve from 622.21997\n",
            "18/18 [==============================] - 0s 5ms/step - loss: 117.5175 - val_loss: 686.5941\n",
            "Epoch 53/100\n",
            " 1/18 [>.............................] - ETA: 0s - loss: 133.6318\n",
            "Epoch 53: val_loss improved from 622.21997 to 614.57275, saving model to models_experiment/model_4_Conv1D\n"
          ]
        },
        {
          "output_type": "stream",
          "name": "stderr",
          "text": [
            "WARNING:absl:Found untraced functions such as _jit_compiled_convolution_op while saving (showing 1 of 1). These functions will not be directly callable after loading.\n"
          ]
        },
        {
          "output_type": "stream",
          "name": "stdout",
          "text": [
            "INFO:tensorflow:Assets written to: models_experiment/model_4_Conv1D/assets\n"
          ]
        },
        {
          "output_type": "stream",
          "name": "stderr",
          "text": [
            "INFO:tensorflow:Assets written to: models_experiment/model_4_Conv1D/assets\n"
          ]
        },
        {
          "output_type": "stream",
          "name": "stdout",
          "text": [
            "\b\b\b\b\b\b\b\b\b\b\b\b\b\b\b\b\b\b\b\b\b\b\b\b\b\b\b\b\b\b\b\b\b\b\b\b\b\b\b\b\b\b\b\b\b\b\b\b\b\b\b\b\b\b\b\b\b\b\b\b\b\b\b\b\b\r18/18 [==============================] - 1s 40ms/step - loss: 118.9335 - val_loss: 614.5728\n",
            "Epoch 54/100\n",
            "18/18 [==============================] - ETA: 0s - loss: 115.4025\n",
            "Epoch 54: val_loss did not improve from 614.57275\n",
            "18/18 [==============================] - 0s 5ms/step - loss: 115.4025 - val_loss: 619.7332\n",
            "Epoch 55/100\n",
            " 1/18 [>.............................] - ETA: 0s - loss: 93.7438\n",
            "Epoch 55: val_loss improved from 614.57275 to 611.94574, saving model to models_experiment/model_4_Conv1D\n"
          ]
        },
        {
          "output_type": "stream",
          "name": "stderr",
          "text": [
            "WARNING:absl:Found untraced functions such as _jit_compiled_convolution_op while saving (showing 1 of 1). These functions will not be directly callable after loading.\n"
          ]
        },
        {
          "output_type": "stream",
          "name": "stdout",
          "text": [
            "INFO:tensorflow:Assets written to: models_experiment/model_4_Conv1D/assets\n"
          ]
        },
        {
          "output_type": "stream",
          "name": "stderr",
          "text": [
            "INFO:tensorflow:Assets written to: models_experiment/model_4_Conv1D/assets\n"
          ]
        },
        {
          "output_type": "stream",
          "name": "stdout",
          "text": [
            "\b\b\b\b\b\b\b\b\b\b\b\b\b\b\b\b\b\b\b\b\b\b\b\b\b\b\b\b\b\b\b\b\b\b\b\b\b\b\b\b\b\b\b\b\b\b\b\b\b\b\b\b\b\b\b\b\b\b\b\b\b\b\b\b\r18/18 [==============================] - 1s 40ms/step - loss: 114.0426 - val_loss: 611.9457\n",
            "Epoch 56/100\n",
            " 1/18 [>.............................] - ETA: 0s - loss: 106.0585\n",
            "Epoch 56: val_loss did not improve from 611.94574\n",
            "18/18 [==============================] - 0s 5ms/step - loss: 112.2343 - val_loss: 635.4819\n",
            "Epoch 57/100\n",
            " 1/18 [>.............................] - ETA: 0s - loss: 99.0113\n",
            "Epoch 57: val_loss did not improve from 611.94574\n",
            "18/18 [==============================] - 0s 5ms/step - loss: 119.2806 - val_loss: 686.1995\n",
            "Epoch 58/100\n",
            " 1/18 [>.............................] - ETA: 0s - loss: 117.9384\n",
            "Epoch 58: val_loss did not improve from 611.94574\n",
            "18/18 [==============================] - 0s 5ms/step - loss: 113.7627 - val_loss: 620.5838\n",
            "Epoch 59/100\n",
            " 1/18 [>.............................] - ETA: 0s - loss: 95.2824\n",
            "Epoch 59: val_loss did not improve from 611.94574\n",
            "18/18 [==============================] - 0s 5ms/step - loss: 115.0276 - val_loss: 612.9280\n",
            "Epoch 60/100\n",
            " 1/18 [>.............................] - ETA: 0s - loss: 75.1582\n",
            "Epoch 60: val_loss did not improve from 611.94574\n",
            "18/18 [==============================] - 0s 5ms/step - loss: 113.2573 - val_loss: 619.1381\n",
            "Epoch 61/100\n",
            " 1/18 [>.............................] - ETA: 0s - loss: 139.0479\n",
            "Epoch 61: val_loss improved from 611.94574 to 599.87390, saving model to models_experiment/model_4_Conv1D\n"
          ]
        },
        {
          "output_type": "stream",
          "name": "stderr",
          "text": [
            "WARNING:absl:Found untraced functions such as _jit_compiled_convolution_op while saving (showing 1 of 1). These functions will not be directly callable after loading.\n"
          ]
        },
        {
          "output_type": "stream",
          "name": "stdout",
          "text": [
            "INFO:tensorflow:Assets written to: models_experiment/model_4_Conv1D/assets\n"
          ]
        },
        {
          "output_type": "stream",
          "name": "stderr",
          "text": [
            "INFO:tensorflow:Assets written to: models_experiment/model_4_Conv1D/assets\n"
          ]
        },
        {
          "output_type": "stream",
          "name": "stdout",
          "text": [
            "\b\b\b\b\b\b\b\b\b\b\b\b\b\b\b\b\b\b\b\b\b\b\b\b\b\b\b\b\b\b\b\b\b\b\b\b\b\b\b\b\b\b\b\b\b\b\b\b\b\b\b\b\b\b\b\b\b\b\b\b\b\b\b\b\b\r18/18 [==============================] - 1s 39ms/step - loss: 112.5586 - val_loss: 599.8739\n",
            "Epoch 62/100\n",
            " 1/18 [>.............................] - ETA: 0s - loss: 84.4510\n",
            "Epoch 62: val_loss did not improve from 599.87390\n",
            "18/18 [==============================] - 0s 4ms/step - loss: 112.9642 - val_loss: 667.6081\n",
            "Epoch 63/100\n",
            "17/18 [===========================>..] - ETA: 0s - loss: 115.6166\n",
            "Epoch 63: val_loss did not improve from 599.87390\n",
            "18/18 [==============================] - 0s 6ms/step - loss: 115.8921 - val_loss: 741.6867\n",
            "Epoch 64/100\n",
            "17/18 [===========================>..] - ETA: 0s - loss: 119.9757\n",
            "Epoch 64: val_loss did not improve from 599.87390\n",
            "18/18 [==============================] - 0s 5ms/step - loss: 118.4116 - val_loss: 600.7828\n",
            "Epoch 65/100\n",
            "18/18 [==============================] - ETA: 0s - loss: 111.5529\n",
            "Epoch 65: val_loss did not improve from 599.87390\n",
            "18/18 [==============================] - 0s 5ms/step - loss: 111.5529 - val_loss: 604.0500\n",
            "Epoch 66/100\n",
            " 1/18 [>.............................] - ETA: 0s - loss: 121.6806\n",
            "Epoch 66: val_loss improved from 599.87390 to 594.73010, saving model to models_experiment/model_4_Conv1D\n"
          ]
        },
        {
          "output_type": "stream",
          "name": "stderr",
          "text": [
            "WARNING:absl:Found untraced functions such as _jit_compiled_convolution_op while saving (showing 1 of 1). These functions will not be directly callable after loading.\n"
          ]
        },
        {
          "output_type": "stream",
          "name": "stdout",
          "text": [
            "INFO:tensorflow:Assets written to: models_experiment/model_4_Conv1D/assets\n"
          ]
        },
        {
          "output_type": "stream",
          "name": "stderr",
          "text": [
            "INFO:tensorflow:Assets written to: models_experiment/model_4_Conv1D/assets\n"
          ]
        },
        {
          "output_type": "stream",
          "name": "stdout",
          "text": [
            "\b\b\b\b\b\b\b\b\b\b\b\b\b\b\b\b\b\b\b\b\b\b\b\b\b\b\b\b\b\b\b\b\b\b\b\b\b\b\b\b\b\b\b\b\b\b\b\b\b\b\b\b\b\b\b\b\b\b\b\b\b\b\b\b\b\r18/18 [==============================] - 0s 28ms/step - loss: 111.4630 - val_loss: 594.7301\n",
            "Epoch 67/100\n",
            " 1/18 [>.............................] - ETA: 0s - loss: 101.3996\n",
            "Epoch 67: val_loss improved from 594.73010 to 589.10913, saving model to models_experiment/model_4_Conv1D\n"
          ]
        },
        {
          "output_type": "stream",
          "name": "stderr",
          "text": [
            "WARNING:absl:Found untraced functions such as _jit_compiled_convolution_op while saving (showing 1 of 1). These functions will not be directly callable after loading.\n"
          ]
        },
        {
          "output_type": "stream",
          "name": "stdout",
          "text": [
            "INFO:tensorflow:Assets written to: models_experiment/model_4_Conv1D/assets\n"
          ]
        },
        {
          "output_type": "stream",
          "name": "stderr",
          "text": [
            "INFO:tensorflow:Assets written to: models_experiment/model_4_Conv1D/assets\n"
          ]
        },
        {
          "output_type": "stream",
          "name": "stdout",
          "text": [
            "\b\b\b\b\b\b\b\b\b\b\b\b\b\b\b\b\b\b\b\b\b\b\b\b\b\b\b\b\b\b\b\b\b\b\b\b\b\b\b\b\b\b\b\b\b\b\b\b\b\b\b\b\b\b\b\b\b\b\b\b\b\b\b\b\b\r18/18 [==============================] - 1s 37ms/step - loss: 112.8517 - val_loss: 589.1091\n",
            "Epoch 68/100\n",
            " 1/18 [>.............................] - ETA: 0s - loss: 106.1046\n",
            "Epoch 68: val_loss did not improve from 589.10913\n",
            "18/18 [==============================] - 0s 5ms/step - loss: 111.4189 - val_loss: 589.8317\n",
            "Epoch 69/100\n",
            " 1/18 [>.............................] - ETA: 0s - loss: 118.1843\n",
            "Epoch 69: val_loss did not improve from 589.10913\n",
            "18/18 [==============================] - 0s 5ms/step - loss: 110.6448 - val_loss: 609.6241\n",
            "Epoch 70/100\n",
            " 1/18 [>.............................] - ETA: 0s - loss: 127.3081\n",
            "Epoch 70: val_loss did not improve from 589.10913\n",
            "18/18 [==============================] - 0s 5ms/step - loss: 113.1726 - val_loss: 614.9932\n",
            "Epoch 71/100\n",
            " 1/18 [>.............................] - ETA: 0s - loss: 141.6060\n",
            "Epoch 71: val_loss did not improve from 589.10913\n",
            "18/18 [==============================] - 0s 4ms/step - loss: 110.4134 - val_loss: 635.5714\n",
            "Epoch 72/100\n",
            " 1/18 [>.............................] - ETA: 0s - loss: 112.0923\n",
            "Epoch 72: val_loss improved from 589.10913 to 585.56567, saving model to models_experiment/model_4_Conv1D\n"
          ]
        },
        {
          "output_type": "stream",
          "name": "stderr",
          "text": [
            "WARNING:absl:Found untraced functions such as _jit_compiled_convolution_op while saving (showing 1 of 1). These functions will not be directly callable after loading.\n"
          ]
        },
        {
          "output_type": "stream",
          "name": "stdout",
          "text": [
            "INFO:tensorflow:Assets written to: models_experiment/model_4_Conv1D/assets\n"
          ]
        },
        {
          "output_type": "stream",
          "name": "stderr",
          "text": [
            "INFO:tensorflow:Assets written to: models_experiment/model_4_Conv1D/assets\n"
          ]
        },
        {
          "output_type": "stream",
          "name": "stdout",
          "text": [
            "\b\b\b\b\b\b\b\b\b\b\b\b\b\b\b\b\b\b\b\b\b\b\b\b\b\b\b\b\b\b\b\b\b\b\b\b\b\b\b\b\b\b\b\b\b\b\b\b\b\b\b\b\b\b\b\b\b\b\b\b\b\b\b\b\b\r18/18 [==============================] - 0s 27ms/step - loss: 109.3909 - val_loss: 585.5657\n",
            "Epoch 73/100\n",
            " 1/18 [>.............................] - ETA: 0s - loss: 95.7672\n",
            "Epoch 73: val_loss did not improve from 585.56567\n",
            "18/18 [==============================] - 0s 4ms/step - loss: 109.9402 - val_loss: 586.8409\n",
            "Epoch 74/100\n",
            " 1/18 [>.............................] - ETA: 0s - loss: 114.2984\n",
            "Epoch 74: val_loss did not improve from 585.56567\n",
            "18/18 [==============================] - 0s 4ms/step - loss: 109.8165 - val_loss: 588.4190\n",
            "Epoch 75/100\n",
            " 1/18 [>.............................] - ETA: 0s - loss: 112.0063\n",
            "Epoch 75: val_loss did not improve from 585.56567\n",
            "18/18 [==============================] - 0s 4ms/step - loss: 110.1229 - val_loss: 593.4402\n",
            "Epoch 76/100\n",
            " 1/18 [>.............................] - ETA: 0s - loss: 166.9523\n",
            "Epoch 76: val_loss did not improve from 585.56567\n",
            "18/18 [==============================] - 0s 5ms/step - loss: 108.5864 - val_loss: 616.3694\n",
            "Epoch 77/100\n",
            " 1/18 [>.............................] - ETA: 0s - loss: 134.4806\n",
            "Epoch 77: val_loss did not improve from 585.56567\n",
            "18/18 [==============================] - 0s 5ms/step - loss: 109.7424 - val_loss: 601.4022\n",
            "Epoch 78/100\n",
            " 1/18 [>.............................] - ETA: 0s - loss: 115.5377\n",
            "Epoch 78: val_loss improved from 585.56567 to 582.80273, saving model to models_experiment/model_4_Conv1D\n"
          ]
        },
        {
          "output_type": "stream",
          "name": "stderr",
          "text": [
            "WARNING:absl:Found untraced functions such as _jit_compiled_convolution_op while saving (showing 1 of 1). These functions will not be directly callable after loading.\n"
          ]
        },
        {
          "output_type": "stream",
          "name": "stdout",
          "text": [
            "INFO:tensorflow:Assets written to: models_experiment/model_4_Conv1D/assets\n"
          ]
        },
        {
          "output_type": "stream",
          "name": "stderr",
          "text": [
            "INFO:tensorflow:Assets written to: models_experiment/model_4_Conv1D/assets\n"
          ]
        },
        {
          "output_type": "stream",
          "name": "stdout",
          "text": [
            "\b\b\b\b\b\b\b\b\b\b\b\b\b\b\b\b\b\b\b\b\b\b\b\b\b\b\b\b\b\b\b\b\b\b\b\b\b\b\b\b\b\b\b\b\b\b\b\b\b\b\b\b\b\b\b\b\b\b\b\b\b\b\b\b\b\r18/18 [==============================] - 1s 40ms/step - loss: 109.6845 - val_loss: 582.8027\n",
            "Epoch 79/100\n",
            " 1/18 [>.............................] - ETA: 0s - loss: 127.5169\n",
            "Epoch 79: val_loss improved from 582.80273 to 581.69592, saving model to models_experiment/model_4_Conv1D\n"
          ]
        },
        {
          "output_type": "stream",
          "name": "stderr",
          "text": [
            "WARNING:absl:Found untraced functions such as _jit_compiled_convolution_op while saving (showing 1 of 1). These functions will not be directly callable after loading.\n"
          ]
        },
        {
          "output_type": "stream",
          "name": "stdout",
          "text": [
            "INFO:tensorflow:Assets written to: models_experiment/model_4_Conv1D/assets\n"
          ]
        },
        {
          "output_type": "stream",
          "name": "stderr",
          "text": [
            "INFO:tensorflow:Assets written to: models_experiment/model_4_Conv1D/assets\n"
          ]
        },
        {
          "output_type": "stream",
          "name": "stdout",
          "text": [
            "\b\b\b\b\b\b\b\b\b\b\b\b\b\b\b\b\b\b\b\b\b\b\b\b\b\b\b\b\b\b\b\b\b\b\b\b\b\b\b\b\b\b\b\b\b\b\b\b\b\b\b\b\b\b\b\b\b\b\b\b\b\b\b\b\b\r18/18 [==============================] - 1s 40ms/step - loss: 107.9298 - val_loss: 581.6959\n",
            "Epoch 80/100\n",
            "18/18 [==============================] - ETA: 0s - loss: 108.4151\n",
            "Epoch 80: val_loss did not improve from 581.69592\n",
            "18/18 [==============================] - 0s 5ms/step - loss: 108.4151 - val_loss: 597.1688\n",
            "Epoch 81/100\n",
            "18/18 [==============================] - ETA: 0s - loss: 108.4820\n",
            "Epoch 81: val_loss did not improve from 581.69592\n",
            "18/18 [==============================] - 0s 5ms/step - loss: 108.4820 - val_loss: 610.8722\n",
            "Epoch 82/100\n",
            " 1/18 [>.............................] - ETA: 0s - loss: 108.8604\n",
            "Epoch 82: val_loss did not improve from 581.69592\n",
            "18/18 [==============================] - 0s 4ms/step - loss: 111.0765 - val_loss: 592.8994\n",
            "Epoch 83/100\n",
            " 1/18 [>.............................] - ETA: 0s - loss: 132.5730\n",
            "Epoch 83: val_loss did not improve from 581.69592\n",
            "18/18 [==============================] - 0s 4ms/step - loss: 111.3818 - val_loss: 618.2853\n",
            "Epoch 84/100\n",
            " 1/18 [>.............................] - ETA: 0s - loss: 111.5625\n",
            "Epoch 84: val_loss did not improve from 581.69592\n",
            "18/18 [==============================] - 0s 5ms/step - loss: 115.2083 - val_loss: 627.7437\n",
            "Epoch 85/100\n",
            "18/18 [==============================] - ETA: 0s - loss: 111.9614\n",
            "Epoch 85: val_loss improved from 581.69592 to 579.49347, saving model to models_experiment/model_4_Conv1D\n"
          ]
        },
        {
          "output_type": "stream",
          "name": "stderr",
          "text": [
            "WARNING:absl:Found untraced functions such as _jit_compiled_convolution_op while saving (showing 1 of 1). These functions will not be directly callable after loading.\n"
          ]
        },
        {
          "output_type": "stream",
          "name": "stdout",
          "text": [
            "INFO:tensorflow:Assets written to: models_experiment/model_4_Conv1D/assets\n"
          ]
        },
        {
          "output_type": "stream",
          "name": "stderr",
          "text": [
            "INFO:tensorflow:Assets written to: models_experiment/model_4_Conv1D/assets\n"
          ]
        },
        {
          "output_type": "stream",
          "name": "stdout",
          "text": [
            "\b\b\b\b\b\b\b\b\b\b\b\b\b\b\b\b\b\b\b\b\b\b\b\b\b\b\b\b\b\b\b\b\b\b\b\b\b\b\b\b\b\b\b\b\b\b\b\b\b\b\b\b\b\b\b\b\b\b\b\b\b\b\b\b\b\r18/18 [==============================] - 0s 28ms/step - loss: 111.9614 - val_loss: 579.4935\n",
            "Epoch 86/100\n",
            " 1/18 [>.............................] - ETA: 0s - loss: 52.0208\n",
            "Epoch 86: val_loss did not improve from 579.49347\n",
            "18/18 [==============================] - 0s 4ms/step - loss: 107.9816 - val_loss: 597.5715\n",
            "Epoch 87/100\n",
            " 1/18 [>.............................] - ETA: 0s - loss: 123.5256\n",
            "Epoch 87: val_loss did not improve from 579.49347\n",
            "18/18 [==============================] - 0s 5ms/step - loss: 109.2259 - val_loss: 607.2458\n",
            "Epoch 88/100\n",
            "18/18 [==============================] - ETA: 0s - loss: 107.1729\n",
            "Epoch 88: val_loss did not improve from 579.49347\n",
            "18/18 [==============================] - 0s 5ms/step - loss: 107.1729 - val_loss: 583.1082\n",
            "Epoch 89/100\n",
            " 1/18 [>.............................] - ETA: 0s - loss: 113.7361\n",
            "Epoch 89: val_loss improved from 579.49347 to 575.77948, saving model to models_experiment/model_4_Conv1D\n"
          ]
        },
        {
          "output_type": "stream",
          "name": "stderr",
          "text": [
            "WARNING:absl:Found untraced functions such as _jit_compiled_convolution_op while saving (showing 1 of 1). These functions will not be directly callable after loading.\n"
          ]
        },
        {
          "output_type": "stream",
          "name": "stdout",
          "text": [
            "INFO:tensorflow:Assets written to: models_experiment/model_4_Conv1D/assets\n"
          ]
        },
        {
          "output_type": "stream",
          "name": "stderr",
          "text": [
            "INFO:tensorflow:Assets written to: models_experiment/model_4_Conv1D/assets\n"
          ]
        },
        {
          "output_type": "stream",
          "name": "stdout",
          "text": [
            "\b\b\b\b\b\b\b\b\b\b\b\b\b\b\b\b\b\b\b\b\b\b\b\b\b\b\b\b\b\b\b\b\b\b\b\b\b\b\b\b\b\b\b\b\b\b\b\b\b\b\b\b\b\b\b\b\b\b\b\b\b\b\b\b\b\r18/18 [==============================] - 0s 25ms/step - loss: 108.6239 - val_loss: 575.7795\n",
            "Epoch 90/100\n",
            " 1/18 [>.............................] - ETA: 0s - loss: 75.6632\n",
            "Epoch 90: val_loss did not improve from 575.77948\n",
            "18/18 [==============================] - 0s 4ms/step - loss: 107.4291 - val_loss: 627.1108\n",
            "Epoch 91/100\n",
            " 1/18 [>.............................] - ETA: 0s - loss: 106.6921\n",
            "Epoch 91: val_loss improved from 575.77948 to 574.90649, saving model to models_experiment/model_4_Conv1D\n"
          ]
        },
        {
          "output_type": "stream",
          "name": "stderr",
          "text": [
            "WARNING:absl:Found untraced functions such as _jit_compiled_convolution_op while saving (showing 1 of 1). These functions will not be directly callable after loading.\n"
          ]
        },
        {
          "output_type": "stream",
          "name": "stdout",
          "text": [
            "INFO:tensorflow:Assets written to: models_experiment/model_4_Conv1D/assets\n"
          ]
        },
        {
          "output_type": "stream",
          "name": "stderr",
          "text": [
            "INFO:tensorflow:Assets written to: models_experiment/model_4_Conv1D/assets\n"
          ]
        },
        {
          "output_type": "stream",
          "name": "stdout",
          "text": [
            "\b\b\b\b\b\b\b\b\b\b\b\b\b\b\b\b\b\b\b\b\b\b\b\b\b\b\b\b\b\b\b\b\b\b\b\b\b\b\b\b\b\b\b\b\b\b\b\b\b\b\b\b\b\b\b\b\b\b\b\b\b\b\b\b\b\r18/18 [==============================] - 1s 41ms/step - loss: 114.2810 - val_loss: 574.9065\n",
            "Epoch 92/100\n",
            " 1/18 [>.............................] - ETA: 0s - loss: 108.2595\n",
            "Epoch 92: val_loss did not improve from 574.90649\n",
            "18/18 [==============================] - 0s 4ms/step - loss: 107.7197 - val_loss: 593.2796\n",
            "Epoch 93/100\n",
            " 1/18 [>.............................] - ETA: 0s - loss: 132.6171\n",
            "Epoch 93: val_loss did not improve from 574.90649\n",
            "18/18 [==============================] - 0s 4ms/step - loss: 111.7601 - val_loss: 589.0468\n",
            "Epoch 94/100\n",
            " 1/18 [>.............................] - ETA: 0s - loss: 105.5110\n",
            "Epoch 94: val_loss did not improve from 574.90649\n",
            "18/18 [==============================] - 0s 4ms/step - loss: 107.2201 - val_loss: 623.6689\n",
            "Epoch 95/100\n",
            " 1/18 [>.............................] - ETA: 0s - loss: 105.3825\n",
            "Epoch 95: val_loss did not improve from 574.90649\n",
            "18/18 [==============================] - 0s 4ms/step - loss: 116.6669 - val_loss: 600.0515\n",
            "Epoch 96/100\n",
            "18/18 [==============================] - ETA: 0s - loss: 110.3379\n",
            "Epoch 96: val_loss did not improve from 574.90649\n",
            "18/18 [==============================] - 0s 5ms/step - loss: 110.3379 - val_loss: 593.7447\n",
            "Epoch 97/100\n",
            " 1/18 [>.............................] - ETA: 0s - loss: 90.1988\n",
            "Epoch 97: val_loss did not improve from 574.90649\n",
            "18/18 [==============================] - 0s 5ms/step - loss: 110.6717 - val_loss: 595.8590\n",
            "Epoch 98/100\n",
            " 1/18 [>.............................] - ETA: 0s - loss: 119.9873\n",
            "Epoch 98: val_loss did not improve from 574.90649\n",
            "18/18 [==============================] - 0s 5ms/step - loss: 108.0471 - val_loss: 579.7393\n",
            "Epoch 99/100\n",
            " 1/18 [>.............................] - ETA: 0s - loss: 94.3907\n",
            "Epoch 99: val_loss did not improve from 574.90649\n",
            "18/18 [==============================] - 0s 5ms/step - loss: 108.1745 - val_loss: 581.1733\n",
            "Epoch 100/100\n",
            " 1/18 [>.............................] - ETA: 0s - loss: 114.1544\n",
            "Epoch 100: val_loss did not improve from 574.90649\n",
            "18/18 [==============================] - 0s 5ms/step - loss: 107.5392 - val_loss: 586.1705\n"
          ]
        },
        {
          "output_type": "error",
          "ename": "OSError",
          "evalue": "ignored",
          "traceback": [
            "\u001b[0;31m---------------------------------------------------------------------------\u001b[0m",
            "\u001b[0;31mOSError\u001b[0m                                   Traceback (most recent call last)",
            "Cell \u001b[0;32mIn[44], line 19\u001b[0m\n\u001b[1;32m      9\u001b[0m model_4\u001b[38;5;241m.\u001b[39mcompile(loss\u001b[38;5;241m=\u001b[39mtf\u001b[38;5;241m.\u001b[39mkeras\u001b[38;5;241m.\u001b[39mlosses\u001b[38;5;241m.\u001b[39mmae,\n\u001b[1;32m     10\u001b[0m                 optimizer\u001b[38;5;241m=\u001b[39mtf\u001b[38;5;241m.\u001b[39mkeras\u001b[38;5;241m.\u001b[39moptimizers\u001b[38;5;241m.\u001b[39mAdam())\n\u001b[1;32m     12\u001b[0m model_4_history \u001b[38;5;241m=\u001b[39m model_4\u001b[38;5;241m.\u001b[39mfit(x_train,\n\u001b[1;32m     13\u001b[0m                               y_train,\n\u001b[1;32m     14\u001b[0m                               batch_size\u001b[38;5;241m=\u001b[39m\u001b[38;5;241m128\u001b[39m,\n\u001b[1;32m     15\u001b[0m                               epochs\u001b[38;5;241m=\u001b[39m\u001b[38;5;241m100\u001b[39m,\n\u001b[1;32m     16\u001b[0m                               validation_data\u001b[38;5;241m=\u001b[39m(x_test, y_test),\n\u001b[1;32m     17\u001b[0m                               callbacks\u001b[38;5;241m=\u001b[39m[create_model_checkpoint(model_4\u001b[38;5;241m.\u001b[39mname)])\n\u001b[0;32m---> 19\u001b[0m model_4 \u001b[38;5;241m=\u001b[39m \u001b[43mtf\u001b[49m\u001b[38;5;241;43m.\u001b[39;49m\u001b[43mkeras\u001b[49m\u001b[38;5;241;43m.\u001b[39;49m\u001b[43mmodels\u001b[49m\u001b[38;5;241;43m.\u001b[39;49m\u001b[43mload_model\u001b[49m\u001b[43m(\u001b[49m\u001b[38;5;124;43m\"\u001b[39;49m\u001b[38;5;124;43m/content/models_experiment/model_4_Conv1D\u001b[39;49m\u001b[38;5;124;43m\"\u001b[39;49m\u001b[43m)\u001b[49m\n\u001b[1;32m     21\u001b[0m \u001b[38;5;66;03m# model_4, model_4_history, model_4_results = run_model_experiment(model_4, train_ds, test_ds, n_epochs=100, set_verbose=1)\u001b[39;00m\n",
            "File \u001b[0;32m~/miniconda3/lib/python3.9/site-packages/keras/utils/traceback_utils.py:70\u001b[0m, in \u001b[0;36mfilter_traceback.<locals>.error_handler\u001b[0;34m(*args, **kwargs)\u001b[0m\n\u001b[1;32m     67\u001b[0m     filtered_tb \u001b[38;5;241m=\u001b[39m _process_traceback_frames(e\u001b[38;5;241m.\u001b[39m__traceback__)\n\u001b[1;32m     68\u001b[0m     \u001b[38;5;66;03m# To get the full stack trace, call:\u001b[39;00m\n\u001b[1;32m     69\u001b[0m     \u001b[38;5;66;03m# `tf.debugging.disable_traceback_filtering()`\u001b[39;00m\n\u001b[0;32m---> 70\u001b[0m     \u001b[38;5;28;01mraise\u001b[39;00m e\u001b[38;5;241m.\u001b[39mwith_traceback(filtered_tb) \u001b[38;5;28;01mfrom\u001b[39;00m \u001b[38;5;28mNone\u001b[39m\n\u001b[1;32m     71\u001b[0m \u001b[38;5;28;01mfinally\u001b[39;00m:\n\u001b[1;32m     72\u001b[0m     \u001b[38;5;28;01mdel\u001b[39;00m filtered_tb\n",
            "File \u001b[0;32m~/miniconda3/lib/python3.9/site-packages/keras/saving/save.py:226\u001b[0m, in \u001b[0;36mload_model\u001b[0;34m(filepath, custom_objects, compile, options)\u001b[0m\n\u001b[1;32m    224\u001b[0m \u001b[38;5;28;01mif\u001b[39;00m \u001b[38;5;28misinstance\u001b[39m(filepath_str, \u001b[38;5;28mstr\u001b[39m):\n\u001b[1;32m    225\u001b[0m     \u001b[38;5;28;01mif\u001b[39;00m \u001b[38;5;129;01mnot\u001b[39;00m tf\u001b[38;5;241m.\u001b[39mio\u001b[38;5;241m.\u001b[39mgfile\u001b[38;5;241m.\u001b[39mexists(filepath_str):\n\u001b[0;32m--> 226\u001b[0m         \u001b[38;5;28;01mraise\u001b[39;00m \u001b[38;5;167;01mIOError\u001b[39;00m(\n\u001b[1;32m    227\u001b[0m             \u001b[38;5;124mf\u001b[39m\u001b[38;5;124m\"\u001b[39m\u001b[38;5;124mNo file or directory found at \u001b[39m\u001b[38;5;132;01m{\u001b[39;00mfilepath_str\u001b[38;5;132;01m}\u001b[39;00m\u001b[38;5;124m\"\u001b[39m\n\u001b[1;32m    228\u001b[0m         )\n\u001b[1;32m    230\u001b[0m     \u001b[38;5;28;01mif\u001b[39;00m tf\u001b[38;5;241m.\u001b[39mio\u001b[38;5;241m.\u001b[39mgfile\u001b[38;5;241m.\u001b[39misdir(filepath_str):\n\u001b[1;32m    231\u001b[0m         \u001b[38;5;28;01mreturn\u001b[39;00m saved_model_load\u001b[38;5;241m.\u001b[39mload(\n\u001b[1;32m    232\u001b[0m             filepath_str, \u001b[38;5;28mcompile\u001b[39m, options\n\u001b[1;32m    233\u001b[0m         )\n",
            "\u001b[0;31mOSError\u001b[0m: No file or directory found at /content/models_experiment/model_4_Conv1D"
          ]
        }
      ]
    },
    {
      "cell_type": "code",
      "source": [
        "model_4.summary()"
      ],
      "metadata": {
        "id": "r8vP33l4Ur_V"
      },
      "execution_count": null,
      "outputs": []
    },
    {
      "cell_type": "code",
      "source": [
        "model_4.evaluate(x_test, y_test)"
      ],
      "metadata": {
        "id": "Yf0w2ijbSWt8"
      },
      "execution_count": null,
      "outputs": []
    },
    {
      "cell_type": "code",
      "source": [
        "model_4_preds = tf.squeeze(model_4.predict(x_test))\n",
        "\n",
        "model_4_preds.shape, model_4_preds[:5]"
      ],
      "metadata": {
        "id": "e0RouSYWUIYt"
      },
      "execution_count": null,
      "outputs": []
    },
    {
      "cell_type": "code",
      "source": [
        "model_4_results = regression_evaluation(tf.squeeze(y_test), model_4_preds)\n",
        "\n",
        "model_4_results"
      ],
      "metadata": {
        "id": "NgzDgJ9SWdUv"
      },
      "execution_count": null,
      "outputs": []
    },
    {
      "cell_type": "markdown",
      "source": [
        "### Model 5: LSTM (W=7,H=1)"
      ],
      "metadata": {
        "id": "C2TFGNn1l7cA"
      }
    },
    {
      "cell_type": "code",
      "source": [
        "# Build the Model(the data is same as before)\n",
        "\n",
        "from tensorflow.keras import layers\n",
        "\n",
        "inputs = layers.Input(shape=WINDOW_SIZE)\n",
        "\n",
        "x = layers.Lambda(lambda x: tf.expand_dims(x, axis=1))(inputs)\n",
        "x = layers.LSTM(128, activation=\"relu\")(x)\n",
        "\n",
        "output = layers.Dense(HORIZON)(x)\n",
        "\n",
        "model_5 = tf.keras.Model(inputs, output, name=\"model_5_LSTM\")\n",
        "\n",
        "model_5.compile(loss=\"mae\",\n",
        "                optimizer=\"Adam\")\n",
        "\n",
        "model_5_history = model_5.fit(x_train,\n",
        "                              y_train,\n",
        "                              epochs=100,\n",
        "                              batch_size=128,\n",
        "                              validation_data=(x_test, y_test),\n",
        "                              callbacks=[create_model_checkpoint(model_5.name)])\n",
        "\n",
        "model_5 = tf.keras.models.load_model(\"/content/models_experiment/model_5_LSTM\")\n"
      ],
      "metadata": {
        "colab": {
          "base_uri": "https://localhost:8080/"
        },
        "id": "4tTnwSyIl_90",
        "outputId": "48329a4c-b538-4550-9b37-e7f115eacbff"
      },
      "execution_count": null,
      "outputs": [
        {
          "output_type": "stream",
          "name": "stdout",
          "text": [
            "Epoch 1/100\n",
            "10/18 [===============>..............] - ETA: 0s - loss: 2706.8340 \n",
            "Epoch 1: val_loss improved from inf to 8065.33643, saving model to models_experiment/model_5_LSTM\n",
            "18/18 [==============================] - 3s 129ms/step - loss: 2382.5754 - val_loss: 8065.3364\n",
            "Epoch 2/100\n",
            "10/18 [===============>..............] - ETA: 0s - loss: 533.3405 \n",
            "Epoch 2: val_loss improved from 8065.33643 to 1242.04065, saving model to models_experiment/model_5_LSTM\n",
            "18/18 [==============================] - 2s 117ms/step - loss: 435.8410 - val_loss: 1242.0406\n",
            "Epoch 3/100\n",
            "11/18 [=================>............] - ETA: 0s - loss: 182.3826\n",
            "Epoch 3: val_loss improved from 1242.04065 to 1016.05438, saving model to models_experiment/model_5_LSTM\n",
            "18/18 [==============================] - 2s 140ms/step - loss: 189.2068 - val_loss: 1016.0544\n",
            "Epoch 4/100\n",
            "11/18 [=================>............] - ETA: 0s - loss: 189.1058\n",
            "Epoch 4: val_loss improved from 1016.05438 to 1007.63196, saving model to models_experiment/model_5_LSTM\n",
            "18/18 [==============================] - 2s 118ms/step - loss: 189.8152 - val_loss: 1007.6320\n",
            "Epoch 5/100\n",
            "11/18 [=================>............] - ETA: 0s - loss: 173.7329\n",
            "Epoch 5: val_loss improved from 1007.63196 to 995.30786, saving model to models_experiment/model_5_LSTM\n",
            "18/18 [==============================] - 2s 112ms/step - loss: 178.0254 - val_loss: 995.3079\n",
            "Epoch 6/100\n",
            "11/18 [=================>............] - ETA: 0s - loss: 176.2149\n",
            "Epoch 6: val_loss did not improve from 995.30786\n",
            "18/18 [==============================] - 0s 7ms/step - loss: 174.7326 - val_loss: 1063.6774\n",
            "Epoch 7/100\n",
            "10/18 [===============>..............] - ETA: 0s - loss: 171.5948\n",
            "Epoch 7: val_loss improved from 995.30786 to 993.80646, saving model to models_experiment/model_5_LSTM\n",
            "18/18 [==============================] - 2s 116ms/step - loss: 173.0563 - val_loss: 993.8065\n",
            "Epoch 8/100\n",
            "11/18 [=================>............] - ETA: 0s - loss: 165.8243\n",
            "Epoch 8: val_loss improved from 993.80646 to 972.45819, saving model to models_experiment/model_5_LSTM\n",
            "18/18 [==============================] - 2s 114ms/step - loss: 172.1486 - val_loss: 972.4582\n",
            "Epoch 9/100\n",
            "18/18 [==============================] - ETA: 0s - loss: 168.6866\n",
            "Epoch 9: val_loss did not improve from 972.45819\n",
            "18/18 [==============================] - 0s 9ms/step - loss: 168.6866 - val_loss: 995.5165\n",
            "Epoch 10/100\n",
            "10/18 [===============>..............] - ETA: 0s - loss: 172.0797\n",
            "Epoch 10: val_loss improved from 972.45819 to 952.71698, saving model to models_experiment/model_5_LSTM\n",
            "18/18 [==============================] - 2s 143ms/step - loss: 170.3700 - val_loss: 952.7170\n",
            "Epoch 11/100\n",
            "10/18 [===============>..............] - ETA: 0s - loss: 181.8448\n",
            "Epoch 11: val_loss improved from 952.71698 to 923.78168, saving model to models_experiment/model_5_LSTM\n",
            "18/18 [==============================] - 2s 115ms/step - loss: 165.6900 - val_loss: 923.7817\n",
            "Epoch 12/100\n",
            "17/18 [===========================>..] - ETA: 0s - loss: 162.0483\n",
            "Epoch 12: val_loss improved from 923.78168 to 905.27417, saving model to models_experiment/model_5_LSTM\n",
            "18/18 [==============================] - 2s 117ms/step - loss: 162.0815 - val_loss: 905.2742\n",
            "Epoch 13/100\n",
            "11/18 [=================>............] - ETA: 0s - loss: 168.2855\n",
            "Epoch 13: val_loss did not improve from 905.27417\n",
            "18/18 [==============================] - 0s 7ms/step - loss: 161.5578 - val_loss: 908.3585\n",
            "Epoch 14/100\n",
            "11/18 [=================>............] - ETA: 0s - loss: 153.6291\n",
            "Epoch 14: val_loss improved from 905.27417 to 878.50543, saving model to models_experiment/model_5_LSTM\n",
            "18/18 [==============================] - 2s 114ms/step - loss: 157.8330 - val_loss: 878.5054\n",
            "Epoch 15/100\n",
            "11/18 [=================>............] - ETA: 0s - loss: 150.8413\n",
            "Epoch 15: val_loss did not improve from 878.50543\n",
            "18/18 [==============================] - 0s 8ms/step - loss: 156.7486 - val_loss: 906.3072\n",
            "Epoch 16/100\n",
            "10/18 [===============>..............] - ETA: 0s - loss: 156.6055\n",
            "Epoch 16: val_loss improved from 878.50543 to 853.97302, saving model to models_experiment/model_5_LSTM\n",
            "18/18 [==============================] - 2s 137ms/step - loss: 153.2631 - val_loss: 853.9730\n",
            "Epoch 17/100\n",
            "18/18 [==============================] - ETA: 0s - loss: 151.3806\n",
            "Epoch 17: val_loss improved from 853.97302 to 851.97217, saving model to models_experiment/model_5_LSTM\n",
            "18/18 [==============================] - 2s 116ms/step - loss: 151.3806 - val_loss: 851.9722\n",
            "Epoch 18/100\n",
            "11/18 [=================>............] - ETA: 0s - loss: 140.0631\n",
            "Epoch 18: val_loss did not improve from 851.97217\n",
            "18/18 [==============================] - 0s 8ms/step - loss: 148.2234 - val_loss: 871.9802\n",
            "Epoch 19/100\n",
            "11/18 [=================>............] - ETA: 0s - loss: 149.9511\n",
            "Epoch 19: val_loss improved from 851.97217 to 815.02417, saving model to models_experiment/model_5_LSTM\n",
            "18/18 [==============================] - 3s 154ms/step - loss: 146.6190 - val_loss: 815.0242\n",
            "Epoch 20/100\n",
            "10/18 [===============>..............] - ETA: 0s - loss: 135.7710\n",
            "Epoch 20: val_loss improved from 815.02417 to 797.05170, saving model to models_experiment/model_5_LSTM\n",
            "18/18 [==============================] - 2s 114ms/step - loss: 145.5309 - val_loss: 797.0517\n",
            "Epoch 21/100\n",
            "10/18 [===============>..............] - ETA: 0s - loss: 138.6570\n",
            "Epoch 21: val_loss improved from 797.05170 to 786.16193, saving model to models_experiment/model_5_LSTM\n",
            "18/18 [==============================] - 2s 113ms/step - loss: 144.2500 - val_loss: 786.1619\n",
            "Epoch 22/100\n",
            "11/18 [=================>............] - ETA: 0s - loss: 142.2992\n",
            "Epoch 22: val_loss did not improve from 786.16193\n",
            "18/18 [==============================] - 0s 8ms/step - loss: 142.5018 - val_loss: 844.9120\n",
            "Epoch 23/100\n",
            "10/18 [===============>..............] - ETA: 0s - loss: 148.9866\n",
            "Epoch 23: val_loss improved from 786.16193 to 774.58569, saving model to models_experiment/model_5_LSTM\n",
            "18/18 [==============================] - 2s 143ms/step - loss: 139.6383 - val_loss: 774.5857\n",
            "Epoch 24/100\n",
            "11/18 [=================>............] - ETA: 0s - loss: 138.6488\n",
            "Epoch 24: val_loss did not improve from 774.58569\n",
            "18/18 [==============================] - 0s 8ms/step - loss: 137.1864 - val_loss: 815.2609\n",
            "Epoch 25/100\n",
            "11/18 [=================>............] - ETA: 0s - loss: 138.5235\n",
            "Epoch 25: val_loss improved from 774.58569 to 753.44647, saving model to models_experiment/model_5_LSTM\n",
            "18/18 [==============================] - 2s 119ms/step - loss: 138.6272 - val_loss: 753.4465\n",
            "Epoch 26/100\n",
            "17/18 [===========================>..] - ETA: 0s - loss: 132.9325\n",
            "Epoch 26: val_loss did not improve from 753.44647\n",
            "18/18 [==============================] - 0s 8ms/step - loss: 134.5478 - val_loss: 791.8340\n",
            "Epoch 27/100\n",
            "10/18 [===============>..............] - ETA: 0s - loss: 138.4460\n",
            "Epoch 27: val_loss did not improve from 753.44647\n",
            "18/18 [==============================] - 0s 9ms/step - loss: 136.8350 - val_loss: 786.3340\n",
            "Epoch 28/100\n",
            "17/18 [===========================>..] - ETA: 0s - loss: 134.3981\n",
            "Epoch 28: val_loss improved from 753.44647 to 721.47821, saving model to models_experiment/model_5_LSTM\n",
            "18/18 [==============================] - 2s 117ms/step - loss: 133.8554 - val_loss: 721.4782\n",
            "Epoch 29/100\n",
            "11/18 [=================>............] - ETA: 0s - loss: 138.7175\n",
            "Epoch 29: val_loss did not improve from 721.47821\n",
            "18/18 [==============================] - 0s 8ms/step - loss: 130.0722 - val_loss: 743.9648\n",
            "Epoch 30/100\n",
            "18/18 [==============================] - ETA: 0s - loss: 130.4940\n",
            "Epoch 30: val_loss did not improve from 721.47821\n",
            "18/18 [==============================] - 0s 9ms/step - loss: 130.4940 - val_loss: 742.2753\n",
            "Epoch 31/100\n",
            "18/18 [==============================] - ETA: 0s - loss: 127.8906\n",
            "Epoch 31: val_loss improved from 721.47821 to 700.99225, saving model to models_experiment/model_5_LSTM\n",
            "18/18 [==============================] - 2s 116ms/step - loss: 127.8906 - val_loss: 700.9922\n",
            "Epoch 32/100\n",
            "10/18 [===============>..............] - ETA: 0s - loss: 131.9692\n",
            "Epoch 32: val_loss did not improve from 700.99225\n",
            "18/18 [==============================] - 0s 8ms/step - loss: 128.2413 - val_loss: 711.3319\n",
            "Epoch 33/100\n",
            "10/18 [===============>..............] - ETA: 0s - loss: 133.7535\n",
            "Epoch 33: val_loss improved from 700.99225 to 686.42535, saving model to models_experiment/model_5_LSTM\n",
            "18/18 [==============================] - 2s 115ms/step - loss: 131.5256 - val_loss: 686.4254\n",
            "Epoch 34/100\n",
            "11/18 [=================>............] - ETA: 0s - loss: 131.2715\n",
            "Epoch 34: val_loss did not improve from 686.42535\n",
            "18/18 [==============================] - 0s 8ms/step - loss: 128.0983 - val_loss: 714.5698\n",
            "Epoch 35/100\n",
            "11/18 [=================>............] - ETA: 0s - loss: 120.9667\n",
            "Epoch 35: val_loss did not improve from 686.42535\n",
            "18/18 [==============================] - 0s 8ms/step - loss: 123.1231 - val_loss: 712.6719\n",
            "Epoch 36/100\n",
            "10/18 [===============>..............] - ETA: 0s - loss: 127.7550\n",
            "Epoch 36: val_loss improved from 686.42535 to 672.83588, saving model to models_experiment/model_5_LSTM\n",
            "18/18 [==============================] - 2s 144ms/step - loss: 125.6249 - val_loss: 672.8359\n",
            "Epoch 37/100\n",
            "10/18 [===============>..............] - ETA: 0s - loss: 125.7569\n",
            "Epoch 37: val_loss did not improve from 672.83588\n",
            "18/18 [==============================] - 0s 8ms/step - loss: 121.0999 - val_loss: 683.8895\n",
            "Epoch 38/100\n",
            "11/18 [=================>............] - ETA: 0s - loss: 122.3113\n",
            "Epoch 38: val_loss did not improve from 672.83588\n",
            "18/18 [==============================] - 0s 7ms/step - loss: 123.2075 - val_loss: 679.6583\n",
            "Epoch 39/100\n",
            "10/18 [===============>..............] - ETA: 0s - loss: 123.0682\n",
            "Epoch 39: val_loss did not improve from 672.83588\n",
            "18/18 [==============================] - 0s 8ms/step - loss: 119.9190 - val_loss: 677.3538\n",
            "Epoch 40/100\n",
            "18/18 [==============================] - ETA: 0s - loss: 120.7725\n",
            "Epoch 40: val_loss improved from 672.83588 to 654.00177, saving model to models_experiment/model_5_LSTM\n",
            "18/18 [==============================] - 2s 116ms/step - loss: 120.7725 - val_loss: 654.0018\n",
            "Epoch 41/100\n",
            "11/18 [=================>............] - ETA: 0s - loss: 125.5179\n",
            "Epoch 41: val_loss improved from 654.00177 to 643.06427, saving model to models_experiment/model_5_LSTM\n",
            "18/18 [==============================] - 2s 115ms/step - loss: 120.3601 - val_loss: 643.0643\n",
            "Epoch 42/100\n",
            "10/18 [===============>..............] - ETA: 0s - loss: 121.2126\n",
            "Epoch 42: val_loss did not improve from 643.06427\n",
            "18/18 [==============================] - 0s 8ms/step - loss: 121.3504 - val_loss: 719.1983\n",
            "Epoch 43/100\n",
            "10/18 [===============>..............] - ETA: 0s - loss: 122.2354\n",
            "Epoch 43: val_loss improved from 643.06427 to 635.25189, saving model to models_experiment/model_5_LSTM\n",
            "18/18 [==============================] - 3s 184ms/step - loss: 120.6257 - val_loss: 635.2519\n",
            "Epoch 44/100\n",
            "10/18 [===============>..............] - ETA: 0s - loss: 116.9918\n",
            "Epoch 44: val_loss did not improve from 635.25189\n",
            "18/18 [==============================] - 0s 7ms/step - loss: 117.6867 - val_loss: 644.8627\n",
            "Epoch 45/100\n",
            "10/18 [===============>..............] - ETA: 0s - loss: 118.0512\n",
            "Epoch 45: val_loss did not improve from 635.25189\n",
            "18/18 [==============================] - 0s 8ms/step - loss: 118.7118 - val_loss: 646.8195\n",
            "Epoch 46/100\n",
            "16/18 [=========================>....] - ETA: 0s - loss: 116.9493\n",
            "Epoch 46: val_loss did not improve from 635.25189\n",
            "18/18 [==============================] - 0s 9ms/step - loss: 116.7462 - val_loss: 696.0667\n",
            "Epoch 47/100\n",
            "10/18 [===============>..............] - ETA: 0s - loss: 134.1149\n",
            "Epoch 47: val_loss improved from 635.25189 to 625.33252, saving model to models_experiment/model_5_LSTM\n",
            "18/18 [==============================] - 2s 116ms/step - loss: 132.4150 - val_loss: 625.3325\n",
            "Epoch 48/100\n",
            "16/18 [=========================>....] - ETA: 0s - loss: 119.1918\n",
            "Epoch 48: val_loss did not improve from 625.33252\n",
            "18/18 [==============================] - 0s 9ms/step - loss: 119.3947 - val_loss: 679.9631\n",
            "Epoch 49/100\n",
            "10/18 [===============>..............] - ETA: 0s - loss: 111.9545\n",
            "Epoch 49: val_loss improved from 625.33252 to 620.83838, saving model to models_experiment/model_5_LSTM\n",
            "18/18 [==============================] - 2s 142ms/step - loss: 119.9549 - val_loss: 620.8384\n",
            "Epoch 50/100\n",
            "11/18 [=================>............] - ETA: 0s - loss: 112.3226\n",
            "Epoch 50: val_loss did not improve from 620.83838\n",
            "18/18 [==============================] - 0s 8ms/step - loss: 116.6097 - val_loss: 745.9507\n",
            "Epoch 51/100\n",
            "11/18 [=================>............] - ETA: 0s - loss: 132.5146\n",
            "Epoch 51: val_loss improved from 620.83838 to 612.99188, saving model to models_experiment/model_5_LSTM\n",
            "18/18 [==============================] - 2s 113ms/step - loss: 130.3103 - val_loss: 612.9919\n",
            "Epoch 52/100\n",
            "10/18 [===============>..............] - ETA: 0s - loss: 114.1461\n",
            "Epoch 52: val_loss did not improve from 612.99188\n",
            "18/18 [==============================] - 0s 7ms/step - loss: 120.5675 - val_loss: 640.2603\n",
            "Epoch 53/100\n",
            "10/18 [===============>..............] - ETA: 0s - loss: 124.2434\n",
            "Epoch 53: val_loss did not improve from 612.99188\n",
            "18/18 [==============================] - 0s 8ms/step - loss: 118.9177 - val_loss: 640.0059\n",
            "Epoch 54/100\n",
            "17/18 [===========================>..] - ETA: 0s - loss: 115.5699\n",
            "Epoch 54: val_loss improved from 612.99188 to 612.82196, saving model to models_experiment/model_5_LSTM\n",
            "18/18 [==============================] - 2s 115ms/step - loss: 115.0075 - val_loss: 612.8220\n",
            "Epoch 55/100\n",
            "17/18 [===========================>..] - ETA: 0s - loss: 117.1421\n",
            "Epoch 55: val_loss improved from 612.82196 to 604.61591, saving model to models_experiment/model_5_LSTM\n",
            "18/18 [==============================] - 2s 118ms/step - loss: 117.9894 - val_loss: 604.6159\n",
            "Epoch 56/100\n",
            "17/18 [===========================>..] - ETA: 0s - loss: 111.8544\n",
            "Epoch 56: val_loss did not improve from 604.61591\n",
            "18/18 [==============================] - 0s 9ms/step - loss: 112.5935 - val_loss: 608.1105\n",
            "Epoch 57/100\n",
            "18/18 [==============================] - ETA: 0s - loss: 113.3038\n",
            "Epoch 57: val_loss improved from 604.61591 to 601.09515, saving model to models_experiment/model_5_LSTM\n",
            "18/18 [==============================] - 2s 143ms/step - loss: 113.3038 - val_loss: 601.0952\n",
            "Epoch 58/100\n",
            "17/18 [===========================>..] - ETA: 0s - loss: 112.6819\n",
            "Epoch 58: val_loss did not improve from 601.09515\n",
            "18/18 [==============================] - 0s 8ms/step - loss: 113.2469 - val_loss: 609.8862\n",
            "Epoch 59/100\n",
            "18/18 [==============================] - ETA: 0s - loss: 116.0800\n",
            "Epoch 59: val_loss did not improve from 601.09515\n",
            "18/18 [==============================] - 0s 9ms/step - loss: 116.0800 - val_loss: 707.4782\n",
            "Epoch 60/100\n",
            "17/18 [===========================>..] - ETA: 0s - loss: 116.6434\n",
            "Epoch 60: val_loss improved from 601.09515 to 597.41083, saving model to models_experiment/model_5_LSTM\n",
            "18/18 [==============================] - 3s 174ms/step - loss: 117.3960 - val_loss: 597.4108\n",
            "Epoch 61/100\n",
            "17/18 [===========================>..] - ETA: 0s - loss: 112.0227\n",
            "Epoch 61: val_loss did not improve from 597.41083\n",
            "18/18 [==============================] - 0s 21ms/step - loss: 112.2221 - val_loss: 615.5338\n",
            "Epoch 62/100\n",
            "15/18 [========================>.....] - ETA: 0s - loss: 114.7394\n",
            "Epoch 62: val_loss did not improve from 597.41083\n",
            "18/18 [==============================] - 0s 17ms/step - loss: 114.8889 - val_loss: 659.7366\n",
            "Epoch 63/100\n",
            "18/18 [==============================] - ETA: 0s - loss: 118.4606\n",
            "Epoch 63: val_loss did not improve from 597.41083\n",
            "18/18 [==============================] - 0s 16ms/step - loss: 118.4606 - val_loss: 606.6024\n",
            "Epoch 64/100\n",
            "13/18 [====================>.........] - ETA: 0s - loss: 110.3727\n",
            "Epoch 64: val_loss improved from 597.41083 to 596.02710, saving model to models_experiment/model_5_LSTM\n",
            "18/18 [==============================] - 2s 116ms/step - loss: 111.7776 - val_loss: 596.0271\n",
            "Epoch 65/100\n",
            "10/18 [===============>..............] - ETA: 0s - loss: 114.1886\n",
            "Epoch 65: val_loss did not improve from 596.02710\n",
            "18/18 [==============================] - 0s 8ms/step - loss: 111.4725 - val_loss: 598.1858\n",
            "Epoch 66/100\n",
            "10/18 [===============>..............] - ETA: 0s - loss: 111.4818\n",
            "Epoch 66: val_loss improved from 596.02710 to 590.57776, saving model to models_experiment/model_5_LSTM\n",
            "18/18 [==============================] - 2s 132ms/step - loss: 111.1473 - val_loss: 590.5778\n",
            "Epoch 67/100\n",
            "17/18 [===========================>..] - ETA: 0s - loss: 116.0693\n",
            "Epoch 67: val_loss did not improve from 590.57776\n",
            "18/18 [==============================] - 0s 14ms/step - loss: 115.2231 - val_loss: 592.8002\n",
            "Epoch 68/100\n",
            "18/18 [==============================] - ETA: 0s - loss: 110.7847\n",
            "Epoch 68: val_loss did not improve from 590.57776\n",
            "18/18 [==============================] - 0s 12ms/step - loss: 110.7847 - val_loss: 594.7794\n",
            "Epoch 69/100\n",
            "18/18 [==============================] - ETA: 0s - loss: 109.9430\n",
            "Epoch 69: val_loss did not improve from 590.57776\n",
            "18/18 [==============================] - 0s 14ms/step - loss: 109.9430 - val_loss: 607.1515\n",
            "Epoch 70/100\n",
            "18/18 [==============================] - ETA: 0s - loss: 111.3141\n",
            "Epoch 70: val_loss did not improve from 590.57776\n",
            "18/18 [==============================] - 0s 12ms/step - loss: 111.3141 - val_loss: 600.1471\n",
            "Epoch 71/100\n",
            "17/18 [===========================>..] - ETA: 0s - loss: 111.0189\n",
            "Epoch 71: val_loss did not improve from 590.57776\n",
            "18/18 [==============================] - 0s 13ms/step - loss: 110.6936 - val_loss: 598.1516\n",
            "Epoch 72/100\n",
            "17/18 [===========================>..] - ETA: 0s - loss: 110.1039\n",
            "Epoch 72: val_loss improved from 590.57776 to 585.40814, saving model to models_experiment/model_5_LSTM\n",
            "18/18 [==============================] - 2s 132ms/step - loss: 109.5634 - val_loss: 585.4081\n",
            "Epoch 73/100\n",
            "18/18 [==============================] - ETA: 0s - loss: 109.4776\n",
            "Epoch 73: val_loss did not improve from 585.40814\n",
            "18/18 [==============================] - 0s 8ms/step - loss: 109.4776 - val_loss: 595.1580\n",
            "Epoch 74/100\n",
            "10/18 [===============>..............] - ETA: 0s - loss: 109.7778\n",
            "Epoch 74: val_loss did not improve from 585.40814\n",
            "18/18 [==============================] - 0s 8ms/step - loss: 111.3692 - val_loss: 592.9769\n",
            "Epoch 75/100\n",
            "11/18 [=================>............] - ETA: 0s - loss: 116.5036\n",
            "Epoch 75: val_loss did not improve from 585.40814\n",
            "18/18 [==============================] - 0s 7ms/step - loss: 111.2772 - val_loss: 626.1485\n",
            "Epoch 76/100\n",
            "10/18 [===============>..............] - ETA: 0s - loss: 120.9333\n",
            "Epoch 76: val_loss did not improve from 585.40814\n",
            "18/18 [==============================] - 0s 8ms/step - loss: 120.2409 - val_loss: 623.5326\n",
            "Epoch 77/100\n",
            "10/18 [===============>..............] - ETA: 0s - loss: 112.8324\n",
            "Epoch 77: val_loss did not improve from 585.40814\n",
            "18/18 [==============================] - 0s 8ms/step - loss: 113.4205 - val_loss: 603.0837\n",
            "Epoch 78/100\n",
            "17/18 [===========================>..] - ETA: 0s - loss: 112.1837\n",
            "Epoch 78: val_loss did not improve from 585.40814\n",
            "18/18 [==============================] - 0s 9ms/step - loss: 113.9307 - val_loss: 601.7896\n",
            "Epoch 79/100\n",
            "18/18 [==============================] - ETA: 0s - loss: 111.5418\n",
            "Epoch 79: val_loss did not improve from 585.40814\n",
            "18/18 [==============================] - 0s 8ms/step - loss: 111.5418 - val_loss: 677.0577\n",
            "Epoch 80/100\n",
            "18/18 [==============================] - ETA: 0s - loss: 111.3931\n",
            "Epoch 80: val_loss did not improve from 585.40814\n",
            "18/18 [==============================] - 0s 9ms/step - loss: 111.3931 - val_loss: 587.6040\n",
            "Epoch 81/100\n",
            "18/18 [==============================] - ETA: 0s - loss: 109.0377\n",
            "Epoch 81: val_loss did not improve from 585.40814\n",
            "18/18 [==============================] - 0s 9ms/step - loss: 109.0377 - val_loss: 593.5723\n",
            "Epoch 82/100\n",
            "17/18 [===========================>..] - ETA: 0s - loss: 109.6456\n",
            "Epoch 82: val_loss improved from 585.40814 to 576.69128, saving model to models_experiment/model_5_LSTM\n",
            "18/18 [==============================] - 2s 141ms/step - loss: 109.2616 - val_loss: 576.6913\n",
            "Epoch 83/100\n",
            "17/18 [===========================>..] - ETA: 0s - loss: 109.8245\n",
            "Epoch 83: val_loss improved from 576.69128 to 575.93671, saving model to models_experiment/model_5_LSTM\n",
            "18/18 [==============================] - 2s 117ms/step - loss: 111.1044 - val_loss: 575.9367\n",
            "Epoch 84/100\n",
            "17/18 [===========================>..] - ETA: 0s - loss: 110.8550\n",
            "Epoch 84: val_loss did not improve from 575.93671\n",
            "18/18 [==============================] - 0s 9ms/step - loss: 110.2594 - val_loss: 577.1584\n",
            "Epoch 85/100\n",
            "17/18 [===========================>..] - ETA: 0s - loss: 107.8360\n",
            "Epoch 85: val_loss did not improve from 575.93671\n",
            "18/18 [==============================] - 0s 9ms/step - loss: 109.0602 - val_loss: 643.3830\n",
            "Epoch 86/100\n",
            "10/18 [===============>..............] - ETA: 0s - loss: 115.6792\n",
            "Epoch 86: val_loss did not improve from 575.93671\n",
            "18/18 [==============================] - 0s 8ms/step - loss: 111.7437 - val_loss: 625.1788\n",
            "Epoch 87/100\n",
            "11/18 [=================>............] - ETA: 0s - loss: 112.4670\n",
            "Epoch 87: val_loss did not improve from 575.93671\n",
            "18/18 [==============================] - 0s 8ms/step - loss: 115.3493 - val_loss: 619.7503\n",
            "Epoch 88/100\n",
            "11/18 [=================>............] - ETA: 0s - loss: 105.0188\n",
            "Epoch 88: val_loss did not improve from 575.93671\n",
            "18/18 [==============================] - 0s 8ms/step - loss: 110.1550 - val_loss: 590.5707\n",
            "Epoch 89/100\n",
            "10/18 [===============>..............] - ETA: 0s - loss: 119.6880\n",
            "Epoch 89: val_loss did not improve from 575.93671\n",
            "18/18 [==============================] - 0s 8ms/step - loss: 115.0806 - val_loss: 760.3009\n",
            "Epoch 90/100\n",
            "10/18 [===============>..............] - ETA: 0s - loss: 118.2789\n",
            "Epoch 90: val_loss did not improve from 575.93671\n",
            "18/18 [==============================] - 0s 7ms/step - loss: 119.3741 - val_loss: 618.7763\n",
            "Epoch 91/100\n",
            "16/18 [=========================>....] - ETA: 0s - loss: 118.5007\n",
            "Epoch 91: val_loss did not improve from 575.93671\n",
            "18/18 [==============================] - 0s 9ms/step - loss: 120.0639 - val_loss: 577.5589\n",
            "Epoch 92/100\n",
            "18/18 [==============================] - ETA: 0s - loss: 109.6444\n",
            "Epoch 92: val_loss improved from 575.93671 to 575.47052, saving model to models_experiment/model_5_LSTM\n",
            "18/18 [==============================] - 2s 117ms/step - loss: 109.6444 - val_loss: 575.4705\n",
            "Epoch 93/100\n",
            "11/18 [=================>............] - ETA: 0s - loss: 107.7941\n",
            "Epoch 93: val_loss improved from 575.47052 to 575.17615, saving model to models_experiment/model_5_LSTM\n",
            "18/18 [==============================] - 2s 116ms/step - loss: 107.5372 - val_loss: 575.1761\n",
            "Epoch 94/100\n",
            "18/18 [==============================] - ETA: 0s - loss: 108.3856\n",
            "Epoch 94: val_loss did not improve from 575.17615\n",
            "18/18 [==============================] - 0s 8ms/step - loss: 108.3856 - val_loss: 600.6846\n",
            "Epoch 95/100\n",
            "18/18 [==============================] - ETA: 0s - loss: 108.7663\n",
            "Epoch 95: val_loss did not improve from 575.17615\n",
            "18/18 [==============================] - 0s 9ms/step - loss: 108.7663 - val_loss: 588.6267\n",
            "Epoch 96/100\n",
            "10/18 [===============>..............] - ETA: 0s - loss: 108.9899\n",
            "Epoch 96: val_loss improved from 575.17615 to 573.21387, saving model to models_experiment/model_5_LSTM\n",
            "18/18 [==============================] - 2s 116ms/step - loss: 107.4421 - val_loss: 573.2139\n",
            "Epoch 97/100\n",
            "10/18 [===============>..............] - ETA: 0s - loss: 106.0237\n",
            "Epoch 97: val_loss improved from 573.21387 to 572.09357, saving model to models_experiment/model_5_LSTM\n",
            "18/18 [==============================] - 2s 143ms/step - loss: 109.0325 - val_loss: 572.0936\n",
            "Epoch 98/100\n",
            "18/18 [==============================] - ETA: 0s - loss: 107.1028\n",
            "Epoch 98: val_loss did not improve from 572.09357\n",
            "18/18 [==============================] - 0s 9ms/step - loss: 107.1028 - val_loss: 579.1635\n",
            "Epoch 99/100\n",
            "18/18 [==============================] - ETA: 0s - loss: 107.7045\n",
            "Epoch 99: val_loss did not improve from 572.09357\n",
            "18/18 [==============================] - 0s 9ms/step - loss: 107.7045 - val_loss: 592.0426\n",
            "Epoch 100/100\n",
            "18/18 [==============================] - ETA: 0s - loss: 108.1116\n",
            "Epoch 100: val_loss did not improve from 572.09357\n",
            "18/18 [==============================] - 0s 9ms/step - loss: 108.1116 - val_loss: 591.0375\n"
          ]
        }
      ]
    },
    {
      "cell_type": "code",
      "source": [
        "model_5_preds = tf.squeeze(model_5.predict(x_test))\n",
        "\n",
        "model_5_preds[:5]"
      ],
      "metadata": {
        "colab": {
          "base_uri": "https://localhost:8080/"
        },
        "id": "rjOW0Q-XoCKH",
        "outputId": "9faf16ab-09a1-4cbb-c287-b76b7299a91d"
      },
      "execution_count": null,
      "outputs": [
        {
          "output_type": "stream",
          "name": "stdout",
          "text": [
            "18/18 [==============================] - 0s 2ms/step\n"
          ]
        },
        {
          "output_type": "execute_result",
          "data": {
            "text/plain": [
              "<tf.Tensor: shape=(5,), dtype=float32, numpy=array([8916.388, 8830.272, 9029.714, 8803.884, 8774.253], dtype=float32)>"
            ]
          },
          "metadata": {},
          "execution_count": 68
        }
      ]
    },
    {
      "cell_type": "code",
      "source": [
        "model_5_results = regression_evaluation(tf.squeeze(y_test), model_5_preds)\n",
        "\n",
        "model_5_results"
      ],
      "metadata": {
        "colab": {
          "base_uri": "https://localhost:8080/"
        },
        "id": "fLSKpNXvn2Vb",
        "outputId": "8f4ce373-554f-4b1b-cd10-66ec1a709e66"
      },
      "execution_count": null,
      "outputs": [
        {
          "output_type": "execute_result",
          "data": {
            "text/plain": [
              "{'mae': 572.0936,\n",
              " 'mse': 1190181.6,\n",
              " 'rmse': 1090.9545,\n",
              " 'mape': 2.573253,\n",
              " 'mase': 1.00501}"
            ]
          },
          "metadata": {},
          "execution_count": 69
        }
      ]
    },
    {
      "cell_type": "code",
      "source": [
        "naive_results"
      ],
      "metadata": {
        "colab": {
          "base_uri": "https://localhost:8080/"
        },
        "id": "vh0LZljQokgO",
        "outputId": "5dfa0c8e-a879-450b-a979-0c6b916f29aa"
      },
      "execution_count": null,
      "outputs": [
        {
          "output_type": "execute_result",
          "data": {
            "text/plain": [
              "{'mae': 567.9802,\n",
              " 'mse': 1147547.0,\n",
              " 'rmse': 1071.2362,\n",
              " 'mape': 2.5165248,\n",
              " 'mase': 0.99957}"
            ]
          },
          "metadata": {},
          "execution_count": 70
        }
      ]
    },
    {
      "cell_type": "markdown",
      "source": [
        "### Creating a multiveriate data"
      ],
      "metadata": {
        "id": "ZiN43IUEpSTP"
      }
    },
    {
      "cell_type": "code",
      "source": [
        "# adding the bitcoin halving events to our dataset\n",
        "block_reward_1 = 50 # 3 January 2009 - this block reward isn't in our dataset (our data starts from 01 October 2013)\n",
        "block_reward_2 = 25 # 8 November 2012\n",
        "block_reward_3 = 12.5 # 9 July 2016\n",
        "block_reward_4 = 6.25 # 18 May 2020\n",
        "\n",
        "# Block reward dates\n",
        "block_reward_2_datetime = np.datetime64(\"2012-11-28\")\n",
        "block_reward_3_datetime = np.datetime64(\"2016-07-09\")\n",
        "block_reward_4_datetime = np.datetime64(\"2020-05-18\")"
      ],
      "metadata": {
        "id": "_5-rhhSdpWE9"
      },
      "execution_count": null,
      "outputs": []
    },
    {
      "cell_type": "code",
      "source": [
        "# Getting the days diff\n",
        "block_reward_2_days = (block_reward_3_datetime - bitcoin_prices.index[0]).days\n",
        "block_reward_3_days = (block_reward_4_datetime - bitcoin_prices.index[0]).days\n",
        "block_reward_2_days, block_reward_3_days"
      ],
      "metadata": {
        "colab": {
          "base_uri": "https://localhost:8080/"
        },
        "id": "Gq3Ag5_IqU8C",
        "outputId": "f4ad94e6-c994-4c30-d849-dc70b549ea15"
      },
      "execution_count": null,
      "outputs": [
        {
          "output_type": "execute_result",
          "data": {
            "text/plain": [
              "(1012, 2421)"
            ]
          },
          "metadata": {},
          "execution_count": 73
        }
      ]
    },
    {
      "cell_type": "code",
      "source": [
        "# Adding the block_reward column\n",
        "prices_block = bitcoin_prices.copy()\n",
        "prices_block[\"block_reward\"] = 0\n",
        "prices_block.head()"
      ],
      "metadata": {
        "colab": {
          "base_uri": "https://localhost:8080/",
          "height": 238
        },
        "id": "RvqAQWvJqcDR",
        "outputId": "9f57d3f7-041e-4b6c-99fc-10452857d096"
      },
      "execution_count": null,
      "outputs": [
        {
          "output_type": "execute_result",
          "data": {
            "text/plain": [
              "                Price  block_reward\n",
              "Date                               \n",
              "2013-10-01  123.65499             0\n",
              "2013-10-02  125.45500             0\n",
              "2013-10-03  108.58483             0\n",
              "2013-10-04  118.67466             0\n",
              "2013-10-05  121.33866             0"
            ],
            "text/html": [
              "\n",
              "  <div id=\"df-f008629c-5eba-4e61-bacf-6327ced57067\">\n",
              "    <div class=\"colab-df-container\">\n",
              "      <div>\n",
              "<style scoped>\n",
              "    .dataframe tbody tr th:only-of-type {\n",
              "        vertical-align: middle;\n",
              "    }\n",
              "\n",
              "    .dataframe tbody tr th {\n",
              "        vertical-align: top;\n",
              "    }\n",
              "\n",
              "    .dataframe thead th {\n",
              "        text-align: right;\n",
              "    }\n",
              "</style>\n",
              "<table border=\"1\" class=\"dataframe\">\n",
              "  <thead>\n",
              "    <tr style=\"text-align: right;\">\n",
              "      <th></th>\n",
              "      <th>Price</th>\n",
              "      <th>block_reward</th>\n",
              "    </tr>\n",
              "    <tr>\n",
              "      <th>Date</th>\n",
              "      <th></th>\n",
              "      <th></th>\n",
              "    </tr>\n",
              "  </thead>\n",
              "  <tbody>\n",
              "    <tr>\n",
              "      <th>2013-10-01</th>\n",
              "      <td>123.65499</td>\n",
              "      <td>0</td>\n",
              "    </tr>\n",
              "    <tr>\n",
              "      <th>2013-10-02</th>\n",
              "      <td>125.45500</td>\n",
              "      <td>0</td>\n",
              "    </tr>\n",
              "    <tr>\n",
              "      <th>2013-10-03</th>\n",
              "      <td>108.58483</td>\n",
              "      <td>0</td>\n",
              "    </tr>\n",
              "    <tr>\n",
              "      <th>2013-10-04</th>\n",
              "      <td>118.67466</td>\n",
              "      <td>0</td>\n",
              "    </tr>\n",
              "    <tr>\n",
              "      <th>2013-10-05</th>\n",
              "      <td>121.33866</td>\n",
              "      <td>0</td>\n",
              "    </tr>\n",
              "  </tbody>\n",
              "</table>\n",
              "</div>\n",
              "      <button class=\"colab-df-convert\" onclick=\"convertToInteractive('df-f008629c-5eba-4e61-bacf-6327ced57067')\"\n",
              "              title=\"Convert this dataframe to an interactive table.\"\n",
              "              style=\"display:none;\">\n",
              "        \n",
              "  <svg xmlns=\"http://www.w3.org/2000/svg\" height=\"24px\"viewBox=\"0 0 24 24\"\n",
              "       width=\"24px\">\n",
              "    <path d=\"M0 0h24v24H0V0z\" fill=\"none\"/>\n",
              "    <path d=\"M18.56 5.44l.94 2.06.94-2.06 2.06-.94-2.06-.94-.94-2.06-.94 2.06-2.06.94zm-11 1L8.5 8.5l.94-2.06 2.06-.94-2.06-.94L8.5 2.5l-.94 2.06-2.06.94zm10 10l.94 2.06.94-2.06 2.06-.94-2.06-.94-.94-2.06-.94 2.06-2.06.94z\"/><path d=\"M17.41 7.96l-1.37-1.37c-.4-.4-.92-.59-1.43-.59-.52 0-1.04.2-1.43.59L10.3 9.45l-7.72 7.72c-.78.78-.78 2.05 0 2.83L4 21.41c.39.39.9.59 1.41.59.51 0 1.02-.2 1.41-.59l7.78-7.78 2.81-2.81c.8-.78.8-2.07 0-2.86zM5.41 20L4 18.59l7.72-7.72 1.47 1.35L5.41 20z\"/>\n",
              "  </svg>\n",
              "      </button>\n",
              "      \n",
              "  <style>\n",
              "    .colab-df-container {\n",
              "      display:flex;\n",
              "      flex-wrap:wrap;\n",
              "      gap: 12px;\n",
              "    }\n",
              "\n",
              "    .colab-df-convert {\n",
              "      background-color: #E8F0FE;\n",
              "      border: none;\n",
              "      border-radius: 50%;\n",
              "      cursor: pointer;\n",
              "      display: none;\n",
              "      fill: #1967D2;\n",
              "      height: 32px;\n",
              "      padding: 0 0 0 0;\n",
              "      width: 32px;\n",
              "    }\n",
              "\n",
              "    .colab-df-convert:hover {\n",
              "      background-color: #E2EBFA;\n",
              "      box-shadow: 0px 1px 2px rgba(60, 64, 67, 0.3), 0px 1px 3px 1px rgba(60, 64, 67, 0.15);\n",
              "      fill: #174EA6;\n",
              "    }\n",
              "\n",
              "    [theme=dark] .colab-df-convert {\n",
              "      background-color: #3B4455;\n",
              "      fill: #D2E3FC;\n",
              "    }\n",
              "\n",
              "    [theme=dark] .colab-df-convert:hover {\n",
              "      background-color: #434B5C;\n",
              "      box-shadow: 0px 1px 3px 1px rgba(0, 0, 0, 0.15);\n",
              "      filter: drop-shadow(0px 1px 2px rgba(0, 0, 0, 0.3));\n",
              "      fill: #FFFFFF;\n",
              "    }\n",
              "  </style>\n",
              "\n",
              "      <script>\n",
              "        const buttonEl =\n",
              "          document.querySelector('#df-f008629c-5eba-4e61-bacf-6327ced57067 button.colab-df-convert');\n",
              "        buttonEl.style.display =\n",
              "          google.colab.kernel.accessAllowed ? 'block' : 'none';\n",
              "\n",
              "        async function convertToInteractive(key) {\n",
              "          const element = document.querySelector('#df-f008629c-5eba-4e61-bacf-6327ced57067');\n",
              "          const dataTable =\n",
              "            await google.colab.kernel.invokeFunction('convertToInteractive',\n",
              "                                                     [key], {});\n",
              "          if (!dataTable) return;\n",
              "\n",
              "          const docLinkHtml = 'Like what you see? Visit the ' +\n",
              "            '<a target=\"_blank\" href=https://colab.research.google.com/notebooks/data_table.ipynb>data table notebook</a>'\n",
              "            + ' to learn more about interactive tables.';\n",
              "          element.innerHTML = '';\n",
              "          dataTable['output_type'] = 'display_data';\n",
              "          await google.colab.output.renderOutput(dataTable, element);\n",
              "          const docLink = document.createElement('div');\n",
              "          docLink.innerHTML = docLinkHtml;\n",
              "          element.appendChild(docLink);\n",
              "        }\n",
              "      </script>\n",
              "    </div>\n",
              "  </div>\n",
              "  "
            ]
          },
          "metadata": {},
          "execution_count": 74
        }
      ]
    },
    {
      "cell_type": "code",
      "source": [
        "# Adding the block reward values\n",
        "prices_block.iloc[:block_reward_2_days, -1] = block_reward_2\n",
        "prices_block.iloc[block_reward_2_days::block_reward_3_days, -1] = block_reward_3\n",
        "prices_block.iloc[block_reward_3_days:, -1] = block_reward_4"
      ],
      "metadata": {
        "id": "IopmlL7MqzPD"
      },
      "execution_count": null,
      "outputs": []
    },
    {
      "cell_type": "code",
      "source": [
        "prices_block.head()"
      ],
      "metadata": {
        "colab": {
          "base_uri": "https://localhost:8080/",
          "height": 238
        },
        "id": "KjqnaVDPrDzQ",
        "outputId": "60e8bc3c-4d07-48fc-e508-32aca78e038d"
      },
      "execution_count": null,
      "outputs": [
        {
          "output_type": "execute_result",
          "data": {
            "text/plain": [
              "                Price  block_reward\n",
              "Date                               \n",
              "2013-10-01  123.65499          25.0\n",
              "2013-10-02  125.45500          25.0\n",
              "2013-10-03  108.58483          25.0\n",
              "2013-10-04  118.67466          25.0\n",
              "2013-10-05  121.33866          25.0"
            ],
            "text/html": [
              "\n",
              "  <div id=\"df-e6323e95-fb14-4615-9b2e-c30744d63326\">\n",
              "    <div class=\"colab-df-container\">\n",
              "      <div>\n",
              "<style scoped>\n",
              "    .dataframe tbody tr th:only-of-type {\n",
              "        vertical-align: middle;\n",
              "    }\n",
              "\n",
              "    .dataframe tbody tr th {\n",
              "        vertical-align: top;\n",
              "    }\n",
              "\n",
              "    .dataframe thead th {\n",
              "        text-align: right;\n",
              "    }\n",
              "</style>\n",
              "<table border=\"1\" class=\"dataframe\">\n",
              "  <thead>\n",
              "    <tr style=\"text-align: right;\">\n",
              "      <th></th>\n",
              "      <th>Price</th>\n",
              "      <th>block_reward</th>\n",
              "    </tr>\n",
              "    <tr>\n",
              "      <th>Date</th>\n",
              "      <th></th>\n",
              "      <th></th>\n",
              "    </tr>\n",
              "  </thead>\n",
              "  <tbody>\n",
              "    <tr>\n",
              "      <th>2013-10-01</th>\n",
              "      <td>123.65499</td>\n",
              "      <td>25.0</td>\n",
              "    </tr>\n",
              "    <tr>\n",
              "      <th>2013-10-02</th>\n",
              "      <td>125.45500</td>\n",
              "      <td>25.0</td>\n",
              "    </tr>\n",
              "    <tr>\n",
              "      <th>2013-10-03</th>\n",
              "      <td>108.58483</td>\n",
              "      <td>25.0</td>\n",
              "    </tr>\n",
              "    <tr>\n",
              "      <th>2013-10-04</th>\n",
              "      <td>118.67466</td>\n",
              "      <td>25.0</td>\n",
              "    </tr>\n",
              "    <tr>\n",
              "      <th>2013-10-05</th>\n",
              "      <td>121.33866</td>\n",
              "      <td>25.0</td>\n",
              "    </tr>\n",
              "  </tbody>\n",
              "</table>\n",
              "</div>\n",
              "      <button class=\"colab-df-convert\" onclick=\"convertToInteractive('df-e6323e95-fb14-4615-9b2e-c30744d63326')\"\n",
              "              title=\"Convert this dataframe to an interactive table.\"\n",
              "              style=\"display:none;\">\n",
              "        \n",
              "  <svg xmlns=\"http://www.w3.org/2000/svg\" height=\"24px\"viewBox=\"0 0 24 24\"\n",
              "       width=\"24px\">\n",
              "    <path d=\"M0 0h24v24H0V0z\" fill=\"none\"/>\n",
              "    <path d=\"M18.56 5.44l.94 2.06.94-2.06 2.06-.94-2.06-.94-.94-2.06-.94 2.06-2.06.94zm-11 1L8.5 8.5l.94-2.06 2.06-.94-2.06-.94L8.5 2.5l-.94 2.06-2.06.94zm10 10l.94 2.06.94-2.06 2.06-.94-2.06-.94-.94-2.06-.94 2.06-2.06.94z\"/><path d=\"M17.41 7.96l-1.37-1.37c-.4-.4-.92-.59-1.43-.59-.52 0-1.04.2-1.43.59L10.3 9.45l-7.72 7.72c-.78.78-.78 2.05 0 2.83L4 21.41c.39.39.9.59 1.41.59.51 0 1.02-.2 1.41-.59l7.78-7.78 2.81-2.81c.8-.78.8-2.07 0-2.86zM5.41 20L4 18.59l7.72-7.72 1.47 1.35L5.41 20z\"/>\n",
              "  </svg>\n",
              "      </button>\n",
              "      \n",
              "  <style>\n",
              "    .colab-df-container {\n",
              "      display:flex;\n",
              "      flex-wrap:wrap;\n",
              "      gap: 12px;\n",
              "    }\n",
              "\n",
              "    .colab-df-convert {\n",
              "      background-color: #E8F0FE;\n",
              "      border: none;\n",
              "      border-radius: 50%;\n",
              "      cursor: pointer;\n",
              "      display: none;\n",
              "      fill: #1967D2;\n",
              "      height: 32px;\n",
              "      padding: 0 0 0 0;\n",
              "      width: 32px;\n",
              "    }\n",
              "\n",
              "    .colab-df-convert:hover {\n",
              "      background-color: #E2EBFA;\n",
              "      box-shadow: 0px 1px 2px rgba(60, 64, 67, 0.3), 0px 1px 3px 1px rgba(60, 64, 67, 0.15);\n",
              "      fill: #174EA6;\n",
              "    }\n",
              "\n",
              "    [theme=dark] .colab-df-convert {\n",
              "      background-color: #3B4455;\n",
              "      fill: #D2E3FC;\n",
              "    }\n",
              "\n",
              "    [theme=dark] .colab-df-convert:hover {\n",
              "      background-color: #434B5C;\n",
              "      box-shadow: 0px 1px 3px 1px rgba(0, 0, 0, 0.15);\n",
              "      filter: drop-shadow(0px 1px 2px rgba(0, 0, 0, 0.3));\n",
              "      fill: #FFFFFF;\n",
              "    }\n",
              "  </style>\n",
              "\n",
              "      <script>\n",
              "        const buttonEl =\n",
              "          document.querySelector('#df-e6323e95-fb14-4615-9b2e-c30744d63326 button.colab-df-convert');\n",
              "        buttonEl.style.display =\n",
              "          google.colab.kernel.accessAllowed ? 'block' : 'none';\n",
              "\n",
              "        async function convertToInteractive(key) {\n",
              "          const element = document.querySelector('#df-e6323e95-fb14-4615-9b2e-c30744d63326');\n",
              "          const dataTable =\n",
              "            await google.colab.kernel.invokeFunction('convertToInteractive',\n",
              "                                                     [key], {});\n",
              "          if (!dataTable) return;\n",
              "\n",
              "          const docLinkHtml = 'Like what you see? Visit the ' +\n",
              "            '<a target=\"_blank\" href=https://colab.research.google.com/notebooks/data_table.ipynb>data table notebook</a>'\n",
              "            + ' to learn more about interactive tables.';\n",
              "          element.innerHTML = '';\n",
              "          dataTable['output_type'] = 'display_data';\n",
              "          await google.colab.output.renderOutput(dataTable, element);\n",
              "          const docLink = document.createElement('div');\n",
              "          docLink.innerHTML = docLinkHtml;\n",
              "          element.appendChild(docLink);\n",
              "        }\n",
              "      </script>\n",
              "    </div>\n",
              "  </div>\n",
              "  "
            ]
          },
          "metadata": {},
          "execution_count": 76
        }
      ]
    },
    {
      "cell_type": "code",
      "source": [
        "prices_block.tail()"
      ],
      "metadata": {
        "colab": {
          "base_uri": "https://localhost:8080/",
          "height": 238
        },
        "id": "ifnDDfDYsZ9Z",
        "outputId": "c2201329-d4df-43bc-8e19-ddaca816c3e0"
      },
      "execution_count": null,
      "outputs": [
        {
          "output_type": "execute_result",
          "data": {
            "text/plain": [
              "                   Price  block_reward\n",
              "Date                                  \n",
              "2021-05-14  49764.132082          6.25\n",
              "2021-05-15  50032.693137          6.25\n",
              "2021-05-16  47885.625255          6.25\n",
              "2021-05-17  45604.615754          6.25\n",
              "2021-05-18  43144.471291          6.25"
            ],
            "text/html": [
              "\n",
              "  <div id=\"df-02f22c13-08bd-44e0-9dcb-9b33b64b021b\">\n",
              "    <div class=\"colab-df-container\">\n",
              "      <div>\n",
              "<style scoped>\n",
              "    .dataframe tbody tr th:only-of-type {\n",
              "        vertical-align: middle;\n",
              "    }\n",
              "\n",
              "    .dataframe tbody tr th {\n",
              "        vertical-align: top;\n",
              "    }\n",
              "\n",
              "    .dataframe thead th {\n",
              "        text-align: right;\n",
              "    }\n",
              "</style>\n",
              "<table border=\"1\" class=\"dataframe\">\n",
              "  <thead>\n",
              "    <tr style=\"text-align: right;\">\n",
              "      <th></th>\n",
              "      <th>Price</th>\n",
              "      <th>block_reward</th>\n",
              "    </tr>\n",
              "    <tr>\n",
              "      <th>Date</th>\n",
              "      <th></th>\n",
              "      <th></th>\n",
              "    </tr>\n",
              "  </thead>\n",
              "  <tbody>\n",
              "    <tr>\n",
              "      <th>2021-05-14</th>\n",
              "      <td>49764.132082</td>\n",
              "      <td>6.25</td>\n",
              "    </tr>\n",
              "    <tr>\n",
              "      <th>2021-05-15</th>\n",
              "      <td>50032.693137</td>\n",
              "      <td>6.25</td>\n",
              "    </tr>\n",
              "    <tr>\n",
              "      <th>2021-05-16</th>\n",
              "      <td>47885.625255</td>\n",
              "      <td>6.25</td>\n",
              "    </tr>\n",
              "    <tr>\n",
              "      <th>2021-05-17</th>\n",
              "      <td>45604.615754</td>\n",
              "      <td>6.25</td>\n",
              "    </tr>\n",
              "    <tr>\n",
              "      <th>2021-05-18</th>\n",
              "      <td>43144.471291</td>\n",
              "      <td>6.25</td>\n",
              "    </tr>\n",
              "  </tbody>\n",
              "</table>\n",
              "</div>\n",
              "      <button class=\"colab-df-convert\" onclick=\"convertToInteractive('df-02f22c13-08bd-44e0-9dcb-9b33b64b021b')\"\n",
              "              title=\"Convert this dataframe to an interactive table.\"\n",
              "              style=\"display:none;\">\n",
              "        \n",
              "  <svg xmlns=\"http://www.w3.org/2000/svg\" height=\"24px\"viewBox=\"0 0 24 24\"\n",
              "       width=\"24px\">\n",
              "    <path d=\"M0 0h24v24H0V0z\" fill=\"none\"/>\n",
              "    <path d=\"M18.56 5.44l.94 2.06.94-2.06 2.06-.94-2.06-.94-.94-2.06-.94 2.06-2.06.94zm-11 1L8.5 8.5l.94-2.06 2.06-.94-2.06-.94L8.5 2.5l-.94 2.06-2.06.94zm10 10l.94 2.06.94-2.06 2.06-.94-2.06-.94-.94-2.06-.94 2.06-2.06.94z\"/><path d=\"M17.41 7.96l-1.37-1.37c-.4-.4-.92-.59-1.43-.59-.52 0-1.04.2-1.43.59L10.3 9.45l-7.72 7.72c-.78.78-.78 2.05 0 2.83L4 21.41c.39.39.9.59 1.41.59.51 0 1.02-.2 1.41-.59l7.78-7.78 2.81-2.81c.8-.78.8-2.07 0-2.86zM5.41 20L4 18.59l7.72-7.72 1.47 1.35L5.41 20z\"/>\n",
              "  </svg>\n",
              "      </button>\n",
              "      \n",
              "  <style>\n",
              "    .colab-df-container {\n",
              "      display:flex;\n",
              "      flex-wrap:wrap;\n",
              "      gap: 12px;\n",
              "    }\n",
              "\n",
              "    .colab-df-convert {\n",
              "      background-color: #E8F0FE;\n",
              "      border: none;\n",
              "      border-radius: 50%;\n",
              "      cursor: pointer;\n",
              "      display: none;\n",
              "      fill: #1967D2;\n",
              "      height: 32px;\n",
              "      padding: 0 0 0 0;\n",
              "      width: 32px;\n",
              "    }\n",
              "\n",
              "    .colab-df-convert:hover {\n",
              "      background-color: #E2EBFA;\n",
              "      box-shadow: 0px 1px 2px rgba(60, 64, 67, 0.3), 0px 1px 3px 1px rgba(60, 64, 67, 0.15);\n",
              "      fill: #174EA6;\n",
              "    }\n",
              "\n",
              "    [theme=dark] .colab-df-convert {\n",
              "      background-color: #3B4455;\n",
              "      fill: #D2E3FC;\n",
              "    }\n",
              "\n",
              "    [theme=dark] .colab-df-convert:hover {\n",
              "      background-color: #434B5C;\n",
              "      box-shadow: 0px 1px 3px 1px rgba(0, 0, 0, 0.15);\n",
              "      filter: drop-shadow(0px 1px 2px rgba(0, 0, 0, 0.3));\n",
              "      fill: #FFFFFF;\n",
              "    }\n",
              "  </style>\n",
              "\n",
              "      <script>\n",
              "        const buttonEl =\n",
              "          document.querySelector('#df-02f22c13-08bd-44e0-9dcb-9b33b64b021b button.colab-df-convert');\n",
              "        buttonEl.style.display =\n",
              "          google.colab.kernel.accessAllowed ? 'block' : 'none';\n",
              "\n",
              "        async function convertToInteractive(key) {\n",
              "          const element = document.querySelector('#df-02f22c13-08bd-44e0-9dcb-9b33b64b021b');\n",
              "          const dataTable =\n",
              "            await google.colab.kernel.invokeFunction('convertToInteractive',\n",
              "                                                     [key], {});\n",
              "          if (!dataTable) return;\n",
              "\n",
              "          const docLinkHtml = 'Like what you see? Visit the ' +\n",
              "            '<a target=\"_blank\" href=https://colab.research.google.com/notebooks/data_table.ipynb>data table notebook</a>'\n",
              "            + ' to learn more about interactive tables.';\n",
              "          element.innerHTML = '';\n",
              "          dataTable['output_type'] = 'display_data';\n",
              "          await google.colab.output.renderOutput(dataTable, element);\n",
              "          const docLink = document.createElement('div');\n",
              "          docLink.innerHTML = docLinkHtml;\n",
              "          element.appendChild(docLink);\n",
              "        }\n",
              "      </script>\n",
              "    </div>\n",
              "  </div>\n",
              "  "
            ]
          },
          "metadata": {},
          "execution_count": 77
        }
      ]
    },
    {
      "cell_type": "code",
      "source": [
        "# Setting params for the data\n",
        "Horizon = 1\n",
        "WINDOWS_SIZE = 7"
      ],
      "metadata": {
        "id": "6FWIay6muui8"
      },
      "execution_count": null,
      "outputs": []
    },
    {
      "cell_type": "code",
      "source": [
        "# Copy the df\n",
        "prices_block_windowed = prices_block.copy()"
      ],
      "metadata": {
        "id": "DkKMj19Pu_cC"
      },
      "execution_count": null,
      "outputs": []
    },
    {
      "cell_type": "code",
      "source": [
        "from pandas._libs.tslibs import period\n",
        "# Add windowed data to the df\n",
        "for i in range(WINDOWS_SIZE):\n",
        "  prices_block_windowed[f\"Price+{i+1}\"] = prices_block_windowed[\"Price\"].shift(periods=i+1)"
      ],
      "metadata": {
        "id": "J9YvtqfevS8G"
      },
      "execution_count": null,
      "outputs": []
    },
    {
      "cell_type": "code",
      "source": [
        "prices_block_windowed.head(10)"
      ],
      "metadata": {
        "colab": {
          "base_uri": "https://localhost:8080/",
          "height": 612
        },
        "id": "BQdohd7Cvxma",
        "outputId": "55a8d0f3-a450-4f51-f97d-c2443eb2b37a"
      },
      "execution_count": null,
      "outputs": [
        {
          "output_type": "execute_result",
          "data": {
            "text/plain": [
              "                Price  block_reward    Price+1    Price+2    Price+3  \\\n",
              "Date                                                                   \n",
              "2013-10-01  123.65499          25.0        NaN        NaN        NaN   \n",
              "2013-10-02  125.45500          25.0  123.65499        NaN        NaN   \n",
              "2013-10-03  108.58483          25.0  125.45500  123.65499        NaN   \n",
              "2013-10-04  118.67466          25.0  108.58483  125.45500  123.65499   \n",
              "2013-10-05  121.33866          25.0  118.67466  108.58483  125.45500   \n",
              "2013-10-06  120.65533          25.0  121.33866  118.67466  108.58483   \n",
              "2013-10-07  121.79500          25.0  120.65533  121.33866  118.67466   \n",
              "2013-10-08  123.03300          25.0  121.79500  120.65533  121.33866   \n",
              "2013-10-09  124.04900          25.0  123.03300  121.79500  120.65533   \n",
              "2013-10-10  125.96116          25.0  124.04900  123.03300  121.79500   \n",
              "\n",
              "              Price+4    Price+5    Price+6    Price+7  \n",
              "Date                                                    \n",
              "2013-10-01        NaN        NaN        NaN        NaN  \n",
              "2013-10-02        NaN        NaN        NaN        NaN  \n",
              "2013-10-03        NaN        NaN        NaN        NaN  \n",
              "2013-10-04        NaN        NaN        NaN        NaN  \n",
              "2013-10-05  123.65499        NaN        NaN        NaN  \n",
              "2013-10-06  125.45500  123.65499        NaN        NaN  \n",
              "2013-10-07  108.58483  125.45500  123.65499        NaN  \n",
              "2013-10-08  118.67466  108.58483  125.45500  123.65499  \n",
              "2013-10-09  121.33866  118.67466  108.58483  125.45500  \n",
              "2013-10-10  120.65533  121.33866  118.67466  108.58483  "
            ],
            "text/html": [
              "\n",
              "  <div id=\"df-06ff1263-2bc3-464b-ab15-9dc3eb741860\">\n",
              "    <div class=\"colab-df-container\">\n",
              "      <div>\n",
              "<style scoped>\n",
              "    .dataframe tbody tr th:only-of-type {\n",
              "        vertical-align: middle;\n",
              "    }\n",
              "\n",
              "    .dataframe tbody tr th {\n",
              "        vertical-align: top;\n",
              "    }\n",
              "\n",
              "    .dataframe thead th {\n",
              "        text-align: right;\n",
              "    }\n",
              "</style>\n",
              "<table border=\"1\" class=\"dataframe\">\n",
              "  <thead>\n",
              "    <tr style=\"text-align: right;\">\n",
              "      <th></th>\n",
              "      <th>Price</th>\n",
              "      <th>block_reward</th>\n",
              "      <th>Price+1</th>\n",
              "      <th>Price+2</th>\n",
              "      <th>Price+3</th>\n",
              "      <th>Price+4</th>\n",
              "      <th>Price+5</th>\n",
              "      <th>Price+6</th>\n",
              "      <th>Price+7</th>\n",
              "    </tr>\n",
              "    <tr>\n",
              "      <th>Date</th>\n",
              "      <th></th>\n",
              "      <th></th>\n",
              "      <th></th>\n",
              "      <th></th>\n",
              "      <th></th>\n",
              "      <th></th>\n",
              "      <th></th>\n",
              "      <th></th>\n",
              "      <th></th>\n",
              "    </tr>\n",
              "  </thead>\n",
              "  <tbody>\n",
              "    <tr>\n",
              "      <th>2013-10-01</th>\n",
              "      <td>123.65499</td>\n",
              "      <td>25.0</td>\n",
              "      <td>NaN</td>\n",
              "      <td>NaN</td>\n",
              "      <td>NaN</td>\n",
              "      <td>NaN</td>\n",
              "      <td>NaN</td>\n",
              "      <td>NaN</td>\n",
              "      <td>NaN</td>\n",
              "    </tr>\n",
              "    <tr>\n",
              "      <th>2013-10-02</th>\n",
              "      <td>125.45500</td>\n",
              "      <td>25.0</td>\n",
              "      <td>123.65499</td>\n",
              "      <td>NaN</td>\n",
              "      <td>NaN</td>\n",
              "      <td>NaN</td>\n",
              "      <td>NaN</td>\n",
              "      <td>NaN</td>\n",
              "      <td>NaN</td>\n",
              "    </tr>\n",
              "    <tr>\n",
              "      <th>2013-10-03</th>\n",
              "      <td>108.58483</td>\n",
              "      <td>25.0</td>\n",
              "      <td>125.45500</td>\n",
              "      <td>123.65499</td>\n",
              "      <td>NaN</td>\n",
              "      <td>NaN</td>\n",
              "      <td>NaN</td>\n",
              "      <td>NaN</td>\n",
              "      <td>NaN</td>\n",
              "    </tr>\n",
              "    <tr>\n",
              "      <th>2013-10-04</th>\n",
              "      <td>118.67466</td>\n",
              "      <td>25.0</td>\n",
              "      <td>108.58483</td>\n",
              "      <td>125.45500</td>\n",
              "      <td>123.65499</td>\n",
              "      <td>NaN</td>\n",
              "      <td>NaN</td>\n",
              "      <td>NaN</td>\n",
              "      <td>NaN</td>\n",
              "    </tr>\n",
              "    <tr>\n",
              "      <th>2013-10-05</th>\n",
              "      <td>121.33866</td>\n",
              "      <td>25.0</td>\n",
              "      <td>118.67466</td>\n",
              "      <td>108.58483</td>\n",
              "      <td>125.45500</td>\n",
              "      <td>123.65499</td>\n",
              "      <td>NaN</td>\n",
              "      <td>NaN</td>\n",
              "      <td>NaN</td>\n",
              "    </tr>\n",
              "    <tr>\n",
              "      <th>2013-10-06</th>\n",
              "      <td>120.65533</td>\n",
              "      <td>25.0</td>\n",
              "      <td>121.33866</td>\n",
              "      <td>118.67466</td>\n",
              "      <td>108.58483</td>\n",
              "      <td>125.45500</td>\n",
              "      <td>123.65499</td>\n",
              "      <td>NaN</td>\n",
              "      <td>NaN</td>\n",
              "    </tr>\n",
              "    <tr>\n",
              "      <th>2013-10-07</th>\n",
              "      <td>121.79500</td>\n",
              "      <td>25.0</td>\n",
              "      <td>120.65533</td>\n",
              "      <td>121.33866</td>\n",
              "      <td>118.67466</td>\n",
              "      <td>108.58483</td>\n",
              "      <td>125.45500</td>\n",
              "      <td>123.65499</td>\n",
              "      <td>NaN</td>\n",
              "    </tr>\n",
              "    <tr>\n",
              "      <th>2013-10-08</th>\n",
              "      <td>123.03300</td>\n",
              "      <td>25.0</td>\n",
              "      <td>121.79500</td>\n",
              "      <td>120.65533</td>\n",
              "      <td>121.33866</td>\n",
              "      <td>118.67466</td>\n",
              "      <td>108.58483</td>\n",
              "      <td>125.45500</td>\n",
              "      <td>123.65499</td>\n",
              "    </tr>\n",
              "    <tr>\n",
              "      <th>2013-10-09</th>\n",
              "      <td>124.04900</td>\n",
              "      <td>25.0</td>\n",
              "      <td>123.03300</td>\n",
              "      <td>121.79500</td>\n",
              "      <td>120.65533</td>\n",
              "      <td>121.33866</td>\n",
              "      <td>118.67466</td>\n",
              "      <td>108.58483</td>\n",
              "      <td>125.45500</td>\n",
              "    </tr>\n",
              "    <tr>\n",
              "      <th>2013-10-10</th>\n",
              "      <td>125.96116</td>\n",
              "      <td>25.0</td>\n",
              "      <td>124.04900</td>\n",
              "      <td>123.03300</td>\n",
              "      <td>121.79500</td>\n",
              "      <td>120.65533</td>\n",
              "      <td>121.33866</td>\n",
              "      <td>118.67466</td>\n",
              "      <td>108.58483</td>\n",
              "    </tr>\n",
              "  </tbody>\n",
              "</table>\n",
              "</div>\n",
              "      <button class=\"colab-df-convert\" onclick=\"convertToInteractive('df-06ff1263-2bc3-464b-ab15-9dc3eb741860')\"\n",
              "              title=\"Convert this dataframe to an interactive table.\"\n",
              "              style=\"display:none;\">\n",
              "        \n",
              "  <svg xmlns=\"http://www.w3.org/2000/svg\" height=\"24px\"viewBox=\"0 0 24 24\"\n",
              "       width=\"24px\">\n",
              "    <path d=\"M0 0h24v24H0V0z\" fill=\"none\"/>\n",
              "    <path d=\"M18.56 5.44l.94 2.06.94-2.06 2.06-.94-2.06-.94-.94-2.06-.94 2.06-2.06.94zm-11 1L8.5 8.5l.94-2.06 2.06-.94-2.06-.94L8.5 2.5l-.94 2.06-2.06.94zm10 10l.94 2.06.94-2.06 2.06-.94-2.06-.94-.94-2.06-.94 2.06-2.06.94z\"/><path d=\"M17.41 7.96l-1.37-1.37c-.4-.4-.92-.59-1.43-.59-.52 0-1.04.2-1.43.59L10.3 9.45l-7.72 7.72c-.78.78-.78 2.05 0 2.83L4 21.41c.39.39.9.59 1.41.59.51 0 1.02-.2 1.41-.59l7.78-7.78 2.81-2.81c.8-.78.8-2.07 0-2.86zM5.41 20L4 18.59l7.72-7.72 1.47 1.35L5.41 20z\"/>\n",
              "  </svg>\n",
              "      </button>\n",
              "      \n",
              "  <style>\n",
              "    .colab-df-container {\n",
              "      display:flex;\n",
              "      flex-wrap:wrap;\n",
              "      gap: 12px;\n",
              "    }\n",
              "\n",
              "    .colab-df-convert {\n",
              "      background-color: #E8F0FE;\n",
              "      border: none;\n",
              "      border-radius: 50%;\n",
              "      cursor: pointer;\n",
              "      display: none;\n",
              "      fill: #1967D2;\n",
              "      height: 32px;\n",
              "      padding: 0 0 0 0;\n",
              "      width: 32px;\n",
              "    }\n",
              "\n",
              "    .colab-df-convert:hover {\n",
              "      background-color: #E2EBFA;\n",
              "      box-shadow: 0px 1px 2px rgba(60, 64, 67, 0.3), 0px 1px 3px 1px rgba(60, 64, 67, 0.15);\n",
              "      fill: #174EA6;\n",
              "    }\n",
              "\n",
              "    [theme=dark] .colab-df-convert {\n",
              "      background-color: #3B4455;\n",
              "      fill: #D2E3FC;\n",
              "    }\n",
              "\n",
              "    [theme=dark] .colab-df-convert:hover {\n",
              "      background-color: #434B5C;\n",
              "      box-shadow: 0px 1px 3px 1px rgba(0, 0, 0, 0.15);\n",
              "      filter: drop-shadow(0px 1px 2px rgba(0, 0, 0, 0.3));\n",
              "      fill: #FFFFFF;\n",
              "    }\n",
              "  </style>\n",
              "\n",
              "      <script>\n",
              "        const buttonEl =\n",
              "          document.querySelector('#df-06ff1263-2bc3-464b-ab15-9dc3eb741860 button.colab-df-convert');\n",
              "        buttonEl.style.display =\n",
              "          google.colab.kernel.accessAllowed ? 'block' : 'none';\n",
              "\n",
              "        async function convertToInteractive(key) {\n",
              "          const element = document.querySelector('#df-06ff1263-2bc3-464b-ab15-9dc3eb741860');\n",
              "          const dataTable =\n",
              "            await google.colab.kernel.invokeFunction('convertToInteractive',\n",
              "                                                     [key], {});\n",
              "          if (!dataTable) return;\n",
              "\n",
              "          const docLinkHtml = 'Like what you see? Visit the ' +\n",
              "            '<a target=\"_blank\" href=https://colab.research.google.com/notebooks/data_table.ipynb>data table notebook</a>'\n",
              "            + ' to learn more about interactive tables.';\n",
              "          element.innerHTML = '';\n",
              "          dataTable['output_type'] = 'display_data';\n",
              "          await google.colab.output.renderOutput(dataTable, element);\n",
              "          const docLink = document.createElement('div');\n",
              "          docLink.innerHTML = docLinkHtml;\n",
              "          element.appendChild(docLink);\n",
              "        }\n",
              "      </script>\n",
              "    </div>\n",
              "  </div>\n",
              "  "
            ]
          },
          "metadata": {},
          "execution_count": 155
        }
      ]
    },
    {
      "cell_type": "code",
      "source": [
        "# Split the data to windows and horizons\n",
        "X = prices_block_windowed.dropna().drop(\"Price\", axis=1).astype(np.float32)\n",
        "Y = prices_block_windowed.dropna()[\"Price\"].astype(np.float32)\n",
        "\n",
        "X.head()"
      ],
      "metadata": {
        "colab": {
          "base_uri": "https://localhost:8080/",
          "height": 282
        },
        "id": "ockX9ZgvwwRh",
        "outputId": "86ae7f06-9436-42d6-edea-2373e0edd2be"
      },
      "execution_count": null,
      "outputs": [
        {
          "output_type": "execute_result",
          "data": {
            "text/plain": [
              "            block_reward     Price+1     Price+2     Price+3     Price+4  \\\n",
              "Date                                                                       \n",
              "2013-10-08          25.0  121.794998  120.655327  121.338661  118.674660   \n",
              "2013-10-09          25.0  123.032997  121.794998  120.655327  121.338661   \n",
              "2013-10-10          25.0  124.049004  123.032997  121.794998  120.655327   \n",
              "2013-10-11          25.0  125.961159  124.049004  123.032997  121.794998   \n",
              "2013-10-12          25.0  125.279663  125.961159  124.049004  123.032997   \n",
              "\n",
              "               Price+5     Price+6     Price+7  \n",
              "Date                                            \n",
              "2013-10-08  108.584831  125.455002  123.654991  \n",
              "2013-10-09  118.674660  108.584831  125.455002  \n",
              "2013-10-10  121.338661  118.674660  108.584831  \n",
              "2013-10-11  120.655327  121.338661  118.674660  \n",
              "2013-10-12  121.794998  120.655327  121.338661  "
            ],
            "text/html": [
              "\n",
              "  <div id=\"df-bd79a1bf-2487-4db5-9f56-92d4b1e34ef9\">\n",
              "    <div class=\"colab-df-container\">\n",
              "      <div>\n",
              "<style scoped>\n",
              "    .dataframe tbody tr th:only-of-type {\n",
              "        vertical-align: middle;\n",
              "    }\n",
              "\n",
              "    .dataframe tbody tr th {\n",
              "        vertical-align: top;\n",
              "    }\n",
              "\n",
              "    .dataframe thead th {\n",
              "        text-align: right;\n",
              "    }\n",
              "</style>\n",
              "<table border=\"1\" class=\"dataframe\">\n",
              "  <thead>\n",
              "    <tr style=\"text-align: right;\">\n",
              "      <th></th>\n",
              "      <th>block_reward</th>\n",
              "      <th>Price+1</th>\n",
              "      <th>Price+2</th>\n",
              "      <th>Price+3</th>\n",
              "      <th>Price+4</th>\n",
              "      <th>Price+5</th>\n",
              "      <th>Price+6</th>\n",
              "      <th>Price+7</th>\n",
              "    </tr>\n",
              "    <tr>\n",
              "      <th>Date</th>\n",
              "      <th></th>\n",
              "      <th></th>\n",
              "      <th></th>\n",
              "      <th></th>\n",
              "      <th></th>\n",
              "      <th></th>\n",
              "      <th></th>\n",
              "      <th></th>\n",
              "    </tr>\n",
              "  </thead>\n",
              "  <tbody>\n",
              "    <tr>\n",
              "      <th>2013-10-08</th>\n",
              "      <td>25.0</td>\n",
              "      <td>121.794998</td>\n",
              "      <td>120.655327</td>\n",
              "      <td>121.338661</td>\n",
              "      <td>118.674660</td>\n",
              "      <td>108.584831</td>\n",
              "      <td>125.455002</td>\n",
              "      <td>123.654991</td>\n",
              "    </tr>\n",
              "    <tr>\n",
              "      <th>2013-10-09</th>\n",
              "      <td>25.0</td>\n",
              "      <td>123.032997</td>\n",
              "      <td>121.794998</td>\n",
              "      <td>120.655327</td>\n",
              "      <td>121.338661</td>\n",
              "      <td>118.674660</td>\n",
              "      <td>108.584831</td>\n",
              "      <td>125.455002</td>\n",
              "    </tr>\n",
              "    <tr>\n",
              "      <th>2013-10-10</th>\n",
              "      <td>25.0</td>\n",
              "      <td>124.049004</td>\n",
              "      <td>123.032997</td>\n",
              "      <td>121.794998</td>\n",
              "      <td>120.655327</td>\n",
              "      <td>121.338661</td>\n",
              "      <td>118.674660</td>\n",
              "      <td>108.584831</td>\n",
              "    </tr>\n",
              "    <tr>\n",
              "      <th>2013-10-11</th>\n",
              "      <td>25.0</td>\n",
              "      <td>125.961159</td>\n",
              "      <td>124.049004</td>\n",
              "      <td>123.032997</td>\n",
              "      <td>121.794998</td>\n",
              "      <td>120.655327</td>\n",
              "      <td>121.338661</td>\n",
              "      <td>118.674660</td>\n",
              "    </tr>\n",
              "    <tr>\n",
              "      <th>2013-10-12</th>\n",
              "      <td>25.0</td>\n",
              "      <td>125.279663</td>\n",
              "      <td>125.961159</td>\n",
              "      <td>124.049004</td>\n",
              "      <td>123.032997</td>\n",
              "      <td>121.794998</td>\n",
              "      <td>120.655327</td>\n",
              "      <td>121.338661</td>\n",
              "    </tr>\n",
              "  </tbody>\n",
              "</table>\n",
              "</div>\n",
              "      <button class=\"colab-df-convert\" onclick=\"convertToInteractive('df-bd79a1bf-2487-4db5-9f56-92d4b1e34ef9')\"\n",
              "              title=\"Convert this dataframe to an interactive table.\"\n",
              "              style=\"display:none;\">\n",
              "        \n",
              "  <svg xmlns=\"http://www.w3.org/2000/svg\" height=\"24px\"viewBox=\"0 0 24 24\"\n",
              "       width=\"24px\">\n",
              "    <path d=\"M0 0h24v24H0V0z\" fill=\"none\"/>\n",
              "    <path d=\"M18.56 5.44l.94 2.06.94-2.06 2.06-.94-2.06-.94-.94-2.06-.94 2.06-2.06.94zm-11 1L8.5 8.5l.94-2.06 2.06-.94-2.06-.94L8.5 2.5l-.94 2.06-2.06.94zm10 10l.94 2.06.94-2.06 2.06-.94-2.06-.94-.94-2.06-.94 2.06-2.06.94z\"/><path d=\"M17.41 7.96l-1.37-1.37c-.4-.4-.92-.59-1.43-.59-.52 0-1.04.2-1.43.59L10.3 9.45l-7.72 7.72c-.78.78-.78 2.05 0 2.83L4 21.41c.39.39.9.59 1.41.59.51 0 1.02-.2 1.41-.59l7.78-7.78 2.81-2.81c.8-.78.8-2.07 0-2.86zM5.41 20L4 18.59l7.72-7.72 1.47 1.35L5.41 20z\"/>\n",
              "  </svg>\n",
              "      </button>\n",
              "      \n",
              "  <style>\n",
              "    .colab-df-container {\n",
              "      display:flex;\n",
              "      flex-wrap:wrap;\n",
              "      gap: 12px;\n",
              "    }\n",
              "\n",
              "    .colab-df-convert {\n",
              "      background-color: #E8F0FE;\n",
              "      border: none;\n",
              "      border-radius: 50%;\n",
              "      cursor: pointer;\n",
              "      display: none;\n",
              "      fill: #1967D2;\n",
              "      height: 32px;\n",
              "      padding: 0 0 0 0;\n",
              "      width: 32px;\n",
              "    }\n",
              "\n",
              "    .colab-df-convert:hover {\n",
              "      background-color: #E2EBFA;\n",
              "      box-shadow: 0px 1px 2px rgba(60, 64, 67, 0.3), 0px 1px 3px 1px rgba(60, 64, 67, 0.15);\n",
              "      fill: #174EA6;\n",
              "    }\n",
              "\n",
              "    [theme=dark] .colab-df-convert {\n",
              "      background-color: #3B4455;\n",
              "      fill: #D2E3FC;\n",
              "    }\n",
              "\n",
              "    [theme=dark] .colab-df-convert:hover {\n",
              "      background-color: #434B5C;\n",
              "      box-shadow: 0px 1px 3px 1px rgba(0, 0, 0, 0.15);\n",
              "      filter: drop-shadow(0px 1px 2px rgba(0, 0, 0, 0.3));\n",
              "      fill: #FFFFFF;\n",
              "    }\n",
              "  </style>\n",
              "\n",
              "      <script>\n",
              "        const buttonEl =\n",
              "          document.querySelector('#df-bd79a1bf-2487-4db5-9f56-92d4b1e34ef9 button.colab-df-convert');\n",
              "        buttonEl.style.display =\n",
              "          google.colab.kernel.accessAllowed ? 'block' : 'none';\n",
              "\n",
              "        async function convertToInteractive(key) {\n",
              "          const element = document.querySelector('#df-bd79a1bf-2487-4db5-9f56-92d4b1e34ef9');\n",
              "          const dataTable =\n",
              "            await google.colab.kernel.invokeFunction('convertToInteractive',\n",
              "                                                     [key], {});\n",
              "          if (!dataTable) return;\n",
              "\n",
              "          const docLinkHtml = 'Like what you see? Visit the ' +\n",
              "            '<a target=\"_blank\" href=https://colab.research.google.com/notebooks/data_table.ipynb>data table notebook</a>'\n",
              "            + ' to learn more about interactive tables.';\n",
              "          element.innerHTML = '';\n",
              "          dataTable['output_type'] = 'display_data';\n",
              "          await google.colab.output.renderOutput(dataTable, element);\n",
              "          const docLink = document.createElement('div');\n",
              "          docLink.innerHTML = docLinkHtml;\n",
              "          element.appendChild(docLink);\n",
              "        }\n",
              "      </script>\n",
              "    </div>\n",
              "  </div>\n",
              "  "
            ]
          },
          "metadata": {},
          "execution_count": 82
        }
      ]
    },
    {
      "cell_type": "code",
      "source": [
        "Y.head()"
      ],
      "metadata": {
        "colab": {
          "base_uri": "https://localhost:8080/"
        },
        "id": "inyrNkryxQpS",
        "outputId": "b692dc92-2979-4d71-b7c2-a3a73f3690ce"
      },
      "execution_count": null,
      "outputs": [
        {
          "output_type": "execute_result",
          "data": {
            "text/plain": [
              "Date\n",
              "2013-10-08    123.032997\n",
              "2013-10-09    124.049004\n",
              "2013-10-10    125.961159\n",
              "2013-10-11    125.279663\n",
              "2013-10-12    125.927498\n",
              "Name: Price, dtype: float32"
            ]
          },
          "metadata": {},
          "execution_count": 83
        }
      ]
    },
    {
      "cell_type": "code",
      "source": [
        "# split to train and test\n",
        "\n",
        "x_train, x_test, y_train, y_test = make_time_train_test_split(X, Y)\n",
        "\n",
        "len(x_train), len(x_test),len(y_train), len(y_test)"
      ],
      "metadata": {
        "colab": {
          "base_uri": "https://localhost:8080/"
        },
        "id": "-Qep-Rs_xX9o",
        "outputId": "194adb29-16ab-4443-df5a-859fec029f8d"
      },
      "execution_count": null,
      "outputs": [
        {
          "output_type": "execute_result",
          "data": {
            "text/plain": [
              "(2224, 556, 2224, 556)"
            ]
          },
          "metadata": {},
          "execution_count": 84
        }
      ]
    },
    {
      "cell_type": "markdown",
      "source": [
        "### Model 6: same as 1 with multivariate"
      ],
      "metadata": {
        "id": "C-EO3NVXxrIz"
      }
    },
    {
      "cell_type": "code",
      "source": [
        "# Create and compile\n",
        "\n",
        "from tensorflow.keras import layers\n",
        "\n",
        "model_6 = tf.keras.Sequential([\n",
        "    layers.Dense(128, activation=\"relu\"),\n",
        "    layers.Dense(Horizon)\n",
        "], name=\"model_6_multi\")\n",
        "\n",
        "model_6.compile(loss=\"mae\",\n",
        "                optimizer=\"Adam\")"
      ],
      "metadata": {
        "colab": {
          "base_uri": "https://localhost:8080/",
          "height": 287
        },
        "id": "xbAXqhBLxuyX",
        "outputId": "c0e79eb6-b423-4598-e719-fe051706c42b"
      },
      "execution_count": null,
      "outputs": [
        {
          "output_type": "error",
          "ename": "NameError",
          "evalue": "ignored",
          "traceback": [
            "\u001b[0;31m---------------------------------------------------------------------------\u001b[0m",
            "\u001b[0;31mNameError\u001b[0m                                 Traceback (most recent call last)",
            "Cell \u001b[0;32mIn[39], line 7\u001b[0m\n\u001b[1;32m      1\u001b[0m \u001b[38;5;66;03m# Create and compile\u001b[39;00m\n\u001b[1;32m      3\u001b[0m \u001b[38;5;28;01mfrom\u001b[39;00m \u001b[38;5;21;01mtensorflow\u001b[39;00m\u001b[38;5;21;01m.\u001b[39;00m\u001b[38;5;21;01mkeras\u001b[39;00m \u001b[38;5;28;01mimport\u001b[39;00m layers\n\u001b[1;32m      5\u001b[0m model_6 \u001b[38;5;241m=\u001b[39m tf\u001b[38;5;241m.\u001b[39mkeras\u001b[38;5;241m.\u001b[39mSequential([\n\u001b[1;32m      6\u001b[0m     layers\u001b[38;5;241m.\u001b[39mDense(\u001b[38;5;241m128\u001b[39m, activation\u001b[38;5;241m=\u001b[39m\u001b[38;5;124m\"\u001b[39m\u001b[38;5;124mrelu\u001b[39m\u001b[38;5;124m\"\u001b[39m),\n\u001b[0;32m----> 7\u001b[0m     layers\u001b[38;5;241m.\u001b[39mDense(\u001b[43mHorizon\u001b[49m)\n\u001b[1;32m      8\u001b[0m ], name\u001b[38;5;241m=\u001b[39m\u001b[38;5;124m\"\u001b[39m\u001b[38;5;124mmodel_6_multi\u001b[39m\u001b[38;5;124m\"\u001b[39m)\n\u001b[1;32m     10\u001b[0m model_6\u001b[38;5;241m.\u001b[39mcompile(loss\u001b[38;5;241m=\u001b[39m\u001b[38;5;124m\"\u001b[39m\u001b[38;5;124mmae\u001b[39m\u001b[38;5;124m\"\u001b[39m,\n\u001b[1;32m     11\u001b[0m                 optimizer\u001b[38;5;241m=\u001b[39m\u001b[38;5;124m\"\u001b[39m\u001b[38;5;124mAdam\u001b[39m\u001b[38;5;124m\"\u001b[39m)\n",
            "\u001b[0;31mNameError\u001b[0m: name 'Horizon' is not defined"
          ]
        }
      ]
    },
    {
      "cell_type": "code",
      "source": [
        "# fit\n",
        "\n",
        "model_6_history = model_6.fit(x_train,\n",
        "                              y_train,\n",
        "                              epochs=100,\n",
        "                              batch_size=128,\n",
        "                              validation_data=(x_test, y_test),\n",
        "                              callbacks=[create_model_checkpoint(model_6.name)])"
      ],
      "metadata": {
        "id": "VBpBvDrPyHVJ"
      },
      "execution_count": null,
      "outputs": []
    },
    {
      "cell_type": "code",
      "source": [
        "# Load best model\n",
        "\n",
        "model_6 =tf.keras.models.load_model(\"/content/models_experiment/model_6_multi\")"
      ],
      "metadata": {
        "id": "dly2oUrByiF1"
      },
      "execution_count": null,
      "outputs": []
    },
    {
      "cell_type": "code",
      "source": [
        "model_6.summary()"
      ],
      "metadata": {
        "id": "aC7AUzHTysuY"
      },
      "execution_count": null,
      "outputs": []
    },
    {
      "cell_type": "code",
      "source": [
        "# Making predictions and evaluating\n",
        "\n",
        "model_6_preds = tf.squeeze(model_6.predict(x_test))\n",
        "\n",
        "model_6_preds.shape"
      ],
      "metadata": {
        "colab": {
          "base_uri": "https://localhost:8080/",
          "height": 200
        },
        "id": "-kON0Uj1zQbM",
        "outputId": "e2fe2aba-fb28-446a-c0f3-37cd53cefde1"
      },
      "execution_count": null,
      "outputs": [
        {
          "output_type": "error",
          "ename": "NameError",
          "evalue": "ignored",
          "traceback": [
            "\u001b[0;31m---------------------------------------------------------------------------\u001b[0m",
            "\u001b[0;31mNameError\u001b[0m                                 Traceback (most recent call last)",
            "Cell \u001b[0;32mIn[40], line 3\u001b[0m\n\u001b[1;32m      1\u001b[0m \u001b[38;5;66;03m# Making predictions and evaluating\u001b[39;00m\n\u001b[0;32m----> 3\u001b[0m model_6_preds \u001b[38;5;241m=\u001b[39m tf\u001b[38;5;241m.\u001b[39msqueeze(\u001b[43mmodel_6\u001b[49m\u001b[38;5;241m.\u001b[39mpredict(x_test))\n\u001b[1;32m      5\u001b[0m model_6_preds\u001b[38;5;241m.\u001b[39mshape\n",
            "\u001b[0;31mNameError\u001b[0m: name 'model_6' is not defined"
          ]
        }
      ]
    },
    {
      "cell_type": "code",
      "source": [
        "# Getting model results\n",
        "\n",
        "model_6_results = regression_evaluation(y_test, model_6_preds)\n",
        "\n",
        "model_6_results"
      ],
      "metadata": {
        "id": "JSN_gyTUzs29"
      },
      "execution_count": null,
      "outputs": []
    },
    {
      "cell_type": "code",
      "source": [
        "naive_results"
      ],
      "metadata": {
        "id": "Dxp3Wurez446"
      },
      "execution_count": null,
      "outputs": []
    },
    {
      "cell_type": "markdown",
      "source": [
        "### Model 7: N-BEATS\n",
        "\n",
        "replicating the n-beats model\n",
        "https://arxiv.org/abs/1905.10437"
      ],
      "metadata": {
        "id": "hL5-qGjez6Ed"
      }
    },
    {
      "cell_type": "code",
      "source": [
        "# Creating the block layer\n",
        "class NBeatsBlock(tf.keras.layers.Layer):\n",
        "  def __init__(self,\n",
        "               input_size: int,\n",
        "               theta_size: int,\n",
        "               horizon: int,\n",
        "               n_neurons: int,\n",
        "               n_layers: int,\n",
        "               **kwargs):\n",
        "    super().__init__(**kwargs)\n",
        "    self.input_size = input_size\n",
        "    self.theta_size = theta_size\n",
        "    self.horizon = horizon\n",
        "    self.n_neurons = n_neurons\n",
        "    self.n_layers = n_layers\n",
        "\n",
        "  # A block containts stack of 4 fully connected layers with relu activation\n",
        "    self.hidden = [tf.keras.layers.Dense(n_neurons, activation=\"relu\") for _ in range(n_layers)]\n",
        "\n",
        "    self.theta_layer = tf.keras.layers.Dense(theta_size, activation=\"linear\", name=\"theta\")\n",
        "\n",
        "  def call(self, inputs):\n",
        "    x = inputs\n",
        "    for layer in self.hidden:\n",
        "      x = layer(x)\n",
        "    theta = self.theta_layer(x)\n",
        "    backcast, forecast = theta[:, :self.input_size], theta[:, -self.horizon:]\n",
        "    return backcast, forecast\n",
        "\n"
      ],
      "metadata": {
        "id": "gM-mx2XS1tw0"
      },
      "execution_count": null,
      "outputs": []
    },
    {
      "cell_type": "code",
      "source": [
        "# Testing the NBeats class layer\n",
        "NBeats_block_layer = NBeatsBlock(input_size=WINDOWS_SIZE,\n",
        "                                 theta_size=WINDOWS_SIZE+HORIZON,\n",
        "                                 horizon=HORIZON,\n",
        "                                 n_neurons=128,\n",
        "                                 n_layers=4)"
      ],
      "metadata": {
        "colab": {
          "base_uri": "https://localhost:8080/",
          "height": 252
        },
        "id": "U72jvy6d5X5j",
        "outputId": "4fc5cd5e-8327-4cb6-9e08-3f1b3d2234a2"
      },
      "execution_count": null,
      "outputs": [
        {
          "output_type": "error",
          "ename": "NameError",
          "evalue": "ignored",
          "traceback": [
            "\u001b[0;31m---------------------------------------------------------------------------\u001b[0m",
            "\u001b[0;31mNameError\u001b[0m                                 Traceback (most recent call last)",
            "Cell \u001b[0;32mIn[36], line 2\u001b[0m\n\u001b[1;32m      1\u001b[0m \u001b[38;5;66;03m# Testing the NBeats class layer\u001b[39;00m\n\u001b[0;32m----> 2\u001b[0m NBeats_block_layer \u001b[38;5;241m=\u001b[39m NBeatsBlock(input_size\u001b[38;5;241m=\u001b[39m\u001b[43mWINDOWS_SIZE\u001b[49m,\n\u001b[1;32m      3\u001b[0m                                  theta_size\u001b[38;5;241m=\u001b[39mWINDOWS_SIZE\u001b[38;5;241m+\u001b[39mHORIZON,\n\u001b[1;32m      4\u001b[0m                                  horizon\u001b[38;5;241m=\u001b[39mHORIZON,\n\u001b[1;32m      5\u001b[0m                                  n_neurons\u001b[38;5;241m=\u001b[39m\u001b[38;5;241m128\u001b[39m,\n\u001b[1;32m      6\u001b[0m                                  n_layers\u001b[38;5;241m=\u001b[39m\u001b[38;5;241m4\u001b[39m)\n",
            "\u001b[0;31mNameError\u001b[0m: name 'WINDOWS_SIZE' is not defined"
          ]
        }
      ]
    },
    {
      "cell_type": "code",
      "source": [
        "# Create test inputs \n",
        "test_inputs = tf.expand_dims(tf.range(WINDOWS_SIZE) + 1, axis=0)\n",
        "test_inputs"
      ],
      "metadata": {
        "id": "57s8ctGA6B1U"
      },
      "execution_count": null,
      "outputs": []
    },
    {
      "cell_type": "code",
      "source": [
        "# Passing the test inputs to the block layer\n",
        "backcast, forecast = NBeats_block_layer(test_inputs)\n",
        "\n",
        "backcast, forecast"
      ],
      "metadata": {
        "id": "CSsJVQMC6X0H"
      },
      "execution_count": null,
      "outputs": []
    },
    {
      "cell_type": "code",
      "source": [
        "# Preparing the data for the NBeats model\n",
        "HORIZON = 1\n",
        "WINDOWS_SIZE = 7"
      ],
      "metadata": {
        "id": "nSDILwa86-Uj"
      },
      "execution_count": null,
      "outputs": []
    },
    {
      "cell_type": "code",
      "source": [
        "bitcoin_prices.head()"
      ],
      "metadata": {
        "id": "jeiVH7z77L_9"
      },
      "execution_count": null,
      "outputs": []
    },
    {
      "cell_type": "code",
      "source": [
        "bitcoin_prices_nbeats = bitcoin_prices.copy()\n",
        "for i in range(WINDOWS_SIZE):\n",
        "  bitcoin_prices_nbeats[f\"Price+{i+1}\"] = bitcoin_prices_nbeats[\"Price\"].shift(periods=i+1)\n",
        "\n",
        "bitcoin_prices_nbeats.head()"
      ],
      "metadata": {
        "colab": {
          "base_uri": "https://localhost:8080/",
          "height": 217
        },
        "id": "PA9TNh5O7R-b",
        "outputId": "74bd50bb-246a-47a5-b20e-7ca3ed25e73d"
      },
      "execution_count": null,
      "outputs": [
        {
          "output_type": "error",
          "ename": "NameError",
          "evalue": "ignored",
          "traceback": [
            "\u001b[0;31m---------------------------------------------------------------------------\u001b[0m",
            "\u001b[0;31mNameError\u001b[0m                                 Traceback (most recent call last)",
            "Cell \u001b[0;32mIn[37], line 2\u001b[0m\n\u001b[1;32m      1\u001b[0m bitcoin_prices_nbeats \u001b[38;5;241m=\u001b[39m bitcoin_prices\u001b[38;5;241m.\u001b[39mcopy()\n\u001b[0;32m----> 2\u001b[0m \u001b[38;5;28;01mfor\u001b[39;00m i \u001b[38;5;129;01min\u001b[39;00m \u001b[38;5;28mrange\u001b[39m(\u001b[43mWINDOWS_SIZE\u001b[49m):\n\u001b[1;32m      3\u001b[0m   bitcoin_prices_nbeats[\u001b[38;5;124mf\u001b[39m\u001b[38;5;124m\"\u001b[39m\u001b[38;5;124mPrice+\u001b[39m\u001b[38;5;132;01m{\u001b[39;00mi\u001b[38;5;241m+\u001b[39m\u001b[38;5;241m1\u001b[39m\u001b[38;5;132;01m}\u001b[39;00m\u001b[38;5;124m\"\u001b[39m] \u001b[38;5;241m=\u001b[39m bitcoin_prices_nbeats[\u001b[38;5;124m\"\u001b[39m\u001b[38;5;124mPrice\u001b[39m\u001b[38;5;124m\"\u001b[39m]\u001b[38;5;241m.\u001b[39mshift(periods\u001b[38;5;241m=\u001b[39mi\u001b[38;5;241m+\u001b[39m\u001b[38;5;241m1\u001b[39m)\n\u001b[1;32m      5\u001b[0m bitcoin_prices_nbeats\u001b[38;5;241m.\u001b[39mhead()\n",
            "\u001b[0;31mNameError\u001b[0m: name 'WINDOWS_SIZE' is not defined"
          ]
        }
      ]
    },
    {
      "cell_type": "code",
      "source": [
        "X = bitcoin_prices_nbeats.dropna().drop(\"Price\", axis=1)\n",
        "Y = bitcoin_prices_nbeats.dropna()[\"Price\"]\n",
        "\n",
        "# Split to train and test\n",
        "\n",
        "x_train, x_test, y_train, y_test = make_time_train_test_split(X, Y)\n",
        "\n",
        "x_train.shape, y_train.shape"
      ],
      "metadata": {
        "id": "0FBa20O57t86"
      },
      "execution_count": null,
      "outputs": []
    },
    {
      "cell_type": "code",
      "source": [
        "# Creating data pipelines\n",
        "BATCH_SIZE=1024\n",
        "\n",
        "train_ds = preprocess_data(x_train, y_train, batch_size=BATCH_SIZE)\n",
        "test_ds = preprocess_data(x_test, y_test, batch_size=BATCH_SIZE)\n",
        "\n",
        "train_ds, test_ds"
      ],
      "metadata": {
        "id": "TiNEdF-18JV9"
      },
      "execution_count": null,
      "outputs": []
    },
    {
      "cell_type": "code",
      "source": [
        "# Setting hyperparameters for the N-Beats model\n",
        "N_EPOCHS = 5000\n",
        "N_NEURONS = 512\n",
        "N_LAYERS = 4\n",
        "N_STACKS = 30\n",
        "\n",
        "INPUT_SIZE = WINDOWS_SIZE * HORIZON\n",
        "THETA_SIZE = INPUT_SIZE + HORIZON\n",
        "\n",
        "INPUT_SIZE, THETA_SIZE"
      ],
      "metadata": {
        "id": "jqXWZdkl_2RQ"
      },
      "execution_count": null,
      "outputs": []
    },
    {
      "cell_type": "code",
      "source": [
        "# \n",
        "%%time\n",
        "\n",
        "tf.random.set_seed(42)\n",
        "\n",
        "# 1. Setting NBeats Layer\n",
        "nbeats_block_layer = NBeatsBlock(input_size=INPUT_SIZE,\n",
        "                                  theta_size=THETA_SIZE,\n",
        "                                  horizon=HORIZON,\n",
        "                                  n_neurons=N_NEURONS,\n",
        "                                  n_layers=N_LAYERS,\n",
        "                                  name=\"initial_block\")\n",
        "\n",
        "# 2. Create input layer\n",
        "stack_input = layers.Input(shape=(INPUT_SIZE), name=\"stack_input\")\n",
        "\n",
        "# 3. Creating initial backcast and forecast\n",
        "residuals, forecast = nbeats_block_layer(stack_input)\n",
        "\n",
        "# 4. Creating stacks of blocks layers\n",
        "for i, _ in enumerate(range(N_STACKS-1)):\n",
        "  backcast, block_forecast = NBeatsBlock(input_size=INPUT_SIZE,\n",
        "                                  theta_size=THETA_SIZE,\n",
        "                                  horizon=HORIZON,\n",
        "                                  n_neurons=N_NEURONS,\n",
        "                                  n_layers=N_LAYERS,\n",
        "                                  name=f\"NBeatsBlock_{i}\")(residuals)\n",
        "  # 6. Creating the residual stacking                                 \n",
        "  residuals = layers.subtract([residuals, backcast], name=f\"substract_{i}\")\n",
        "  forecast = layers.add([forecast, block_forecast], name=f\"add_{i}\")\n",
        "\n",
        "# 7. Creating the model\n",
        "model_7 = tf.keras.Model(stack_input, forecast, name=\"model_7_nbeats\")\n",
        "\n",
        "# 8. Compile\n",
        "model_7.compile(loss=\"mae\",\n",
        "                optimizer=\"Adam\")\n",
        "\n",
        "# 9. Fitting\n",
        "model_7_history = model_7.fit(train_ds,\n",
        "                              epochs=N_EPOCHS,\n",
        "                              validation_data=test_ds,\n",
        "                              verbose=0,\n",
        "                              callbacks=[\n",
        "                                  tf.keras.callbacks.EarlyStopping(monitor=\"val_loss\",\n",
        "                                                                   patience=200,\n",
        "                                                                   restore_best_weights=True),\n",
        "                                  tf.keras.callbacks.ReduceLROnPlateau(monitor=\"val_loss\",\n",
        "                                                                       patience=100,\n",
        "                                                                       verbose=1)       \n",
        "                              ])\n",
        "  "
      ],
      "metadata": {
        "id": "IZ31yurfAgSL"
      },
      "execution_count": null,
      "outputs": []
    },
    {
      "cell_type": "code",
      "source": [
        "# Getting predictions from the model\n",
        "model_7_preds = tf.squeeze(model_7.predict(test_ds))\n",
        "\n",
        "model_7_preds[:5]"
      ],
      "metadata": {
        "id": "_5-prPXljF6L"
      },
      "execution_count": null,
      "outputs": []
    },
    {
      "cell_type": "code",
      "source": [
        "# Evaluating the model\n",
        "model_7_results = regression_evaluation(y_test, model_7_preds)\n",
        "\n",
        "model_7_results"
      ],
      "metadata": {
        "colab": {
          "base_uri": "https://localhost:8080/",
          "height": 200
        },
        "id": "jyhfyvJUjQ5B",
        "outputId": "2b78a105-bad7-4de1-dc20-412135a60e1d"
      },
      "execution_count": null,
      "outputs": [
        {
          "output_type": "error",
          "ename": "NameError",
          "evalue": "ignored",
          "traceback": [
            "\u001b[0;31m---------------------------------------------------------------------------\u001b[0m",
            "\u001b[0;31mNameError\u001b[0m                                 Traceback (most recent call last)",
            "Cell \u001b[0;32mIn[38], line 2\u001b[0m\n\u001b[1;32m      1\u001b[0m \u001b[38;5;66;03m# Evaluating the model\u001b[39;00m\n\u001b[0;32m----> 2\u001b[0m model_7_results \u001b[38;5;241m=\u001b[39m \u001b[43mregression_evaluation\u001b[49m(y_test, model_7_preds)\n\u001b[1;32m      4\u001b[0m model_7_results\n",
            "\u001b[0;31mNameError\u001b[0m: name 'regression_evaluation' is not defined"
          ]
        }
      ]
    },
    {
      "cell_type": "code",
      "source": [
        "model_1_results"
      ],
      "metadata": {
        "id": "zTCc4h9_jZLq"
      },
      "execution_count": null,
      "outputs": []
    },
    {
      "cell_type": "code",
      "source": [
        "# Plotting the model\n",
        "from tensorflow.keras.utils import plot_model\n",
        "\n",
        "plot_model(model_7)"
      ],
      "metadata": {
        "id": "J7ihkBH1jwoB"
      },
      "execution_count": null,
      "outputs": []
    },
    {
      "cell_type": "markdown",
      "source": [
        "### Model 8: Creating stacked models on top of each other"
      ],
      "metadata": {
        "id": "JFGWGOIJkgqv"
      }
    },
    {
      "cell_type": "code",
      "source": [
        "# Hyperparameters \n",
        "HORIZON, WINDOWS_SIZE = 1, 7"
      ],
      "metadata": {
        "id": "VZsUwsJjklUJ"
      },
      "execution_count": null,
      "outputs": []
    },
    {
      "cell_type": "code",
      "source": [
        "def get_ensamble_models(horizon=HORIZON,\n",
        "                        num_epochs=1000,\n",
        "                        test_ds=test_ds,\n",
        "                        train_ds=train_ds,\n",
        "                        num_iter=5,\n",
        "                        loss_fns=[\"mse\", \"mae\", \"mape\"]\n",
        "                        ):\n",
        "  \"\"\"\n",
        "  Returns a list of num_iter models each trained on loss_fns losses.\n",
        "  \"\"\" \n",
        "  ensamble_models = []\n",
        "\n",
        "  for i in range(num_iter):\n",
        "    for loss_func in loss_fns:\n",
        "      print(f\"Optimizing model by reducing: {loss_func} for {num_epochs} epochs, model number {i}\")\n",
        "\n",
        "      model = tf.keras.Sequential([\n",
        "          layers.Dense(128, kernel_initializer=\"he_normal\", activation=\"relu\"),\n",
        "          layers.Dense(128, kernel_initializer=\"he_normal\", activation=\"relu\"),\n",
        "          layers.Dense(horizon)\n",
        "      ])\n",
        "\n",
        "      model.compile(loss=loss_func,\n",
        "                    optimizer=\"Adam\",\n",
        "                    metrics=[\"mae\", \"mse\"])\n",
        "      \n",
        "      # Fit the model\n",
        "      model.fit(train_ds,\n",
        "                epochs=num_epochs,\n",
        "                verbose=0,\n",
        "                validation_data=test_ds,\n",
        "                callbacks=[tf.keras.callbacks.EarlyStopping(monitor=\"val_loss\",\n",
        "                                                            patience=200,\n",
        "                                                            restore_best_weights=True),\n",
        "                           tf.keras.callbacks.ReduceLROnPlateau(monitor=\"val_loss\",\n",
        "                                                                patience=100,\n",
        "                                                                verbose=1)])\n",
        "      ensamble_models.append(model)\n",
        "    \n",
        "  return ensamble_models"
      ],
      "metadata": {
        "id": "Ss8v2OsR3SW4"
      },
      "execution_count": null,
      "outputs": []
    },
    {
      "cell_type": "code",
      "source": [
        "ensamble_models = get_ensamble_models()"
      ],
      "metadata": {
        "colab": {
          "base_uri": "https://localhost:8080/"
        },
        "id": "MTVulxsd4KOJ",
        "outputId": "9a9cbe6d-0d35-46ba-c19a-4dd647ffe1be"
      },
      "execution_count": null,
      "outputs": [
        {
          "output_type": "stream",
          "name": "stdout",
          "text": [
            "Optimizing model by reducing: mse for 1000 epochs, model number 0\n",
            "\n",
            "Epoch 909: ReduceLROnPlateau reducing learning rate to 0.00010000000474974513.\n",
            "Optimizing model by reducing: mae for 1000 epochs, model number 0\n",
            "\n",
            "Epoch 627: ReduceLROnPlateau reducing learning rate to 0.00010000000474974513.\n",
            "\n",
            "Epoch 795: ReduceLROnPlateau reducing learning rate to 1.0000000474974514e-05.\n",
            "\n",
            "Epoch 895: ReduceLROnPlateau reducing learning rate to 1.0000000656873453e-06.\n",
            "Optimizing model by reducing: mape for 1000 epochs, model number 0\n",
            "\n",
            "Epoch 248: ReduceLROnPlateau reducing learning rate to 0.00010000000474974513.\n",
            "\n",
            "Epoch 594: ReduceLROnPlateau reducing learning rate to 1.0000000474974514e-05.\n",
            "\n",
            "Epoch 694: ReduceLROnPlateau reducing learning rate to 1.0000000656873453e-06.\n",
            "Optimizing model by reducing: mse for 1000 epochs, model number 1\n",
            "\n",
            "Epoch 386: ReduceLROnPlateau reducing learning rate to 0.00010000000474974513.\n",
            "\n",
            "Epoch 486: ReduceLROnPlateau reducing learning rate to 1.0000000474974514e-05.\n",
            "Optimizing model by reducing: mae for 1000 epochs, model number 1\n",
            "\n",
            "Epoch 659: ReduceLROnPlateau reducing learning rate to 0.00010000000474974513.\n",
            "\n",
            "Epoch 759: ReduceLROnPlateau reducing learning rate to 1.0000000474974514e-05.\n",
            "Optimizing model by reducing: mape for 1000 epochs, model number 1\n",
            "\n",
            "Epoch 221: ReduceLROnPlateau reducing learning rate to 0.00010000000474974513.\n",
            "Optimizing model by reducing: mse for 1000 epochs, model number 2\n",
            "\n",
            "Epoch 555: ReduceLROnPlateau reducing learning rate to 0.00010000000474974513.\n",
            "\n",
            "Epoch 655: ReduceLROnPlateau reducing learning rate to 1.0000000474974514e-05.\n",
            "Optimizing model by reducing: mae for 1000 epochs, model number 2\n",
            "Optimizing model by reducing: mape for 1000 epochs, model number 2\n",
            "\n",
            "Epoch 182: ReduceLROnPlateau reducing learning rate to 0.00010000000474974513.\n",
            "\n",
            "Epoch 757: ReduceLROnPlateau reducing learning rate to 1.0000000474974514e-05.\n",
            "\n",
            "Epoch 860: ReduceLROnPlateau reducing learning rate to 1.0000000656873453e-06.\n",
            "\n",
            "Epoch 960: ReduceLROnPlateau reducing learning rate to 1.0000001111620805e-07.\n",
            "Optimizing model by reducing: mse for 1000 epochs, model number 3\n",
            "\n",
            "Epoch 851: ReduceLROnPlateau reducing learning rate to 0.00010000000474974513.\n",
            "\n",
            "Epoch 951: ReduceLROnPlateau reducing learning rate to 1.0000000474974514e-05.\n",
            "Optimizing model by reducing: mae for 1000 epochs, model number 3\n",
            "\n",
            "Epoch 834: ReduceLROnPlateau reducing learning rate to 0.00010000000474974513.\n",
            "\n",
            "Epoch 994: ReduceLROnPlateau reducing learning rate to 1.0000000474974514e-05.\n",
            "Optimizing model by reducing: mape for 1000 epochs, model number 3\n",
            "\n",
            "Epoch 664: ReduceLROnPlateau reducing learning rate to 0.00010000000474974513.\n",
            "\n",
            "Epoch 764: ReduceLROnPlateau reducing learning rate to 1.0000000474974514e-05.\n",
            "Optimizing model by reducing: mse for 1000 epochs, model number 4\n",
            "\n",
            "Epoch 306: ReduceLROnPlateau reducing learning rate to 0.00010000000474974513.\n",
            "\n",
            "Epoch 406: ReduceLROnPlateau reducing learning rate to 1.0000000474974514e-05.\n",
            "Optimizing model by reducing: mae for 1000 epochs, model number 4\n",
            "\n",
            "Epoch 772: ReduceLROnPlateau reducing learning rate to 0.00010000000474974513.\n",
            "\n",
            "Epoch 872: ReduceLROnPlateau reducing learning rate to 1.0000000474974514e-05.\n",
            "Optimizing model by reducing: mape for 1000 epochs, model number 4\n",
            "\n",
            "Epoch 230: ReduceLROnPlateau reducing learning rate to 0.00010000000474974513.\n",
            "\n",
            "Epoch 330: ReduceLROnPlateau reducing learning rate to 1.0000000474974514e-05.\n"
          ]
        }
      ]
    },
    {
      "cell_type": "code",
      "source": [
        "ensamble_models"
      ],
      "metadata": {
        "colab": {
          "base_uri": "https://localhost:8080/"
        },
        "id": "juBMJWey75u5",
        "outputId": "f467c345-e436-48cd-d1fe-c537dc96eea0"
      },
      "execution_count": null,
      "outputs": [
        {
          "output_type": "execute_result",
          "data": {
            "text/plain": [
              "<keras.engine.sequential.Sequential at 0x7f7b5d53a4c0>"
            ]
          },
          "metadata": {},
          "execution_count": 130
        }
      ]
    },
    {
      "cell_type": "code",
      "source": [
        "# Creating a function to get predictions from the ensamble\n",
        "def get_ensamble_preds(ensamble_models, test_ds=test_ds):\n",
        "  ensamble_preds = []\n",
        "  for model in ensamble_models:\n",
        "    preds = tf.squeeze(model.predict(test_ds, verbose=0))\n",
        "    ensamble_preds.append(preds)\n",
        "  return tf.constant(tf.squeeze(ensamble_preds))"
      ],
      "metadata": {
        "id": "l1PZxHq868p9"
      },
      "execution_count": null,
      "outputs": []
    },
    {
      "cell_type": "code",
      "source": [
        "# get the predictions\n",
        "ensamble_preds = get_ensamble_preds(ensamble_models=ensamble_models)"
      ],
      "metadata": {
        "id": "3Vg1F7Bj7br9"
      },
      "execution_count": null,
      "outputs": []
    },
    {
      "cell_type": "code",
      "source": [
        "# Reducing the predictions using mean and median\n",
        "ensamble_mean = tf.reduce_mean(ensamble_preds, axis=0)\n",
        "ensamble_median = np.median(ensamble_preds, axis=0)"
      ],
      "metadata": {
        "id": "nqH0Bv8C7lQG"
      },
      "execution_count": null,
      "outputs": []
    },
    {
      "cell_type": "code",
      "source": [
        "ensamble_results = regression_evaluation(y_test, ensamble_mean)\n",
        "ensamble_results"
      ],
      "metadata": {
        "colab": {
          "base_uri": "https://localhost:8080/"
        },
        "id": "9cxgKe8N9atk",
        "outputId": "ea8a67f8-4fe7-4f0f-c008-33eab5b1116f"
      },
      "execution_count": null,
      "outputs": [
        {
          "output_type": "execute_result",
          "data": {
            "text/plain": [
              "{'mae': 567.3724,\n",
              " 'mse': 1145301.5,\n",
              " 'rmse': 1070.1876,\n",
              " 'mape': 2.5761926,\n",
              " 'mase': 0.99671614}"
            ]
          },
          "metadata": {},
          "execution_count": 139
        }
      ]
    },
    {
      "cell_type": "code",
      "source": [
        "ensamble_results = regression_evaluation(y_test, ensamble_median)\n",
        "ensamble_results"
      ],
      "metadata": {
        "colab": {
          "base_uri": "https://localhost:8080/"
        },
        "id": "jLTpdjSs9cg0",
        "outputId": "d60ba865-d076-4773-fb48-a62fec72b02e"
      },
      "execution_count": null,
      "outputs": [
        {
          "output_type": "execute_result",
          "data": {
            "text/plain": [
              "{'mae': 565.7047,\n",
              " 'mse': 1144894.9,\n",
              " 'rmse': 1069.9976,\n",
              " 'mape': 2.5637705,\n",
              " 'mase': 0.9937865}"
            ]
          },
          "metadata": {},
          "execution_count": 141
        }
      ]
    },
    {
      "cell_type": "code",
      "source": [
        "naive_results"
      ],
      "metadata": {
        "colab": {
          "base_uri": "https://localhost:8080/"
        },
        "id": "ME-QMYkZ-_BN",
        "outputId": "13bdea01-d26b-43e0-90ba-1dd3df330435"
      },
      "execution_count": null,
      "outputs": [
        {
          "output_type": "execute_result",
          "data": {
            "text/plain": [
              "{'mae': 567.9802,\n",
              " 'mse': 1147547.0,\n",
              " 'rmse': 1071.2362,\n",
              " 'mape': 2.5165248,\n",
              " 'mase': 0.99957}"
            ]
          },
          "metadata": {},
          "execution_count": 143
        }
      ]
    },
    {
      "cell_type": "code",
      "source": [
        "# Turning the prediction to a 95% confidance range\n",
        "def get_upper_lower(preds):\n",
        "\n",
        "  # get the standard deveation\n",
        "  std = tf.math.reduce_std(preds, axis=0)\n",
        "\n",
        "  # getting the intereval in which 95 of the data lays\n",
        "  interval = 1.96 * std\n",
        "\n",
        "  # getting the lower and upper\n",
        "  preds_mean = tf.reduce_mean(preds, axis=0)\n",
        "  lower, upper = preds_mean - interval, preds_mean + interval\n",
        "\n",
        "  return lower, upper"
      ],
      "metadata": {
        "id": "HWp9WWG9AIo2"
      },
      "execution_count": null,
      "outputs": []
    },
    {
      "cell_type": "code",
      "source": [
        "# getting the range\n",
        "lower, upper = get_upper_lower(ensamble_preds)"
      ],
      "metadata": {
        "id": "DNXoe36fBKJr"
      },
      "execution_count": null,
      "outputs": []
    },
    {
      "cell_type": "code",
      "source": [
        "# Plot the range\n",
        "offset=500\n",
        "plt.figure(figsize=(10,10))\n",
        "plt.plot(x_test.index[offset:], y_test[offset:], \"-\", label=\"test_data\")\n",
        "plt.plot(x_test.index[offset:], ensamble_median[offset:], \"-\", label=\"ensamble_median\")\n",
        "plt.xlabel(\"Date\")\n",
        "plt.ylabel(\"Bitcoin Price\")\n",
        "plt.fill_between(x_test.index[offset:],\n",
        "                 lower[offset:],\n",
        "                 upper[offset:],\n",
        "                 label=\"Prediction Interval\")\n",
        "\n",
        "\n",
        "plt.legend()"
      ],
      "metadata": {
        "colab": {
          "base_uri": "https://localhost:8080/",
          "height": 624
        },
        "id": "3VIZHS0dCBL1",
        "outputId": "41b3274a-fc08-4e09-c9fd-8a172cb3cb92"
      },
      "execution_count": null,
      "outputs": [
        {
          "output_type": "execute_result",
          "data": {
            "text/plain": [
              "<matplotlib.legend.Legend at 0x7f7b5b92df70>"
            ]
          },
          "metadata": {},
          "execution_count": 151
        },
        {
          "output_type": "display_data",
          "data": {
            "text/plain": [
              "<Figure size 720x720 with 1 Axes>"
            ],
            "image/png": "[encoded data removed]"
          },
          "metadata": {
            "needs_background": "light"
          }
        }
      ]
    },
    {
      "cell_type": "markdown",
      "source": [
        "### Model 9: Predicting into the Future\n",
        "\n",
        "Training on the full history to predict the future"
      ],
      "metadata": {
        "id": "hjbiHj1oF_VK"
      }
    },
    {
      "cell_type": "code",
      "source": [
        "prices_block_windowed.tail()"
      ],
      "metadata": {
        "colab": {
          "base_uri": "https://localhost:8080/",
          "height": 388
        },
        "id": "eBcsDTshGEBQ",
        "outputId": "4564810a-c0f6-4d26-bb15-3ca67d92eeac"
      },
      "execution_count": null,
      "outputs": [
        {
          "output_type": "execute_result",
          "data": {
            "text/plain": [
              "                   Price  block_reward       Price+1       Price+2  \\\n",
              "Date                                                                 \n",
              "2021-05-14  49764.132082          6.25  52147.821187  56573.555472   \n",
              "2021-05-15  50032.693137          6.25  49764.132082  52147.821187   \n",
              "2021-05-16  47885.625255          6.25  50032.693137  49764.132082   \n",
              "2021-05-17  45604.615754          6.25  47885.625255  50032.693137   \n",
              "2021-05-18  43144.471291          6.25  45604.615754  47885.625255   \n",
              "\n",
              "                 Price+3       Price+4       Price+5       Price+6  \\\n",
              "Date                                                                 \n",
              "2021-05-14  55715.546651  58102.191426  58788.209679  57107.120672   \n",
              "2021-05-15  56573.555472  55715.546651  58102.191426  58788.209679   \n",
              "2021-05-16  52147.821187  56573.555472  55715.546651  58102.191426   \n",
              "2021-05-17  49764.132082  52147.821187  56573.555472  55715.546651   \n",
              "2021-05-18  50032.693137  49764.132082  52147.821187  56573.555472   \n",
              "\n",
              "                 Price+7  \n",
              "Date                      \n",
              "2021-05-14  56583.849879  \n",
              "2021-05-15  57107.120672  \n",
              "2021-05-16  58788.209679  \n",
              "2021-05-17  58102.191426  \n",
              "2021-05-18  55715.546651  "
            ],
            "text/html": [
              "\n",
              "  <div id=\"df-7e978afe-0452-44db-90cf-561591a10d00\">\n",
              "    <div class=\"colab-df-container\">\n",
              "      <div>\n",
              "<style scoped>\n",
              "    .dataframe tbody tr th:only-of-type {\n",
              "        vertical-align: middle;\n",
              "    }\n",
              "\n",
              "    .dataframe tbody tr th {\n",
              "        vertical-align: top;\n",
              "    }\n",
              "\n",
              "    .dataframe thead th {\n",
              "        text-align: right;\n",
              "    }\n",
              "</style>\n",
              "<table border=\"1\" class=\"dataframe\">\n",
              "  <thead>\n",
              "    <tr style=\"text-align: right;\">\n",
              "      <th></th>\n",
              "      <th>Price</th>\n",
              "      <th>block_reward</th>\n",
              "      <th>Price+1</th>\n",
              "      <th>Price+2</th>\n",
              "      <th>Price+3</th>\n",
              "      <th>Price+4</th>\n",
              "      <th>Price+5</th>\n",
              "      <th>Price+6</th>\n",
              "      <th>Price+7</th>\n",
              "    </tr>\n",
              "    <tr>\n",
              "      <th>Date</th>\n",
              "      <th></th>\n",
              "      <th></th>\n",
              "      <th></th>\n",
              "      <th></th>\n",
              "      <th></th>\n",
              "      <th></th>\n",
              "      <th></th>\n",
              "      <th></th>\n",
              "      <th></th>\n",
              "    </tr>\n",
              "  </thead>\n",
              "  <tbody>\n",
              "    <tr>\n",
              "      <th>2021-05-14</th>\n",
              "      <td>49764.132082</td>\n",
              "      <td>6.25</td>\n",
              "      <td>52147.821187</td>\n",
              "      <td>56573.555472</td>\n",
              "      <td>55715.546651</td>\n",
              "      <td>58102.191426</td>\n",
              "      <td>58788.209679</td>\n",
              "      <td>57107.120672</td>\n",
              "      <td>56583.849879</td>\n",
              "    </tr>\n",
              "    <tr>\n",
              "      <th>2021-05-15</th>\n",
              "      <td>50032.693137</td>\n",
              "      <td>6.25</td>\n",
              "      <td>49764.132082</td>\n",
              "      <td>52147.821187</td>\n",
              "      <td>56573.555472</td>\n",
              "      <td>55715.546651</td>\n",
              "      <td>58102.191426</td>\n",
              "      <td>58788.209679</td>\n",
              "      <td>57107.120672</td>\n",
              "    </tr>\n",
              "    <tr>\n",
              "      <th>2021-05-16</th>\n",
              "      <td>47885.625255</td>\n",
              "      <td>6.25</td>\n",
              "      <td>50032.693137</td>\n",
              "      <td>49764.132082</td>\n",
              "      <td>52147.821187</td>\n",
              "      <td>56573.555472</td>\n",
              "      <td>55715.546651</td>\n",
              "      <td>58102.191426</td>\n",
              "      <td>58788.209679</td>\n",
              "    </tr>\n",
              "    <tr>\n",
              "      <th>2021-05-17</th>\n",
              "      <td>45604.615754</td>\n",
              "      <td>6.25</td>\n",
              "      <td>47885.625255</td>\n",
              "      <td>50032.693137</td>\n",
              "      <td>49764.132082</td>\n",
              "      <td>52147.821187</td>\n",
              "      <td>56573.555472</td>\n",
              "      <td>55715.546651</td>\n",
              "      <td>58102.191426</td>\n",
              "    </tr>\n",
              "    <tr>\n",
              "      <th>2021-05-18</th>\n",
              "      <td>43144.471291</td>\n",
              "      <td>6.25</td>\n",
              "      <td>45604.615754</td>\n",
              "      <td>47885.625255</td>\n",
              "      <td>50032.693137</td>\n",
              "      <td>49764.132082</td>\n",
              "      <td>52147.821187</td>\n",
              "      <td>56573.555472</td>\n",
              "      <td>55715.546651</td>\n",
              "    </tr>\n",
              "  </tbody>\n",
              "</table>\n",
              "</div>\n",
              "      <button class=\"colab-df-convert\" onclick=\"convertToInteractive('df-7e978afe-0452-44db-90cf-561591a10d00')\"\n",
              "              title=\"Convert this dataframe to an interactive table.\"\n",
              "              style=\"display:none;\">\n",
              "        \n",
              "  <svg xmlns=\"http://www.w3.org/2000/svg\" height=\"24px\"viewBox=\"0 0 24 24\"\n",
              "       width=\"24px\">\n",
              "    <path d=\"M0 0h24v24H0V0z\" fill=\"none\"/>\n",
              "    <path d=\"M18.56 5.44l.94 2.06.94-2.06 2.06-.94-2.06-.94-.94-2.06-.94 2.06-2.06.94zm-11 1L8.5 8.5l.94-2.06 2.06-.94-2.06-.94L8.5 2.5l-.94 2.06-2.06.94zm10 10l.94 2.06.94-2.06 2.06-.94-2.06-.94-.94-2.06-.94 2.06-2.06.94z\"/><path d=\"M17.41 7.96l-1.37-1.37c-.4-.4-.92-.59-1.43-.59-.52 0-1.04.2-1.43.59L10.3 9.45l-7.72 7.72c-.78.78-.78 2.05 0 2.83L4 21.41c.39.39.9.59 1.41.59.51 0 1.02-.2 1.41-.59l7.78-7.78 2.81-2.81c.8-.78.8-2.07 0-2.86zM5.41 20L4 18.59l7.72-7.72 1.47 1.35L5.41 20z\"/>\n",
              "  </svg>\n",
              "      </button>\n",
              "      \n",
              "  <style>\n",
              "    .colab-df-container {\n",
              "      display:flex;\n",
              "      flex-wrap:wrap;\n",
              "      gap: 12px;\n",
              "    }\n",
              "\n",
              "    .colab-df-convert {\n",
              "      background-color: #E8F0FE;\n",
              "      border: none;\n",
              "      border-radius: 50%;\n",
              "      cursor: pointer;\n",
              "      display: none;\n",
              "      fill: #1967D2;\n",
              "      height: 32px;\n",
              "      padding: 0 0 0 0;\n",
              "      width: 32px;\n",
              "    }\n",
              "\n",
              "    .colab-df-convert:hover {\n",
              "      background-color: #E2EBFA;\n",
              "      box-shadow: 0px 1px 2px rgba(60, 64, 67, 0.3), 0px 1px 3px 1px rgba(60, 64, 67, 0.15);\n",
              "      fill: #174EA6;\n",
              "    }\n",
              "\n",
              "    [theme=dark] .colab-df-convert {\n",
              "      background-color: #3B4455;\n",
              "      fill: #D2E3FC;\n",
              "    }\n",
              "\n",
              "    [theme=dark] .colab-df-convert:hover {\n",
              "      background-color: #434B5C;\n",
              "      box-shadow: 0px 1px 3px 1px rgba(0, 0, 0, 0.15);\n",
              "      filter: drop-shadow(0px 1px 2px rgba(0, 0, 0, 0.3));\n",
              "      fill: #FFFFFF;\n",
              "    }\n",
              "  </style>\n",
              "\n",
              "      <script>\n",
              "        const buttonEl =\n",
              "          document.querySelector('#df-7e978afe-0452-44db-90cf-561591a10d00 button.colab-df-convert');\n",
              "        buttonEl.style.display =\n",
              "          google.colab.kernel.accessAllowed ? 'block' : 'none';\n",
              "\n",
              "        async function convertToInteractive(key) {\n",
              "          const element = document.querySelector('#df-7e978afe-0452-44db-90cf-561591a10d00');\n",
              "          const dataTable =\n",
              "            await google.colab.kernel.invokeFunction('convertToInteractive',\n",
              "                                                     [key], {});\n",
              "          if (!dataTable) return;\n",
              "\n",
              "          const docLinkHtml = 'Like what you see? Visit the ' +\n",
              "            '<a target=\"_blank\" href=https://colab.research.google.com/notebooks/data_table.ipynb>data table notebook</a>'\n",
              "            + ' to learn more about interactive tables.';\n",
              "          element.innerHTML = '';\n",
              "          dataTable['output_type'] = 'display_data';\n",
              "          await google.colab.output.renderOutput(dataTable, element);\n",
              "          const docLink = document.createElement('div');\n",
              "          docLink.innerHTML = docLinkHtml;\n",
              "          element.appendChild(docLink);\n",
              "        }\n",
              "      </script>\n",
              "    </div>\n",
              "  </div>\n",
              "  "
            ]
          },
          "metadata": {},
          "execution_count": 156
        }
      ]
    },
    {
      "cell_type": "code",
      "source": [
        "# Getting all the data\n",
        "x_all = prices_block_windowed.dropna().drop([\"Price\", \"block_reward\"], axis=1).to_numpy()\n",
        "y_all = prices_block_windowed.dropna()[\"Price\"].to_numpy()"
      ],
      "metadata": {
        "id": "QouO2V3-Guq8"
      },
      "execution_count": null,
      "outputs": []
    },
    {
      "cell_type": "code",
      "source": [
        "# Create DS from the data\n",
        "all_ds = preprocess_data(x_all, y_all, batch_size=1024)\n",
        "\n",
        "all_ds"
      ],
      "metadata": {
        "colab": {
          "base_uri": "https://localhost:8080/"
        },
        "id": "d-xNRC54HG9V",
        "outputId": "ddb53521-e4f6-487f-bfad-e215d1479a01"
      },
      "execution_count": null,
      "outputs": [
        {
          "output_type": "execute_result",
          "data": {
            "text/plain": [
              "<PrefetchDataset element_spec=(TensorSpec(shape=(None, 7), dtype=tf.float32, name=None), TensorSpec(shape=(None,), dtype=tf.float32, name=None))>"
            ]
          },
          "metadata": {},
          "execution_count": 160
        }
      ]
    },
    {
      "cell_type": "code",
      "source": [
        "# Creating and compiling the model\n",
        "\n",
        "model_9 = tf.keras.Sequential([\n",
        "    layers.Dense(128, activation=\"relu\"),\n",
        "    layers.Dense(128, activation=\"relu\"),\n",
        "    layers.Dense(HORIZON)\n",
        "], name=\"model_9_future\")\n",
        "\n",
        "model_9.compile(loss=\"mae\",\n",
        "                optimizer=\"Adam\")\n",
        "\n",
        "model_9_history = model_9.fit(all_ds,\n",
        "                              epochs=100,\n",
        "                              verbose=0,\n",
        "                              callbacks=[tf.keras.callbacks.ModelCheckpoint(monitor=\"loss\",\n",
        "                                                                            filepath=f\"/content/models_experiment/{model_9.name}\",\n",
        "                                                                            verbose=0,\n",
        "                                                                            save_best_only=True)])"
      ],
      "metadata": {
        "id": "joei3XsFHaH8"
      },
      "execution_count": null,
      "outputs": []
    },
    {
      "cell_type": "code",
      "source": [
        "# Predicting in to the future\n",
        "INTO_FUTURE = 100"
      ],
      "metadata": {
        "id": "ABVjqmXqIRGT"
      },
      "execution_count": null,
      "outputs": []
    },
    {
      "cell_type": "code",
      "source": [
        "# a Function that predicts into the future\n",
        "def future_predict(data, model, window_size, into_future):\n",
        "  future = []\n",
        "  last_window = data[-window_size:]\n",
        "  for _ in range(into_future):\n",
        "    pred = model.predict(tf.expand_dims(data[-window_size:], axis=0), verbose=0)\n",
        "    future.append(pred)\n",
        "    data = np.concatenate((data, [tf.squeeze(pred)]))\n",
        "  return future"
      ],
      "metadata": {
        "id": "NVxGoECXI5wm"
      },
      "execution_count": null,
      "outputs": []
    },
    {
      "cell_type": "code",
      "source": [
        "future_forcast = future_predict(y_all, model_9, 7, INTO_FUTURE)\n",
        "tf.squeeze(future_forcast)"
      ],
      "metadata": {
        "colab": {
          "base_uri": "https://localhost:8080/"
        },
        "id": "1eoscIM5KjU4",
        "outputId": "8816e673-0938-4a74-c481-495680b875ee"
      },
      "execution_count": null,
      "outputs": [
        {
          "output_type": "stream",
          "name": "stdout",
          "text": [
            "1/1 [==============================] - 0s 19ms/step\n",
            "1/1 [==============================] - 0s 19ms/step\n",
            "1/1 [==============================] - 0s 19ms/step\n",
            "1/1 [==============================] - 0s 20ms/step\n",
            "1/1 [==============================] - 0s 19ms/step\n",
            "1/1 [==============================] - 0s 19ms/step\n",
            "1/1 [==============================] - 0s 18ms/step\n",
            "1/1 [==============================] - 0s 18ms/step\n",
            "1/1 [==============================] - 0s 21ms/step\n",
            "1/1 [==============================] - 0s 17ms/step\n",
            "1/1 [==============================] - 0s 17ms/step\n",
            "1/1 [==============================] - 0s 18ms/step\n",
            "1/1 [==============================] - 0s 18ms/step\n",
            "1/1 [==============================] - 0s 19ms/step\n",
            "1/1 [==============================] - 0s 27ms/step\n",
            "1/1 [==============================] - 0s 19ms/step\n",
            "1/1 [==============================] - 0s 18ms/step\n",
            "1/1 [==============================] - 0s 20ms/step\n",
            "1/1 [==============================] - 0s 19ms/step\n",
            "1/1 [==============================] - 0s 27ms/step\n",
            "1/1 [==============================] - 0s 18ms/step\n",
            "1/1 [==============================] - 0s 18ms/step\n",
            "1/1 [==============================] - 0s 18ms/step\n",
            "1/1 [==============================] - 0s 20ms/step\n",
            "1/1 [==============================] - 0s 20ms/step\n",
            "1/1 [==============================] - 0s 19ms/step\n",
            "1/1 [==============================] - 0s 18ms/step\n",
            "1/1 [==============================] - 0s 22ms/step\n",
            "1/1 [==============================] - 0s 20ms/step\n",
            "1/1 [==============================] - 0s 19ms/step\n",
            "1/1 [==============================] - 0s 19ms/step\n",
            "1/1 [==============================] - 0s 20ms/step\n",
            "1/1 [==============================] - 0s 21ms/step\n",
            "1/1 [==============================] - 0s 23ms/step\n",
            "1/1 [==============================] - 0s 19ms/step\n",
            "1/1 [==============================] - 0s 23ms/step\n",
            "1/1 [==============================] - 0s 21ms/step\n",
            "1/1 [==============================] - 0s 18ms/step\n",
            "1/1 [==============================] - 0s 18ms/step\n",
            "1/1 [==============================] - 0s 21ms/step\n",
            "1/1 [==============================] - 0s 18ms/step\n",
            "1/1 [==============================] - 0s 33ms/step\n",
            "1/1 [==============================] - 0s 20ms/step\n",
            "1/1 [==============================] - 0s 22ms/step\n",
            "1/1 [==============================] - 0s 22ms/step\n",
            "1/1 [==============================] - 0s 20ms/step\n",
            "1/1 [==============================] - 0s 20ms/step\n",
            "1/1 [==============================] - 0s 18ms/step\n",
            "1/1 [==============================] - 0s 22ms/step\n",
            "1/1 [==============================] - 0s 22ms/step\n",
            "1/1 [==============================] - 0s 21ms/step\n",
            "1/1 [==============================] - 0s 17ms/step\n",
            "1/1 [==============================] - 0s 18ms/step\n",
            "1/1 [==============================] - 0s 23ms/step\n",
            "1/1 [==============================] - 0s 21ms/step\n",
            "1/1 [==============================] - 0s 19ms/step\n",
            "1/1 [==============================] - 0s 18ms/step\n",
            "1/1 [==============================] - 0s 18ms/step\n",
            "1/1 [==============================] - 0s 19ms/step\n",
            "1/1 [==============================] - 0s 18ms/step\n",
            "1/1 [==============================] - 0s 21ms/step\n",
            "1/1 [==============================] - 0s 24ms/step\n",
            "1/1 [==============================] - 0s 20ms/step\n",
            "1/1 [==============================] - 0s 28ms/step\n",
            "1/1 [==============================] - 0s 18ms/step\n",
            "1/1 [==============================] - 0s 20ms/step\n",
            "1/1 [==============================] - 0s 22ms/step\n",
            "1/1 [==============================] - 0s 18ms/step\n",
            "1/1 [==============================] - 0s 18ms/step\n",
            "1/1 [==============================] - 0s 19ms/step\n",
            "1/1 [==============================] - 0s 21ms/step\n",
            "1/1 [==============================] - 0s 21ms/step\n",
            "1/1 [==============================] - 0s 19ms/step\n",
            "1/1 [==============================] - 0s 20ms/step\n",
            "1/1 [==============================] - 0s 19ms/step\n",
            "1/1 [==============================] - 0s 19ms/step\n",
            "1/1 [==============================] - 0s 25ms/step\n",
            "1/1 [==============================] - 0s 19ms/step\n",
            "1/1 [==============================] - 0s 19ms/step\n",
            "1/1 [==============================] - 0s 19ms/step\n",
            "1/1 [==============================] - 0s 27ms/step\n",
            "1/1 [==============================] - 0s 18ms/step\n",
            "1/1 [==============================] - 0s 19ms/step\n",
            "1/1 [==============================] - 0s 17ms/step\n",
            "1/1 [==============================] - 0s 20ms/step\n",
            "1/1 [==============================] - 0s 18ms/step\n",
            "1/1 [==============================] - 0s 20ms/step\n",
            "1/1 [==============================] - 0s 18ms/step\n",
            "1/1 [==============================] - 0s 22ms/step\n",
            "1/1 [==============================] - 0s 20ms/step\n",
            "1/1 [==============================] - 0s 18ms/step\n",
            "1/1 [==============================] - 0s 18ms/step\n",
            "1/1 [==============================] - 0s 17ms/step\n",
            "1/1 [==============================] - 0s 19ms/step\n",
            "1/1 [==============================] - 0s 19ms/step\n",
            "1/1 [==============================] - 0s 18ms/step\n",
            "1/1 [==============================] - 0s 23ms/step\n",
            "1/1 [==============================] - 0s 22ms/step\n",
            "1/1 [==============================] - 0s 20ms/step\n",
            "1/1 [==============================] - 0s 18ms/step\n"
          ]
        },
        {
          "output_type": "execute_result",
          "data": {
            "text/plain": [
              "<tf.Tensor: shape=(100,), dtype=float32, numpy=\n",
              "array([55599.617, 52404.23 , 49858.535, 48777.906, 46094.42 , 46048.7  ,\n",
              "       49036.457, 55227.2  , 51948.527, 48970.26 , 47164.812, 46085.895,\n",
              "       48465.75 , 52554.145, 54548.65 , 50715.652, 47621.324, 46513.316,\n",
              "       47667.863, 51345.633, 54237.336, 53178.133, 49048.387, 46686.906,\n",
              "       47288.91 , 50179.023, 53659.355, 54287.066, 51246.355, 47566.383,\n",
              "       46870.29 , 49210.945, 52778.87 , 54750.53 , 53046.94 , 49255.836,\n",
              "       46947.35 , 48275.656, 51757.984, 54644.586, 54405.395, 51126.434,\n",
              "       47832.19 , 47623.94 , 50568.125, 54105.855, 55245.72 , 52932.707,\n",
              "       49255.797, 47557.35 , 49430.617, 53155.21 , 55538.707, 54489.516,\n",
              "       50990.74 , 48145.47 , 48629.047, 51943.492, 55257.355, 55648.72 ,\n",
              "       52804.605, 49311.07 , 48316.72 , 50723.07 , 54467.605, 56266.562,\n",
              "       54518.273, 50885.195, 48584.414, 49765.105, 53338.59 , 56266.02 ,\n",
              "       55923.086, 52680.125, 49467.918, 49207.82 , 52106.676, 55703.586,\n",
              "       56836.29 , 54484.332, 50852.695, 49171.39 , 51000.543, 54726.04 ,\n",
              "       57139.68 , 56079.453, 52573.87 , 49757.49 , 50226.18 , 53523.703,\n",
              "       56849.26 , 57256.94 , 54407.434, 50915.957, 49922.695, 52322.043,\n",
              "       56062.98 , 57875.508, 56138.047, 52499.812], dtype=float32)>"
            ]
          },
          "metadata": {},
          "execution_count": 199
        }
      ]
    },
    {
      "cell_type": "code",
      "source": [
        "def get_future_dates(start_date, into_future, offset=1):\n",
        "  start_date = start_date + np.timedelta64(offset, \"D\")\n",
        "  end_date = start_date + np.timedelta64(into_future, \"D\")\n",
        "  return np.arange(start_date, end_date, dtype=\"datetime64[D]\")\n",
        "     \n",
        "\n",
        "# Last timestep of timesteps\n",
        "last_timestep = bitcoin_prices.index[-1]\n",
        "last_timestep"
      ],
      "metadata": {
        "colab": {
          "base_uri": "https://localhost:8080/"
        },
        "id": "VCPuwxaBNwzJ",
        "outputId": "760e7109-9e7a-4766-89bc-bbf806ad2a70"
      },
      "execution_count": null,
      "outputs": [
        {
          "output_type": "execute_result",
          "data": {
            "text/plain": [
              "Timestamp('2021-05-18 00:00:00')"
            ]
          },
          "metadata": {},
          "execution_count": 200
        }
      ]
    },
    {
      "cell_type": "code",
      "source": [
        "# Get next two week of timesteps\n",
        "next_time_steps = get_future_dates(start_date=last_timestep,\n",
        "                                   into_future=INTO_FUTURE)\n",
        "next_time_steps"
      ],
      "metadata": {
        "colab": {
          "base_uri": "https://localhost:8080/"
        },
        "id": "-pPVBfEvOkvM",
        "outputId": "2e122c40-5ea7-4d7f-d1c2-b583262c0b2f"
      },
      "execution_count": null,
      "outputs": [
        {
          "output_type": "execute_result",
          "data": {
            "text/plain": [
              "array(['2021-05-19', '2021-05-20', '2021-05-21', '2021-05-22',\n",
              "       '2021-05-23', '2021-05-24', '2021-05-25', '2021-05-26',\n",
              "       '2021-05-27', '2021-05-28', '2021-05-29', '2021-05-30',\n",
              "       '2021-05-31', '2021-06-01', '2021-06-02', '2021-06-03',\n",
              "       '2021-06-04', '2021-06-05', '2021-06-06', '2021-06-07',\n",
              "       '2021-06-08', '2021-06-09', '2021-06-10', '2021-06-11',\n",
              "       '2021-06-12', '2021-06-13', '2021-06-14', '2021-06-15',\n",
              "       '2021-06-16', '2021-06-17', '2021-06-18', '2021-06-19',\n",
              "       '2021-06-20', '2021-06-21', '2021-06-22', '2021-06-23',\n",
              "       '2021-06-24', '2021-06-25', '2021-06-26', '2021-06-27',\n",
              "       '2021-06-28', '2021-06-29', '2021-06-30', '2021-07-01',\n",
              "       '2021-07-02', '2021-07-03', '2021-07-04', '2021-07-05',\n",
              "       '2021-07-06', '2021-07-07', '2021-07-08', '2021-07-09',\n",
              "       '2021-07-10', '2021-07-11', '2021-07-12', '2021-07-13',\n",
              "       '2021-07-14', '2021-07-15', '2021-07-16', '2021-07-17',\n",
              "       '2021-07-18', '2021-07-19', '2021-07-20', '2021-07-21',\n",
              "       '2021-07-22', '2021-07-23', '2021-07-24', '2021-07-25',\n",
              "       '2021-07-26', '2021-07-27', '2021-07-28', '2021-07-29',\n",
              "       '2021-07-30', '2021-07-31', '2021-08-01', '2021-08-02',\n",
              "       '2021-08-03', '2021-08-04', '2021-08-05', '2021-08-06',\n",
              "       '2021-08-07', '2021-08-08', '2021-08-09', '2021-08-10',\n",
              "       '2021-08-11', '2021-08-12', '2021-08-13', '2021-08-14',\n",
              "       '2021-08-15', '2021-08-16', '2021-08-17', '2021-08-18',\n",
              "       '2021-08-19', '2021-08-20', '2021-08-21', '2021-08-22',\n",
              "       '2021-08-23', '2021-08-24', '2021-08-25', '2021-08-26'],\n",
              "      dtype='datetime64[D]')"
            ]
          },
          "metadata": {},
          "execution_count": 201
        }
      ]
    },
    {
      "cell_type": "code",
      "source": [
        "next_time_steps = np.insert(next_time_steps, 0, last_timestep)\n",
        "future_forcast = np.insert(future_forcast, 0, prices[-1])"
      ],
      "metadata": {
        "id": "u48cuXE9PJtV"
      },
      "execution_count": null,
      "outputs": []
    },
    {
      "cell_type": "code",
      "source": [
        "# Plotting the forcasts\n",
        "plt.figure(figsize=(10,10))\n",
        "plot_time_series(bitcoin_prices.index, prices, start=2500, label=\"Actual prices\", format=\"-\")\n",
        "plot_time_series(next_time_steps, future_forcast, label=\"forcast\", format=\"-\")"
      ],
      "metadata": {
        "colab": {
          "base_uri": "https://localhost:8080/",
          "height": 606
        },
        "id": "ERmpJWoFOlIn",
        "outputId": "f1f613ec-e9af-4da6-cd39-33ee95b847a3"
      },
      "execution_count": null,
      "outputs": [
        {
          "output_type": "display_data",
          "data": {
            "text/plain": [
              "<Figure size 720x720 with 1 Axes>"
            ],
            "image/png": "[encoded data removed]"
          },
          "metadata": {
            "needs_background": "light"
          }
        }
      ]
    },
    {
      "cell_type": "code",
      "source": [
        "### Comparing all models\n",
        "model_results = pd.DataFrame({\"naive_model\": naive_results,\n",
        "                              \"model_1_dense_w7_h1\": model_1_results,\n",
        "                              \"model_2_dense_w30_h1\": model_2_results,\n",
        "                              \"model_3_dense_w30_h7\": model_3_results,\n",
        "                              \"model_4_CONV1D\": model_4_results,\n",
        "                              \"model_5_LSTM\": model_5_results,\n",
        "                              \"model_6_multivariate\": model_6_results,\n",
        "                              \"model_7_NBEATS\": model_7_results,\n",
        "                              \"model_8_ensemble\": ensemble_results}).T\n",
        "model_results.head(10)"
      ],
      "metadata": {
        "id": "eW_5YV2mmOST"
      },
      "execution_count": null,
      "outputs": []
    },
    {
      "cell_type": "code",
      "source": [
        "model_results[[\"mae\"]].sort_values(by=\"mae\").plot(figsize=(10, 7), kind=\"bar\");"
      ],
      "metadata": {
        "id": "3Wh_qIRGmXe1"
      },
      "execution_count": null,
      "outputs": []
    }
  ]
}
