{
 "cells": [
  {
   "cell_type": "markdown",
   "id": "5849adde-7290-4adb-bb97-7e45c89b5cff",
   "metadata": {},
   "source": [
    "# Shor's Algorithm\n",
    "\n",
    "Find the primary factors of large numbers"
   ]
  },
  {
   "cell_type": "code",
   "execution_count": 13,
   "id": "05d70c88-e594-40a9-b619-a072ca2ea63d",
   "metadata": {},
   "outputs": [],
   "source": [
    "import math\n",
    "import matplotlib.pyplot as mpl\n",
    "import numpy as np"
   ]
  },
  {
   "cell_type": "markdown",
   "id": "92a05923-270b-4c7c-b75e-8fc4c2110f59",
   "metadata": {},
   "source": [
    "## Implementing the classical way of shor's algorithms"
   ]
  },
  {
   "cell_type": "code",
   "execution_count": 86,
   "id": "64642267-510c-426a-996e-c92b73b80df0",
   "metadata": {},
   "outputs": [],
   "source": [
    "N = 15\n",
    "a = 13"
   ]
  },
  {
   "cell_type": "code",
   "execution_count": 87,
   "id": "7c2af4fb-0f1a-46db-a89a-813c8e935f18",
   "metadata": {},
   "outputs": [
    {
     "data": {
      "text/plain": [
       "1"
      ]
     },
     "execution_count": 87,
     "metadata": {},
     "output_type": "execute_result"
    }
   ],
   "source": [
    "math.gcd(a, N)"
   ]
  },
  {
   "cell_type": "code",
   "execution_count": 88,
   "id": "8f723b30-34cf-4c4c-a3d2-cb3322cb5c8b",
   "metadata": {},
   "outputs": [
    {
     "data": {
      "image/png": "[encoded data removed]",
      "text/plain": [
       "<Figure size 432x288 with 1 Axes>"
      ]
     },
     "metadata": {
      "needs_background": "light"
     },
     "output_type": "display_data"
    }
   ],
   "source": [
    "# Find the periodic repetition\n",
    "z = list(range(N))\n",
    "y = [a**z0 % N for z0 in z]\n",
    "\n",
    "mpl.plot(z,y)\n",
    "mpl.xlabel('z')\n",
    "mpl.ylabel(f'{a}^z (mod {N})')\n",
    "mpl.show()"
   ]
  },
  {
   "cell_type": "code",
   "execution_count": 89,
   "id": "1ac4f5fb-9ef4-4943-8f20-209480f0c9ce",
   "metadata": {},
   "outputs": [
    {
     "name": "stdout",
     "output_type": "stream",
     "text": [
      "4\n"
     ]
    }
   ],
   "source": [
    "r = z[y[1:].index(1)+1]\n",
    "print(r)"
   ]
  },
  {
   "cell_type": "code",
   "execution_count": 90,
   "id": "8977d500-50ef-460a-8b98-afc98df978c8",
   "metadata": {},
   "outputs": [
    {
     "name": "stdout",
     "output_type": "stream",
     "text": [
      "x: 25.0\n",
      "x+1 is 0 (mod N)\n"
     ]
    }
   ],
   "source": [
    "if r % 2 == 0:\n",
    "    x = (a**(r/2.)) % N\n",
    "    print(f'x: {x}')\n",
    "    if((x+1) % N) != 0:\n",
    "        print(math.gcd((int(x)+1),N), math.gcd((int(x)-1),N))\n",
    "    else:\n",
    "        print('x+1 is 0 (mod N)')\n",
    "else:\n",
    "    print('r is odd')"
   ]
  },
  {
   "cell_type": "markdown",
   "id": "88de6e41-6632-44fb-afa1-f815010dc610",
   "metadata": {},
   "source": [
    "## Using Qiskit's Shor module to solve the problem"
   ]
  },
  {
   "cell_type": "code",
   "execution_count": 2,
   "id": "73fe91c8-cc05-4772-b7a7-0e1ae52cee58",
   "metadata": {},
   "outputs": [
    {
     "name": "stderr",
     "output_type": "stream",
     "text": [
      "<frozen importlib._bootstrap>:219: RuntimeWarning: scipy._lib.messagestream.MessageStream size changed, may indicate binary incompatibility. Expected 56 from C header, got 64 from PyObject\n"
     ]
    }
   ],
   "source": [
    "from qiskit import *\n",
    "from qiskit.algorithms import Shor"
   ]
  },
  {
   "cell_type": "code",
   "execution_count": 3,
   "id": "9a48599b-3260-4c47-b535-39e900e21c09",
   "metadata": {},
   "outputs": [
    {
     "name": "stderr",
     "output_type": "stream",
     "text": [
      "/tmp/ipykernel_415/3429151674.py:5: DeprecationWarning: The Shor class is deprecated as of Qiskit Terra 0.22.0 and will be removed\n",
      "        no sooner than 3 months after the release date.\n",
      "        It is replaced by the tutorial at https://qiskit.org/textbook/ch-algorithms/shor.html\n",
      "        \n",
      "  shor = Shor(quantum_instance=qinstance)\n"
     ]
    },
    {
     "name": "stdout",
     "output_type": "stream",
     "text": [
      "Factors: [[3, 5]]\n"
     ]
    }
   ],
   "source": [
    "# Load the simulator\n",
    "qinstance = Aer.get_backend('qasm_simulator')\n",
    "\n",
    "# Create a Shor instance\n",
    "shor = Shor(quantum_instance=qinstance)\n",
    "\n",
    "# Run the experiment with the Shor instance\n",
    "result = shor.factor(N=15, a=7)\n",
    "print('Factors:', result.factors)"
   ]
  }
 ],
 "metadata": {
  "kernelspec": {
   "display_name": "Python 3 (ipykernel)",
   "language": "python",
   "name": "python3"
  },
  "language_info": {
   "codemirror_mode": {
    "name": "ipython",
    "version": 3
   },
   "file_extension": ".py",
   "mimetype": "text/x-python",
   "name": "python",
   "nbconvert_exporter": "python",
   "pygments_lexer": "ipython3",
   "version": "3.8.13"
  },
  "widgets": {
   "application/vnd.jupyter.widget-state+json": {
    "state": {},
    "version_major": 2,
    "version_minor": 0
   }
  }
 },
 "nbformat": 4,
 "nbformat_minor": 5
}
