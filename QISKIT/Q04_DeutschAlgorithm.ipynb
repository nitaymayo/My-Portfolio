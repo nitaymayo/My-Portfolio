{
 "cells": [
  {
   "cell_type": "markdown",
   "id": "820330be-be75-4c7e-ab20-064eb11ca4e0",
   "metadata": {},
   "source": [
    "# Deutsch algorithm\n",
    "\n",
    "Implementing the algorithm to show the adventage of the quantum computer over the classical\n",
    "\n",
    "The task given a function, determane if the function is balanced or constant as shown:<br>\n",
    "Constant:\n",
    "```\n",
    "{\n",
    "f(0) = 0 AND f(1) = 0\n",
    "}\n",
    "OR\n",
    "{\n",
    "f(0) = 1 AND f(1) = 1\n",
    "}\n",
    "```\n",
    "Balanced:\n",
    "```\n",
    "{\n",
    "f(0) = 0 AND f(1) = 1\n",
    "}\n",
    "OR\n",
    "{\n",
    "f(0) = 1 AND f(1) = 0\n",
    "}\n",
    "```"
   ]
  },
  {
   "cell_type": "code",
   "execution_count": 1,
   "id": "156667a9-937b-42f6-82d4-6d8d741788c6",
   "metadata": {},
   "outputs": [],
   "source": [
    "from qiskit import *\n",
    "from qiskit.visualization import plot_histogram\n",
    "import matplotlib\n",
    "import pandas as pd"
   ]
  },
  {
   "cell_type": "code",
   "execution_count": 33,
   "id": "894663b0-1bc4-42a2-bb67-c3aed704f2b0",
   "metadata": {},
   "outputs": [
    {
     "data": {
      "image/png": "[encoded data removed]",
      "text/plain": [
       "<Figure size 447.652x204.68 with 1 Axes>"
      ]
     },
     "execution_count": 33,
     "metadata": {},
     "output_type": "execute_result"
    }
   ],
   "source": [
    "# Build the circuit\n",
    "qc = QuantumCircuit(2,1)\n",
    "\n",
    "qc.i(0)\n",
    "qc.x(1)\n",
    "qc.h([0,1])\n",
    "\n",
    "qc.barrier()\n",
    "# This is our \"Black box\" function, in this example its a balanced function\n",
    "qc.cx(0,1)\n",
    "# For constant function uncomment the cx-gate above\n",
    "\n",
    "qc.barrier()\n",
    "\n",
    "qc.h(0)\n",
    "\n",
    "qc.measure(0,0)\n",
    "\n",
    "\n",
    "qc.draw()"
   ]
  },
  {
   "cell_type": "code",
   "execution_count": 34,
   "id": "706cc0a8-a284-43e9-b6cf-ce9d04caa851",
   "metadata": {},
   "outputs": [
    {
     "data": {
      "image/png": "[encoded data removed]",
      "text/plain": [
       "<Figure size 504x360 with 1 Axes>"
      ]
     },
     "execution_count": 34,
     "metadata": {},
     "output_type": "execute_result"
    },
    {
     "data": {
      "text/plain": [
       "<Figure size 432x288 with 0 Axes>"
      ]
     },
     "metadata": {},
     "output_type": "display_data"
    }
   ],
   "source": [
    "# Running on a simulator\n",
    "simulator = Aer.get_backend('qasm_simulator')\n",
    "result = execute(qc, backend=simulator).result()\n",
    "\n",
    "matplotlib.pyplot.figure()\n",
    "\n",
    "plot_histogram(result.get_counts())"
   ]
  },
  {
   "cell_type": "code",
   "execution_count": 15,
   "id": "8ec1dd8c-d9be-44d2-bd55-4527fcf2cf1c",
   "metadata": {},
   "outputs": [
    {
     "name": "stderr",
     "output_type": "stream",
     "text": [
      "ibmqfactory.load_account:WARNING:2023-01-13 08:22:26,010: Credentials are already in use. The existing account in the session will be replaced.\n"
     ]
    },
    {
     "data": {
      "text/plain": [
       "<AccountProvider for IBMQ(hub='ibm-q', group='open', project='main')>"
      ]
     },
     "execution_count": 15,
     "metadata": {},
     "output_type": "execute_result"
    }
   ],
   "source": [
    "IBMQ.load_account()"
   ]
  },
  {
   "cell_type": "code",
   "execution_count": 16,
   "id": "65573b69-ed30-4692-b25e-f47c2e5729bb",
   "metadata": {},
   "outputs": [
    {
     "data": {
      "text/plain": [
       "[<IBMQSimulator('ibmq_qasm_simulator') from IBMQ(hub='ibm-q', group='open', project='main')>,\n",
       " <IBMQBackend('ibmq_lima') from IBMQ(hub='ibm-q', group='open', project='main')>,\n",
       " <IBMQBackend('ibmq_belem') from IBMQ(hub='ibm-q', group='open', project='main')>,\n",
       " <IBMQBackend('ibmq_quito') from IBMQ(hub='ibm-q', group='open', project='main')>,\n",
       " <IBMQSimulator('simulator_statevector') from IBMQ(hub='ibm-q', group='open', project='main')>,\n",
       " <IBMQSimulator('simulator_mps') from IBMQ(hub='ibm-q', group='open', project='main')>,\n",
       " <IBMQSimulator('simulator_extended_stabilizer') from IBMQ(hub='ibm-q', group='open', project='main')>,\n",
       " <IBMQSimulator('simulator_stabilizer') from IBMQ(hub='ibm-q', group='open', project='main')>,\n",
       " <IBMQBackend('ibmq_manila') from IBMQ(hub='ibm-q', group='open', project='main')>,\n",
       " <IBMQBackend('ibm_nairobi') from IBMQ(hub='ibm-q', group='open', project='main')>,\n",
       " <IBMQBackend('ibm_oslo') from IBMQ(hub='ibm-q', group='open', project='main')>]"
      ]
     },
     "execution_count": 16,
     "metadata": {},
     "output_type": "execute_result"
    }
   ],
   "source": [
    "# Searching fot the best real quantum computer to run on\n",
    "provider = IBMQ.get_provider('ibm-q')\n",
    "\n",
    "provider.backends()"
   ]
  },
  {
   "cell_type": "code",
   "execution_count": null,
   "id": "309a1e28-b57c-41b7-a3fe-f7fcc91ebbcc",
   "metadata": {},
   "outputs": [],
   "source": [
    "provider.backends()[1].properties().qubits"
   ]
  },
  {
   "cell_type": "code",
   "execution_count": 24,
   "id": "c5b21732-032d-4cad-ac99-335012e6ee28",
   "metadata": {},
   "outputs": [
    {
     "name": "stdout",
     "output_type": "stream",
     "text": [
      "['ibmq_qasm_simulator', 2, 'simulated']\n",
      "['ibmq_lima', 13, 5]\n",
      "['ibmq_belem', 15, 5]\n",
      "['ibmq_quito', 17, 5]\n",
      "['simulator_statevector', 2, 'simulated']\n",
      "['simulator_mps', 2, 'simulated']\n",
      "['simulator_extended_stabilizer', 2, 'simulated']\n",
      "['simulator_stabilizer', 2, 'simulated']\n",
      "['ibmq_manila', 2, 5]\n",
      "['ibm_nairobi', 40, 7]\n",
      "['ibm_oslo', 1, 7]\n",
      "Empty DataFrame\n",
      "Columns: [backend, jobs, qubits]\n",
      "Index: []\n"
     ]
    }
   ],
   "source": [
    "# Comperison over the available computer\n",
    "df = pd.DataFrame({\"backend\":[], \"jobs\":[], 'qubits':[]})\n",
    "\n",
    "for backend in provider.backends():\n",
    "    try:\n",
    "        qubits = len(backend.properties().qubits)\n",
    "    except:\n",
    "        qubits = 'simulated'\n",
    "    print([backend.name(), backend.status().pending_jobs, qubits])\n",
    "    df.append(pd.DataFrame([backend.name(), backend.status().pending_jobs, qubits]))\n",
    "    \n",
    "print(df)\n",
    "        "
   ]
  },
  {
   "cell_type": "code",
   "execution_count": 25,
   "id": "516e2f79-ce2f-4794-8a6a-59cb4e966e6c",
   "metadata": {},
   "outputs": [
    {
     "data": {
      "image/png": "[encoded data removed]",
      "text/plain": [
       "<Figure size 504x360 with 1 Axes>"
      ]
     },
     "execution_count": 25,
     "metadata": {},
     "output_type": "execute_result"
    }
   ],
   "source": [
    "# Running on  real quantum computer\n",
    "quantum_computer = provider.get_backend('ibm_oslo')\n",
    "result = execute(qc, backend=quantum_computer).result()\n",
    "\n",
    "plot_histogram(result.get_counts())\n",
    "                                       "
   ]
  },
  {
   "cell_type": "code",
   "execution_count": null,
   "id": "8276bbfe-c6fe-45da-b2fe-6d1a515d434f",
   "metadata": {},
   "outputs": [],
   "source": [
    "\n",
    "\n",
    "\n",
    "\n",
    "\n",
    "\n",
    "\n",
    "\n",
    "\n",
    "\n",
    "\n",
    "\n",
    "\n",
    "\n",
    "\n",
    "\n",
    "\n",
    "\n",
    "\n",
    "\n",
    "\n",
    "\n",
    "\n",
    "\n",
    "\n",
    "\n",
    "\n",
    "\n",
    "\n",
    "\n"
   ]
  }
 ],
 "metadata": {
  "kernelspec": {
   "display_name": "Python 3 (ipykernel)",
   "language": "python",
   "name": "python3"
  },
  "language_info": {
   "codemirror_mode": {
    "name": "ipython",
    "version": 3
   },
   "file_extension": ".py",
   "mimetype": "text/x-python",
   "name": "python",
   "nbconvert_exporter": "python",
   "pygments_lexer": "ipython3",
   "version": "3.8.13"
  },
  "widgets": {
   "application/vnd.jupyter.widget-state+json": {
    "state": {},
    "version_major": 2,
    "version_minor": 0
   }
  }
 },
 "nbformat": 4,
 "nbformat_minor": 5
}
