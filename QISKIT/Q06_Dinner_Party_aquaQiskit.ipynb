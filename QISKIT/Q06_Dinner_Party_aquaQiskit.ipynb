{
 "cells": [
  {
   "cell_type": "markdown",
   "id": "f5f3d03d-a52c-496f-9cf9-15ccd14aa5cc",
   "metadata": {},
   "source": [
    "# Dinner Party Problem - Aqua Qiskit module\n",
    "\n",
    "Using quantum computing to solve a dinner party constraints problem<br>\n",
    "\n",
    "Task: Given those constraints find the possible inventations possabilities\n",
    "```\n",
    "{James AND Lars}\n",
    "OR\n",
    "{Kirk AND Rob}\n",
    "AND NOT\n",
    "{Lars AND Rob}\n",
    "```\n",
    "\n",
    "In the code:\n",
    "```\n",
    "0001 = James\n",
    "0010 = Lars\n",
    "0100 = Kirk\n",
    "1000 = Rob\n",
    "\n",
    "```"
   ]
  },
  {
   "cell_type": "code",
   "execution_count": 1,
   "id": "fd1e39eb-b5f3-49c0-9738-aad95324e41e",
   "metadata": {},
   "outputs": [
    {
     "name": "stderr",
     "output_type": "stream",
     "text": [
      "<frozen importlib._bootstrap>:219: RuntimeWarning: scipy._lib.messagestream.MessageStream size changed, may indicate binary incompatibility. Expected 56 from C header, got 64 from PyObject\n"
     ]
    }
   ],
   "source": [
    "from qiskit import *\n",
    "from qiskit import utils\n",
    "from qiskit.visualization import plot_histogram\n",
    "from qiskit.circuit.library import PhaseOracle\n",
    "from qiskit.algorithms import Grover, AmplificationProblem\n",
    "%matplotlib inline "
   ]
  },
  {
   "cell_type": "code",
   "execution_count": 2,
   "id": "88f600db-7c54-4123-9d06-dc50024a596a",
   "metadata": {},
   "outputs": [],
   "source": [
    "# Getting a simulator\n",
    "backend = Aer.get_backend('qasm_simulator')"
   ]
  },
  {
   "cell_type": "code",
   "execution_count": 3,
   "id": "841c4f65-bca7-4cb6-9b55-bf9c9cb3efa2",
   "metadata": {},
   "outputs": [],
   "source": [
    "q_instance = utils.QuantumInstance(backend)"
   ]
  },
  {
   "cell_type": "code",
   "execution_count": 8,
   "id": "363090f0-61fb-42bb-be42-04f3c40a498e",
   "metadata": {},
   "outputs": [
    {
     "data": {
      "image/png": "[encoded data removed]",
      "text/plain": [
       "<Figure size 504x360 with 1 Axes>"
      ]
     },
     "execution_count": 8,
     "metadata": {},
     "output_type": "execute_result"
    }
   ],
   "source": [
    "# Creating the constraints phase using logical expression generator\n",
    "oracle = PhaseOracle('((James & Lars) | (Kirk & Rob)) & ~(Lars & Rob)')\n",
    "\n",
    "# Load the constraints\n",
    "problem = AmplificationProblem(oracle)\n",
    "\n",
    "# Initializing a Grovers algorithm on the problem\n",
    "grover = Grover(quantum_instance=q_instance)\n",
    "\n",
    "# Run the circuit\n",
    "result = grover.amplify(problem)\n",
    "\n",
    "plot_histogram(result.circuit_results)\n"
   ]
  },
  {
   "cell_type": "markdown",
   "id": "5e3c49f9-8c13-41a4-89dd-7feabda8af15",
   "metadata": {},
   "source": [
    "## Translateing the results:\n",
    "### Possible inventations:\n",
    "1. James, Lars\n",
    "2. James, Lars, Kirk\n",
    "3. Kirk, Rob\n",
    "4. james, Kirk, Rob"
   ]
  }
 ],
 "metadata": {
  "kernelspec": {
   "display_name": "Python 3 (ipykernel)",
   "language": "python",
   "name": "python3"
  },
  "language_info": {
   "codemirror_mode": {
    "name": "ipython",
    "version": 3
   },
   "file_extension": ".py",
   "mimetype": "text/x-python",
   "name": "python",
   "nbconvert_exporter": "python",
   "pygments_lexer": "ipython3",
   "version": "3.8.13"
  },
  "widgets": {
   "application/vnd.jupyter.widget-state+json": {
    "state": {},
    "version_major": 2,
    "version_minor": 0
   }
  }
 },
 "nbformat": 4,
 "nbformat_minor": 5
}
